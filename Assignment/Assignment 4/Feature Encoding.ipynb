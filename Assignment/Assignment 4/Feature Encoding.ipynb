{
 "cells": [
  {
   "cell_type": "markdown",
   "metadata": {
    "deletable": false,
    "editable": false,
    "nbgrader": {
     "cell_type": "markdown",
     "checksum": "3e129bba50d2c6fcc4026b1efd8d901d",
     "grade": false,
     "grade_id": "cell-d6011a9b98bb9d7a",
     "locked": true,
     "schema_version": 3,
     "solution": false
    }
   },
   "source": [
    "<center>\n",
    "    <img style=\"float: left;\" src=\"Mix_colour.png\" width=\"200\"></img>\n",
    "</center>\n",
    "\n",
    "<br/><br/>\n",
    "<br/><br/>\n",
    "\n",
    "# Feature Encoding\n",
    "\n",
    "In the reading material you have seen how categorical features can be converted into numerical. In this notebook you will learn a bit more about feature encoding and its importance."
   ]
  },
  {
   "cell_type": "markdown",
   "metadata": {
    "deletable": false,
    "editable": false,
    "nbgrader": {
     "cell_type": "markdown",
     "checksum": "26cc6c6646a548193b3ee76dec7a9ea7",
     "grade": false,
     "grade_id": "cell-32814335a8343417",
     "locked": true,
     "schema_version": 3,
     "solution": false
    }
   },
   "source": [
    "# Data\n",
    "\n",
    "In this assignment we will analyse what sorts of people were likely to survive in the Titanic tragedy.\n",
    "We are starting from importing some useful packages and loading Titanic dataset."
   ]
  },
  {
   "cell_type": "code",
   "execution_count": 1,
   "metadata": {
    "deletable": false,
    "editable": false,
    "nbgrader": {
     "cell_type": "code",
     "checksum": "f247163810b1f72f6f10d15a6ae468d7",
     "grade": false,
     "grade_id": "cell-cfeacdf91d467ebd",
     "locked": true,
     "schema_version": 3,
     "solution": false
    }
   },
   "outputs": [],
   "source": [
    "import pandas as pd\n",
    "import numpy as np\n",
    "\n",
    "df_titanic = pd.read_csv('/home/jovyan/Data/titanic.csv')"
   ]
  },
  {
   "cell_type": "markdown",
   "metadata": {
    "deletable": false,
    "editable": false,
    "nbgrader": {
     "cell_type": "markdown",
     "checksum": "4881667730cc508babf70ee0b9a577aa",
     "grade": false,
     "grade_id": "cell-63a2804fe7e05382",
     "locked": true,
     "schema_version": 3,
     "solution": false,
     "task": false
    }
   },
   "source": [
    "Let's take a closer look at the dataset. "
   ]
  },
  {
   "cell_type": "code",
   "execution_count": 2,
   "metadata": {
    "deletable": false,
    "editable": false,
    "nbgrader": {
     "cell_type": "code",
     "checksum": "feae57cf1736bfb6ad6762ddc4a8b9bc",
     "grade": false,
     "grade_id": "cell-354cfe77ecd71eed",
     "locked": true,
     "schema_version": 3,
     "solution": false
    }
   },
   "outputs": [
    {
     "data": {
      "text/html": [
       "<div>\n",
       "<style scoped>\n",
       "    .dataframe tbody tr th:only-of-type {\n",
       "        vertical-align: middle;\n",
       "    }\n",
       "\n",
       "    .dataframe tbody tr th {\n",
       "        vertical-align: top;\n",
       "    }\n",
       "\n",
       "    .dataframe thead th {\n",
       "        text-align: right;\n",
       "    }\n",
       "</style>\n",
       "<table border=\"1\" class=\"dataframe\">\n",
       "  <thead>\n",
       "    <tr style=\"text-align: right;\">\n",
       "      <th></th>\n",
       "      <th>pclass</th>\n",
       "      <th>survived</th>\n",
       "      <th>sex</th>\n",
       "      <th>age</th>\n",
       "      <th>sibsp</th>\n",
       "      <th>parch</th>\n",
       "      <th>ticket</th>\n",
       "      <th>fare</th>\n",
       "      <th>cabin</th>\n",
       "      <th>embarked</th>\n",
       "    </tr>\n",
       "  </thead>\n",
       "  <tbody>\n",
       "    <tr>\n",
       "      <td>0</td>\n",
       "      <td>1</td>\n",
       "      <td>1</td>\n",
       "      <td>female</td>\n",
       "      <td>29.0000</td>\n",
       "      <td>0</td>\n",
       "      <td>0</td>\n",
       "      <td>24160</td>\n",
       "      <td>211.3375</td>\n",
       "      <td>B5</td>\n",
       "      <td>S</td>\n",
       "    </tr>\n",
       "    <tr>\n",
       "      <td>1</td>\n",
       "      <td>1</td>\n",
       "      <td>1</td>\n",
       "      <td>male</td>\n",
       "      <td>0.9167</td>\n",
       "      <td>1</td>\n",
       "      <td>2</td>\n",
       "      <td>113781</td>\n",
       "      <td>151.5500</td>\n",
       "      <td>C22 C26</td>\n",
       "      <td>S</td>\n",
       "    </tr>\n",
       "    <tr>\n",
       "      <td>2</td>\n",
       "      <td>1</td>\n",
       "      <td>0</td>\n",
       "      <td>female</td>\n",
       "      <td>2.0000</td>\n",
       "      <td>1</td>\n",
       "      <td>2</td>\n",
       "      <td>113781</td>\n",
       "      <td>151.5500</td>\n",
       "      <td>C22 C26</td>\n",
       "      <td>S</td>\n",
       "    </tr>\n",
       "    <tr>\n",
       "      <td>3</td>\n",
       "      <td>1</td>\n",
       "      <td>0</td>\n",
       "      <td>male</td>\n",
       "      <td>30.0000</td>\n",
       "      <td>1</td>\n",
       "      <td>2</td>\n",
       "      <td>113781</td>\n",
       "      <td>151.5500</td>\n",
       "      <td>C22 C26</td>\n",
       "      <td>S</td>\n",
       "    </tr>\n",
       "    <tr>\n",
       "      <td>4</td>\n",
       "      <td>1</td>\n",
       "      <td>0</td>\n",
       "      <td>female</td>\n",
       "      <td>25.0000</td>\n",
       "      <td>1</td>\n",
       "      <td>2</td>\n",
       "      <td>113781</td>\n",
       "      <td>151.5500</td>\n",
       "      <td>C22 C26</td>\n",
       "      <td>S</td>\n",
       "    </tr>\n",
       "  </tbody>\n",
       "</table>\n",
       "</div>"
      ],
      "text/plain": [
       "   pclass  survived     sex      age  sibsp  parch  ticket      fare    cabin  \\\n",
       "0       1         1  female  29.0000      0      0   24160  211.3375       B5   \n",
       "1       1         1    male   0.9167      1      2  113781  151.5500  C22 C26   \n",
       "2       1         0  female   2.0000      1      2  113781  151.5500  C22 C26   \n",
       "3       1         0    male  30.0000      1      2  113781  151.5500  C22 C26   \n",
       "4       1         0  female  25.0000      1      2  113781  151.5500  C22 C26   \n",
       "\n",
       "  embarked  \n",
       "0        S  \n",
       "1        S  \n",
       "2        S  \n",
       "3        S  \n",
       "4        S  "
      ]
     },
     "execution_count": 2,
     "metadata": {},
     "output_type": "execute_result"
    }
   ],
   "source": [
    "df_titanic.head()"
   ]
  },
  {
   "cell_type": "markdown",
   "metadata": {
    "deletable": false,
    "editable": false,
    "nbgrader": {
     "cell_type": "markdown",
     "checksum": "8496ed6897d541690f42d154f3e955a9",
     "grade": false,
     "grade_id": "cell-54f1ecda0f5786a5",
     "locked": true,
     "schema_version": 3,
     "solution": false
    }
   },
   "source": [
    "From the table above, we can note that there are several features we need to convert into numeric format, so that the machine learning algorithms can process them. \n",
    "\n",
    "Let's check the shape of the dataframe and if we have any missing values."
   ]
  },
  {
   "cell_type": "code",
   "execution_count": 3,
   "metadata": {
    "deletable": false,
    "editable": false,
    "nbgrader": {
     "cell_type": "code",
     "checksum": "d6f04cc0ac5b035b02e4b4c85a8497f6",
     "grade": false,
     "grade_id": "cell-ef90d3a5cb1c0fbe",
     "locked": true,
     "schema_version": 3,
     "solution": false
    }
   },
   "outputs": [
    {
     "name": "stdout",
     "output_type": "stream",
     "text": [
      "Shape of the dataframe  (1309, 10)\n"
     ]
    },
    {
     "data": {
      "text/plain": [
       "pclass         0\n",
       "survived       0\n",
       "sex            0\n",
       "age          263\n",
       "sibsp          0\n",
       "parch          0\n",
       "ticket         0\n",
       "fare           1\n",
       "cabin       1014\n",
       "embarked       2\n",
       "dtype: int64"
      ]
     },
     "execution_count": 3,
     "metadata": {},
     "output_type": "execute_result"
    }
   ],
   "source": [
    "print('Shape of the dataframe ', df_titanic.shape)\n",
    "df_titanic.isnull().sum()"
   ]
  },
  {
   "cell_type": "markdown",
   "metadata": {
    "deletable": false,
    "editable": false,
    "nbgrader": {
     "cell_type": "markdown",
     "checksum": "035c8f6e37a1c064c3e003640c52582d",
     "grade": false,
     "grade_id": "cell-bb751c82c33c6d0c",
     "locked": true,
     "schema_version": 3,
     "solution": false
    }
   },
   "source": [
    "From above we see that there are 1309 datapoints. Note that here 9 out of 10 columns are features and one is the target variable (survived or not). We also see that there are some missing values, especially for cabin and age. "
   ]
  },
  {
   "cell_type": "markdown",
   "metadata": {
    "deletable": false,
    "editable": false,
    "nbgrader": {
     "cell_type": "markdown",
     "checksum": "3e3eab6209ed8facbe4db76aafee20fb",
     "grade": false,
     "grade_id": "cell-f01d8bea5d9a7c49",
     "locked": true,
     "schema_version": 3,
     "solution": false
    }
   },
   "source": [
    "Below you can find more detailed information about the columns of the dataframe.\n",
    "- survival: Survival (0 = No, 1 = Yes) \n",
    "- pclass:\tTicket class (1 = 1st, 2 = 2nd, 3 = 3rd) \n",
    "- sex: Sex\t\n",
    "- age: Age in years\t\n",
    "- sibsp: # of siblings / spouses aboard the Titanic\t\n",
    "- parch: # of parents / children aboard the Titanic\t\n",
    "- ticket: Ticket number\t\n",
    "- fare: Passenger fare\t\n",
    "- cabin: Cabin number\t\n",
    "- embarked: Port of Embarkation (C = Cherbourg, Q = Queenstown, S = Southampton)\n",
    "\n",
    "Let's check what is the percentage of missing values in the data."
   ]
  },
  {
   "cell_type": "code",
   "execution_count": 4,
   "metadata": {
    "deletable": false,
    "editable": false,
    "nbgrader": {
     "cell_type": "code",
     "checksum": "af986e6004591ce6b6db004b2e5a5e87",
     "grade": false,
     "grade_id": "cell-1b3790b1076db8c7",
     "locked": true,
     "schema_version": 3,
     "solution": false
    }
   },
   "outputs": [
    {
     "data": {
      "text/html": [
       "<div>\n",
       "<style scoped>\n",
       "    .dataframe tbody tr th:only-of-type {\n",
       "        vertical-align: middle;\n",
       "    }\n",
       "\n",
       "    .dataframe tbody tr th {\n",
       "        vertical-align: top;\n",
       "    }\n",
       "\n",
       "    .dataframe thead th {\n",
       "        text-align: right;\n",
       "    }\n",
       "</style>\n",
       "<table border=\"1\" class=\"dataframe\">\n",
       "  <thead>\n",
       "    <tr style=\"text-align: right;\">\n",
       "      <th></th>\n",
       "      <th>Total missing</th>\n",
       "      <th>% missing</th>\n",
       "    </tr>\n",
       "  </thead>\n",
       "  <tbody>\n",
       "    <tr>\n",
       "      <td>cabin</td>\n",
       "      <td>1014</td>\n",
       "      <td>77.5</td>\n",
       "    </tr>\n",
       "    <tr>\n",
       "      <td>age</td>\n",
       "      <td>263</td>\n",
       "      <td>20.1</td>\n",
       "    </tr>\n",
       "    <tr>\n",
       "      <td>embarked</td>\n",
       "      <td>2</td>\n",
       "      <td>0.2</td>\n",
       "    </tr>\n",
       "    <tr>\n",
       "      <td>fare</td>\n",
       "      <td>1</td>\n",
       "      <td>0.1</td>\n",
       "    </tr>\n",
       "    <tr>\n",
       "      <td>ticket</td>\n",
       "      <td>0</td>\n",
       "      <td>0.0</td>\n",
       "    </tr>\n",
       "    <tr>\n",
       "      <td>parch</td>\n",
       "      <td>0</td>\n",
       "      <td>0.0</td>\n",
       "    </tr>\n",
       "    <tr>\n",
       "      <td>sibsp</td>\n",
       "      <td>0</td>\n",
       "      <td>0.0</td>\n",
       "    </tr>\n",
       "    <tr>\n",
       "      <td>sex</td>\n",
       "      <td>0</td>\n",
       "      <td>0.0</td>\n",
       "    </tr>\n",
       "    <tr>\n",
       "      <td>survived</td>\n",
       "      <td>0</td>\n",
       "      <td>0.0</td>\n",
       "    </tr>\n",
       "    <tr>\n",
       "      <td>pclass</td>\n",
       "      <td>0</td>\n",
       "      <td>0.0</td>\n",
       "    </tr>\n",
       "  </tbody>\n",
       "</table>\n",
       "</div>"
      ],
      "text/plain": [
       "          Total missing  % missing\n",
       "cabin              1014       77.5\n",
       "age                 263       20.1\n",
       "embarked              2        0.2\n",
       "fare                  1        0.1\n",
       "ticket                0        0.0\n",
       "parch                 0        0.0\n",
       "sibsp                 0        0.0\n",
       "sex                   0        0.0\n",
       "survived              0        0.0\n",
       "pclass                0        0.0"
      ]
     },
     "execution_count": 4,
     "metadata": {},
     "output_type": "execute_result"
    }
   ],
   "source": [
    "total = df_titanic.isnull().sum().sort_values(ascending=False)\n",
    "percent_1 = df_titanic.isnull().sum()/df_titanic.isnull().count()*100\n",
    "percent_2 = (round(percent_1, 1)).sort_values(ascending=False)\n",
    "missing_data = pd.concat([total, percent_2], axis=1, keys=['Total missing', '% missing'])\n",
    "missing_data"
   ]
  },
  {
   "cell_type": "markdown",
   "metadata": {
    "deletable": false,
    "editable": false,
    "nbgrader": {
     "cell_type": "markdown",
     "checksum": "d48f1e31a6e0d14be09ef4da4c89253f",
     "grade": false,
     "grade_id": "cell-b303bd628f328237",
     "locked": true,
     "schema_version": 3,
     "solution": false
    }
   },
   "source": [
    "Let's analyse the above result. The feature \"embarked\" has only 2 missing values, which is just 0.2% of all data and can easily be filled. However, it will be much more tricky to deal with the age feature, which has 263 (20%) missing values. The cabin feature needs further investigation, but it looks like we might want to drop it from the dataset, since 77% of it are missing. For this assignment let's drop it, but go ahead and play around with it if you want to learn more. "
   ]
  },
  {
   "cell_type": "code",
   "execution_count": 5,
   "metadata": {
    "deletable": false,
    "editable": false,
    "nbgrader": {
     "cell_type": "code",
     "checksum": "fb757d677fb38a5e7a9e781945406840",
     "grade": false,
     "grade_id": "cell-438220aff85e8449",
     "locked": true,
     "schema_version": 3,
     "solution": false
    }
   },
   "outputs": [],
   "source": [
    "df_titanic.drop(['cabin'], axis=1,inplace=True)"
   ]
  },
  {
   "cell_type": "markdown",
   "metadata": {
    "deletable": false,
    "editable": false,
    "nbgrader": {
     "cell_type": "markdown",
     "checksum": "a9faf1c410fb8ad7eb20c0c945d36bd9",
     "grade": false,
     "grade_id": "cell-bcbd83556f51a0dd",
     "locked": true,
     "schema_version": 3,
     "solution": false
    }
   },
   "source": [
    "# Data exploration\n",
    "\n",
    "In the reading material you will find more on data exploration. However, since it is important to know your data, we have included some exploratory plots below. This is also for you to get a feeling for what is possible in Python. "
   ]
  },
  {
   "cell_type": "markdown",
   "metadata": {
    "deletable": false,
    "editable": false,
    "nbgrader": {
     "cell_type": "markdown",
     "checksum": "c062b8320ea27a811799dc49ecd4f157",
     "grade": false,
     "grade_id": "cell-7f0b16f10b6e9a76",
     "locked": true,
     "schema_version": 3,
     "solution": false
    }
   },
   "source": [
    "### Features 'age' and 'sex'\n",
    "\n",
    "We want to check if there is any connection between gender, age and survivability. On the plots below, you can see that certain ages and sex has higher probability of survival. For example, men have a high probability of survival when they are between 18 and 30 years old. "
   ]
  },
  {
   "cell_type": "code",
   "execution_count": 6,
   "metadata": {
    "deletable": false,
    "editable": false,
    "nbgrader": {
     "cell_type": "code",
     "checksum": "af5a033247702897c06f7bb4d04771de",
     "grade": false,
     "grade_id": "cell-c2b1c05613092096",
     "locked": true,
     "schema_version": 3,
     "solution": false
    }
   },
   "outputs": [
    {
     "data": {
      "image/png": "[encoded data removed]",
      "text/plain": [
       "<Figure size 720x288 with 2 Axes>"
      ]
     },
     "metadata": {
      "needs_background": "light"
     },
     "output_type": "display_data"
    }
   ],
   "source": [
    "import matplotlib.pylab as plt\n",
    "import seaborn as sns\n",
    "%matplotlib inline\n",
    "\n",
    "survived = 'survived'\n",
    "not_survived = 'not survived'\n",
    "\n",
    "women = df_titanic[df_titanic['sex']=='female']\n",
    "men = df_titanic[df_titanic['sex']=='male']\n",
    "\n",
    "fig, axes = plt.subplots(nrows=1, ncols=2,figsize=(10, 4))\n",
    "\n",
    "ax = sns.distplot(women[women['survived']==1].age.dropna(), bins=18, label = survived, ax = axes[0], kde =False)\n",
    "ax = sns.distplot(women[women['survived']==0].age.dropna(), bins=40, label = not_survived, ax = axes[0], kde =False)\n",
    "ax.legend()\n",
    "ax.set_title('Female')\n",
    "\n",
    "ax = sns.distplot(men[men['survived']==1].age.dropna(), bins=18, label = survived, ax = axes[1], kde = False)\n",
    "ax = sns.distplot(men[men['survived']==0].age.dropna(), bins=40, label = not_survived, ax = axes[1], kde = False)\n",
    "ax.legend()\n",
    "_ = ax.set_title('Male')"
   ]
  },
  {
   "cell_type": "markdown",
   "metadata": {
    "deletable": false,
    "editable": false,
    "nbgrader": {
     "cell_type": "markdown",
     "checksum": "cbc90d6df4604814944ddc65d100f488",
     "grade": false,
     "grade_id": "cell-6923e54f4aaad282",
     "locked": true,
     "schema_version": 3,
     "solution": false
    }
   },
   "source": [
    "### Features 'embarked', 'pclass' and 'sex''\n",
    "\n",
    "The plots below are divided into three different categories of embarked. The x-axis is pclass while the y-axis is the fraction of survived within that group. \n",
    "\n",
    "**Note**: Being female in either 1st or 2nd class increases your chances of survival quite a lot."
   ]
  },
  {
   "cell_type": "code",
   "execution_count": 7,
   "metadata": {
    "deletable": false,
    "editable": false,
    "nbgrader": {
     "cell_type": "code",
     "checksum": "d175987816504405e5c0a846834b4baa",
     "grade": false,
     "grade_id": "cell-866ec98af9e6f104",
     "locked": true,
     "schema_version": 3,
     "solution": false
    }
   },
   "outputs": [
    {
     "data": {
      "image/png": "[encoded data removed]",
      "text/plain": [
       "<Figure size 416.1x648 with 3 Axes>"
      ]
     },
     "metadata": {
      "needs_background": "light"
     },
     "output_type": "display_data"
    }
   ],
   "source": [
    "grid = sns.FacetGrid(df_titanic, row='embarked', aspect=1.6)\n",
    "grid.map(sns.pointplot, 'pclass', 'survived', 'sex', palette='deep', order=[1,2,3], hue_order=[\"female\",\"male\"])\n",
    "grid.add_legend()\n",
    "\n",
    "plt.show()"
   ]
  },
  {
   "cell_type": "markdown",
   "metadata": {
    "deletable": false,
    "editable": false,
    "nbgrader": {
     "cell_type": "markdown",
     "checksum": "063d2b64447fa518f3267aa6dcec3c86",
     "grade": false,
     "grade_id": "cell-8ca8f70fc8514a64",
     "locked": true,
     "schema_version": 3,
     "solution": false,
     "task": false
    }
   },
   "source": [
    "Interesting enough, for embarked=Q, there seem to be a higher chance of survival if you are in 3rd class. Let's look into this further."
   ]
  },
  {
   "cell_type": "code",
   "execution_count": 8,
   "metadata": {
    "deletable": false,
    "editable": false,
    "nbgrader": {
     "cell_type": "code",
     "checksum": "4a37bfe3bb891fcf9fdcea24a0da68db",
     "grade": false,
     "grade_id": "cell-2651773f0a5986e4",
     "locked": true,
     "schema_version": 3,
     "solution": false
    }
   },
   "outputs": [
    {
     "data": {
      "text/plain": [
       "pclass  survived\n",
       "1       0            1\n",
       "2       0            5\n",
       "3       0           50\n",
       "        1            7\n",
       "Name: sex, dtype: int64"
      ]
     },
     "execution_count": 8,
     "metadata": {},
     "output_type": "execute_result"
    }
   ],
   "source": [
    "df_titanic[(df_titanic['embarked']=='Q') & (df_titanic['sex']=='male')].groupby(['pclass','survived']).count()['sex']"
   ]
  },
  {
   "cell_type": "markdown",
   "metadata": {
    "deletable": false,
    "editable": false,
    "nbgrader": {
     "cell_type": "markdown",
     "checksum": "ab9fb98463a888ed9f900835e47e6fd7",
     "grade": false,
     "grade_id": "cell-40185c8aa8c1ce21",
     "locked": true,
     "schema_version": 3,
     "solution": false
    }
   },
   "source": [
    "Above we see that there was actually only 1 person in the 1st class and 5 in the 2nd class from embarked=Q, none of them survived. This compared with 57 in the 3rd class, 7 of them survived. This shows the dangers in only looking at one result. From above table we now understand why there seem to be a higher chance of survival if you are in the 3rd class coming from Queenstown. It's probably because there were so few of the other classes to make an accurate distribution estimate. "
   ]
  },
  {
   "cell_type": "markdown",
   "metadata": {
    "deletable": false,
    "editable": false,
    "nbgrader": {
     "cell_type": "markdown",
     "checksum": "a227e0b610fcab9b5798dfdd6d7e027b",
     "grade": false,
     "grade_id": "cell-a542a24bd4d72888",
     "locked": true,
     "schema_version": 3,
     "solution": false
    }
   },
   "source": [
    "### Feature 'pclass'\n",
    "\n",
    "Let's see the distribution of the passengers by classes."
   ]
  },
  {
   "cell_type": "code",
   "execution_count": 9,
   "metadata": {
    "deletable": false,
    "editable": false,
    "nbgrader": {
     "cell_type": "code",
     "checksum": "fd18434f6fc125eda554f8d1677d3c28",
     "grade": false,
     "grade_id": "cell-80e9960a4227255b",
     "locked": true,
     "schema_version": 3,
     "solution": false
    }
   },
   "outputs": [
    {
     "data": {
      "text/plain": [
       "<matplotlib.axes._subplots.AxesSubplot at 0x7f11664a6cf8>"
      ]
     },
     "execution_count": 9,
     "metadata": {},
     "output_type": "execute_result"
    },
    {
     "data": {
      "image/png": "[encoded data removed]",
      "text/plain": [
       "<Figure size 432x288 with 1 Axes>"
      ]
     },
     "metadata": {
      "needs_background": "light"
     },
     "output_type": "display_data"
    }
   ],
   "source": [
    "sns.barplot(x='pclass', y='survived', data=df_titanic)"
   ]
  },
  {
   "cell_type": "markdown",
   "metadata": {
    "deletable": false,
    "editable": false,
    "nbgrader": {
     "cell_type": "markdown",
     "checksum": "c172e18e5f293b3d8cb37f854181c68d",
     "grade": false,
     "grade_id": "cell-d645845294ec39a1",
     "locked": true,
     "schema_version": 3,
     "solution": false
    }
   },
   "source": [
    "We clearly see the survival rate depends on the pclass. "
   ]
  },
  {
   "cell_type": "markdown",
   "metadata": {
    "deletable": false,
    "editable": false,
    "nbgrader": {
     "cell_type": "markdown",
     "checksum": "267db3a7fc5315892bf3a903ca948069",
     "grade": false,
     "grade_id": "cell-11628e3b405c6e33",
     "locked": true,
     "schema_version": 3,
     "solution": false
    }
   },
   "source": [
    "There are many more plots to be made to understand the data. This is the key component in the data science workflow, especially since garbage in the data will result in garbage out of the model when it comes to machine learning models. \n",
    "\n",
    "Also, don't worry if you don't understand all the code. There are many online sources with great information about plotting. "
   ]
  },
  {
   "cell_type": "markdown",
   "metadata": {
    "deletable": false,
    "editable": false,
    "nbgrader": {
     "cell_type": "markdown",
     "checksum": "1e3a4c724803394f366c3866f71e6bf6",
     "grade": false,
     "grade_id": "cell-33cf0fc2dca2573b",
     "locked": true,
     "schema_version": 3,
     "solution": false
    }
   },
   "source": [
    "# Data preprocessing"
   ]
  },
  {
   "cell_type": "markdown",
   "metadata": {},
   "source": [
    "Let's start with a reminder of our features."
   ]
  },
  {
   "cell_type": "code",
   "execution_count": 10,
   "metadata": {
    "deletable": false,
    "editable": false,
    "nbgrader": {
     "cell_type": "code",
     "checksum": "cb2009ab5c4aba280c7fb64061bca2a9",
     "grade": false,
     "grade_id": "cell-3a3a13bcb50a4267",
     "locked": true,
     "schema_version": 3,
     "solution": false
    }
   },
   "outputs": [
    {
     "data": {
      "text/html": [
       "<div>\n",
       "<style scoped>\n",
       "    .dataframe tbody tr th:only-of-type {\n",
       "        vertical-align: middle;\n",
       "    }\n",
       "\n",
       "    .dataframe tbody tr th {\n",
       "        vertical-align: top;\n",
       "    }\n",
       "\n",
       "    .dataframe thead th {\n",
       "        text-align: right;\n",
       "    }\n",
       "</style>\n",
       "<table border=\"1\" class=\"dataframe\">\n",
       "  <thead>\n",
       "    <tr style=\"text-align: right;\">\n",
       "      <th></th>\n",
       "      <th>pclass</th>\n",
       "      <th>survived</th>\n",
       "      <th>sex</th>\n",
       "      <th>age</th>\n",
       "      <th>sibsp</th>\n",
       "      <th>parch</th>\n",
       "      <th>ticket</th>\n",
       "      <th>fare</th>\n",
       "      <th>embarked</th>\n",
       "    </tr>\n",
       "  </thead>\n",
       "  <tbody>\n",
       "    <tr>\n",
       "      <td>0</td>\n",
       "      <td>1</td>\n",
       "      <td>1</td>\n",
       "      <td>female</td>\n",
       "      <td>29.0000</td>\n",
       "      <td>0</td>\n",
       "      <td>0</td>\n",
       "      <td>24160</td>\n",
       "      <td>211.3375</td>\n",
       "      <td>S</td>\n",
       "    </tr>\n",
       "    <tr>\n",
       "      <td>1</td>\n",
       "      <td>1</td>\n",
       "      <td>1</td>\n",
       "      <td>male</td>\n",
       "      <td>0.9167</td>\n",
       "      <td>1</td>\n",
       "      <td>2</td>\n",
       "      <td>113781</td>\n",
       "      <td>151.5500</td>\n",
       "      <td>S</td>\n",
       "    </tr>\n",
       "    <tr>\n",
       "      <td>2</td>\n",
       "      <td>1</td>\n",
       "      <td>0</td>\n",
       "      <td>female</td>\n",
       "      <td>2.0000</td>\n",
       "      <td>1</td>\n",
       "      <td>2</td>\n",
       "      <td>113781</td>\n",
       "      <td>151.5500</td>\n",
       "      <td>S</td>\n",
       "    </tr>\n",
       "    <tr>\n",
       "      <td>3</td>\n",
       "      <td>1</td>\n",
       "      <td>0</td>\n",
       "      <td>male</td>\n",
       "      <td>30.0000</td>\n",
       "      <td>1</td>\n",
       "      <td>2</td>\n",
       "      <td>113781</td>\n",
       "      <td>151.5500</td>\n",
       "      <td>S</td>\n",
       "    </tr>\n",
       "    <tr>\n",
       "      <td>4</td>\n",
       "      <td>1</td>\n",
       "      <td>0</td>\n",
       "      <td>female</td>\n",
       "      <td>25.0000</td>\n",
       "      <td>1</td>\n",
       "      <td>2</td>\n",
       "      <td>113781</td>\n",
       "      <td>151.5500</td>\n",
       "      <td>S</td>\n",
       "    </tr>\n",
       "  </tbody>\n",
       "</table>\n",
       "</div>"
      ],
      "text/plain": [
       "   pclass  survived     sex      age  sibsp  parch  ticket      fare embarked\n",
       "0       1         1  female  29.0000      0      0   24160  211.3375        S\n",
       "1       1         1    male   0.9167      1      2  113781  151.5500        S\n",
       "2       1         0  female   2.0000      1      2  113781  151.5500        S\n",
       "3       1         0    male  30.0000      1      2  113781  151.5500        S\n",
       "4       1         0  female  25.0000      1      2  113781  151.5500        S"
      ]
     },
     "execution_count": 10,
     "metadata": {},
     "output_type": "execute_result"
    }
   ],
   "source": [
    "df_titanic.head()"
   ]
  },
  {
   "cell_type": "markdown",
   "metadata": {
    "deletable": false,
    "editable": false,
    "nbgrader": {
     "cell_type": "markdown",
     "checksum": "dbfbc8d9805b5f6a9cf9ce0124319b71",
     "grade": false,
     "grade_id": "cell-0c62dd7927ed1350",
     "locked": true,
     "schema_version": 3,
     "solution": false
    }
   },
   "source": [
    "Above you can see that we have 3 categorical features: sex, ticket and embarked. Let's investigate and transform one after another.\n",
    "\n",
    "### Missing values \n",
    "\n",
    "First let's deal with the missing values.\n",
    "\n",
    "We will do a very simple imputation in the following notebook. However, for the interested reader, [here](https://towardsdatascience.com/handling-missing-values-in-machine-learning-part-1-dda69d4f88ca) and [here](https://towardsdatascience.com/handling-missing-values-in-machine-learning-part-2-222154b4b58e) you can find a more comprehensive analysis on the missing values in the titanic data set. \n",
    "\n",
    "First we fill the missing values in 'age' feature with the median value of age depending on the gender. "
   ]
  },
  {
   "cell_type": "code",
   "execution_count": 11,
   "metadata": {
    "deletable": false,
    "editable": false,
    "nbgrader": {
     "cell_type": "code",
     "checksum": "7b900b5e6439478e0cd526357fda22e1",
     "grade": false,
     "grade_id": "cell-bfa167a935860664",
     "locked": true,
     "schema_version": 3,
     "solution": false
    }
   },
   "outputs": [],
   "source": [
    "df_titanic['age'].fillna(df_titanic.groupby('sex')['age'].transform(\"median\"), inplace=True)"
   ]
  },
  {
   "cell_type": "markdown",
   "metadata": {
    "deletable": false,
    "editable": false,
    "nbgrader": {
     "cell_type": "markdown",
     "checksum": "81b16f5f537f8749ceaf45d37f507b75",
     "grade": false,
     "grade_id": "cell-d6f36ddf4846d1c9",
     "locked": true,
     "schema_version": 3,
     "solution": false,
     "task": false
    }
   },
   "source": [
    "The feature 'embarked' has two missing values. Let's fill these with the most frequent embarked category. "
   ]
  },
  {
   "cell_type": "code",
   "execution_count": 12,
   "metadata": {
    "deletable": false,
    "editable": false,
    "nbgrader": {
     "cell_type": "code",
     "checksum": "f016c66f14b081619314d71df2846ce2",
     "grade": false,
     "grade_id": "cell-78933074d69e5e76",
     "locked": true,
     "schema_version": 3,
     "solution": false
    }
   },
   "outputs": [],
   "source": [
    "embarked_most_frequent = df_titanic['embarked'].value_counts().idxmax()\n",
    "df_titanic['embarked'].fillna(embarked_most_frequent, inplace=True)"
   ]
  },
  {
   "cell_type": "markdown",
   "metadata": {
    "deletable": false,
    "editable": false,
    "nbgrader": {
     "cell_type": "markdown",
     "checksum": "b0eb7b977e599a02ade3df4293947626",
     "grade": false,
     "grade_id": "cell-ec201837790d6fc0",
     "locked": true,
     "schema_version": 3,
     "solution": false,
     "task": false
    }
   },
   "source": [
    "Fill the missing values in 'fare' feature with each 'plcass'’s median value of 'fare'. "
   ]
  },
  {
   "cell_type": "code",
   "execution_count": 13,
   "metadata": {
    "deletable": false,
    "editable": false,
    "nbgrader": {
     "cell_type": "code",
     "checksum": "3e3dbf3d9bbdaff638c6fad6a9eaca87",
     "grade": false,
     "grade_id": "cell-24244a3cc7f824bb",
     "locked": true,
     "schema_version": 3,
     "solution": false
    }
   },
   "outputs": [],
   "source": [
    "df_titanic['fare'].fillna(df_titanic.groupby('pclass')['fare'].transform(\"median\"), inplace=True)"
   ]
  },
  {
   "cell_type": "markdown",
   "metadata": {
    "deletable": false,
    "editable": false,
    "nbgrader": {
     "cell_type": "markdown",
     "checksum": "c4afb551235187457726711e39b859c1",
     "grade": false,
     "grade_id": "cell-e2146764a12342ab",
     "locked": true,
     "schema_version": 3,
     "solution": false,
     "task": false
    }
   },
   "source": [
    "Now we have no more missing values in data. "
   ]
  },
  {
   "cell_type": "code",
   "execution_count": 14,
   "metadata": {
    "deletable": false,
    "editable": false,
    "nbgrader": {
     "cell_type": "code",
     "checksum": "6a89ac24e585edd36b1a3fcd9c8ddc1e",
     "grade": false,
     "grade_id": "cell-3eb8e7fe0ac96e0f",
     "locked": true,
     "schema_version": 3,
     "solution": false
    }
   },
   "outputs": [
    {
     "data": {
      "text/plain": [
       "pclass      0\n",
       "survived    0\n",
       "sex         0\n",
       "age         0\n",
       "sibsp       0\n",
       "parch       0\n",
       "ticket      0\n",
       "fare        0\n",
       "embarked    0\n",
       "dtype: int64"
      ]
     },
     "execution_count": 14,
     "metadata": {},
     "output_type": "execute_result"
    }
   ],
   "source": [
    "df_titanic.isnull().sum()"
   ]
  },
  {
   "cell_type": "markdown",
   "metadata": {
    "deletable": false,
    "editable": false,
    "nbgrader": {
     "cell_type": "markdown",
     "checksum": "05a4ca84bf4faaf6c82daa3c1f687371",
     "grade": false,
     "grade_id": "cell-fd8e6f2ee378aabc",
     "locked": true,
     "schema_version": 3,
     "solution": false
    }
   },
   "source": [
    "### Converting text categories to numerical\n",
    "\n",
    "Recall from the reading material that there are useful packages for encoding categorical variables to numerical form. \n",
    "\n",
    "#### Let's start with the feature 'sex'."
   ]
  },
  {
   "cell_type": "markdown",
   "metadata": {
    "deletable": false,
    "editable": false,
    "nbgrader": {
     "cell_type": "markdown",
     "checksum": "60cbb581f6989ad570f63e891e318405",
     "grade": false,
     "grade_id": "cell-d9f2cc79f25dab9f",
     "locked": true,
     "schema_version": 3,
     "solution": false
    }
   },
   "source": [
    "### Q1:\n",
    "\n",
    "Transform `sex` into numerical feature and add it to the data frame `df_titanic` under the name `sex_num`. While it is easy to do a transformation from two classes of string to two numbers by many methods, it is good to get practice at using `sklearn` methods that will be scalable to several classes, larger numbers of rows and features just as easily. \n",
    "\n",
    "**Hint:**\n",
    "* import necessary package\n",
    "* create a label encoder\n",
    "* fit it with the feature `sex`\n",
    "* create a new column in `df_titanic` called `sex_num` containing the numerical label of `sex`"
   ]
  },
  {
   "cell_type": "code",
   "execution_count": 15,
   "metadata": {
    "deletable": false,
    "nbgrader": {
     "cell_type": "code",
     "checksum": "6fc7b3218354eb24b32d9619dbd1772a",
     "grade": false,
     "grade_id": "ch4_q1",
     "locked": false,
     "schema_version": 3,
     "solution": true
    }
   },
   "outputs": [],
   "source": [
    "# (approx. 4 lines of code)\n",
    "\n",
    "### START ANSWER HERE ###\n",
    "from sklearn.preprocessing import LabelEncoder\n",
    "le = LabelEncoder()\n",
    "df_titanic['sex_num'] = le.fit_transform(df_titanic['sex'])\n",
    "### END ANSWER HERE ###"
   ]
  },
  {
   "cell_type": "code",
   "execution_count": 16,
   "metadata": {
    "deletable": false,
    "editable": false,
    "nbgrader": {
     "cell_type": "code",
     "checksum": "e55e776ed365d24082947466ee8cc176",
     "grade": false,
     "grade_id": "cell-28274ce6586dc63f",
     "locked": true,
     "schema_version": 3,
     "solution": false,
     "task": false
    }
   },
   "outputs": [
    {
     "data": {
      "text/plain": [
       "array([0, 1, 0, ..., 1, 1, 1])"
      ]
     },
     "execution_count": 16,
     "metadata": {},
     "output_type": "execute_result"
    }
   ],
   "source": [
    "df_titanic['sex_num'].values"
   ]
  },
  {
   "cell_type": "markdown",
   "metadata": {
    "deletable": false,
    "editable": false,
    "nbgrader": {
     "cell_type": "markdown",
     "checksum": "28dbf845d9c00f7c988d52f017ca1c94",
     "grade": false,
     "grade_id": "cell-430cb5dddac95dfb",
     "locked": true,
     "schema_version": 3,
     "solution": false
    }
   },
   "source": [
    "**Expected Output**: \n",
    "<table style=\"width:100%\">\n",
    "    <tr> \n",
    "        <td> df_titanic['sex_num'].values</td> \n",
    "        <td> array([0, 1, 0, ..., 1, 1, 1])\n",
    " </td> \n",
    "    </tr>\n",
    "</table> "
   ]
  },
  {
   "cell_type": "code",
   "execution_count": null,
   "metadata": {
    "deletable": false,
    "editable": false,
    "hideCode": true,
    "nbgrader": {
     "cell_type": "code",
     "checksum": "0ca6a406979ca5a6c1d51f2542346ff8",
     "grade": true,
     "grade_id": "ch4_q1_test",
     "locked": true,
     "points": 2,
     "schema_version": 3,
     "solution": false
    }
   },
   "outputs": [],
   "source": [
    "# nbgrader cell\n"
   ]
  },
  {
   "cell_type": "markdown",
   "metadata": {
    "deletable": false,
    "editable": false,
    "nbgrader": {
     "cell_type": "markdown",
     "checksum": "50803be6bb767ae7c9728935fc67773f",
     "grade": false,
     "grade_id": "cell-33a2e86c398b4f7b",
     "locked": true,
     "schema_version": 3,
     "solution": false,
     "task": false
    }
   },
   "source": [
    "Let's take a look at the dataframe with the new column."
   ]
  },
  {
   "cell_type": "code",
   "execution_count": 17,
   "metadata": {
    "deletable": false,
    "editable": false,
    "nbgrader": {
     "cell_type": "code",
     "checksum": "e2da618b99f4e94ad5f6e171d72b9336",
     "grade": false,
     "grade_id": "cell-a47120e6a33e3a76",
     "locked": true,
     "schema_version": 3,
     "solution": false
    }
   },
   "outputs": [
    {
     "data": {
      "text/html": [
       "<div>\n",
       "<style scoped>\n",
       "    .dataframe tbody tr th:only-of-type {\n",
       "        vertical-align: middle;\n",
       "    }\n",
       "\n",
       "    .dataframe tbody tr th {\n",
       "        vertical-align: top;\n",
       "    }\n",
       "\n",
       "    .dataframe thead th {\n",
       "        text-align: right;\n",
       "    }\n",
       "</style>\n",
       "<table border=\"1\" class=\"dataframe\">\n",
       "  <thead>\n",
       "    <tr style=\"text-align: right;\">\n",
       "      <th></th>\n",
       "      <th>pclass</th>\n",
       "      <th>survived</th>\n",
       "      <th>sex</th>\n",
       "      <th>age</th>\n",
       "      <th>sibsp</th>\n",
       "      <th>parch</th>\n",
       "      <th>ticket</th>\n",
       "      <th>fare</th>\n",
       "      <th>embarked</th>\n",
       "      <th>sex_num</th>\n",
       "    </tr>\n",
       "  </thead>\n",
       "  <tbody>\n",
       "    <tr>\n",
       "      <td>0</td>\n",
       "      <td>1</td>\n",
       "      <td>1</td>\n",
       "      <td>female</td>\n",
       "      <td>29.0000</td>\n",
       "      <td>0</td>\n",
       "      <td>0</td>\n",
       "      <td>24160</td>\n",
       "      <td>211.3375</td>\n",
       "      <td>S</td>\n",
       "      <td>0</td>\n",
       "    </tr>\n",
       "    <tr>\n",
       "      <td>1</td>\n",
       "      <td>1</td>\n",
       "      <td>1</td>\n",
       "      <td>male</td>\n",
       "      <td>0.9167</td>\n",
       "      <td>1</td>\n",
       "      <td>2</td>\n",
       "      <td>113781</td>\n",
       "      <td>151.5500</td>\n",
       "      <td>S</td>\n",
       "      <td>1</td>\n",
       "    </tr>\n",
       "    <tr>\n",
       "      <td>2</td>\n",
       "      <td>1</td>\n",
       "      <td>0</td>\n",
       "      <td>female</td>\n",
       "      <td>2.0000</td>\n",
       "      <td>1</td>\n",
       "      <td>2</td>\n",
       "      <td>113781</td>\n",
       "      <td>151.5500</td>\n",
       "      <td>S</td>\n",
       "      <td>0</td>\n",
       "    </tr>\n",
       "    <tr>\n",
       "      <td>3</td>\n",
       "      <td>1</td>\n",
       "      <td>0</td>\n",
       "      <td>male</td>\n",
       "      <td>30.0000</td>\n",
       "      <td>1</td>\n",
       "      <td>2</td>\n",
       "      <td>113781</td>\n",
       "      <td>151.5500</td>\n",
       "      <td>S</td>\n",
       "      <td>1</td>\n",
       "    </tr>\n",
       "    <tr>\n",
       "      <td>4</td>\n",
       "      <td>1</td>\n",
       "      <td>0</td>\n",
       "      <td>female</td>\n",
       "      <td>25.0000</td>\n",
       "      <td>1</td>\n",
       "      <td>2</td>\n",
       "      <td>113781</td>\n",
       "      <td>151.5500</td>\n",
       "      <td>S</td>\n",
       "      <td>0</td>\n",
       "    </tr>\n",
       "  </tbody>\n",
       "</table>\n",
       "</div>"
      ],
      "text/plain": [
       "   pclass  survived     sex      age  sibsp  parch  ticket      fare embarked  \\\n",
       "0       1         1  female  29.0000      0      0   24160  211.3375        S   \n",
       "1       1         1    male   0.9167      1      2  113781  151.5500        S   \n",
       "2       1         0  female   2.0000      1      2  113781  151.5500        S   \n",
       "3       1         0    male  30.0000      1      2  113781  151.5500        S   \n",
       "4       1         0  female  25.0000      1      2  113781  151.5500        S   \n",
       "\n",
       "   sex_num  \n",
       "0        0  \n",
       "1        1  \n",
       "2        0  \n",
       "3        1  \n",
       "4        0  "
      ]
     },
     "execution_count": 17,
     "metadata": {},
     "output_type": "execute_result"
    }
   ],
   "source": [
    "df_titanic.head(5)"
   ]
  },
  {
   "cell_type": "markdown",
   "metadata": {
    "deletable": false,
    "editable": false,
    "nbgrader": {
     "cell_type": "markdown",
     "checksum": "1947927b7ac922eb0b2bf30dd08e85b1",
     "grade": false,
     "grade_id": "cell-ed7c614ff2b2d315",
     "locked": true,
     "schema_version": 3,
     "solution": false
    }
   },
   "source": [
    "#### Let's look at the feature 'ticket''\n",
    "\n",
    "Check first what kind if values this feature contains."
   ]
  },
  {
   "cell_type": "code",
   "execution_count": 18,
   "metadata": {
    "deletable": false,
    "editable": false,
    "nbgrader": {
     "cell_type": "code",
     "checksum": "0198ae9bbf0416e666a3643e6267718c",
     "grade": false,
     "grade_id": "cell-90d72a9ad08297a2",
     "locked": true,
     "schema_version": 3,
     "solution": false
    }
   },
   "outputs": [
    {
     "data": {
      "text/plain": [
       "count         1309\n",
       "unique         929\n",
       "top       CA. 2343\n",
       "freq            11\n",
       "Name: ticket, dtype: object"
      ]
     },
     "execution_count": 18,
     "metadata": {},
     "output_type": "execute_result"
    }
   ],
   "source": [
    "df_titanic['ticket'].describe()"
   ]
  },
  {
   "cell_type": "code",
   "execution_count": 19,
   "metadata": {
    "deletable": false,
    "editable": false,
    "nbgrader": {
     "cell_type": "code",
     "checksum": "31102ad486cf6c9a0484c092aac4e950",
     "grade": false,
     "grade_id": "cell-5c815f7cdb37d93e",
     "locked": true,
     "schema_version": 3,
     "solution": false
    }
   },
   "outputs": [
    {
     "data": {
      "text/plain": [
       "CA. 2343        11\n",
       "1601             8\n",
       "CA 2144          8\n",
       "3101295          7\n",
       "347077           7\n",
       "347082           7\n",
       "S.O.C. 14879     7\n",
       "PC 17608         7\n",
       "113781           6\n",
       "347088           6\n",
       "Name: ticket, dtype: int64"
      ]
     },
     "execution_count": 19,
     "metadata": {},
     "output_type": "execute_result"
    }
   ],
   "source": [
    "df_titanic['ticket'].value_counts().head(10)"
   ]
  },
  {
   "cell_type": "markdown",
   "metadata": {
    "deletable": false,
    "editable": false,
    "nbgrader": {
     "cell_type": "markdown",
     "checksum": "937b221d03e618b889f3d459f05a237a",
     "grade": false,
     "grade_id": "cell-7315b143885b1790",
     "locked": true,
     "schema_version": 3,
     "solution": false
    }
   },
   "source": [
    "From the above you can see that there are 929 unique tickets. When we look at the frequency of the different tickets we find that the most frequent appears just 11 times. Thus, it might not be worth encoding this feature and instead we will ignore it for now. If you are interested in a discussion of the importance of this feature, please take a look [here](https://www.kaggle.com/c/titanic/discussion/11127). "
   ]
  },
  {
   "cell_type": "code",
   "execution_count": 20,
   "metadata": {
    "deletable": false,
    "editable": false,
    "nbgrader": {
     "cell_type": "code",
     "checksum": "94d87148a1a322407c3b1fc45faa7835",
     "grade": false,
     "grade_id": "cell-193a8f3d3d66af32",
     "locked": true,
     "schema_version": 3,
     "solution": false
    }
   },
   "outputs": [],
   "source": [
    "df_titanic.drop(labels=['ticket'],axis=1, inplace=True)"
   ]
  },
  {
   "cell_type": "markdown",
   "metadata": {
    "deletable": false,
    "editable": false,
    "nbgrader": {
     "cell_type": "markdown",
     "checksum": "6a4a7b086c6701450922c062c27b3b77",
     "grade": false,
     "grade_id": "cell-b2e1ead4dc91bf8e",
     "locked": true,
     "schema_version": 3,
     "solution": false
    }
   },
   "source": [
    "#### Let's look at the feature 'embarked'\n",
    "\n",
    "Let's get some information about this feature."
   ]
  },
  {
   "cell_type": "code",
   "execution_count": 21,
   "metadata": {
    "deletable": false,
    "editable": false,
    "nbgrader": {
     "cell_type": "code",
     "checksum": "322c002e5537888a0165f4eb6eaf28b0",
     "grade": false,
     "grade_id": "cell-a3295c361906f6e9",
     "locked": true,
     "schema_version": 3,
     "solution": false
    }
   },
   "outputs": [
    {
     "data": {
      "text/plain": [
       "count     1309\n",
       "unique       3\n",
       "top          S\n",
       "freq       916\n",
       "Name: embarked, dtype: object"
      ]
     },
     "execution_count": 21,
     "metadata": {},
     "output_type": "execute_result"
    }
   ],
   "source": [
    "df_titanic['embarked'].describe()"
   ]
  },
  {
   "cell_type": "markdown",
   "metadata": {
    "deletable": false,
    "editable": false,
    "nbgrader": {
     "cell_type": "markdown",
     "checksum": "6003ba850ee9589da49a664a8c0c178a",
     "grade": false,
     "grade_id": "cell-6ff169ee364e3ea4",
     "locked": true,
     "schema_version": 3,
     "solution": false
    }
   },
   "source": [
    "### Q2:\n",
    "\n",
    "Transform `embarked` into a numerical feature and add it to the dataframe `df_titanic` under the name \n",
    "`embarked_num`. \n",
    "\n",
    "**Hint:**\n",
    "* create a new label encoder \n",
    "* fit it\n",
    "* create a new column in `df_titanic` called `embarked_num` containing the numerical label of `embarked`"
   ]
  },
  {
   "cell_type": "code",
   "execution_count": 22,
   "metadata": {
    "deletable": false,
    "nbgrader": {
     "cell_type": "code",
     "checksum": "beb83b87acd311c9731ecc4945fbdd3c",
     "grade": false,
     "grade_id": "ch4_q2",
     "locked": false,
     "schema_version": 3,
     "solution": true
    }
   },
   "outputs": [],
   "source": [
    "# (approx. 3 lines of code)\n",
    "\n",
    "### START ANSWER HERE ###\n",
    "le = LabelEncoder()\n",
    "df_titanic['embarked_num'] = le.fit_transform(df_titanic['embarked'])\n",
    "### END ANSWER HERE ###"
   ]
  },
  {
   "cell_type": "code",
   "execution_count": 23,
   "metadata": {},
   "outputs": [
    {
     "data": {
      "text/plain": [
       "array([2, 2, 2, ..., 0, 0, 2])"
      ]
     },
     "execution_count": 23,
     "metadata": {},
     "output_type": "execute_result"
    }
   ],
   "source": [
    "df_titanic['embarked_num'].values"
   ]
  },
  {
   "cell_type": "markdown",
   "metadata": {
    "deletable": false,
    "editable": false,
    "nbgrader": {
     "cell_type": "markdown",
     "checksum": "d8534db176351121d10dd5705314d6eb",
     "grade": false,
     "grade_id": "cell-1e1142e53c7bf92d",
     "locked": true,
     "schema_version": 3,
     "solution": false
    }
   },
   "source": [
    "**Expected Output**: \n",
    "<table style=\"width:100%\">\n",
    "    <tr> \n",
    "        <td> df_titanic['embarked_num'].values</td> \n",
    "        <td> array([2, 2, 2, ..., 0, 0, 2])\n",
    " </td> \n",
    "    </tr>\n",
    "</table> "
   ]
  },
  {
   "cell_type": "code",
   "execution_count": null,
   "metadata": {
    "deletable": false,
    "editable": false,
    "hideCode": true,
    "nbgrader": {
     "cell_type": "code",
     "checksum": "50f87b8483882baed1ab78646fca4f39",
     "grade": true,
     "grade_id": "ch4_q2_test",
     "locked": true,
     "points": 2,
     "schema_version": 3,
     "solution": false
    }
   },
   "outputs": [],
   "source": [
    "# nbgrader cell\n"
   ]
  },
  {
   "cell_type": "markdown",
   "metadata": {
    "deletable": false,
    "editable": false,
    "nbgrader": {
     "cell_type": "markdown",
     "checksum": "85254c73a69edb2cd753ec56199c5db0",
     "grade": false,
     "grade_id": "cell-c702de9d4cd7ec2c",
     "locked": true,
     "schema_version": 3,
     "solution": false
    }
   },
   "source": [
    "### Q3:\n",
    "\n",
    "How does the label encoder from Q2 encode the categories to numbers? Create the dictionary `dic_le_embarked` that shows the mapping between text and encoding. Use `dic_le_embarked = dict()` with the right input. "
   ]
  },
  {
   "cell_type": "code",
   "execution_count": 24,
   "metadata": {
    "deletable": false,
    "nbgrader": {
     "cell_type": "code",
     "checksum": "e38c8406e29a3e7a6f1ee012daa9fd77",
     "grade": false,
     "grade_id": "ch4_q3",
     "locked": false,
     "schema_version": 3,
     "solution": true
    }
   },
   "outputs": [],
   "source": [
    "# (approx. 1 line of the code)\n",
    "### START ANSWER HERE ###\n",
    "classes = le.classes_\n",
    "encoded_classes = le.transform(le.classes_)\n",
    "\n",
    "dic_le_embarked = dict(zip(classes, encoded_classes))\n",
    "### END ANSWER HERE ###"
   ]
  },
  {
   "cell_type": "code",
   "execution_count": 25,
   "metadata": {},
   "outputs": [
    {
     "data": {
      "text/plain": [
       "{'C': 0, 'Q': 1, 'S': 2}"
      ]
     },
     "execution_count": 25,
     "metadata": {},
     "output_type": "execute_result"
    }
   ],
   "source": [
    "dic_le_embarked"
   ]
  },
  {
   "cell_type": "markdown",
   "metadata": {
    "deletable": false,
    "editable": false,
    "nbgrader": {
     "cell_type": "markdown",
     "checksum": "d2f75bd06d1d10c9cd4b9a33adbd7433",
     "grade": false,
     "grade_id": "cell-3e304b9cb662d2cd",
     "locked": true,
     "schema_version": 3,
     "solution": false
    }
   },
   "source": [
    "**Expected Output**: \n",
    "<table style=\"width:100%\">\n",
    "    <tr> \n",
    "        <td> dic_le_embarked</td> \n",
    "        <td> {'C': 0, 'Q': 1, 'S': 2}\n",
    " </td> \n",
    "    </tr>\n",
    "</table> "
   ]
  },
  {
   "cell_type": "code",
   "execution_count": null,
   "metadata": {
    "deletable": false,
    "editable": false,
    "hideCode": true,
    "nbgrader": {
     "cell_type": "code",
     "checksum": "fff92771195662a9b6d1b778c00a54fd",
     "grade": true,
     "grade_id": "ch4_q3_test",
     "locked": true,
     "points": 2,
     "schema_version": 3,
     "solution": false
    }
   },
   "outputs": [],
   "source": [
    "# nbgrader cell\n"
   ]
  },
  {
   "cell_type": "markdown",
   "metadata": {
    "deletable": false,
    "editable": false,
    "nbgrader": {
     "cell_type": "markdown",
     "checksum": "fe8eebbaa13959da2bedf6202f4f1f4e",
     "grade": false,
     "grade_id": "cell-f7ee8761520f452d",
     "locked": true,
     "schema_version": 3,
     "solution": false
    }
   },
   "source": [
    "### Q4:\n",
    "\n",
    "If we were training a machine learning model using `embarked_num` as a feature, what do you believe to be the danger? \n",
    "\n",
    "1. We lose the fact that the letter Q is closer to S then to C in the alphabet, instead we make the distance equal. \n",
    "2. If using the encoding above, the algorithm will believe that S is closer to Q, when in reality C could be closer to S. "
   ]
  },
  {
   "cell_type": "code",
   "execution_count": 26,
   "metadata": {
    "deletable": false,
    "nbgrader": {
     "cell_type": "code",
     "checksum": "8b06a6851b18682d1e53fde9b55674c6",
     "grade": false,
     "grade_id": "ch4_q4",
     "locked": false,
     "schema_version": 3,
     "solution": true
    }
   },
   "outputs": [],
   "source": [
    "# Fill in your answer in the form: Q4_answer = [5]\n",
    "### START ANSWER HERE ###\n",
    "Q4_answer = [2]\n",
    "### END ANSWER HERE ###"
   ]
  },
  {
   "cell_type": "code",
   "execution_count": 27,
   "metadata": {
    "deletable": false,
    "editable": false,
    "hideCode": true,
    "nbgrader": {
     "cell_type": "code",
     "checksum": "34779422a94dafc499634c57fd7a32a0",
     "grade": false,
     "grade_id": "cell-1364463432e9450c",
     "locked": true,
     "schema_version": 3,
     "solution": false,
     "task": false
    },
    "selfTest": true
   },
   "outputs": [
    {
     "name": "stdout",
     "output_type": "stream",
     "text": [
      "Correct!\n"
     ]
    }
   ],
   "source": [
    "import hashlib\n",
    "_myhash = lambda x: hashlib.md5(str(x).encode()).hexdigest()\n",
    "if _myhash(set(Q4_answer)) == '9dfcb71dad3ced71f805b7bb4cd9dfc0':\n",
    "    print('Correct!')\n",
    "else:\n",
    "    print('Not correct! Please try again!')"
   ]
  },
  {
   "cell_type": "code",
   "execution_count": null,
   "metadata": {
    "deletable": false,
    "editable": false,
    "hideCode": true,
    "nbgrader": {
     "cell_type": "code",
     "checksum": "f37bafc15c7b83a090cd8d88211ae3af",
     "grade": true,
     "grade_id": "ch4_q4_test",
     "locked": true,
     "points": 1,
     "schema_version": 3,
     "solution": false
    }
   },
   "outputs": [],
   "source": [
    "# nbgrader cell\n"
   ]
  },
  {
   "cell_type": "markdown",
   "metadata": {
    "deletable": false,
    "editable": false,
    "nbgrader": {
     "cell_type": "markdown",
     "checksum": "948a0074592358b42c9b26bf0a5891e7",
     "grade": false,
     "grade_id": "cell-4064bb2454ebeb72",
     "locked": true,
     "schema_version": 3,
     "solution": false
    }
   },
   "source": [
    "#### Let's implement one hot encoding"
   ]
  },
  {
   "cell_type": "markdown",
   "metadata": {
    "deletable": false,
    "editable": false,
    "nbgrader": {
     "cell_type": "markdown",
     "checksum": "6b6cb497413e666eaca3d51d42de5b4f",
     "grade": false,
     "grade_id": "cell-85fac8a118ec5baa",
     "locked": true,
     "schema_version": 3,
     "solution": false
    }
   },
   "source": [
    "Instead of using `sklearn.preprocessing.OneHotEncoder` we will use pandas [get_dummies](https://pandas.pydata.org/pandas-docs/stable/reference/api/pandas.get_dummies.html). `get_dummies` is a little bit easier to use, [here](https://medium.com/@guaisang/handling-categorical-features-get-dummies-onehotencoder-and-multicollinearity-f9d473a40417) is a discussion about the two differences for the interested person. "
   ]
  },
  {
   "cell_type": "markdown",
   "metadata": {
    "deletable": false,
    "editable": false,
    "nbgrader": {
     "cell_type": "markdown",
     "checksum": "8fca4b6ffc2eca63200213b9c686bc55",
     "grade": false,
     "grade_id": "cell-37371282a68d266d",
     "locked": true,
     "schema_version": 3,
     "solution": false
    }
   },
   "source": [
    "### Q5:\n",
    "\n",
    "Use `get_dummies` to do the one hot encoding of the feature `embarked`. \n",
    "\n",
    "**Hint:**\n",
    "* create the one hot encoding dataframe of the feature 'embarked' in the dummy variable below. Use `dummy = pd.get_dummies()` with the right input."
   ]
  },
  {
   "cell_type": "code",
   "execution_count": 28,
   "metadata": {
    "deletable": false,
    "nbgrader": {
     "cell_type": "code",
     "checksum": "480f374d129a07da3577840c698214f6",
     "grade": false,
     "grade_id": "ch4_q5",
     "locked": false,
     "schema_version": 3,
     "solution": true
    }
   },
   "outputs": [],
   "source": [
    "# (approx. 1 line of the code)\n",
    "\n",
    "### START ANSWER HERE ###\n",
    "dummy = pd.get_dummies(df_titanic['embarked'])\n",
    "### END ANSWER HERE ###\n",
    "\n",
    "# Concatenate the two dataframes\n",
    "df_titanic = pd.concat([df_titanic,dummy],axis=1)"
   ]
  },
  {
   "cell_type": "code",
   "execution_count": 29,
   "metadata": {
    "deletable": false,
    "editable": false,
    "nbgrader": {
     "cell_type": "code",
     "checksum": "2c8c900a22173841e6479990ff0c4581",
     "grade": false,
     "grade_id": "cell-95059d8bde2b242e",
     "locked": true,
     "schema_version": 3,
     "solution": false
    }
   },
   "outputs": [
    {
     "data": {
      "text/plain": [
       "array(['pclass', 'survived', 'sex', 'age', 'sibsp', 'parch', 'fare',\n",
       "       'embarked', 'sex_num', 'embarked_num', 'C', 'Q', 'S'], dtype=object)"
      ]
     },
     "execution_count": 29,
     "metadata": {},
     "output_type": "execute_result"
    }
   ],
   "source": [
    "df_titanic.columns.values"
   ]
  },
  {
   "cell_type": "markdown",
   "metadata": {
    "deletable": false,
    "editable": false,
    "nbgrader": {
     "cell_type": "markdown",
     "checksum": "3c500dbf8eb7b65845758ae9cbadb6f5",
     "grade": false,
     "grade_id": "cell-42e59d1f31e65991",
     "locked": true,
     "schema_version": 3,
     "solution": false
    }
   },
   "source": [
    "**Expected Output**: \n",
    "<table style=\"width:100%\">\n",
    "    <tr> \n",
    "        <td> df_titanic.columns.values</td> \n",
    "        <td> array(['pclass', 'survived', 'sex', 'age', 'sibsp', 'parch', 'fare',\n",
    "       'embarked', 'sex_num', 'embarked_num', 'C', 'Q', 'S'], dtype=object)\n",
    " </td> \n",
    "    </tr>\n",
    "</table> "
   ]
  },
  {
   "cell_type": "code",
   "execution_count": null,
   "metadata": {
    "deletable": false,
    "editable": false,
    "hideCode": true,
    "nbgrader": {
     "cell_type": "code",
     "checksum": "52247a2769d2266ce81f170f0db3b47f",
     "grade": true,
     "grade_id": "ch4_q5_test",
     "locked": true,
     "points": 2,
     "schema_version": 3,
     "solution": false
    }
   },
   "outputs": [],
   "source": [
    "# nbgrader cell\n"
   ]
  },
  {
   "cell_type": "code",
   "execution_count": 30,
   "metadata": {},
   "outputs": [
    {
     "data": {
      "text/html": [
       "<div>\n",
       "<style scoped>\n",
       "    .dataframe tbody tr th:only-of-type {\n",
       "        vertical-align: middle;\n",
       "    }\n",
       "\n",
       "    .dataframe tbody tr th {\n",
       "        vertical-align: top;\n",
       "    }\n",
       "\n",
       "    .dataframe thead th {\n",
       "        text-align: right;\n",
       "    }\n",
       "</style>\n",
       "<table border=\"1\" class=\"dataframe\">\n",
       "  <thead>\n",
       "    <tr style=\"text-align: right;\">\n",
       "      <th></th>\n",
       "      <th>pclass</th>\n",
       "      <th>survived</th>\n",
       "      <th>sex</th>\n",
       "      <th>age</th>\n",
       "      <th>sibsp</th>\n",
       "      <th>parch</th>\n",
       "      <th>fare</th>\n",
       "      <th>embarked</th>\n",
       "      <th>sex_num</th>\n",
       "      <th>embarked_num</th>\n",
       "      <th>C</th>\n",
       "      <th>Q</th>\n",
       "      <th>S</th>\n",
       "    </tr>\n",
       "  </thead>\n",
       "  <tbody>\n",
       "    <tr>\n",
       "      <td>0</td>\n",
       "      <td>1</td>\n",
       "      <td>1</td>\n",
       "      <td>female</td>\n",
       "      <td>29.0000</td>\n",
       "      <td>0</td>\n",
       "      <td>0</td>\n",
       "      <td>211.3375</td>\n",
       "      <td>S</td>\n",
       "      <td>0</td>\n",
       "      <td>2</td>\n",
       "      <td>0</td>\n",
       "      <td>0</td>\n",
       "      <td>1</td>\n",
       "    </tr>\n",
       "    <tr>\n",
       "      <td>1</td>\n",
       "      <td>1</td>\n",
       "      <td>1</td>\n",
       "      <td>male</td>\n",
       "      <td>0.9167</td>\n",
       "      <td>1</td>\n",
       "      <td>2</td>\n",
       "      <td>151.5500</td>\n",
       "      <td>S</td>\n",
       "      <td>1</td>\n",
       "      <td>2</td>\n",
       "      <td>0</td>\n",
       "      <td>0</td>\n",
       "      <td>1</td>\n",
       "    </tr>\n",
       "    <tr>\n",
       "      <td>2</td>\n",
       "      <td>1</td>\n",
       "      <td>0</td>\n",
       "      <td>female</td>\n",
       "      <td>2.0000</td>\n",
       "      <td>1</td>\n",
       "      <td>2</td>\n",
       "      <td>151.5500</td>\n",
       "      <td>S</td>\n",
       "      <td>0</td>\n",
       "      <td>2</td>\n",
       "      <td>0</td>\n",
       "      <td>0</td>\n",
       "      <td>1</td>\n",
       "    </tr>\n",
       "    <tr>\n",
       "      <td>3</td>\n",
       "      <td>1</td>\n",
       "      <td>0</td>\n",
       "      <td>male</td>\n",
       "      <td>30.0000</td>\n",
       "      <td>1</td>\n",
       "      <td>2</td>\n",
       "      <td>151.5500</td>\n",
       "      <td>S</td>\n",
       "      <td>1</td>\n",
       "      <td>2</td>\n",
       "      <td>0</td>\n",
       "      <td>0</td>\n",
       "      <td>1</td>\n",
       "    </tr>\n",
       "    <tr>\n",
       "      <td>4</td>\n",
       "      <td>1</td>\n",
       "      <td>0</td>\n",
       "      <td>female</td>\n",
       "      <td>25.0000</td>\n",
       "      <td>1</td>\n",
       "      <td>2</td>\n",
       "      <td>151.5500</td>\n",
       "      <td>S</td>\n",
       "      <td>0</td>\n",
       "      <td>2</td>\n",
       "      <td>0</td>\n",
       "      <td>0</td>\n",
       "      <td>1</td>\n",
       "    </tr>\n",
       "  </tbody>\n",
       "</table>\n",
       "</div>"
      ],
      "text/plain": [
       "   pclass  survived     sex      age  sibsp  parch      fare embarked  \\\n",
       "0       1         1  female  29.0000      0      0  211.3375        S   \n",
       "1       1         1    male   0.9167      1      2  151.5500        S   \n",
       "2       1         0  female   2.0000      1      2  151.5500        S   \n",
       "3       1         0    male  30.0000      1      2  151.5500        S   \n",
       "4       1         0  female  25.0000      1      2  151.5500        S   \n",
       "\n",
       "   sex_num  embarked_num  C  Q  S  \n",
       "0        0             2  0  0  1  \n",
       "1        1             2  0  0  1  \n",
       "2        0             2  0  0  1  \n",
       "3        1             2  0  0  1  \n",
       "4        0             2  0  0  1  "
      ]
     },
     "execution_count": 30,
     "metadata": {},
     "output_type": "execute_result"
    }
   ],
   "source": [
    "df_titanic.head(5)"
   ]
  },
  {
   "cell_type": "markdown",
   "metadata": {
    "deletable": false,
    "editable": false,
    "nbgrader": {
     "cell_type": "markdown",
     "checksum": "d60296affd52db9de2e12ced8574be80",
     "grade": false,
     "grade_id": "cell-795999f8864348f6",
     "locked": true,
     "schema_version": 3,
     "solution": false
    }
   },
   "source": [
    "You have now transformed the feature 'sex' into a numerical feature and done one hot encoding for the feature 'embarked'. Let's use these new features for a classifier. \n",
    "\n",
    "Note that we don't have to use the feature column 'S' since it is directly correlated with 'C' and 'Q' (one could also use `drop_first=True` when implementing `get_dummies()`)."
   ]
  },
  {
   "cell_type": "code",
   "execution_count": 31,
   "metadata": {
    "deletable": false,
    "editable": false,
    "nbgrader": {
     "cell_type": "code",
     "checksum": "963d693ea1a199d76749dc12e7d21c1c",
     "grade": false,
     "grade_id": "cell-f171095dd2dccc2f",
     "locked": true,
     "schema_version": 3,
     "solution": false
    }
   },
   "outputs": [],
   "source": [
    "features = ['pclass','age','sibsp','parch','fare','sex_num','C','Q'] \n",
    "\n",
    "X = df_titanic[features]\n",
    "y = df_titanic['survived']"
   ]
  },
  {
   "cell_type": "markdown",
   "metadata": {
    "deletable": false,
    "editable": false,
    "nbgrader": {
     "cell_type": "markdown",
     "checksum": "b1ef2df67a55229d1176a0e2c8d6f185",
     "grade": false,
     "grade_id": "cell-efc529390ad395ba",
     "locked": true,
     "schema_version": 3,
     "solution": false
    }
   },
   "source": [
    "#### Let's try 4 different models for classification\n",
    "\n",
    "It is not meant that you should know all these models or techniques below. The purpose is to introduce you to some new models/techniques you might not have come in contact with yet. Hopefully this will spark your curiosity to learn more on your own. \n",
    "\n",
    "Let's import some modules."
   ]
  },
  {
   "cell_type": "code",
   "execution_count": 32,
   "metadata": {
    "deletable": false,
    "editable": false,
    "nbgrader": {
     "cell_type": "code",
     "checksum": "4c7460efbcf818e72153047cd66bb8d1",
     "grade": false,
     "grade_id": "cell-1530e8d6bcbd7c03",
     "locked": true,
     "schema_version": 3,
     "solution": false
    }
   },
   "outputs": [],
   "source": [
    "from sklearn.preprocessing import StandardScaler\n",
    "\n",
    "from sklearn.linear_model import LogisticRegression\n",
    "from sklearn.svm import SVC\n",
    "from sklearn.ensemble import RandomForestClassifier, AdaBoostClassifier\n",
    "\n",
    "from sklearn.pipeline import Pipeline\n",
    "from sklearn.model_selection import cross_val_score"
   ]
  },
  {
   "cell_type": "code",
   "execution_count": 33,
   "metadata": {
    "deletable": false,
    "editable": false,
    "nbgrader": {
     "cell_type": "code",
     "checksum": "0b5680fbd388b0229c501ad7ef33dbc1",
     "grade": false,
     "grade_id": "cell-86a1206d3e5ea27e",
     "locked": true,
     "schema_version": 3,
     "solution": false
    }
   },
   "outputs": [],
   "source": [
    "# Standard scaler\n",
    "scaler =  StandardScaler()\n",
    "\n",
    "# ML algorithms \n",
    "logistic_regression = LogisticRegression(solver='lbfgs')\n",
    "support_vector_machine = SVC() \n",
    "random_forest = RandomForestClassifier(n_estimators=100)\n",
    "adaboost = AdaBoostClassifier()\n",
    "\n",
    "models = [('logistic regression',logistic_regression),\n",
    "          ('support vector machine', support_vector_machine),\n",
    "          ('random_forest',random_forest),\n",
    "          ('adaboost', adaboost)]"
   ]
  },
  {
   "cell_type": "code",
   "execution_count": 34,
   "metadata": {
    "deletable": false,
    "editable": false,
    "nbgrader": {
     "cell_type": "code",
     "checksum": "4ce8da7bc84cfc8fa5686dadb4cffb93",
     "grade": false,
     "grade_id": "cell-244aa3377c9891cd",
     "locked": true,
     "schema_version": 3,
     "solution": false
    }
   },
   "outputs": [
    {
     "name": "stdout",
     "output_type": "stream",
     "text": [
      "Cross validation mean accuracy for logistic regression is cv = 0.7227\n",
      "Cross validation accuracy variance for logistic regression is cv = 0.0123 \n",
      "\n",
      "Cross validation mean accuracy for support vector machine is cv = 0.7020\n",
      "Cross validation accuracy variance for support vector machine is cv = 0.0136 \n",
      "\n",
      "Cross validation mean accuracy for random_forest is cv = 0.6501\n",
      "Cross validation accuracy variance for random_forest is cv = 0.0066 \n",
      "\n",
      "Cross validation mean accuracy for adaboost is cv = 0.6562\n",
      "Cross validation accuracy variance for adaboost is cv = 0.0081 \n",
      "\n"
     ]
    }
   ],
   "source": [
    "# Temporarily suppress warnings\n",
    "import warnings\n",
    "from sklearn.exceptions import DataConversionWarning\n",
    "warnings.filterwarnings(action='ignore', category=DataConversionWarning)\n",
    "\n",
    "# Let's look at the classifiers and their performance\n",
    "for clf_name,clf in models:\n",
    "    pipe = Pipeline([('transformer', scaler), ('estimator', clf)])\n",
    "    scores = cross_val_score(pipe, X, y, cv = 5, scoring = \"accuracy\")\n",
    "    print(\"Cross validation mean accuracy for {model} is cv = {mean:.4f}\".format(model=clf_name,mean=np.mean(scores)))\n",
    "    print(\"Cross validation accuracy variance for {model} is cv = {variance:.4f} \\n\".format(model=clf_name,variance=np.std(scores)**2))"
   ]
  },
  {
   "cell_type": "markdown",
   "metadata": {
    "deletable": false,
    "editable": false,
    "nbgrader": {
     "cell_type": "markdown",
     "checksum": "60dd46563c040c8d1a99e688f28ca496",
     "grade": false,
     "grade_id": "cell-112680bb15c3646d",
     "locked": true,
     "schema_version": 3,
     "solution": false
    }
   },
   "source": [
    "We see above that there isn't much performance difference in the various ML models. Perhaps due to its simplicity we would go with logistic regression in this case. Also, having a more complex model does not necessarily improve the accuracy. This is an indication that perhaps looking at new features is more important than exploring other models at this point. Moreover, hyperparameter tuning could also help the models a bit, but we leave this for you to explore if interested. "
   ]
  },
  {
   "cell_type": "markdown",
   "metadata": {
    "deletable": false,
    "editable": false,
    "nbgrader": {
     "cell_type": "markdown",
     "checksum": "6dadefca59981dde23836e75f5bd2968",
     "grade": false,
     "grade_id": "cell-2a8dd2f822f3436b",
     "locked": true,
     "schema_version": 3,
     "solution": false,
     "task": false
    }
   },
   "source": [
    "**Sidenote**: So what are we actually doing above? Well, we decided that we want to see if we can infer any performance difference in the 4 different models above. From the assignment about model selection, you learnt, that we can use [cross_val_score](https://scikit-learn.org/stable/modules/generated/sklearn.model_selection.cross_val_score.html) for this. However, if we were scaling data before this step, then information in the test set will leak into the model. If you remember the last note in the reading material on Feature Scaling:\n",
    "\n",
    "*Make sure that you fit the StandardScaler on the training-data and not on the whole dataset, and certainly not on the test-data.*\n",
    "\n",
    "So instead of scaling before the `cross_val_score` we pass what is refered to as a [pipeline](https://scikit-learn.org/stable/modules/generated/sklearn.pipeline.Pipeline.html#examples-using-sklearn-pipeline-pipeline) which sequentially applies a list of transforms and a final estimator. This will help us to fit the scaler and classifier on only the training data and evaluate on the test one. \n",
    "\n",
    "The interested reader can find more ideas [here](https://www.kaggle.com/c/titanic/kernels?sortBy=voteCount&group=everyone&pageSize=20&competitionId=3136). "
   ]
  },
  {
   "cell_type": "markdown",
   "metadata": {
    "deletable": false,
    "editable": false,
    "nbgrader": {
     "cell_type": "markdown",
     "checksum": "f54eeeb5355d675ed7b99c285ee6eebe",
     "grade": false,
     "grade_id": "cell-72b4e77c41a7787e",
     "locked": true,
     "schema_version": 3,
     "solution": false
    }
   },
   "source": [
    "## Good job! "
   ]
  }
 ],
 "metadata": {
  "kernelspec": {
   "display_name": "Python 3",
   "language": "python",
   "name": "python3"
  },
  "language_info": {
   "codemirror_mode": {
    "name": "ipython",
    "version": 3
   },
   "file_extension": ".py",
   "mimetype": "text/x-python",
   "name": "python",
   "nbconvert_exporter": "python",
   "pygments_lexer": "ipython3",
   "version": "3.7.3"
  }
 },
 "nbformat": 4,
 "nbformat_minor": 1
}
