{
 "cells": [
  {
   "cell_type": "markdown",
   "metadata": {
    "deletable": false,
    "editable": false,
    "nbgrader": {
     "cell_type": "markdown",
     "checksum": "a3bd2a667648b887a5d2bd2801f89a19",
     "grade": false,
     "grade_id": "cell-1dcd563fa72ba6f1",
     "locked": true,
     "schema_version": 3,
     "solution": false
    }
   },
   "source": [
    "<center>\n",
    "    <img style=\"float: left;\" src=\"Mix_colour.png\" width=\"200\"></img>\n",
    "</center>\n",
    "\n",
    "<br/><br/>\n",
    "<br/><br/>\n",
    "\n",
    "# Feature Selection\n",
    "\n",
    "In the reading material we discussed a few methods for feature selection that one can use to simplify the model without losing too much accuracy. In this notebook we will consider the following problem: if we have many features in a model, how do we know which features are the most important, and which ones we can drop.\n",
    "\n",
    "For simplicity, we are not considering a test/train split or cross validation in this notebook. However those concepts still apply, and in a real-world setting they should be used alongside feature selection."
   ]
  },
  {
   "cell_type": "markdown",
   "metadata": {
    "deletable": false,
    "editable": false,
    "nbgrader": {
     "cell_type": "markdown",
     "checksum": "1ed7678609ceacd1792e8574f583a8ca",
     "grade": false,
     "grade_id": "cell-cb5e3bbee0799ccc",
     "locked": true,
     "schema_version": 3,
     "solution": false
    }
   },
   "source": [
    "## Data\n",
    "\n",
    "We will use a toy dataset to test the feature selection. We will start by loading the [Boston house market](https://scikit-learn.org/stable/datasets/index.html#boston-house-prices-dataset) dataset that we already used in the previous assignment. It contains 506 records with 12 features from which one can predict house prices. We will consider a simple linear model, and estimate its validity using $k$-fold cross validation. The idea in feature selection is to repeat the cross validation using different set of features.\n",
    "\n",
    "After loading the dataset, we will first have all features in `x0` and the target vector (i.e. the house prices) in `y`. \n",
    "\n",
    "The first thing we do is to standardise `x0` obtaining a new variable `x` (recall that to standardise means to subtract the mean and scale to have unit variance)."
   ]
  },
  {
   "cell_type": "code",
   "execution_count": 1,
   "metadata": {
    "deletable": false,
    "editable": false,
    "nbgrader": {
     "cell_type": "code",
     "checksum": "f19f1b7ae1982b79b51297fad614228f",
     "grade": false,
     "grade_id": "cell-87b8af285cf950e7",
     "locked": true,
     "schema_version": 3,
     "solution": false
    }
   },
   "outputs": [],
   "source": [
    "%matplotlib inline\n",
    "import numpy as np\n",
    "import pandas as pd\n",
    "import matplotlib.pyplot as plt\n",
    "from sklearn import preprocessing\n",
    "\n",
    "df_boston = pd.read_csv('/home/jovyan/Data/boston.csv')\n",
    "\n",
    "np.random.seed(42)  # setting the random seed makes the example reproducible\n",
    "\n",
    "x0 = df_boston.iloc[:,:-1] # select all feature columns\n",
    "y = df_boston['PRICE'] # select target column\n",
    "\n",
    "scaler = preprocessing.StandardScaler().fit(x0)\n",
    "x = scaler.transform(x0)"
   ]
  },
  {
   "cell_type": "markdown",
   "metadata": {
    "deletable": false,
    "editable": false,
    "nbgrader": {
     "cell_type": "markdown",
     "checksum": "a2fb017d0e441b1232067c0658b55d74",
     "grade": false,
     "grade_id": "cell-019903893776c474",
     "locked": true,
     "schema_version": 3,
     "solution": false
    }
   },
   "source": [
    "## Forward search\n",
    "\n",
    "Recall from the corresponding section, that the `mlxtend` package provides a [SequentialFeatureSelector](http://rasbt.github.io/mlxtend/user_guide/feature_selection/SequentialFeatureSelector/#api) class that offers both forward and backward search. Have a quick look at its documentation.\n",
    "\n",
    "### Q1:\n",
    "\n",
    "Implement forward feature selection for the linear regression model.\n",
    "\n",
    "**Hint:**\n",
    "* Start by defining an instance of the `LinearRegression` class. \n",
    "* Define an instance of `SequentialFeatureSelector` and store it in the `sfs` variable (use `sfs = SequentialFeatureSelector()`). When calling `SequentialFeatureSelector()`, you'll need to pass the `LinearRegression` instance, the maximum amount of features that we want to explore (`k_features=12`), flag for the forward search (`forward=True`), $R^2$ scoring (`scoring='r2'`), and 5-fold cross validation (`cv=5`).\n",
    "* Finally, have the feature selector fit the data and search for features, by calling its `.fit(x,y)` method.\n",
    "\n",
    "We will provide two instructions to get a list of all scores, and find the number of features for which the score is maximised."
   ]
  },
  {
   "cell_type": "code",
   "execution_count": 2,
   "metadata": {
    "deletable": false,
    "nbgrader": {
     "cell_type": "code",
     "checksum": "e48f38967da259f0438d01f8aadac1ec",
     "grade": false,
     "grade_id": "ch3_q1",
     "locked": false,
     "schema_version": 3,
     "solution": true
    }
   },
   "outputs": [
    {
     "name": "stdout",
     "output_type": "stream",
     "text": [
      "Number of features the score is maximised = 9 \n",
      "Maximum score = 0.460051\n"
     ]
    }
   ],
   "source": [
    "from mlxtend.feature_selection import SequentialFeatureSelector\n",
    "from sklearn.linear_model import LinearRegression\n",
    "\n",
    "# (approx. 3 lines of code)\n",
    "### START ANSWER HERE ###\n",
    "linear_regression = LinearRegression()\n",
    "sfs = SequentialFeatureSelector(linear_regression, k_features=12, forward=True, scoring='r2', cv=5)\n",
    "sfs.fit(x, y)\n",
    "### END ANSWER HERE ###\n",
    "\n",
    "# the next lines calculate the scores from the sfs instance\n",
    "scores_forward = [ sfs.subsets_[i]['avg_score']  for i in sfs.subsets_.keys() ]\n",
    "max_features_forward = 1+np.argmax(scores_forward)\n",
    "max_score_forward = np.max(scores_forward)\n",
    "\n",
    "print('Number of features the score is maximised = %i \\nMaximum score = %f' %(max_features_forward,max_score_forward))"
   ]
  },
  {
   "cell_type": "markdown",
   "metadata": {
    "deletable": false,
    "editable": false,
    "nbgrader": {
     "cell_type": "markdown",
     "checksum": "1291653abafd984d389f0411f581d9fb",
     "grade": false,
     "grade_id": "cell-66850f8312d8f434",
     "locked": true,
     "schema_version": 3,
     "solution": false
    }
   },
   "source": [
    "**Expected Output**: \n",
    "<table style=\"width:100%\">\n",
    "    <tr> \n",
    "        <td> Number of features the score is maximised</td> \n",
    "        <td> 9\n",
    "        </td> \n",
    "    </tr>\n",
    "    <tr> \n",
    "        <td> Maximum score</td> \n",
    "        <td> 0.460051 </td> \n",
    "    </tr>\n",
    "</table> "
   ]
  },
  {
   "cell_type": "code",
   "execution_count": 3,
   "metadata": {
    "deletable": false,
    "editable": false,
    "hideCode": true,
    "nbgrader": {
     "cell_type": "code",
     "checksum": "ee4e8770725eed796684aa8baee1e1b2",
     "grade": true,
     "grade_id": "ch3_q1_test",
     "locked": true,
     "points": 2,
     "schema_version": 3,
     "solution": false
    }
   },
   "outputs": [],
   "source": [
    "# nbgrader cell\n"
   ]
  },
  {
   "cell_type": "markdown",
   "metadata": {
    "deletable": false,
    "editable": false,
    "nbgrader": {
     "cell_type": "markdown",
     "checksum": "eed8997edaea4500cdf0509eb0ea4a6d",
     "grade": false,
     "grade_id": "cell-a3ae1d06c541240c",
     "locked": true,
     "schema_version": 3,
     "solution": false
    }
   },
   "source": [
    "Let's now look at the results of our feature search. The `sfs` object contains a `.subsets_` property that holds a [dictionary](https://www.w3schools.com/python/python_dictionaries.asp); the dictionary keys are the number of features. Let's build an array of the average scores and plot it."
   ]
  },
  {
   "cell_type": "code",
   "execution_count": 4,
   "metadata": {
    "deletable": false,
    "editable": false,
    "nbgrader": {
     "cell_type": "code",
     "checksum": "86b084f525904a79701eb5ecc88987ac",
     "grade": false,
     "grade_id": "cell-6e1ec2caa87080ed",
     "locked": true,
     "schema_version": 3,
     "solution": false
    }
   },
   "outputs": [
    {
     "data": {
      "image/png": "[encoded data removed]",
      "text/plain": [
       "<Figure size 432x288 with 1 Axes>"
      ]
     },
     "metadata": {
      "needs_background": "light"
     },
     "output_type": "display_data"
    }
   ],
   "source": [
    "num_features = [subset for subset in sfs.subsets_]\n",
    "scores = [ sfs.subsets_[i]['avg_score']  for i in sfs.subsets_.keys() ]\n",
    "\n",
    "plt.plot(num_features, scores)\n",
    "plt.xlabel('Number of features')\n",
    "plt.ylabel('Average cross-validation score')\n",
    "plt.show()"
   ]
  },
  {
   "cell_type": "markdown",
   "metadata": {
    "deletable": false,
    "editable": false,
    "nbgrader": {
     "cell_type": "markdown",
     "checksum": "27b646c6b33eb7c38ce1ca8b21161172",
     "grade": false,
     "grade_id": "cell-158cdfd71c562f5f",
     "locked": true,
     "schema_version": 3,
     "solution": false
    }
   },
   "source": [
    "The maximum score is found when using 9 features. It's interesting to note that 2 features is the bare minimum to have a decent fit, so we learn that there's enough structure in this problem that it cannot be caught by one single feature. We also see that there is a sharp drop in the score when using 10 features or more; from this we learn that overfitting can be a serious issue in these data. Finally, we can notice that the score increase from 2 to 9 features is not flat and there is a drop when using 7 features.\n",
    "\n",
    "### Q2:\n",
    "For the record, what are three most important features? Let's extract them. \n",
    "\n",
    "**Hints:**\n",
    "* First, take the indices of the three most important features: they can be obtained from `sfs.subsets_[3]['feature_idx']`, store them in a variable called `threefeatures`. \n",
    "* Then, the list `df_boston.columns` will contain the feature names (note that the last column `PRICE` is the target of the linear regression). The indices of the elements that you need are in `threefeatures[0]`, `threefeatures[1]` and `threefeatures[2]`. So, extract the elements that you need from the list of the column names and store them in three variables called `feature1`, `feature2` and `feature3`. \n",
    "\n",
    "Finally we'll print the three names."
   ]
  },
  {
   "cell_type": "code",
   "execution_count": 5,
   "metadata": {
    "deletable": false,
    "nbgrader": {
     "cell_type": "code",
     "checksum": "350dbff684e8300d4849bff9af1b084e",
     "grade": false,
     "grade_id": "ch3_q2",
     "locked": false,
     "schema_version": 3,
     "solution": true
    }
   },
   "outputs": [
    {
     "name": "stdout",
     "output_type": "stream",
     "text": [
      "Indices of the features:  (3, 10, 11)\n",
      "Three most important features:  CHAS PTRATIO LSTAT\n"
     ]
    }
   ],
   "source": [
    "# (approx. 4 lines of code)\n",
    "### START ANSWER HERE ###\n",
    "threefeatures = sfs.subsets_[3]['feature_idx']\n",
    "feature1 = df_boston.columns[threefeatures[0]]\n",
    "feature2 = df_boston.columns[threefeatures[1]]\n",
    "feature3 = df_boston.columns[threefeatures[2]]\n",
    "### END ANSWER HERE ###\n",
    "\n",
    "print('Indices of the features: ', threefeatures)\n",
    "print('Three most important features: ', feature1, feature2, feature3)"
   ]
  },
  {
   "cell_type": "markdown",
   "metadata": {
    "deletable": false,
    "editable": false,
    "nbgrader": {
     "cell_type": "markdown",
     "checksum": "65af9b3ec52f5ca531f1a42e4f7626c5",
     "grade": false,
     "grade_id": "cell-5a2ccc4c195c44ff",
     "locked": true,
     "schema_version": 3,
     "solution": false
    }
   },
   "source": [
    "**Expected Output**: \n",
    "<table style=\"width:100%\">\n",
    "    <tr> \n",
    "        <td> Indices of the features</td> \n",
    "        <td> (3, 10, 11)\n",
    "        </td> \n",
    "    </tr>\n",
    "    <tr> \n",
    "        <td> Three most important features</td> \n",
    "        <td> CHAS PTRATIO LSTAT </td> \n",
    "    </tr>\n",
    "</table> "
   ]
  },
  {
   "cell_type": "code",
   "execution_count": null,
   "metadata": {
    "deletable": false,
    "editable": false,
    "hideCode": true,
    "nbgrader": {
     "cell_type": "code",
     "checksum": "d91a06c0652910db7193f49d9dde48bc",
     "grade": true,
     "grade_id": "ch3_q2_test",
     "locked": true,
     "points": 2,
     "schema_version": 3,
     "solution": false
    }
   },
   "outputs": [],
   "source": [
    "# nbgrader cell\n"
   ]
  },
  {
   "cell_type": "markdown",
   "metadata": {},
   "source": [
    "## Backward search\n",
    "\n",
    "The `SequentialFeatureSelector` in `mlxtend` also offers an option for backward search. Let's try it first, and then we'll see another option.\n",
    "\n",
    "### Q3:\n",
    "\n",
    "Look again at the code for Q1 and at the above plot. Now do the same for the backward search, all steps from instantiating a `SequentialFeatureSelector` to obtaining the number of features that maximises the score, and to finally showing the plot. It's quite easy, just remember to set `forward=False` and choose `k_features=1` so you try all possibilities from 12 down to 1 feature. Put the maximum score and the number of features in the `max_score_backward` and `max_features_backward` variables, respectively."
   ]
  },
  {
   "cell_type": "code",
   "execution_count": 7,
   "metadata": {
    "deletable": false,
    "nbgrader": {
     "cell_type": "code",
     "checksum": "bc9c16a2cddd4f4c57ba93771a42065e",
     "grade": false,
     "grade_id": "ch3_q3",
     "locked": false,
     "schema_version": 3,
     "solution": true
    }
   },
   "outputs": [
    {
     "name": "stdout",
     "output_type": "stream",
     "text": [
      "Number of features the score is maximised = 10 \n",
      " Maximum score = 0.487433\n"
     ]
    }
   ],
   "source": [
    "# (approx. 10 lines of code)\n",
    "### START ANSWER HERE ###\n",
    "sfs = SequentialFeatureSelector(linear_regression, k_features=1, forward=False, scoring='r2', cv=5)\n",
    "sfs.fit(x, y)\n",
    "\n",
    "scores_backward = [sfs.subsets_[i]['avg_score'] for i in sfs.subsets_.keys()]\n",
    "max_features_backward = len(sfs.subsets_.keys()) - np.argmax(scores_backward)\n",
    "max_score_backward = np.max(scores_backward)\n",
    "### END ANSWER HERE ###\n",
    "\n",
    "print('Number of features the score is maximised = %i \\n Maximum score = %f' %(max_features_backward,max_score_backward))"
   ]
  },
  {
   "cell_type": "markdown",
   "metadata": {
    "deletable": false,
    "editable": false,
    "nbgrader": {
     "cell_type": "markdown",
     "checksum": "d44d7084521a485e6d8a11e18bdd2886",
     "grade": false,
     "grade_id": "cell-081682477b40764f",
     "locked": true,
     "schema_version": 3,
     "solution": false
    }
   },
   "source": [
    "**Expected Output**: \n",
    "<table style=\"width:100%\">\n",
    "    <tr> \n",
    "        <td> Number of features the score is maximised</td> \n",
    "        <td> 10\n",
    "        </td> \n",
    "    </tr>\n",
    "    <tr> \n",
    "        <td> Maximum score</td> \n",
    "        <td> 0.487433 </td> \n",
    "    </tr>\n",
    "</table> "
   ]
  },
  {
   "cell_type": "code",
   "execution_count": 8,
   "metadata": {
    "deletable": false,
    "editable": false,
    "hideCode": true,
    "nbgrader": {
     "cell_type": "code",
     "checksum": "f09414c15c3d09364562fe8b3b9ee520",
     "grade": true,
     "grade_id": "ch3_q3_test",
     "locked": true,
     "points": 3,
     "schema_version": 3,
     "solution": false
    }
   },
   "outputs": [],
   "source": [
    "# nbgrader cell\n"
   ]
  },
  {
   "cell_type": "markdown",
   "metadata": {
    "deletable": false,
    "editable": false,
    "nbgrader": {
     "cell_type": "markdown",
     "checksum": "31faad4c0a5685986f586b38541e24af",
     "grade": false,
     "grade_id": "cell-83aaa0a08772aed4",
     "locked": true,
     "schema_version": 3,
     "solution": false
    }
   },
   "source": [
    "Compare the max score in both cases. The backward search identified better models than the forward selection! What happened?\n",
    "\n",
    "What happened is that the forward and backward search algorithms are not exploring all possible combinations of features (there are $2^{12}=4096$ possible combinations of features in this problem!) but just two subsets (one for forward, one for backward), each one of them containing 12 nested sets of features. This brings us to the next question...\n",
    "\n",
    "### Q4:\n",
    "\n",
    "What are the three most important features identified by backward search? Approach it analogous to Q2, and store the indices in `threefeatures` and the names in `feature1`, `feature2` and `feature3`.\n",
    "\n"
   ]
  },
  {
   "cell_type": "code",
   "execution_count": 9,
   "metadata": {
    "deletable": false,
    "nbgrader": {
     "cell_type": "code",
     "checksum": "1939745248405d834a91b911bb024cc1",
     "grade": false,
     "grade_id": "ch3_q4",
     "locked": false,
     "schema_version": 3,
     "solution": true
    }
   },
   "outputs": [
    {
     "name": "stdout",
     "output_type": "stream",
     "text": [
      "Indices of the features:  (7, 10, 11)\n",
      "Three most important features:  DIS PTRATIO LSTAT\n"
     ]
    }
   ],
   "source": [
    "# (approx. 4 lines of code)\n",
    "### START ANSWER HERE ###\n",
    "threefeatures = sfs.subsets_[3]['feature_idx']\n",
    "feature1 = df_boston.columns[threefeatures[0]]\n",
    "feature2 = df_boston.columns[threefeatures[1]]\n",
    "feature3 = df_boston.columns[threefeatures[2]]\n",
    "### END ANSWER HERE ###\n",
    "\n",
    "print('Indices of the features: ', threefeatures)\n",
    "print('Three most important features: ', feature1, feature2, feature3)"
   ]
  },
  {
   "cell_type": "markdown",
   "metadata": {
    "deletable": false,
    "editable": false,
    "nbgrader": {
     "cell_type": "markdown",
     "checksum": "59183c1ca0605949e1c7b8e161b19f99",
     "grade": false,
     "grade_id": "cell-f992527de1625a9f",
     "locked": true,
     "schema_version": 3,
     "solution": false
    }
   },
   "source": [
    "**Expected Output**: \n",
    "<table style=\"width:100%\">\n",
    "    <tr> \n",
    "        <td> Indices of the features</td> \n",
    "        <td> (7, 10, 11)\n",
    "        </td> \n",
    "    </tr>\n",
    "    <tr> \n",
    "        <td> Three most important features</td> \n",
    "        <td> DIS PTRATIO LSTAT </td> \n",
    "    </tr>\n",
    "</table> "
   ]
  },
  {
   "cell_type": "code",
   "execution_count": null,
   "metadata": {
    "deletable": false,
    "editable": false,
    "hideCode": true,
    "nbgrader": {
     "cell_type": "code",
     "checksum": "6cbd6f254c624d1300a9e5a952058b05",
     "grade": true,
     "grade_id": "ch3_q4_test",
     "locked": true,
     "points": 1,
     "schema_version": 3,
     "solution": false
    }
   },
   "outputs": [],
   "source": [
    "# nbgrader cell\n"
   ]
  },
  {
   "cell_type": "markdown",
   "metadata": {
    "deletable": false,
    "editable": false,
    "nbgrader": {
     "cell_type": "markdown",
     "checksum": "d5ffe0c3e834f2e5c854628b6938ebc9",
     "grade": false,
     "grade_id": "cell-a639b42e144f35a3",
     "locked": true,
     "schema_version": 3,
     "solution": false
    }
   },
   "source": [
    "Even when selecting just three features, forward and backward search found two different sets! Somewhat reassuringly, the two subsets partly overlap, and only one feature is different between them.\n",
    "\n",
    "What happens if we redo the search using a different Python package? We can try and use [Recursive feature elimination with cross validation (RFECV)](https://scikit-learn.org/stable/modules/generated/sklearn.feature_selection.RFECV.html) that also offers backward search.\n",
    "\n",
    "### Q5:\n",
    "\n",
    "Use the backward search in `RFECV` to estimate again the cross validation score and the three most important features. Use the `cv=5` parameter when instantiating an `RFECV` object to specify that we want 5-fold cross validation, and `scoring='r2'` to use $R^2$ as score.\n",
    "\n",
    "`RFECV` has a `.grid_scores_` property that contains the scores array, ordered for increasing number of features. Use `.grid_scores_` to find the maximum score and the relative number of features; put them in `max_score_rfecv` and `max_features_rfecv`. \n",
    "\n",
    "Finally, plot the scores (**Hint**: use `range(1,len(rfecv.grid_scores_)+1)` as your abscissa vector).\n",
    "\n"
   ]
  },
  {
   "cell_type": "code",
   "execution_count": 13,
   "metadata": {
    "deletable": false,
    "nbgrader": {
     "cell_type": "code",
     "checksum": "e25b043608ca24babc96fec5dc88f3db",
     "grade": false,
     "grade_id": "ch3_q5",
     "locked": false,
     "schema_version": 3,
     "solution": true
    }
   },
   "outputs": [
    {
     "data": {
      "image/png": "[encoded data removed]",
      "text/plain": [
       "<Figure size 432x288 with 1 Axes>"
      ]
     },
     "metadata": {
      "needs_background": "light"
     },
     "output_type": "display_data"
    },
    {
     "name": "stdout",
     "output_type": "stream",
     "text": [
      "Number of features the score is maximised = 11 \n",
      " Maximum score = 0.376872\n"
     ]
    }
   ],
   "source": [
    "from sklearn.feature_selection import RFECV\n",
    "\n",
    "# (approx. 8 lines of code)\n",
    "### START ANSWER HERE ###\n",
    "rfecv = RFECV(estimator=linear_regression, cv=5, scoring='r2')\n",
    "rfecv.fit(x, y)\n",
    "\n",
    "max_score_rfecv = np.max(rfecv.grid_scores_)\n",
    "max_features_rfecv = 1 + np.argmax(rfecv.grid_scores_)\n",
    "\n",
    "plt.plot(range(1, len(rfecv.grid_scores_)+1), rfecv.grid_scores_)\n",
    "plt.xlabel('Number of features')\n",
    "plt.ylabel('Average cross-validation score')\n",
    "plt.show()\n",
    "### END ANSWER HERE ###\n",
    "\n",
    "\n",
    "print('Number of features the score is maximised = %i \\n Maximum score = %f' %(max_features_rfecv, max_score_rfecv))"
   ]
  },
  {
   "cell_type": "markdown",
   "metadata": {
    "deletable": false,
    "editable": false,
    "nbgrader": {
     "cell_type": "markdown",
     "checksum": "2a412c7f6fcea1936c35399743c8e5b7",
     "grade": false,
     "grade_id": "cell-42a40fc4229cbec5",
     "locked": true,
     "schema_version": 3,
     "solution": false
    }
   },
   "source": [
    "**Expected Output**: \n",
    "<table style=\"width:100%\">\n",
    "    <tr> \n",
    "        <td> Number of features the score is maximised</td> \n",
    "        <td> 11\n",
    "        </td> \n",
    "    </tr>\n",
    "    <tr> \n",
    "        <td> Maximum score</td> \n",
    "        <td> 0.376872 </td> \n",
    "    </tr>\n",
    "</table> "
   ]
  },
  {
   "cell_type": "code",
   "execution_count": null,
   "metadata": {
    "deletable": false,
    "editable": false,
    "hideCode": true,
    "nbgrader": {
     "cell_type": "code",
     "checksum": "b0c0f409efcc0577c729952a3a7768c4",
     "grade": true,
     "grade_id": "ch3_q5_test",
     "locked": true,
     "points": 2,
     "schema_version": 3,
     "solution": false
    }
   },
   "outputs": [],
   "source": [
    "# nbgrader cell\n"
   ]
  },
  {
   "cell_type": "markdown",
   "metadata": {
    "deletable": false,
    "editable": false,
    "nbgrader": {
     "cell_type": "markdown",
     "checksum": "82303511dd5001e91b3b622735c895b6",
     "grade": false,
     "grade_id": "cell-d4096c1cc95b8a7f",
     "locked": true,
     "schema_version": 3,
     "solution": false
    }
   },
   "source": [
    "Quite interestingly, the results from backward search done by `RFECV` are different to those from `SequentialFeatureSelector`, with `RFECV` finding a maximum for 11 features. By looking at the plot, two or three features could already provide an acceptable fit to the data, consistently with what we have seen before. However, with `RFECV` it is difficult to get the \"three most important features\" as we have seen before, because it only provides an interface to the maximum-score fit (i.e., that with 11 features).\n",
    "\n",
    "Another difference between `mlxtend` and `RFECV` is that the latter gives different results depending on if the $x$ has been standardised (exercise: remove the feature scaling in the first cell of this notebook, and see how the results change - but do this on a duplicate of this notebook, otherwise all grading cells might be messed up!)."
   ]
  },
  {
   "cell_type": "markdown",
   "metadata": {
    "deletable": false,
    "editable": false,
    "nbgrader": {
     "cell_type": "markdown",
     "checksum": "78b69bd0ed0a2b36685d2842fb22adfb",
     "grade": false,
     "grade_id": "cell-f3288e8c40d4dd3b",
     "locked": true,
     "schema_version": 3,
     "solution": false
    }
   },
   "source": [
    "## Regularisation\n",
    "\n",
    "The last part of this notebook concerns regularisation with the $L_1$ and $L_2$ penalties, that in the context of regression are also known as lasso regression and ridge regression, respectively. Both of them impose a penalty on large weights; therefore the weights for not-so-important variables are kept low. The main practical difference is that in $L_1$ regularisation, the weights will drop faster towards 0, so that it is possible that it excludes variables from the model more efficiently.\n",
    "\n",
    "It's important that regularisation is performed on standardised features, because otherwise the regression coefficients could be more sensitive to the feature scales than to their importance.\n",
    "\n",
    "\n",
    "### Q6:\n",
    "\n",
    "Lasso is provided by `sklearn.linear_model`. Have a look at the [documentation](https://scikit-learn.org/stable/modules/generated/sklearn.linear_model.Lasso.html), import and instantiate a Lasso regressor with parameter `alpha=0.5`, putting it in the variable `lasso`. Finally call the `.fit(x,y)` method on it to fit our data."
   ]
  },
  {
   "cell_type": "code",
   "execution_count": 14,
   "metadata": {
    "deletable": false,
    "nbgrader": {
     "cell_type": "code",
     "checksum": "e549523cbf28b73760acca720036fbfa",
     "grade": false,
     "grade_id": "ch3_q6",
     "locked": false,
     "schema_version": 3,
     "solution": true
    }
   },
   "outputs": [
    {
     "data": {
      "text/plain": [
       "Lasso(alpha=0.5, copy_X=True, fit_intercept=True, max_iter=1000,\n",
       "      normalize=False, positive=False, precompute=False, random_state=None,\n",
       "      selection='cyclic', tol=0.0001, warm_start=False)"
      ]
     },
     "execution_count": 14,
     "metadata": {},
     "output_type": "execute_result"
    }
   ],
   "source": [
    "# (approx. 3 lines of code)\n",
    "### START ANSWER HERE ###\n",
    "from sklearn.linear_model import Lasso\n",
    "lasso = Lasso(alpha=0.5)\n",
    "lasso.fit(x, y)\n",
    "### END ANSWER HERE ###"
   ]
  },
  {
   "cell_type": "code",
   "execution_count": 15,
   "metadata": {
    "deletable": false,
    "editable": false,
    "hideCode": true,
    "nbgrader": {
     "cell_type": "code",
     "checksum": "eae67a232281d391e57bb7edd3612cec",
     "grade": true,
     "grade_id": "ch3_q6_test",
     "locked": true,
     "points": 1,
     "schema_version": 3,
     "solution": false
    }
   },
   "outputs": [],
   "source": [
    "# nbgrader cell\n"
   ]
  },
  {
   "cell_type": "markdown",
   "metadata": {
    "deletable": false,
    "editable": false,
    "nbgrader": {
     "cell_type": "markdown",
     "checksum": "dee433fe146b887feaff03bb4f09d022",
     "grade": false,
     "grade_id": "cell-8d1ab55ff28cfefc",
     "locked": true,
     "schema_version": 3,
     "solution": false
    }
   },
   "source": [
    "What features have been selected by the lasso?  The `.coef_` property contains the fit coefficients. Let's take a look:"
   ]
  },
  {
   "cell_type": "code",
   "execution_count": 16,
   "metadata": {
    "deletable": false,
    "editable": false,
    "nbgrader": {
     "cell_type": "code",
     "checksum": "a657bfd9be96db6a49da2d158ade7726",
     "grade": false,
     "grade_id": "cell-194a55bd46f05cbb",
     "locked": true,
     "schema_version": 3,
     "solution": false
    }
   },
   "outputs": [
    {
     "name": "stdout",
     "output_type": "stream",
     "text": [
      "Coefficients: \n",
      " [-2.16484072e-01  0.00000000e+00 -0.00000000e+00  4.16671801e-01\n",
      " -2.34950025e-03  2.90994049e+00 -0.00000000e+00 -1.51556267e-01\n",
      " -0.00000000e+00 -9.52790533e-02 -1.58756785e+00 -3.79868515e+00]\n",
      "Indices of non-zero elements:  (array([ 0,  3,  4,  5,  7,  9, 10, 11]),)\n"
     ]
    }
   ],
   "source": [
    "print('Coefficients: \\n', lasso.coef_)  \n",
    "print('Indices of non-zero elements: ', np.where(lasso.coef_))   "
   ]
  },
  {
   "cell_type": "markdown",
   "metadata": {
    "deletable": false,
    "editable": false,
    "nbgrader": {
     "cell_type": "markdown",
     "checksum": "2762079a3086c8fecf3a70a7d608fb00",
     "grade": false,
     "grade_id": "cell-e040fd7dd160cb8a",
     "locked": true,
     "schema_version": 3,
     "solution": false
    }
   },
   "source": [
    "So 8 features have been selected; this number depends on the $\\alpha$ parameter that we set.\n",
    "\n",
    "### Q7:\n",
    "\n",
    "How many features are selected when using different $\\alpha$?  \n",
    "\n",
    "Let's use a loop that goes from `alpha=0.1` to `alpha=10` with a step of 0.1, to get the number of features that have been selected. \n",
    "We will start the loop, and you need to write the inner part of it: \n",
    "* instantiate a Lasso regressor and __name the instance `lasso`__\n",
    "* fit it to x,y\n",
    "* get the number of selected features from `len(np.where(lasso.coef_)[0])`\n",
    "* call `num_features.append()` to add the number of selected features to the `num_features` list).\n",
    "\n",
    "Finally, outside the loop, we make a plot of `alphas` vs. number of selected features (`num_features`)."
   ]
  },
  {
   "cell_type": "code",
   "execution_count": 17,
   "metadata": {
    "deletable": false,
    "nbgrader": {
     "cell_type": "code",
     "checksum": "97b0116808b1e3ece0d8fd5a18ea0ae1",
     "grade": false,
     "grade_id": "ch3_q7",
     "locked": false,
     "schema_version": 3,
     "solution": true,
     "task": false
    }
   },
   "outputs": [
    {
     "data": {
      "image/png": "[encoded data removed]",
      "text/plain": [
       "<Figure size 432x288 with 1 Axes>"
      ]
     },
     "metadata": {
      "needs_background": "light"
     },
     "output_type": "display_data"
    }
   ],
   "source": [
    "alphas = np.arange(.1,10.1,.1)\n",
    "num_features = [] # store the number of selected features here\n",
    "\n",
    "for a in alphas:\n",
    "# (approx. 3 lines of code)\n",
    "### START ANSWER HERE ###\n",
    "    lasso = Lasso(alpha=a)\n",
    "    lasso.fit(x, y)\n",
    "    num_features_a = len(np.where(lasso.coef_)[0])\n",
    "    num_features.append(num_features_a)\n",
    "### END ANSWER HERE ###\n",
    "\n",
    "plt.plot(alphas, num_features)\n",
    "plt.xlabel('alpha')\n",
    "plt.ylabel('Number of selected features')\n",
    "plt.show()"
   ]
  },
  {
   "cell_type": "code",
   "execution_count": null,
   "metadata": {
    "deletable": false,
    "editable": false,
    "hideCode": true,
    "nbgrader": {
     "cell_type": "code",
     "checksum": "14c6a2bcfd65ede92ca9d56edb7997f2",
     "grade": true,
     "grade_id": "ch3_q7_test",
     "locked": true,
     "points": 1,
     "schema_version": 3,
     "solution": false,
     "task": false
    }
   },
   "outputs": [],
   "source": [
    "# nbgrader cell\n"
   ]
  },
  {
   "cell_type": "markdown",
   "metadata": {
    "deletable": false,
    "editable": false,
    "nbgrader": {
     "cell_type": "markdown",
     "checksum": "9ace22f68c23e7929441ae11e49b6652",
     "grade": false,
     "grade_id": "cell-318d66548ece1124",
     "locked": true,
     "schema_version": 3,
     "solution": false
    }
   },
   "source": [
    "So the larger the $\\alpha$, the less features get selected. This happens because after certain thresholds, the coefficient for a given variable reduces to zero. But, what happens to the coefficients when we choose an $\\alpha$ that's between the thresholds?\n",
    "\n",
    "The _regularisation path_ plot can be used to understand how the coefficients evolve. An example is [here](https://scikit-learn.org/stable/auto_examples/linear_model/plot_lasso_coordinate_descent_path.html#lasso-and-elastic-net); the `lasso_path` method can be used to obtain the coefficients for a grid of $\\alpha$. Also, it is conventional to plot it as a function of $-\\log(\\alpha)$, so we will stick to the convention. Just remember that the $x$ axis is reversed with respect to the previous plot."
   ]
  },
  {
   "cell_type": "code",
   "execution_count": 18,
   "metadata": {
    "deletable": false,
    "editable": false,
    "nbgrader": {
     "cell_type": "code",
     "checksum": "e04d24dcc7511c6d46f0f69bfcb7309e",
     "grade": false,
     "grade_id": "cell-1f19f9fb611e443f",
     "locked": true,
     "schema_version": 3,
     "solution": false
    }
   },
   "outputs": [
    {
     "data": {
      "image/png": "[encoded data removed]",
      "text/plain": [
       "<Figure size 432x288 with 1 Axes>"
      ]
     },
     "metadata": {
      "needs_background": "light"
     },
     "output_type": "display_data"
    }
   ],
   "source": [
    "from sklearn.linear_model import lasso_path\n",
    "alphas_lasso, coefs_lasso, _ = lasso_path(x, y, 5e-3)\n",
    "for cl in coefs_lasso:\n",
    "    plt.plot(-np.log(alphas_lasso), cl)\n",
    "plt.xlabel('-log(alpha)')\n",
    "plt.ylabel('coefficients')\n",
    "plt.show()"
   ]
  },
  {
   "cell_type": "markdown",
   "metadata": {
    "deletable": false,
    "editable": false,
    "nbgrader": {
     "cell_type": "markdown",
     "checksum": "e5f091f356e5a6bd9ecc5b6ee47d49e1",
     "grade": false,
     "grade_id": "cell-b86c9e74b64870da",
     "locked": true,
     "schema_version": 3,
     "solution": false
    }
   },
   "source": [
    "### Q8 (multiple choice):\n",
    "\n",
    "Look at the above plots and which of the following statement are true:\n",
    "1. More features get selected when the regularisation strength (alpha) is increased\n",
    "2. Less features get selected when the regularisation strength (alpha) is increased\n",
    "3. The regularisation path can be used to find the three most important features, by choosing an appropriate alpha\n",
    "4. Regularisation is so powerful that we don't need cross validation"
   ]
  },
  {
   "cell_type": "code",
   "execution_count": 21,
   "metadata": {
    "deletable": false,
    "nbgrader": {
     "cell_type": "code",
     "checksum": "f6ad20ea517861ce5eb852b9929e1cf9",
     "grade": false,
     "grade_id": "ch3_q8",
     "locked": false,
     "schema_version": 3,
     "solution": true
    }
   },
   "outputs": [],
   "source": [
    "# Fill in all the numbers corresponding to your answer inside the brackets: Q8_answer = [5,6]\n",
    " \n",
    "### START ANSWER HERE ###\n",
    "Q8_answer = [2,3]\n",
    "### END ANSWER HERE ###"
   ]
  },
  {
   "cell_type": "code",
   "execution_count": 22,
   "metadata": {
    "deletable": false,
    "editable": false,
    "hideCode": true,
    "nbgrader": {
     "cell_type": "code",
     "checksum": "40f774cff21e253249e105c9a8c6e2cc",
     "grade": false,
     "grade_id": "cell-70ef50d556068bb1",
     "locked": true,
     "schema_version": 3,
     "solution": false,
     "task": false
    },
    "selfTest": true
   },
   "outputs": [
    {
     "name": "stdout",
     "output_type": "stream",
     "text": [
      "Correct!\n"
     ]
    }
   ],
   "source": [
    "import hashlib\n",
    "_myhash = lambda x: hashlib.md5(str(x).encode()).hexdigest()\n",
    "if _myhash(set(Q8_answer))=='5ad06bc3b78920bcf496ed9a814cf4db':\n",
    "    print('Correct!')\n",
    "else:\n",
    "    print('Not correct! Please try again!')"
   ]
  },
  {
   "cell_type": "code",
   "execution_count": null,
   "metadata": {
    "deletable": false,
    "editable": false,
    "hideCode": true,
    "nbgrader": {
     "cell_type": "code",
     "checksum": "eefa61199061326629b3800716361716",
     "grade": true,
     "grade_id": "ch3_q8_test",
     "locked": true,
     "points": 2,
     "schema_version": 3,
     "solution": false
    }
   },
   "outputs": [],
   "source": [
    "# nbgrader cell\n"
   ]
  },
  {
   "cell_type": "markdown",
   "metadata": {
    "deletable": false,
    "editable": false,
    "nbgrader": {
     "cell_type": "markdown",
     "checksum": "7a1135096ed0dc96f6bf825c98b7d0d7",
     "grade": false,
     "grade_id": "cell-e5e3533225bab54c",
     "locked": true,
     "schema_version": 3,
     "solution": false
    }
   },
   "source": [
    "We will now consider $L_2$ regularisation, also known as ridge regression, and draw a regularisation path for it.\n",
    "\n",
    "From a coding point of view, ridge regression works exactly like lasso regression; we just need to import and use `Ridge` instead of `Lasso`. We need to cycle on a much larger range of strengths, like $1\\le \\alpha\\le 10^5$, the line `alphas = np.logspace(0,5,num=100)` takes care of this.\n",
    "We proceed as in Q8, the only difference is that we need to append `ridge.coef_` to `coefs`. Finally we plot `coefs` as a function of $-log(\\alpha)$ (technically, `coefs` is a list of numpy arrays; the call to `plt.plot()` looks simple, but inside it will cycle over all numpy arrays and plot each of them in a different colour).\n",
    "\n",
    "Look at the plot: no feature will be completely dropped, but some some of them will have their coefficients strongly reduced at different values of $\\alpha$."
   ]
  },
  {
   "cell_type": "code",
   "execution_count": 23,
   "metadata": {
    "deletable": false,
    "editable": false,
    "nbgrader": {
     "cell_type": "code",
     "checksum": "812c30b693857c27e7ae615c7fb29f8f",
     "grade": false,
     "grade_id": "cell-912605cba93041b7",
     "locked": true,
     "schema_version": 3,
     "solution": false
    }
   },
   "outputs": [
    {
     "data": {
      "image/png": "[encoded data removed]",
      "text/plain": [
       "<Figure size 432x288 with 1 Axes>"
      ]
     },
     "metadata": {
      "needs_background": "light"
     },
     "output_type": "display_data"
    }
   ],
   "source": [
    "from sklearn.linear_model import Ridge\n",
    "\n",
    "alphas = np.logspace(0,5,num=100)\n",
    "coefs = [] #  store your scores here\n",
    "\n",
    "for a in alphas:\n",
    "\n",
    "    ridge = Ridge( alpha=a )\n",
    "    ridge.fit(x,y)\n",
    "    coefs.append(ridge.coef_)\n",
    "    \n",
    "plt.plot(-np.log(alphas), coefs)\n",
    "plt.xlabel('-log(alpha)')\n",
    "plt.ylabel('Coefficients')\n",
    "plt.show()"
   ]
  },
  {
   "cell_type": "markdown",
   "metadata": {
    "deletable": false,
    "editable": false,
    "hideCode": false,
    "nbgrader": {
     "cell_type": "markdown",
     "checksum": "3915182f054b5b8687bff0099e15f7b0",
     "grade": false,
     "grade_id": "cell-9e34ac4ae867a48f",
     "locked": true,
     "schema_version": 3,
     "solution": false
    }
   },
   "source": [
    "# Good job!"
   ]
  }
 ],
 "metadata": {
  "kernelspec": {
   "display_name": "Python 3",
   "language": "python",
   "name": "python3"
  },
  "language_info": {
   "codemirror_mode": {
    "name": "ipython",
    "version": 3
   },
   "file_extension": ".py",
   "mimetype": "text/x-python",
   "name": "python",
   "nbconvert_exporter": "python",
   "pygments_lexer": "ipython3",
   "version": "3.7.3"
  }
 },
 "nbformat": 4,
 "nbformat_minor": 2
}
