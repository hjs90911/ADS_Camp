{
 "cells": [
  {
   "cell_type": "markdown",
   "metadata": {
    "deletable": false,
    "editable": false,
    "nbgrader": {
     "cell_type": "markdown",
     "checksum": "4befe836929d8381e30b886250bfc0bb",
     "grade": false,
     "grade_id": "cell-e3ad89f76fb8a236",
     "locked": true,
     "schema_version": 3,
     "solution": false
    }
   },
   "source": [
    "<center>\n",
    "    <img style=\"float: left;\" src=\"Mix_colour.png\" width=\"200\"></img>\n",
    "</center>\n",
    "\n",
    "<br/><br/>\n",
    "<br/><br/>\n",
    "\n",
    "# Welcome to the assignment part of this course! \n",
    "\n",
    "All assignments will all be done in Jupyter notebooks. You have already seen the video on some basics of Jupyter notebooks, so don't doubt to check it again if you feel the need. For a more thorough overview of Jupyter notebooks, see also their website [https://jupyter.org/](https://jupyter.org/). \n",
    "\n",
    "The basic shortcuts: \n",
    "- To edit a cell: double-click on the cell and see it turn green, now you can edit (but note, that most of the cells of assignments are \"read-only\"). \n",
    "- To run a cell: press CTRL+ENTER or SHIFT+ENTER (the last one lets you go to the next cell after running the present cell). \n",
    "- To add cell: go out of edit mode by pressing ESC (see the cell turn blue), then press \"a\" (insert cell above), \"b\" (insert cell below). \n",
    "- To change the mode of a cell: press the scroll-bar next to fast forward sign on the top of the notebook and choose appropriate mode. "
   ]
  },
  {
   "cell_type": "markdown",
   "metadata": {
    "deletable": false,
    "editable": false,
    "hideCode": false,
    "hideOutput": false,
    "nbgrader": {
     "cell_type": "markdown",
     "checksum": "4c9fbfb8e6aeaa1434847c0a990a9f16",
     "grade": false,
     "grade_id": "cell-5db6a628cfc04c65",
     "locked": true,
     "schema_version": 3,
     "solution": false
    }
   },
   "source": [
    "### Important Note\n",
    "\n",
    "When you go through the notebook, you will notice that most of these cells you cannot edit, while some you can. However, these \"read-only\" cells still need to be run by pressing CTRL+ENTER or even easier, SHIFT+ENTER, which will let you get to next cell straight away. This is due to the next cells will be using the previous cells for packages, variables, etc. \n",
    "\n",
    "You only need to write code of your answer between the ### START CODE HERE ### and ### END CODE HERE ### comments.\n",
    "\n",
    "We will often specify \"(≈ X lines of code)\" in the comments to tell you about how much code you need to write. It is just a rough estimate, so do not feel bad if your code is longer or shorter.\n",
    "\n",
    "For this course most of the answers can be tested by yourself. This will be done by simply comparing with expected output under the cell.\n",
    "\n",
    "For actually correcting your answers we will be using a notebook extension which is referred to as *nbgrader*. The cells used by this extension will also be hidden and might look as an empty cells. You do not need to worry about them.\n",
    "\n",
    "**What you need to remember**:\n",
    "- Run your cells using SHIFT+ENTER (or \"Run cell\")\n",
    "- Write code in the designated areas ### START CODE HERE ### and ### END CODE HERE ###\n",
    "- Do not modify the code outside of the designated areas"
   ]
  },
  {
   "cell_type": "markdown",
   "metadata": {
    "deletable": false,
    "editable": false,
    "nbgrader": {
     "cell_type": "markdown",
     "checksum": "607429438dc93f5e7a748287ceaedfce",
     "grade": false,
     "grade_id": "cell-f10f6e04be944626",
     "locked": true,
     "schema_version": 3,
     "solution": false
    }
   },
   "source": [
    "# Introduction\n",
    "\n",
    "\n",
    "In this notebook there will be a few questions on the following topics:\n",
    "1. Asking questions.\n",
    "2. Correlation\n",
    "\n",
    "Note that since this is just the introduction the code will be filled in for you and there will be a few conceptual questions.\n",
    "Let's start from importing some useful packages."
   ]
  },
  {
   "cell_type": "code",
   "execution_count": 20,
   "metadata": {
    "deletable": false,
    "editable": false,
    "nbgrader": {
     "cell_type": "code",
     "checksum": "cfc7deb992b9215719d3b0d7e58f9130",
     "grade": false,
     "grade_id": "cell-18ba8406ca035b14",
     "locked": true,
     "schema_version": 3,
     "solution": false
    }
   },
   "outputs": [],
   "source": [
    "import numpy as np\n",
    "import pandas as pd\n",
    "import matplotlib.pyplot as plt\n",
    "import seaborn as sns\n",
    "%matplotlib inline"
   ]
  },
  {
   "cell_type": "markdown",
   "metadata": {
    "deletable": false,
    "editable": false,
    "nbgrader": {
     "cell_type": "markdown",
     "checksum": "bc76022a3066359ef512b61608568406",
     "grade": false,
     "grade_id": "cell-fa9fb79c042b38c8",
     "locked": true,
     "schema_version": 3,
     "solution": false
    }
   },
   "source": [
    "## Asking questions\n",
    "\n",
    "We load the dataset cars_dist.csv which we already saw in the Introduction notebook and display the first 2 entries. (Remember that the dataset contains braking distances of cars and their speeds before initiating the brake). Run the cell below to load the dataset."
   ]
  },
  {
   "cell_type": "code",
   "execution_count": 21,
   "metadata": {
    "deletable": false,
    "editable": false,
    "nbgrader": {
     "cell_type": "code",
     "checksum": "3ad19707dbaf86c10ab195fc2174baf4",
     "grade": false,
     "grade_id": "cell-282d3f0cb0d1d366",
     "locked": true,
     "schema_version": 3,
     "solution": false
    }
   },
   "outputs": [
    {
     "data": {
      "text/html": [
       "<div>\n",
       "<style scoped>\n",
       "    .dataframe tbody tr th:only-of-type {\n",
       "        vertical-align: middle;\n",
       "    }\n",
       "\n",
       "    .dataframe tbody tr th {\n",
       "        vertical-align: top;\n",
       "    }\n",
       "\n",
       "    .dataframe thead th {\n",
       "        text-align: right;\n",
       "    }\n",
       "</style>\n",
       "<table border=\"1\" class=\"dataframe\">\n",
       "  <thead>\n",
       "    <tr style=\"text-align: right;\">\n",
       "      <th></th>\n",
       "      <th>Unnamed: 0</th>\n",
       "      <th>speed</th>\n",
       "      <th>dist</th>\n",
       "    </tr>\n",
       "  </thead>\n",
       "  <tbody>\n",
       "    <tr>\n",
       "      <td>0</td>\n",
       "      <td>1</td>\n",
       "      <td>4</td>\n",
       "      <td>2</td>\n",
       "    </tr>\n",
       "    <tr>\n",
       "      <td>1</td>\n",
       "      <td>2</td>\n",
       "      <td>4</td>\n",
       "      <td>10</td>\n",
       "    </tr>\n",
       "  </tbody>\n",
       "</table>\n",
       "</div>"
      ],
      "text/plain": [
       "   Unnamed: 0  speed  dist\n",
       "0           1      4     2\n",
       "1           2      4    10"
      ]
     },
     "execution_count": 21,
     "metadata": {},
     "output_type": "execute_result"
    }
   ],
   "source": [
    "cars = pd.read_csv('/home/jovyan/Data/cars_dist.csv')\n",
    "cars.head(2)"
   ]
  },
  {
   "cell_type": "markdown",
   "metadata": {
    "deletable": false,
    "editable": false,
    "nbgrader": {
     "cell_type": "markdown",
     "checksum": "87cbd54313bf2d6fd0124a849ec3e77a",
     "grade": false,
     "grade_id": "cell-689d2723c491a26d",
     "locked": true,
     "schema_version": 3,
     "solution": false
    }
   },
   "source": [
    "### Q1 (multiple choice):\n",
    "Which of the following could be a relevant question to ask based on this data: \n",
    "\n",
    "1. What fuel-type is the best choice for high speed?\n",
    "2. What brand of car has the shortest braking distance?\n",
    "3. Is speed and braking distance correlated?\n",
    "4. How long is the braking distance when traveling at 20 km/h? *(Note that if this is your main interest you should also think about if your data is in the right form, i.e. is the speed-feature given in km/h or perhaps mph?)*"
   ]
  },
  {
   "cell_type": "code",
   "execution_count": 24,
   "metadata": {
    "deletable": false,
    "nbgrader": {
     "cell_type": "code",
     "checksum": "2cacda9ff2af55a46cc7f225744ddba6",
     "grade": false,
     "grade_id": "ch1_q1",
     "locked": false,
     "schema_version": 3,
     "solution": true
    }
   },
   "outputs": [],
   "source": [
    "# Fill in the number corresponding to your answer inside the brackets: Q1_answer = [5,6]\n",
    "\n",
    "### START ANSWER HERE ###\n",
    "Q1_answer = [3,4]\n",
    "### END ANSWER HERE ###"
   ]
  },
  {
   "cell_type": "code",
   "execution_count": 25,
   "metadata": {
    "deletable": false,
    "editable": false,
    "hideCode": true,
    "nbgrader": {
     "cell_type": "code",
     "checksum": "382e78cd2ad200d20f43ca8d11f187cf",
     "grade": false,
     "grade_id": "cell-27cfc325d9d67c9b",
     "locked": true,
     "schema_version": 3,
     "solution": false,
     "task": false
    },
    "selfTest": true
   },
   "outputs": [
    {
     "name": "stdout",
     "output_type": "stream",
     "text": [
      "Correct!\n"
     ]
    }
   ],
   "source": [
    "import hashlib\n",
    "_myhash = lambda x: hashlib.md5(str(x).encode()).hexdigest()\n",
    "if _myhash(set(Q1_answer)) != '1d919a653870c713cf8bd17b9c9c65ee':\n",
    "    print('Not correct! Please, try again!')\n",
    "else:\n",
    "    print('Correct!')"
   ]
  },
  {
   "cell_type": "code",
   "execution_count": null,
   "metadata": {
    "deletable": false,
    "editable": false,
    "hideCode": true,
    "nbgrader": {
     "cell_type": "code",
     "checksum": "1d6676b9abe485f3db51aecfdbfffbef",
     "grade": true,
     "grade_id": "ch1_q1_test",
     "locked": true,
     "points": 1,
     "schema_version": 3,
     "solution": false
    }
   },
   "outputs": [],
   "source": []
  },
  {
   "cell_type": "markdown",
   "metadata": {
    "deletable": false,
    "editable": false,
    "nbgrader": {
     "cell_type": "markdown",
     "checksum": "fc3a095920f438d2c69be127030b43b6",
     "grade": false,
     "grade_id": "cell-d33d236e9d257f70",
     "locked": true,
     "schema_version": 3,
     "solution": false
    }
   },
   "source": [
    "## Correlation\n",
    "\n",
    "We will examine the correlation of the data in a few different ways and then your task is to examine the correlation between the features.\n",
    "\n",
    "Check out the data with pairplot (not recommeded if you have many features!)."
   ]
  },
  {
   "cell_type": "code",
   "execution_count": 9,
   "metadata": {
    "deletable": false,
    "editable": false,
    "nbgrader": {
     "cell_type": "code",
     "checksum": "d67b0f36cd1a29d3b49146a2c93a7e65",
     "grade": false,
     "grade_id": "cell-34b1a9428bb0ee75",
     "locked": true,
     "schema_version": 3,
     "solution": false
    }
   },
   "outputs": [
    {
     "data": {
      "text/plain": [
       "<seaborn.axisgrid.PairGrid at 0x7f3b5476e048>"
      ]
     },
     "execution_count": 9,
     "metadata": {},
     "output_type": "execute_result"
    },
    {
     "data": {
      "image/png": "[encoded data removed]",
      "text/plain": [
       "<Figure size 540x540 with 12 Axes>"
      ]
     },
     "metadata": {
      "needs_background": "light"
     },
     "output_type": "display_data"
    }
   ],
   "source": [
    "sns.pairplot(cars)"
   ]
  },
  {
   "cell_type": "markdown",
   "metadata": {
    "deletable": false,
    "editable": false,
    "locked": true,
    "nbgrader": {
     "cell_type": "markdown",
     "checksum": "3740940129a5352cec00c9b863b49b19",
     "grade": false,
     "grade_id": "cell-f11114345d2d6948",
     "locked": true,
     "schema_version": 3,
     "solution": false,
     "task": false
    }
   },
   "source": [
    "To check correlation you could also check the actual correlation matrix."
   ]
  },
  {
   "cell_type": "code",
   "execution_count": 10,
   "metadata": {
    "deletable": false,
    "editable": false,
    "nbgrader": {
     "cell_type": "code",
     "checksum": "a41ab47a18399d62115930d339d2e486",
     "grade": false,
     "grade_id": "cell-ace348548658de79",
     "locked": true,
     "schema_version": 3,
     "solution": false
    }
   },
   "outputs": [
    {
     "data": {
      "text/html": [
       "<div>\n",
       "<style scoped>\n",
       "    .dataframe tbody tr th:only-of-type {\n",
       "        vertical-align: middle;\n",
       "    }\n",
       "\n",
       "    .dataframe tbody tr th {\n",
       "        vertical-align: top;\n",
       "    }\n",
       "\n",
       "    .dataframe thead th {\n",
       "        text-align: right;\n",
       "    }\n",
       "</style>\n",
       "<table border=\"1\" class=\"dataframe\">\n",
       "  <thead>\n",
       "    <tr style=\"text-align: right;\">\n",
       "      <th></th>\n",
       "      <th>Unnamed: 0</th>\n",
       "      <th>speed</th>\n",
       "      <th>dist</th>\n",
       "    </tr>\n",
       "  </thead>\n",
       "  <tbody>\n",
       "    <tr>\n",
       "      <td>Unnamed: 0</td>\n",
       "      <td>1.000000</td>\n",
       "      <td>0.985459</td>\n",
       "      <td>0.817658</td>\n",
       "    </tr>\n",
       "    <tr>\n",
       "      <td>speed</td>\n",
       "      <td>0.985459</td>\n",
       "      <td>1.000000</td>\n",
       "      <td>0.806895</td>\n",
       "    </tr>\n",
       "    <tr>\n",
       "      <td>dist</td>\n",
       "      <td>0.817658</td>\n",
       "      <td>0.806895</td>\n",
       "      <td>1.000000</td>\n",
       "    </tr>\n",
       "  </tbody>\n",
       "</table>\n",
       "</div>"
      ],
      "text/plain": [
       "            Unnamed: 0     speed      dist\n",
       "Unnamed: 0    1.000000  0.985459  0.817658\n",
       "speed         0.985459  1.000000  0.806895\n",
       "dist          0.817658  0.806895  1.000000"
      ]
     },
     "execution_count": 10,
     "metadata": {},
     "output_type": "execute_result"
    }
   ],
   "source": [
    "cars.corr()"
   ]
  },
  {
   "cell_type": "markdown",
   "metadata": {
    "deletable": false,
    "editable": false,
    "locked": true,
    "nbgrader": {
     "cell_type": "markdown",
     "checksum": "f63f2bea6c72d90edeb499e451ba823c",
     "grade": false,
     "grade_id": "cell-dc3cbc1c0547e34c",
     "locked": true,
     "schema_version": 3,
     "solution": false,
     "task": false
    }
   },
   "source": [
    "Or if you like colors over numbers you can do a heatplot of the correlation matrix."
   ]
  },
  {
   "cell_type": "code",
   "execution_count": 11,
   "metadata": {
    "deletable": false,
    "editable": false,
    "nbgrader": {
     "cell_type": "code",
     "checksum": "c778f529f5d27749a943e086ba71ab8c",
     "grade": false,
     "grade_id": "cell-1fa5a968c3a14989",
     "locked": true,
     "schema_version": 3,
     "solution": false
    }
   },
   "outputs": [
    {
     "data": {
      "text/plain": [
       "<matplotlib.axes._subplots.AxesSubplot at 0x7f3b4cb2cf60>"
      ]
     },
     "execution_count": 11,
     "metadata": {},
     "output_type": "execute_result"
    },
    {
     "data": {
      "image/png": "[encoded data removed]",
      "text/plain": [
       "<Figure size 432x288 with 2 Axes>"
      ]
     },
     "metadata": {
      "needs_background": "light"
     },
     "output_type": "display_data"
    }
   ],
   "source": [
    "sns.heatmap(cars.corr())"
   ]
  },
  {
   "cell_type": "markdown",
   "metadata": {
    "deletable": false,
    "editable": false,
    "nbgrader": {
     "cell_type": "markdown",
     "checksum": "abde9f72318150d084b70d6eab06098d",
     "grade": false,
     "grade_id": "cell-8fd2dd753fc4c9c2",
     "locked": true,
     "schema_version": 3,
     "solution": false
    }
   },
   "source": [
    "### Q2:\n",
    "By just looking at this, which two features seems to be most correlated? (That the features are perfectly correlated to them selfes does not count)\n",
    "\n",
    "We will number the features as follows:\n",
    "1. = 'Unnamed:0'\n",
    "2. = 'speed'\n",
    "3. = 'dist'"
   ]
  },
  {
   "cell_type": "code",
   "execution_count": 26,
   "metadata": {
    "deletable": false,
    "hideCode": false,
    "nbgrader": {
     "cell_type": "code",
     "checksum": "498eb39a559c4d6e5f5e6757a4beccec",
     "grade": false,
     "grade_id": "ch1_q2",
     "locked": false,
     "schema_version": 3,
     "solution": true
    }
   },
   "outputs": [],
   "source": [
    "# Fill in the number corresponding to your answer inside the brackets: Q2_answer = [5,6]\n",
    "\n",
    "### START ANSWER HERE ###\n",
    "Q2_answer = [1,2]\n",
    "### END ANSWER HERE ###"
   ]
  },
  {
   "cell_type": "code",
   "execution_count": 27,
   "metadata": {
    "deletable": false,
    "editable": false,
    "hideCode": true,
    "nbgrader": {
     "cell_type": "code",
     "checksum": "146e032360bd5e79e178802a87f725de",
     "grade": false,
     "grade_id": "cell-e8de121898e2d5d1",
     "locked": true,
     "schema_version": 3,
     "solution": false,
     "task": false
    },
    "selfTest": true
   },
   "outputs": [
    {
     "name": "stdout",
     "output_type": "stream",
     "text": [
      "Correct!\n"
     ]
    }
   ],
   "source": [
    "import hashlib\n",
    "_myhash = lambda x: hashlib.md5(str(x).encode()).hexdigest()\n",
    "if _myhash(set(Q2_answer)) == '190cda75e2bd9dc669b09abe9f1131c5':\n",
    "    print('Correct!')\n",
    "else:\n",
    "    print('Not correct! Please try again!')"
   ]
  },
  {
   "cell_type": "code",
   "execution_count": null,
   "metadata": {
    "deletable": false,
    "editable": false,
    "hideCode": true,
    "nbgrader": {
     "cell_type": "code",
     "checksum": "8f64894a32ee2ba1937c5440cfef0db5",
     "grade": true,
     "grade_id": "ch1_q2_test",
     "locked": true,
     "points": 1,
     "schema_version": 3,
     "solution": false
    }
   },
   "outputs": [],
   "source": []
  },
  {
   "cell_type": "markdown",
   "metadata": {
    "deletable": false,
    "editable": false,
    "nbgrader": {
     "cell_type": "markdown",
     "checksum": "5d1982821852fc6423e2d76298cb8b89",
     "grade": false,
     "grade_id": "cell-e11977466df0995c",
     "locked": true,
     "schema_version": 3,
     "solution": false
    }
   },
   "source": [
    "Now, have another look at the data to understand the correlations more."
   ]
  },
  {
   "cell_type": "code",
   "execution_count": null,
   "metadata": {
    "deletable": false,
    "editable": false,
    "nbgrader": {
     "cell_type": "code",
     "checksum": "fad4579b2ec8f72e8e0a53c9558e4b34",
     "grade": false,
     "grade_id": "cell-03751884a7fd1ae0",
     "locked": true,
     "schema_version": 3,
     "solution": false
    }
   },
   "outputs": [],
   "source": [
    "cars.head(10)"
   ]
  },
  {
   "cell_type": "markdown",
   "metadata": {
    "deletable": false,
    "editable": false,
    "nbgrader": {
     "cell_type": "markdown",
     "checksum": "f0829770f088c89da2cbf7a9660ef785",
     "grade": false,
     "grade_id": "cell-3a0f34cc5bd25fa1",
     "locked": true,
     "schema_version": 3,
     "solution": false
    }
   },
   "source": [
    "It seems the first \"feature\" is not a feature at all but should be seen as an index (if we had known this we could just import it as such) and the reason it is correlated to the other columns is that the dataset is sorted, hence there is reason to be careful with such things. "
   ]
  },
  {
   "cell_type": "markdown",
   "metadata": {
    "deletable": false,
    "editable": false,
    "nbgrader": {
     "cell_type": "markdown",
     "checksum": "ca3bc8463e13238afdbd4bdeea84e996",
     "grade": false,
     "grade_id": "cell-ee3b3932c6e58778",
     "locked": true,
     "schema_version": 3,
     "solution": false
    }
   },
   "source": [
    "# Good job! "
   ]
  }
 ],
 "metadata": {
  "kernelspec": {
   "display_name": "Python 3",
   "language": "python",
   "name": "python3"
  },
  "language_info": {
   "codemirror_mode": {
    "name": "ipython",
    "version": 3
   },
   "file_extension": ".py",
   "mimetype": "text/x-python",
   "name": "python",
   "nbconvert_exporter": "python",
   "pygments_lexer": "ipython3",
   "version": "3.7.3"
  }
 },
 "nbformat": 4,
 "nbformat_minor": 2
}
