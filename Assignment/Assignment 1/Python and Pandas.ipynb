{
 "cells": [
  {
   "cell_type": "markdown",
   "metadata": {
    "deletable": false,
    "editable": false,
    "nbgrader": {
     "cell_type": "markdown",
     "checksum": "10175a7dfaac1b5f6bf51e44b0c260f2",
     "grade": false,
     "grade_id": "cell-bc2840e09156ba98",
     "locked": true,
     "schema_version": 3,
     "solution": false,
     "task": false
    }
   },
   "source": [
    "<center>\n",
    "    <img style=\"float: left;\" src=\"Mix_colour.png\" width=\"200\"></img>\n",
    "</center>\n",
    "\n",
    "<br/><br/>\n",
    "<br/><br/>\n",
    "\n",
    "# Python and ``pandas``.\n",
    "\n",
    "In this notebook you will practice your Python skills and will start using ``pandas`` to work with data.\n",
    "\n",
    "## Data\n",
    "\n",
    "Within this notebook you will work with the dataset ``temperatures.csv``, similar to the one you have already seen (however not exactly the same!). Recall, that this dataset contains weather data from various meteorological stations in Sweden.\n",
    "\n",
    "### Q1:\n",
    "\n",
    "Import the library ``pandas`` using the shortcut ``pd`` and load the dataset ``temperatures.csv``.\n",
    "\n",
    "**Hints:**\n",
    "* Import the package as pd\n",
    "* Use ``temperatures_df = pd.read_csv()`` to load data from the path ''/home/jovyan/Data/temperatures.csv''"
   ]
  },
  {
   "cell_type": "code",
   "execution_count": 29,
   "metadata": {
    "deletable": false,
    "nbgrader": {
     "cell_type": "code",
     "checksum": "ec17b3054a4a6bd8a21415c7a63ca667",
     "grade": false,
     "grade_id": "cell-1df11ca2e685e032",
     "locked": false,
     "schema_version": 3,
     "solution": true,
     "task": false
    }
   },
   "outputs": [],
   "source": [
    "# (approx. 2 lines of code)\n",
    "### START ANSWER HERE ###\n",
    "import pandas as pd\n",
    "temperatures_df = pd.read_csv(\"/home/jovyan/Data/temperatures.csv\")\n",
    "### END ANSWER HERE ###"
   ]
  },
  {
   "cell_type": "code",
   "execution_count": 30,
   "metadata": {
    "deletable": false,
    "editable": false,
    "nbgrader": {
     "cell_type": "code",
     "checksum": "750ca57f0a81ba547802e100fb190c67",
     "grade": false,
     "grade_id": "cell-7ffc04002f6276f7",
     "locked": true,
     "schema_version": 3,
     "solution": false,
     "task": false
    }
   },
   "outputs": [
    {
     "data": {
      "text/html": [
       "<div>\n",
       "<style scoped>\n",
       "    .dataframe tbody tr th:only-of-type {\n",
       "        vertical-align: middle;\n",
       "    }\n",
       "\n",
       "    .dataframe tbody tr th {\n",
       "        vertical-align: top;\n",
       "    }\n",
       "\n",
       "    .dataframe thead th {\n",
       "        text-align: right;\n",
       "    }\n",
       "</style>\n",
       "<table border=\"1\" class=\"dataframe\">\n",
       "  <thead>\n",
       "    <tr style=\"text-align: right;\">\n",
       "      <th></th>\n",
       "      <th>temperature</th>\n",
       "      <th>station_name</th>\n",
       "      <th>date</th>\n",
       "      <th>time</th>\n",
       "    </tr>\n",
       "  </thead>\n",
       "  <tbody>\n",
       "    <tr>\n",
       "      <td>0</td>\n",
       "      <td>-2.4</td>\n",
       "      <td>Arjeplog A</td>\n",
       "      <td>1949-01-01</td>\n",
       "      <td>06:00:00</td>\n",
       "    </tr>\n",
       "    <tr>\n",
       "      <td>1</td>\n",
       "      <td>-3.1</td>\n",
       "      <td>Arjeplog A</td>\n",
       "      <td>1949-01-01</td>\n",
       "      <td>12:00:00</td>\n",
       "    </tr>\n",
       "    <tr>\n",
       "      <td>2</td>\n",
       "      <td>-3.2</td>\n",
       "      <td>Arjeplog A</td>\n",
       "      <td>1949-01-01</td>\n",
       "      <td>18:00:00</td>\n",
       "    </tr>\n",
       "  </tbody>\n",
       "</table>\n",
       "</div>"
      ],
      "text/plain": [
       "   temperature station_name        date      time\n",
       "0         -2.4   Arjeplog A  1949-01-01  06:00:00\n",
       "1         -3.1   Arjeplog A  1949-01-01  12:00:00\n",
       "2         -3.2   Arjeplog A  1949-01-01  18:00:00"
      ]
     },
     "execution_count": 30,
     "metadata": {},
     "output_type": "execute_result"
    }
   ],
   "source": [
    "temperatures_df.head(3)"
   ]
  },
  {
   "cell_type": "markdown",
   "metadata": {
    "deletable": false,
    "editable": false,
    "nbgrader": {
     "cell_type": "markdown",
     "checksum": "20c0ba18f4f9ddc988028a4a5257887a",
     "grade": false,
     "grade_id": "cell-2be284e1ac1ca229",
     "locked": true,
     "schema_version": 3,
     "solution": false,
     "task": false
    }
   },
   "source": [
    "**Expected Output**: \n",
    "<table style = \"width:40%\">\n",
    "    <tr>\n",
    "    <td>temperature</td> \n",
    "    <td>station_name </td> \n",
    "    <td>date </td> \n",
    "    <td>time </td> \n",
    "    </tr>\n",
    "    <tr>\n",
    "    <td>-2.4</td> \n",
    "    <td>Arjeplog A </td> \n",
    "    <td>1949-01-01 </td> \n",
    "    <td>06:00:00 </td> \n",
    "    </tr>\n",
    "    <tr>\n",
    "    <td>-3.1</td> \n",
    "    <td>Arjeplog A </td> \n",
    "    <td>1949-01-01 </td> \n",
    "    <td>12:00:00 </td> \n",
    "    </tr>\n",
    "    <tr>\n",
    "    <td>-3.2</td> \n",
    "    <td>Arjeplog A </td> \n",
    "    <td>1949-01-01 </td> \n",
    "    <td>08:00:00 </td> \n",
    "    </tr>\n",
    "</table>"
   ]
  },
  {
   "cell_type": "code",
   "execution_count": 31,
   "metadata": {
    "deletable": false,
    "editable": false,
    "hideCode": true,
    "nbgrader": {
     "cell_type": "code",
     "checksum": "0b47cec7a562ee94f9fca211acc8d23d",
     "grade": true,
     "grade_id": "cell-482d6a8a41ce711d",
     "locked": true,
     "points": 1,
     "schema_version": 3,
     "solution": false,
     "task": false
    }
   },
   "outputs": [],
   "source": [
    "# nbgrader cell\n"
   ]
  },
  {
   "cell_type": "markdown",
   "metadata": {
    "deletable": false,
    "editable": false,
    "nbgrader": {
     "cell_type": "markdown",
     "checksum": "b918bc6d16acb02139b2dfa29ec352b8",
     "grade": false,
     "grade_id": "cell-313e108223b04a3f",
     "locked": true,
     "schema_version": 3,
     "solution": false,
     "task": false
    }
   },
   "source": [
    "## Basic data exploration\n",
    "\n",
    "Now let's get more familiar with the dataset. As you have already seen this data contains temperatures, station names, date and time of the measurement.\n",
    "\n",
    "### Q2: \n",
    "\n",
    "Check what is the shape of the dataframe and save the number of rows and the number of columns in the variables `` num_row``  and ``num_col`` respectively.\n",
    "Use the  ``temperatures_df.shape``. Recall from the reading material, that the shape of the dataframe is returned in form of a tuple, whose elements you can access using square brackets and the index of the desired element. \n",
    "\n",
    "**Hint:**\n",
    "* Use ``num_row = temperatures_df.shape[]``, ``num_col = temperatures_df.shape[]`` with correct index in the brackets. Remember, that indexing in Python starts from 0."
   ]
  },
  {
   "cell_type": "code",
   "execution_count": 33,
   "metadata": {
    "deletable": false,
    "nbgrader": {
     "cell_type": "code",
     "checksum": "d058bf25a1149ceb42e11925d88a5f7a",
     "grade": false,
     "grade_id": "cell-91c3457b5c7aa44e",
     "locked": false,
     "schema_version": 3,
     "solution": true,
     "task": false
    }
   },
   "outputs": [
    {
     "name": "stdout",
     "output_type": "stream",
     "text": [
      "Number of rows: 1132783, number of columns: 4\n"
     ]
    }
   ],
   "source": [
    "# (approx. 2 lines of code)\n",
    "### START ANSWER HERE ###\n",
    "num_row, num_col = temperatures_df.shape\n",
    "### END ANSWER HERE ###\n",
    "\n",
    "print('Number of rows: %i, number of columns: %i' %(num_row, num_col))"
   ]
  },
  {
   "cell_type": "code",
   "execution_count": 35,
   "metadata": {
    "deletable": false,
    "editable": false,
    "hideCode": true,
    "nbgrader": {
     "cell_type": "code",
     "checksum": "09413e252586a42c3ea0cdc5fadaedb1",
     "grade": false,
     "grade_id": "cell-332d02d1aab5c1f8",
     "locked": true,
     "schema_version": 3,
     "solution": false,
     "task": false
    },
    "selfTest": true
   },
   "outputs": [
    {
     "name": "stdout",
     "output_type": "stream",
     "text": [
      "Correct!\n"
     ]
    }
   ],
   "source": [
    "import hashlib\n",
    "from scipy.stats import ttest_ind\n",
    "_myhash = lambda x: hashlib.md5(str(x).encode()).hexdigest()\n",
    "if _myhash(num_row)!='d1667eab5d9d1be8c378f1a5004fc2d2':\n",
    "    print('Not correct! Please try again!')\n",
    "elif _myhash(num_col)!='a87ff679a2f3e71d9181a67b7542122c':\n",
    "    print('Not correct! Please try again!')\n",
    "else:\n",
    "    print('Correct!')"
   ]
  },
  {
   "cell_type": "code",
   "execution_count": 36,
   "metadata": {
    "deletable": false,
    "editable": false,
    "hideCode": true,
    "nbgrader": {
     "cell_type": "code",
     "checksum": "c360d6747cd7c059ef77ceea8c27da89",
     "grade": true,
     "grade_id": "cell-c9cd543782b97dc5",
     "locked": true,
     "points": 1,
     "schema_version": 3,
     "solution": false,
     "task": false
    }
   },
   "outputs": [],
   "source": [
    "# nbgrader cell\n"
   ]
  },
  {
   "cell_type": "markdown",
   "metadata": {
    "deletable": false,
    "editable": false,
    "nbgrader": {
     "cell_type": "markdown",
     "checksum": "c447bc2c411eb7a7b14848c6d8e881f1",
     "grade": false,
     "grade_id": "cell-004c0ebf4dd48312",
     "locked": true,
     "schema_version": 3,
     "solution": false,
     "task": false
    }
   },
   "source": [
    "Now we want to output summary about the dataframe. First, let's look into the information about index, types of the columns and memory usage."
   ]
  },
  {
   "cell_type": "code",
   "execution_count": 37,
   "metadata": {
    "deletable": false,
    "editable": false,
    "nbgrader": {
     "cell_type": "code",
     "checksum": "d3043dab8b391a405837df839ed1fa3d",
     "grade": false,
     "grade_id": "cell-d1e230b116b0972f",
     "locked": true,
     "schema_version": 3,
     "solution": false,
     "task": false
    }
   },
   "outputs": [
    {
     "name": "stdout",
     "output_type": "stream",
     "text": [
      "<class 'pandas.core.frame.DataFrame'>\n",
      "RangeIndex: 1132783 entries, 0 to 1132782\n",
      "Data columns (total 4 columns):\n",
      "temperature     1132783 non-null float64\n",
      "station_name    1132783 non-null object\n",
      "date            1132783 non-null object\n",
      "time            1132783 non-null object\n",
      "dtypes: float64(1), object(3)\n",
      "memory usage: 34.6+ MB\n"
     ]
    }
   ],
   "source": [
    "temperatures_df.info()"
   ]
  },
  {
   "cell_type": "markdown",
   "metadata": {
    "deletable": false,
    "editable": false,
    "nbgrader": {
     "cell_type": "markdown",
     "checksum": "50bd42118887e65d97f3b923e57dcbe5",
     "grade": false,
     "grade_id": "cell-a6d2957f19880f1f",
     "locked": true,
     "schema_version": 3,
     "solution": false,
     "task": false
    }
   },
   "source": [
    "As you see above we have only one numerical column. Let's get descriptive statistics for that column."
   ]
  },
  {
   "cell_type": "code",
   "execution_count": 38,
   "metadata": {
    "deletable": false,
    "editable": false,
    "nbgrader": {
     "cell_type": "code",
     "checksum": "9332e19217ba5cc0857352a8a7fbe1d8",
     "grade": false,
     "grade_id": "cell-eb3d1cc06d029cd0",
     "locked": true,
     "schema_version": 3,
     "solution": false,
     "task": false
    }
   },
   "outputs": [
    {
     "data": {
      "text/plain": [
       "count    1.132783e+06\n",
       "mean     5.972029e+00\n",
       "std      8.948195e+00\n",
       "min     -4.300000e+01\n",
       "25%      4.000000e-01\n",
       "50%      5.800000e+00\n",
       "75%      1.300000e+01\n",
       "max      3.730000e+01\n",
       "Name: temperature, dtype: float64"
      ]
     },
     "execution_count": 38,
     "metadata": {},
     "output_type": "execute_result"
    }
   ],
   "source": [
    "temperatures_df['temperature'].describe()"
   ]
  },
  {
   "cell_type": "markdown",
   "metadata": {
    "deletable": false,
    "editable": false,
    "nbgrader": {
     "cell_type": "markdown",
     "checksum": "66991d3405519ac6adddc55d256c0cfd",
     "grade": false,
     "grade_id": "cell-445e8631aee5aa52",
     "locked": true,
     "schema_version": 3,
     "solution": false,
     "task": false
    }
   },
   "source": [
    "Note that we also could use ``temperatures_df.describe()``.\n",
    "\n",
    "In this case we would get the same result, however if our data contained more than one numerical column, we would get descriptive statistics for all of them. \n",
    "\n",
    "***\n",
    "\n",
    "As you might have noticed the temperatures dataset we used in Chapter 1 was a bit different. Thus, let's repeat some basic data exploration for extended dataset and see, if we get any different results. \n",
    "\n",
    "First question we want to get the answer to is how many weather stations are in the data?\n",
    "\n",
    "### Q3:\n",
    "\n",
    "In the cell below there is the code that uses a basic Python method in order to count the number of different stations in the column ``station_name``. This code contains several mistakes and won't work the way it is written. Please, correct the mistakes and run the code.\n",
    "\n",
    "**Hint:**\n",
    "\n",
    "Recall what kind of possible mistakes we discussed in the reading material. Check the variables names, ``for``-loop syntax, ``if``-statement syntax, indentations, lists in Python. \n",
    "\n",
    "When you will run the cell with mistakes you will get error messages. Check them! Even though sometimes these messages are not very clear, they can be very useful for debugging your code.\n",
    "\n",
    "**Important note!**\n",
    "\n",
    "In the cell below you will see ### START CODE HERE ### and ### END CODE HERE ### flags. These are dummies that are made in order to allow you to make changes in this cell. Don't worry about these flags. In this particular question you don't need to write any code between them."
   ]
  },
  {
   "cell_type": "code",
   "execution_count": 39,
   "metadata": {
    "deletable": false,
    "nbgrader": {
     "cell_type": "code",
     "checksum": "15754cd4ad2353708f1c5fe3dbb896c7",
     "grade": false,
     "grade_id": "cell-13a541d2b0cbe91a",
     "locked": false,
     "schema_version": 3,
     "solution": true,
     "task": false
    }
   },
   "outputs": [
    {
     "name": "stdout",
     "output_type": "stream",
     "text": [
      "CPU times: user 460 ms, sys: 385 µs, total: 460 ms\n",
      "Wall time: 457 ms\n"
     ]
    }
   ],
   "source": [
    "%%time\n",
    "### START ANSWER HERE ###\n",
    "### END ANSWER HERE ###\n",
    "\n",
    "counter = 0\n",
    "stations = []\n",
    "for station_name in temperatures_df['station_name']:\n",
    "    if station_name not in stations:\n",
    "        counter = counter + 1\n",
    "        stations.append(station_name)"
   ]
  },
  {
   "cell_type": "code",
   "execution_count": 40,
   "metadata": {
    "deletable": false,
    "editable": false,
    "hideCode": false,
    "nbgrader": {
     "cell_type": "code",
     "checksum": "228e4ee56087f3e347d46aad78dca748",
     "grade": false,
     "grade_id": "cell-14ab3262258a37f4",
     "locked": true,
     "schema_version": 3,
     "solution": false,
     "task": false
    }
   },
   "outputs": [
    {
     "data": {
      "text/plain": [
       "40"
      ]
     },
     "execution_count": 40,
     "metadata": {},
     "output_type": "execute_result"
    }
   ],
   "source": [
    "counter"
   ]
  },
  {
   "cell_type": "markdown",
   "metadata": {
    "deletable": false,
    "editable": false,
    "nbgrader": {
     "cell_type": "markdown",
     "checksum": "5b3ac92f50b6979bf776b2b7f4f5626a",
     "grade": false,
     "grade_id": "cell-46bd1bb3f37a00a9",
     "locked": true,
     "schema_version": 3,
     "solution": false,
     "task": false
    }
   },
   "source": [
    "Compare this number with the number of various stations we get using ``pandas`` functionality, you should get the same result. \n",
    "\n",
    "Note how much faster it works than the previous method!"
   ]
  },
  {
   "cell_type": "code",
   "execution_count": 41,
   "metadata": {
    "deletable": false,
    "editable": false,
    "nbgrader": {
     "cell_type": "code",
     "checksum": "be1cc6ae0418c02aefd261dcb96fbfe9",
     "grade": false,
     "grade_id": "cell-bbafd3d1f57242fb",
     "locked": true,
     "schema_version": 3,
     "solution": false,
     "task": false
    }
   },
   "outputs": [
    {
     "name": "stdout",
     "output_type": "stream",
     "text": [
      "CPU times: user 46.4 ms, sys: 5.01 ms, total: 51.5 ms\n",
      "Wall time: 48.2 ms\n"
     ]
    },
    {
     "data": {
      "text/plain": [
       "40"
      ]
     },
     "execution_count": 41,
     "metadata": {},
     "output_type": "execute_result"
    }
   ],
   "source": [
    "%%time\n",
    "temperatures_df['station_name'].nunique()"
   ]
  },
  {
   "cell_type": "code",
   "execution_count": 42,
   "metadata": {
    "deletable": false,
    "editable": false,
    "hideCode": true,
    "nbgrader": {
     "cell_type": "code",
     "checksum": "61cb4b2281e4e13931936b026824a26f",
     "grade": true,
     "grade_id": "cell-45be2361e04b2ef2",
     "locked": true,
     "points": 3,
     "schema_version": 3,
     "solution": false,
     "task": false
    }
   },
   "outputs": [],
   "source": [
    "# nbgrader cell\n"
   ]
  },
  {
   "cell_type": "markdown",
   "metadata": {
    "deletable": false,
    "editable": false,
    "nbgrader": {
     "cell_type": "markdown",
     "checksum": "5a98f047841230ae41b7782886e1e8dc",
     "grade": false,
     "grade_id": "cell-ea55cd999a321296",
     "locked": true,
     "schema_version": 3,
     "solution": false,
     "task": false
    }
   },
   "source": [
    "## Work with dates\n",
    "\n",
    "Our dataset contains two string columns to store date and time of the observation. Let's convert them to one column of the type ``datetime``. We will call this column with the same name \"datetime\". After creating a new column we want to get rid of the old date and time columns since we don't need them anymore. Look to the code below. Executing of the cell might take some time since the dataset is quite large."
   ]
  },
  {
   "cell_type": "code",
   "execution_count": 43,
   "metadata": {
    "deletable": false,
    "editable": false,
    "nbgrader": {
     "cell_type": "code",
     "checksum": "dd308c6b2219ce72524bc3b2da1fef06",
     "grade": false,
     "grade_id": "cell-e94e506fb693be40",
     "locked": true,
     "schema_version": 3,
     "solution": false,
     "task": false
    }
   },
   "outputs": [],
   "source": [
    "temperatures_df['datetime'] = pd.to_datetime(temperatures_df['date']+' '+temperatures_df['time'])\n",
    "temperatures_df = temperatures_df.drop(['date','time'], axis=1)"
   ]
  },
  {
   "cell_type": "code",
   "execution_count": 44,
   "metadata": {
    "deletable": false,
    "editable": false,
    "nbgrader": {
     "cell_type": "code",
     "checksum": "685733e7002f07dbed2e32c2a28a0cc4",
     "grade": false,
     "grade_id": "cell-80ee54d2787cc585",
     "locked": true,
     "schema_version": 3,
     "solution": false,
     "task": false
    }
   },
   "outputs": [
    {
     "data": {
      "text/html": [
       "<div>\n",
       "<style scoped>\n",
       "    .dataframe tbody tr th:only-of-type {\n",
       "        vertical-align: middle;\n",
       "    }\n",
       "\n",
       "    .dataframe tbody tr th {\n",
       "        vertical-align: top;\n",
       "    }\n",
       "\n",
       "    .dataframe thead th {\n",
       "        text-align: right;\n",
       "    }\n",
       "</style>\n",
       "<table border=\"1\" class=\"dataframe\">\n",
       "  <thead>\n",
       "    <tr style=\"text-align: right;\">\n",
       "      <th></th>\n",
       "      <th>temperature</th>\n",
       "      <th>station_name</th>\n",
       "      <th>datetime</th>\n",
       "    </tr>\n",
       "  </thead>\n",
       "  <tbody>\n",
       "    <tr>\n",
       "      <td>0</td>\n",
       "      <td>-2.4</td>\n",
       "      <td>Arjeplog A</td>\n",
       "      <td>1949-01-01 06:00:00</td>\n",
       "    </tr>\n",
       "    <tr>\n",
       "      <td>1</td>\n",
       "      <td>-3.1</td>\n",
       "      <td>Arjeplog A</td>\n",
       "      <td>1949-01-01 12:00:00</td>\n",
       "    </tr>\n",
       "    <tr>\n",
       "      <td>2</td>\n",
       "      <td>-3.2</td>\n",
       "      <td>Arjeplog A</td>\n",
       "      <td>1949-01-01 18:00:00</td>\n",
       "    </tr>\n",
       "    <tr>\n",
       "      <td>3</td>\n",
       "      <td>-2.3</td>\n",
       "      <td>Arjeplog A</td>\n",
       "      <td>1949-01-02 06:00:00</td>\n",
       "    </tr>\n",
       "    <tr>\n",
       "      <td>4</td>\n",
       "      <td>-0.6</td>\n",
       "      <td>Arjeplog A</td>\n",
       "      <td>1949-01-02 12:00:00</td>\n",
       "    </tr>\n",
       "  </tbody>\n",
       "</table>\n",
       "</div>"
      ],
      "text/plain": [
       "   temperature station_name            datetime\n",
       "0         -2.4   Arjeplog A 1949-01-01 06:00:00\n",
       "1         -3.1   Arjeplog A 1949-01-01 12:00:00\n",
       "2         -3.2   Arjeplog A 1949-01-01 18:00:00\n",
       "3         -2.3   Arjeplog A 1949-01-02 06:00:00\n",
       "4         -0.6   Arjeplog A 1949-01-02 12:00:00"
      ]
     },
     "execution_count": 44,
     "metadata": {},
     "output_type": "execute_result"
    }
   ],
   "source": [
    "temperatures_df.head(5)"
   ]
  },
  {
   "cell_type": "markdown",
   "metadata": {
    "deletable": false,
    "editable": false,
    "nbgrader": {
     "cell_type": "markdown",
     "checksum": "5f5dfe791d063f189622fd8bc97adad7",
     "grade": false,
     "grade_id": "cell-370125d7cac14c90",
     "locked": true,
     "schema_version": 3,
     "solution": false,
     "task": false
    }
   },
   "source": [
    "### Q4:\n",
    "\n",
    "During which period data was collected? \n",
    "\n",
    "**Hints:**\n",
    "* use ``.min()`` and ``.max()`` methods of the dataframe for the column ``datetime``\n",
    "* store the result in variables ``first_date`` and ``last_date``"
   ]
  },
  {
   "cell_type": "code",
   "execution_count": 45,
   "metadata": {
    "deletable": false,
    "nbgrader": {
     "cell_type": "code",
     "checksum": "8da5ea0c4c759bf3f9f0aa0e088bdb9f",
     "grade": false,
     "grade_id": "cell-c65bb881b0203ca5",
     "locked": false,
     "schema_version": 3,
     "solution": true,
     "task": false
    }
   },
   "outputs": [
    {
     "name": "stdout",
     "output_type": "stream",
     "text": [
      "1848-06-05 05:00:00\n",
      "1949-12-31 21:00:00\n"
     ]
    }
   ],
   "source": [
    "# (approx. 2 lines of code)\n",
    "### START ANSWER HERE ###\n",
    "first_date = temperatures_df['datetime'].min()\n",
    "last_date = temperatures_df['datetime'].max()\n",
    "### END ANSWER HERE ###\n",
    "\n",
    "print(first_date)\n",
    "print(last_date)"
   ]
  },
  {
   "cell_type": "markdown",
   "metadata": {
    "deletable": false,
    "editable": false,
    "nbgrader": {
     "cell_type": "markdown",
     "checksum": "13ef97442f7d1d0a7866531c183ffa92",
     "grade": false,
     "grade_id": "cell-2d0d665fa27c6278",
     "locked": true,
     "schema_version": 3,
     "solution": false,
     "task": false
    }
   },
   "source": [
    "**Expected Output**: \n",
    "<table style = \"width:40%\">\n",
    "    <tr>\n",
    "    <td>1848-06-05</td> \n",
    "    <td>05:00:00 </td> \n",
    "   </tr>\n",
    "    <tr>\n",
    "    <td>1949-12-31</td> \n",
    "    <td>21:00:00 </td> \n",
    "   </tr>\n",
    "</table>"
   ]
  },
  {
   "cell_type": "code",
   "execution_count": null,
   "metadata": {
    "deletable": false,
    "editable": false,
    "hideCode": true,
    "nbgrader": {
     "cell_type": "code",
     "checksum": "23e6cdbed60a2e0de0ba0ac37adfc5f6",
     "grade": true,
     "grade_id": "cell-6afc4953d434afc0",
     "locked": true,
     "points": 1,
     "schema_version": 3,
     "solution": false,
     "task": false
    }
   },
   "outputs": [],
   "source": [
    "# nbgrader cell\n"
   ]
  },
  {
   "cell_type": "markdown",
   "metadata": {
    "deletable": false,
    "editable": false,
    "nbgrader": {
     "cell_type": "markdown",
     "checksum": "1dafc257dcbdcb52acb8067a60148604",
     "grade": false,
     "grade_id": "cell-e0985d8d6ed858b7",
     "locked": true,
     "schema_version": 3,
     "solution": false,
     "task": false
    }
   },
   "source": [
    "## Filter, Sort and Groupby\n",
    "\n",
    "As you have seen above, data was collected over really long time. As the last exercise in this assignment, let's see what was going on with the weather in the 19-th century. In particular, according to the dataset, how many stations existed in Sweden before 1900-01-01, what was the mean, the lowest and the highest temperatures registered at each of those stations.\n",
    "\n",
    "### Q5:\n",
    "\n",
    "We are providing the code for you to answer the above question, however this time there are some gaps we marked with  ``None`` in the code, that you need to fill in. Please read carefully the code in the cell below and fill the missing parts.\n",
    "\n",
    "**Hint:**\n",
    "\n",
    "In reading material you have seen how to split the data into groups based on some criteria and apply a function to each group independently, for example:\n",
    "```python\n",
    "temperatures_df.groupby('station_name').mean()```\n",
    "\n",
    "In this example you apply only one function (``mean()``) to the grouped data. But what if you want to apply more than one function, for example you want to get min and max values, as in our question? In this case you can use ``agg()`` function and a list of functions you want to apply as an argument of it, for instance: \n",
    "```python\n",
    "temperatures_df.groupby('station_name').agg(['min','max'])```\n",
    "\n",
    "**Important note!**\n",
    "\n",
    "In the cell below you will see ### START CODE HERE ### and ### END CODE HERE ### flags. These are dummies that are made in order to allow you to make changes in this cell. Don't worry about these flags. In this particular question you don't need to write any code between them."
   ]
  },
  {
   "cell_type": "code",
   "execution_count": 20,
   "metadata": {
    "deletable": false,
    "nbgrader": {
     "cell_type": "code",
     "checksum": "1f368debeb342833af423bf5859dea6d",
     "grade": false,
     "grade_id": "cell-aedc995ba382fd25",
     "locked": false,
     "schema_version": 3,
     "solution": true,
     "task": false
    }
   },
   "outputs": [
    {
     "name": "stdout",
     "output_type": "stream",
     "text": [
      "Number of stations:  15\n"
     ]
    },
    {
     "data": {
      "text/html": [
       "<div>\n",
       "<style scoped>\n",
       "    .dataframe tbody tr th:only-of-type {\n",
       "        vertical-align: middle;\n",
       "    }\n",
       "\n",
       "    .dataframe tbody tr th {\n",
       "        vertical-align: top;\n",
       "    }\n",
       "\n",
       "    .dataframe thead tr th {\n",
       "        text-align: left;\n",
       "    }\n",
       "\n",
       "    .dataframe thead tr:last-of-type th {\n",
       "        text-align: right;\n",
       "    }\n",
       "</style>\n",
       "<table border=\"1\" class=\"dataframe\">\n",
       "  <thead>\n",
       "    <tr>\n",
       "      <th></th>\n",
       "      <th colspan=\"3\" halign=\"left\">temperature</th>\n",
       "    </tr>\n",
       "    <tr>\n",
       "      <th></th>\n",
       "      <th>mean</th>\n",
       "      <th>min</th>\n",
       "      <th>max</th>\n",
       "    </tr>\n",
       "    <tr>\n",
       "      <th>station_name</th>\n",
       "      <th></th>\n",
       "      <th></th>\n",
       "      <th></th>\n",
       "    </tr>\n",
       "  </thead>\n",
       "  <tbody>\n",
       "    <tr>\n",
       "      <td>Borås</td>\n",
       "      <td>6.282362</td>\n",
       "      <td>-29.4</td>\n",
       "      <td>31.9</td>\n",
       "    </tr>\n",
       "    <tr>\n",
       "      <td>Falsterbo</td>\n",
       "      <td>8.190531</td>\n",
       "      <td>-19.2</td>\n",
       "      <td>26.6</td>\n",
       "    </tr>\n",
       "    <tr>\n",
       "      <td>Falun-Lugnet</td>\n",
       "      <td>4.698931</td>\n",
       "      <td>-42.0</td>\n",
       "      <td>31.0</td>\n",
       "    </tr>\n",
       "    <tr>\n",
       "      <td>Gällivare A</td>\n",
       "      <td>-1.349447</td>\n",
       "      <td>-42.0</td>\n",
       "      <td>29.0</td>\n",
       "    </tr>\n",
       "    <tr>\n",
       "      <td>Halmstad</td>\n",
       "      <td>7.770504</td>\n",
       "      <td>-21.8</td>\n",
       "      <td>31.1</td>\n",
       "    </tr>\n",
       "    <tr>\n",
       "      <td>Härnösand</td>\n",
       "      <td>4.089827</td>\n",
       "      <td>-35.1</td>\n",
       "      <td>32.4</td>\n",
       "    </tr>\n",
       "    <tr>\n",
       "      <td>Karlshamn</td>\n",
       "      <td>7.740326</td>\n",
       "      <td>-23.0</td>\n",
       "      <td>30.4</td>\n",
       "    </tr>\n",
       "    <tr>\n",
       "      <td>Kristianstad</td>\n",
       "      <td>7.706766</td>\n",
       "      <td>-24.6</td>\n",
       "      <td>30.4</td>\n",
       "    </tr>\n",
       "    <tr>\n",
       "      <td>Landsort</td>\n",
       "      <td>6.339121</td>\n",
       "      <td>-25.0</td>\n",
       "      <td>33.0</td>\n",
       "    </tr>\n",
       "    <tr>\n",
       "      <td>Lund</td>\n",
       "      <td>7.717773</td>\n",
       "      <td>-20.3</td>\n",
       "      <td>31.2</td>\n",
       "    </tr>\n",
       "    <tr>\n",
       "      <td>Piteå</td>\n",
       "      <td>2.233807</td>\n",
       "      <td>-41.0</td>\n",
       "      <td>32.1</td>\n",
       "    </tr>\n",
       "    <tr>\n",
       "      <td>Stockholm</td>\n",
       "      <td>6.221147</td>\n",
       "      <td>-25.0</td>\n",
       "      <td>32.2</td>\n",
       "    </tr>\n",
       "    <tr>\n",
       "      <td>Svenska Högarna</td>\n",
       "      <td>5.831023</td>\n",
       "      <td>-20.8</td>\n",
       "      <td>25.4</td>\n",
       "    </tr>\n",
       "    <tr>\n",
       "      <td>Ulricehamn</td>\n",
       "      <td>5.907973</td>\n",
       "      <td>-22.9</td>\n",
       "      <td>32.0</td>\n",
       "    </tr>\n",
       "    <tr>\n",
       "      <td>Vinga A</td>\n",
       "      <td>7.542838</td>\n",
       "      <td>-23.5</td>\n",
       "      <td>29.5</td>\n",
       "    </tr>\n",
       "  </tbody>\n",
       "</table>\n",
       "</div>"
      ],
      "text/plain": [
       "                temperature            \n",
       "                       mean   min   max\n",
       "station_name                           \n",
       "Borås              6.282362 -29.4  31.9\n",
       "Falsterbo          8.190531 -19.2  26.6\n",
       "Falun-Lugnet       4.698931 -42.0  31.0\n",
       "Gällivare A       -1.349447 -42.0  29.0\n",
       "Halmstad           7.770504 -21.8  31.1\n",
       "Härnösand          4.089827 -35.1  32.4\n",
       "Karlshamn          7.740326 -23.0  30.4\n",
       "Kristianstad       7.706766 -24.6  30.4\n",
       "Landsort           6.339121 -25.0  33.0\n",
       "Lund               7.717773 -20.3  31.2\n",
       "Piteå              2.233807 -41.0  32.1\n",
       "Stockholm          6.221147 -25.0  32.2\n",
       "Svenska Högarna    5.831023 -20.8  25.4\n",
       "Ulricehamn         5.907973 -22.9  32.0\n",
       "Vinga A            7.542838 -23.5  29.5"
      ]
     },
     "execution_count": 20,
     "metadata": {},
     "output_type": "execute_result"
    }
   ],
   "source": [
    "### START ANSWER HERE ###\n",
    "### END ANSWER HERE ###\n",
    "\n",
    "temperatures_df_19cent = temperatures_df[temperatures_df['datetime']<'1900-01-01']\n",
    "num_stations = temperatures_df_19cent['station_name'].nunique()\n",
    "print('Number of stations: ', num_stations)\n",
    "\n",
    "grouped_data = temperatures_df_19cent.groupby('station_name').agg(['mean', 'min', 'max'])\n",
    "grouped_data"
   ]
  },
  {
   "cell_type": "markdown",
   "metadata": {
    "deletable": false,
    "editable": false,
    "nbgrader": {
     "cell_type": "markdown",
     "checksum": "c25b2bb7af2b391817c7ef8f2c0af034",
     "grade": false,
     "grade_id": "cell-636e55280dd23652",
     "locked": true,
     "schema_version": 3,
     "solution": false,
     "task": false
    }
   },
   "source": [
    "**Expected Output**: \n",
    "<table style = \"width:40%\">\n",
    "    <tr>\n",
    "    <td>Number of stations</td> \n",
    "    <td>15 </td> \n",
    "   </tr>\n",
    "</table>\n",
    "\n",
    "***\n",
    "**First three rows of the output table:**\n",
    "<table style = \"width:40%\">\n",
    "   <tr>\n",
    "    <td>station_name</td> \n",
    "    <td>mean </td> \n",
    "    <td>min </td> \n",
    "    <td>max </td> \n",
    "   </tr>\n",
    "   <tr>\n",
    "    <td>Borås</td> \n",
    "    <td>6.282362 </td> \n",
    "    <td>-29.4 </td> \n",
    "    <td>31.9</td> \n",
    "   </tr>\n",
    "    <tr>\n",
    "    <td>Falsterbo</td> \n",
    "    <td>8.190531 </td> \n",
    "    <td>-19.2 </td> \n",
    "    <td>26.6</td> \n",
    "   </tr>\n",
    "    <tr>\n",
    "    <td>Falun-Lugnet</td> \n",
    "    <td>4.698931 </td> \n",
    "    <td>-42.0 </td> \n",
    "    <td>31.0</td> \n",
    "   </tr>\n",
    "</table>"
   ]
  },
  {
   "cell_type": "code",
   "execution_count": null,
   "metadata": {
    "deletable": false,
    "editable": false,
    "hideCode": true,
    "nbgrader": {
     "cell_type": "code",
     "checksum": "58aeadd1d97ae51f848b43b6a4e16158",
     "grade": true,
     "grade_id": "cell-041dc612d8025cea",
     "locked": true,
     "points": 2,
     "schema_version": 3,
     "solution": false,
     "task": false
    }
   },
   "outputs": [],
   "source": [
    "# nbgrader cell\n"
   ]
  },
  {
   "cell_type": "markdown",
   "metadata": {
    "deletable": false,
    "editable": false,
    "nbgrader": {
     "cell_type": "markdown",
     "checksum": "ea60c25f07c425caeeed915a311089f5",
     "grade": false,
     "grade_id": "cell-f89abd691eb36e10",
     "locked": true,
     "schema_version": 3,
     "solution": false,
     "task": false
    }
   },
   "source": [
    "# Good job!"
   ]
  }
 ],
 "metadata": {
  "kernelspec": {
   "display_name": "Python 3",
   "language": "python",
   "name": "python3"
  },
  "language_info": {
   "codemirror_mode": {
    "name": "ipython",
    "version": 3
   },
   "file_extension": ".py",
   "mimetype": "text/x-python",
   "name": "python",
   "nbconvert_exporter": "python",
   "pygments_lexer": "ipython3",
   "version": "3.7.3"
  }
 },
 "nbformat": 4,
 "nbformat_minor": 2
}
