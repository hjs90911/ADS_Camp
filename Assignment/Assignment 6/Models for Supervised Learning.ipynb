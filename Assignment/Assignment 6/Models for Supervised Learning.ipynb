{
 "cells": [
  {
   "cell_type": "markdown",
   "metadata": {
    "deletable": false,
    "editable": false,
    "nbgrader": {
     "cell_type": "markdown",
     "checksum": "31ec35433ee3a8b22cc7974feaa298cf",
     "grade": false,
     "grade_id": "cell-97451cb5d243f52e",
     "locked": true,
     "schema_version": 3,
     "solution": false
    }
   },
   "source": [
    "<center>\n",
    "    <img style=\"float: left;\" src=\"Mix_colour.png\" width=\"200\"></img>\n",
    "</center>\n",
    "\n",
    "<br/><br/>\n",
    "<br/><br/>\n",
    "\n",
    "# Models for Supervised learning"
   ]
  },
  {
   "cell_type": "markdown",
   "metadata": {
    "deletable": false,
    "editable": false,
    "nbgrader": {
     "cell_type": "markdown",
     "checksum": "bbf138a3ec15fc12bce79b237be6afe3",
     "grade": false,
     "grade_id": "cell-76158a15511866c8",
     "locked": true,
     "schema_version": 3,
     "solution": false
    }
   },
   "source": [
    "In this notebook we will learn a bit more about several more advanced supervised machine learning algorithms.\n",
    "\n",
    "For the assignment we will use the wine dataset, containing various characteristics of the wine and its class label. Our target is to try to predict one of 3 classes. The methods we will try are:\n",
    "- Decision trees\n",
    "- Random forest\n",
    "- K-nearest neighbors\n",
    "- Neural networks"
   ]
  },
  {
   "cell_type": "markdown",
   "metadata": {
    "deletable": false,
    "editable": false,
    "nbgrader": {
     "cell_type": "markdown",
     "checksum": "426b959ac30266776a13a03b2ffb78d3",
     "grade": false,
     "grade_id": "cell-54abd7c43e633001",
     "locked": true,
     "schema_version": 3,
     "solution": false
    }
   },
   "source": [
    "## Data"
   ]
  },
  {
   "cell_type": "markdown",
   "metadata": {
    "deletable": false,
    "editable": false,
    "nbgrader": {
     "cell_type": "markdown",
     "checksum": "4f0ce44269835b6f776838866ed2f4f7",
     "grade": false,
     "grade_id": "cell-d525f5a83b6183c7",
     "locked": true,
     "schema_version": 3,
     "solution": false,
     "task": false
    }
   },
   "source": [
    "Let's start from uploading the wine dataset."
   ]
  },
  {
   "cell_type": "code",
   "execution_count": 1,
   "metadata": {
    "deletable": false,
    "editable": false,
    "nbgrader": {
     "cell_type": "code",
     "checksum": "6af4f38b6e65b9494f5aa814cef8c9e2",
     "grade": false,
     "grade_id": "cell-ec023812a8a9e2f8",
     "locked": true,
     "schema_version": 3,
     "solution": false
    }
   },
   "outputs": [],
   "source": [
    "import pandas as pd\n",
    "import numpy as np\n",
    "\n",
    "df_wine = pd.read_csv('/home/jovyan/Data/wine.csv')"
   ]
  },
  {
   "cell_type": "markdown",
   "metadata": {
    "deletable": false,
    "editable": false,
    "nbgrader": {
     "cell_type": "markdown",
     "checksum": "e97cc09bbcb17e2e29fd85b5dc1e3c3b",
     "grade": false,
     "grade_id": "cell-82796eaa4eee4eb1",
     "locked": true,
     "schema_version": 3,
     "solution": false,
     "task": false
    }
   },
   "source": [
    "To get more familiar with the data, let's take a quick look."
   ]
  },
  {
   "cell_type": "code",
   "execution_count": 2,
   "metadata": {
    "deletable": false,
    "editable": false,
    "nbgrader": {
     "cell_type": "code",
     "checksum": "11b3d0fb593246df3353e4efc93a3b56",
     "grade": false,
     "grade_id": "cell-3fa14d0a7c0fd751",
     "locked": true,
     "schema_version": 3,
     "solution": false
    }
   },
   "outputs": [
    {
     "data": {
      "text/html": [
       "<div>\n",
       "<style scoped>\n",
       "    .dataframe tbody tr th:only-of-type {\n",
       "        vertical-align: middle;\n",
       "    }\n",
       "\n",
       "    .dataframe tbody tr th {\n",
       "        vertical-align: top;\n",
       "    }\n",
       "\n",
       "    .dataframe thead th {\n",
       "        text-align: right;\n",
       "    }\n",
       "</style>\n",
       "<table border=\"1\" class=\"dataframe\">\n",
       "  <thead>\n",
       "    <tr style=\"text-align: right;\">\n",
       "      <th></th>\n",
       "      <th>alcohol</th>\n",
       "      <th>malic_acid</th>\n",
       "      <th>ash</th>\n",
       "      <th>alcalinity_of_ash</th>\n",
       "      <th>magnesium</th>\n",
       "      <th>total_phenols</th>\n",
       "      <th>flavanoids</th>\n",
       "      <th>nonflavanoid_phenols</th>\n",
       "      <th>proanthocyanins</th>\n",
       "      <th>color_intensity</th>\n",
       "      <th>hue</th>\n",
       "      <th>od280/od315_of_diluted_wines</th>\n",
       "      <th>proline</th>\n",
       "      <th>target</th>\n",
       "    </tr>\n",
       "  </thead>\n",
       "  <tbody>\n",
       "    <tr>\n",
       "      <td>0</td>\n",
       "      <td>14.23</td>\n",
       "      <td>1.71</td>\n",
       "      <td>2.43</td>\n",
       "      <td>15.6</td>\n",
       "      <td>127.0</td>\n",
       "      <td>2.80</td>\n",
       "      <td>3.06</td>\n",
       "      <td>0.28</td>\n",
       "      <td>2.29</td>\n",
       "      <td>5.64</td>\n",
       "      <td>1.04</td>\n",
       "      <td>3.92</td>\n",
       "      <td>1065.0</td>\n",
       "      <td>0</td>\n",
       "    </tr>\n",
       "    <tr>\n",
       "      <td>1</td>\n",
       "      <td>13.20</td>\n",
       "      <td>1.78</td>\n",
       "      <td>2.14</td>\n",
       "      <td>11.2</td>\n",
       "      <td>100.0</td>\n",
       "      <td>2.65</td>\n",
       "      <td>2.76</td>\n",
       "      <td>0.26</td>\n",
       "      <td>1.28</td>\n",
       "      <td>4.38</td>\n",
       "      <td>1.05</td>\n",
       "      <td>3.40</td>\n",
       "      <td>1050.0</td>\n",
       "      <td>0</td>\n",
       "    </tr>\n",
       "    <tr>\n",
       "      <td>2</td>\n",
       "      <td>13.16</td>\n",
       "      <td>2.36</td>\n",
       "      <td>2.67</td>\n",
       "      <td>18.6</td>\n",
       "      <td>101.0</td>\n",
       "      <td>2.80</td>\n",
       "      <td>3.24</td>\n",
       "      <td>0.30</td>\n",
       "      <td>2.81</td>\n",
       "      <td>5.68</td>\n",
       "      <td>1.03</td>\n",
       "      <td>3.17</td>\n",
       "      <td>1185.0</td>\n",
       "      <td>0</td>\n",
       "    </tr>\n",
       "    <tr>\n",
       "      <td>3</td>\n",
       "      <td>14.37</td>\n",
       "      <td>1.95</td>\n",
       "      <td>2.50</td>\n",
       "      <td>16.8</td>\n",
       "      <td>113.0</td>\n",
       "      <td>3.85</td>\n",
       "      <td>3.49</td>\n",
       "      <td>0.24</td>\n",
       "      <td>2.18</td>\n",
       "      <td>7.80</td>\n",
       "      <td>0.86</td>\n",
       "      <td>3.45</td>\n",
       "      <td>1480.0</td>\n",
       "      <td>0</td>\n",
       "    </tr>\n",
       "    <tr>\n",
       "      <td>4</td>\n",
       "      <td>13.24</td>\n",
       "      <td>2.59</td>\n",
       "      <td>2.87</td>\n",
       "      <td>21.0</td>\n",
       "      <td>118.0</td>\n",
       "      <td>2.80</td>\n",
       "      <td>2.69</td>\n",
       "      <td>0.39</td>\n",
       "      <td>1.82</td>\n",
       "      <td>4.32</td>\n",
       "      <td>1.04</td>\n",
       "      <td>2.93</td>\n",
       "      <td>735.0</td>\n",
       "      <td>0</td>\n",
       "    </tr>\n",
       "  </tbody>\n",
       "</table>\n",
       "</div>"
      ],
      "text/plain": [
       "   alcohol  malic_acid   ash  alcalinity_of_ash  magnesium  total_phenols  \\\n",
       "0    14.23        1.71  2.43               15.6      127.0           2.80   \n",
       "1    13.20        1.78  2.14               11.2      100.0           2.65   \n",
       "2    13.16        2.36  2.67               18.6      101.0           2.80   \n",
       "3    14.37        1.95  2.50               16.8      113.0           3.85   \n",
       "4    13.24        2.59  2.87               21.0      118.0           2.80   \n",
       "\n",
       "   flavanoids  nonflavanoid_phenols  proanthocyanins  color_intensity   hue  \\\n",
       "0        3.06                  0.28             2.29             5.64  1.04   \n",
       "1        2.76                  0.26             1.28             4.38  1.05   \n",
       "2        3.24                  0.30             2.81             5.68  1.03   \n",
       "3        3.49                  0.24             2.18             7.80  0.86   \n",
       "4        2.69                  0.39             1.82             4.32  1.04   \n",
       "\n",
       "   od280/od315_of_diluted_wines  proline  target  \n",
       "0                          3.92   1065.0       0  \n",
       "1                          3.40   1050.0       0  \n",
       "2                          3.17   1185.0       0  \n",
       "3                          3.45   1480.0       0  \n",
       "4                          2.93    735.0       0  "
      ]
     },
     "execution_count": 2,
     "metadata": {},
     "output_type": "execute_result"
    }
   ],
   "source": [
    "df_wine.head(5)"
   ]
  },
  {
   "cell_type": "code",
   "execution_count": 3,
   "metadata": {
    "deletable": false,
    "editable": false,
    "nbgrader": {
     "cell_type": "code",
     "checksum": "83047c76bb4ab991821a4ea3d63428ba",
     "grade": false,
     "grade_id": "cell-3b9f8c03d3183b75",
     "locked": true,
     "schema_version": 3,
     "solution": false,
     "task": false
    }
   },
   "outputs": [
    {
     "data": {
      "text/plain": [
       "(178, 14)"
      ]
     },
     "execution_count": 3,
     "metadata": {},
     "output_type": "execute_result"
    }
   ],
   "source": [
    "df_wine.shape"
   ]
  },
  {
   "cell_type": "markdown",
   "metadata": {
    "deletable": false,
    "editable": false,
    "nbgrader": {
     "cell_type": "markdown",
     "checksum": "628bfc2069dab7ca2ec6f5277a597c87",
     "grade": false,
     "grade_id": "cell-c2dbcfd9db6966a2",
     "locked": true,
     "schema_version": 3,
     "solution": false,
     "task": false
    }
   },
   "source": [
    "In the dataset there are 13 numerical features describing alcohol percentage, ash, flavanoids, etc., and the label column. There are 3 classes (let's refer to them as 'class_0', 'class_1', and 'class_2'). These classes could correspond to some typical wine varietals like Pinot Noir, or Cabernet, or Merlot.\n",
    "For better understanding of the dataset, let's check the general statistic of the features."
   ]
  },
  {
   "cell_type": "code",
   "execution_count": 4,
   "metadata": {
    "deletable": false,
    "editable": false,
    "nbgrader": {
     "cell_type": "code",
     "checksum": "2d4f55e18aa72055f6e72637651f6c5f",
     "grade": false,
     "grade_id": "cell-7d408a071f2eb5ab",
     "locked": true,
     "schema_version": 3,
     "solution": false
    }
   },
   "outputs": [
    {
     "data": {
      "text/html": [
       "<div>\n",
       "<style scoped>\n",
       "    .dataframe tbody tr th:only-of-type {\n",
       "        vertical-align: middle;\n",
       "    }\n",
       "\n",
       "    .dataframe tbody tr th {\n",
       "        vertical-align: top;\n",
       "    }\n",
       "\n",
       "    .dataframe thead th {\n",
       "        text-align: right;\n",
       "    }\n",
       "</style>\n",
       "<table border=\"1\" class=\"dataframe\">\n",
       "  <thead>\n",
       "    <tr style=\"text-align: right;\">\n",
       "      <th></th>\n",
       "      <th>alcohol</th>\n",
       "      <th>malic_acid</th>\n",
       "      <th>ash</th>\n",
       "      <th>alcalinity_of_ash</th>\n",
       "      <th>magnesium</th>\n",
       "      <th>total_phenols</th>\n",
       "      <th>flavanoids</th>\n",
       "      <th>nonflavanoid_phenols</th>\n",
       "      <th>proanthocyanins</th>\n",
       "      <th>color_intensity</th>\n",
       "      <th>hue</th>\n",
       "      <th>od280/od315_of_diluted_wines</th>\n",
       "      <th>proline</th>\n",
       "      <th>target</th>\n",
       "    </tr>\n",
       "  </thead>\n",
       "  <tbody>\n",
       "    <tr>\n",
       "      <td>count</td>\n",
       "      <td>178.000000</td>\n",
       "      <td>178.000000</td>\n",
       "      <td>178.000000</td>\n",
       "      <td>178.000000</td>\n",
       "      <td>178.000000</td>\n",
       "      <td>178.000000</td>\n",
       "      <td>178.000000</td>\n",
       "      <td>178.000000</td>\n",
       "      <td>178.000000</td>\n",
       "      <td>178.000000</td>\n",
       "      <td>178.000000</td>\n",
       "      <td>178.000000</td>\n",
       "      <td>178.000000</td>\n",
       "      <td>178.000000</td>\n",
       "    </tr>\n",
       "    <tr>\n",
       "      <td>mean</td>\n",
       "      <td>13.000618</td>\n",
       "      <td>2.336348</td>\n",
       "      <td>2.366517</td>\n",
       "      <td>19.494944</td>\n",
       "      <td>99.741573</td>\n",
       "      <td>2.295112</td>\n",
       "      <td>2.029270</td>\n",
       "      <td>0.361854</td>\n",
       "      <td>1.590899</td>\n",
       "      <td>5.058090</td>\n",
       "      <td>0.957449</td>\n",
       "      <td>2.611685</td>\n",
       "      <td>746.893258</td>\n",
       "      <td>0.938202</td>\n",
       "    </tr>\n",
       "    <tr>\n",
       "      <td>std</td>\n",
       "      <td>0.811827</td>\n",
       "      <td>1.117146</td>\n",
       "      <td>0.274344</td>\n",
       "      <td>3.339564</td>\n",
       "      <td>14.282484</td>\n",
       "      <td>0.625851</td>\n",
       "      <td>0.998859</td>\n",
       "      <td>0.124453</td>\n",
       "      <td>0.572359</td>\n",
       "      <td>2.318286</td>\n",
       "      <td>0.228572</td>\n",
       "      <td>0.709990</td>\n",
       "      <td>314.907474</td>\n",
       "      <td>0.775035</td>\n",
       "    </tr>\n",
       "    <tr>\n",
       "      <td>min</td>\n",
       "      <td>11.030000</td>\n",
       "      <td>0.740000</td>\n",
       "      <td>1.360000</td>\n",
       "      <td>10.600000</td>\n",
       "      <td>70.000000</td>\n",
       "      <td>0.980000</td>\n",
       "      <td>0.340000</td>\n",
       "      <td>0.130000</td>\n",
       "      <td>0.410000</td>\n",
       "      <td>1.280000</td>\n",
       "      <td>0.480000</td>\n",
       "      <td>1.270000</td>\n",
       "      <td>278.000000</td>\n",
       "      <td>0.000000</td>\n",
       "    </tr>\n",
       "    <tr>\n",
       "      <td>25%</td>\n",
       "      <td>12.362500</td>\n",
       "      <td>1.602500</td>\n",
       "      <td>2.210000</td>\n",
       "      <td>17.200000</td>\n",
       "      <td>88.000000</td>\n",
       "      <td>1.742500</td>\n",
       "      <td>1.205000</td>\n",
       "      <td>0.270000</td>\n",
       "      <td>1.250000</td>\n",
       "      <td>3.220000</td>\n",
       "      <td>0.782500</td>\n",
       "      <td>1.937500</td>\n",
       "      <td>500.500000</td>\n",
       "      <td>0.000000</td>\n",
       "    </tr>\n",
       "    <tr>\n",
       "      <td>50%</td>\n",
       "      <td>13.050000</td>\n",
       "      <td>1.865000</td>\n",
       "      <td>2.360000</td>\n",
       "      <td>19.500000</td>\n",
       "      <td>98.000000</td>\n",
       "      <td>2.355000</td>\n",
       "      <td>2.135000</td>\n",
       "      <td>0.340000</td>\n",
       "      <td>1.555000</td>\n",
       "      <td>4.690000</td>\n",
       "      <td>0.965000</td>\n",
       "      <td>2.780000</td>\n",
       "      <td>673.500000</td>\n",
       "      <td>1.000000</td>\n",
       "    </tr>\n",
       "    <tr>\n",
       "      <td>75%</td>\n",
       "      <td>13.677500</td>\n",
       "      <td>3.082500</td>\n",
       "      <td>2.557500</td>\n",
       "      <td>21.500000</td>\n",
       "      <td>107.000000</td>\n",
       "      <td>2.800000</td>\n",
       "      <td>2.875000</td>\n",
       "      <td>0.437500</td>\n",
       "      <td>1.950000</td>\n",
       "      <td>6.200000</td>\n",
       "      <td>1.120000</td>\n",
       "      <td>3.170000</td>\n",
       "      <td>985.000000</td>\n",
       "      <td>2.000000</td>\n",
       "    </tr>\n",
       "    <tr>\n",
       "      <td>max</td>\n",
       "      <td>14.830000</td>\n",
       "      <td>5.800000</td>\n",
       "      <td>3.230000</td>\n",
       "      <td>30.000000</td>\n",
       "      <td>162.000000</td>\n",
       "      <td>3.880000</td>\n",
       "      <td>5.080000</td>\n",
       "      <td>0.660000</td>\n",
       "      <td>3.580000</td>\n",
       "      <td>13.000000</td>\n",
       "      <td>1.710000</td>\n",
       "      <td>4.000000</td>\n",
       "      <td>1680.000000</td>\n",
       "      <td>2.000000</td>\n",
       "    </tr>\n",
       "  </tbody>\n",
       "</table>\n",
       "</div>"
      ],
      "text/plain": [
       "          alcohol  malic_acid         ash  alcalinity_of_ash   magnesium  \\\n",
       "count  178.000000  178.000000  178.000000         178.000000  178.000000   \n",
       "mean    13.000618    2.336348    2.366517          19.494944   99.741573   \n",
       "std      0.811827    1.117146    0.274344           3.339564   14.282484   \n",
       "min     11.030000    0.740000    1.360000          10.600000   70.000000   \n",
       "25%     12.362500    1.602500    2.210000          17.200000   88.000000   \n",
       "50%     13.050000    1.865000    2.360000          19.500000   98.000000   \n",
       "75%     13.677500    3.082500    2.557500          21.500000  107.000000   \n",
       "max     14.830000    5.800000    3.230000          30.000000  162.000000   \n",
       "\n",
       "       total_phenols  flavanoids  nonflavanoid_phenols  proanthocyanins  \\\n",
       "count     178.000000  178.000000            178.000000       178.000000   \n",
       "mean        2.295112    2.029270              0.361854         1.590899   \n",
       "std         0.625851    0.998859              0.124453         0.572359   \n",
       "min         0.980000    0.340000              0.130000         0.410000   \n",
       "25%         1.742500    1.205000              0.270000         1.250000   \n",
       "50%         2.355000    2.135000              0.340000         1.555000   \n",
       "75%         2.800000    2.875000              0.437500         1.950000   \n",
       "max         3.880000    5.080000              0.660000         3.580000   \n",
       "\n",
       "       color_intensity         hue  od280/od315_of_diluted_wines      proline  \\\n",
       "count       178.000000  178.000000                    178.000000   178.000000   \n",
       "mean          5.058090    0.957449                      2.611685   746.893258   \n",
       "std           2.318286    0.228572                      0.709990   314.907474   \n",
       "min           1.280000    0.480000                      1.270000   278.000000   \n",
       "25%           3.220000    0.782500                      1.937500   500.500000   \n",
       "50%           4.690000    0.965000                      2.780000   673.500000   \n",
       "75%           6.200000    1.120000                      3.170000   985.000000   \n",
       "max          13.000000    1.710000                      4.000000  1680.000000   \n",
       "\n",
       "           target  \n",
       "count  178.000000  \n",
       "mean     0.938202  \n",
       "std      0.775035  \n",
       "min      0.000000  \n",
       "25%      0.000000  \n",
       "50%      1.000000  \n",
       "75%      2.000000  \n",
       "max      2.000000  "
      ]
     },
     "execution_count": 4,
     "metadata": {},
     "output_type": "execute_result"
    }
   ],
   "source": [
    "df_wine.describe()"
   ]
  },
  {
   "cell_type": "markdown",
   "metadata": {
    "deletable": false,
    "editable": false,
    "nbgrader": {
     "cell_type": "markdown",
     "checksum": "de8928fce6a5160e6b1492341c26bb93",
     "grade": false,
     "grade_id": "cell-3d66b466a57450f3",
     "locked": true,
     "schema_version": 3,
     "solution": false
    }
   },
   "source": [
    "Let's check if there are any missing values."
   ]
  },
  {
   "cell_type": "code",
   "execution_count": 5,
   "metadata": {
    "deletable": false,
    "editable": false,
    "nbgrader": {
     "cell_type": "code",
     "checksum": "072374300d3dc842a5451643844ed19f",
     "grade": false,
     "grade_id": "cell-d8cc3aa4ff146bc5",
     "locked": true,
     "schema_version": 3,
     "solution": false
    }
   },
   "outputs": [
    {
     "data": {
      "text/plain": [
       "alcohol                         0\n",
       "malic_acid                      0\n",
       "ash                             0\n",
       "alcalinity_of_ash               0\n",
       "magnesium                       0\n",
       "total_phenols                   0\n",
       "flavanoids                      0\n",
       "nonflavanoid_phenols            0\n",
       "proanthocyanins                 0\n",
       "color_intensity                 0\n",
       "hue                             0\n",
       "od280/od315_of_diluted_wines    0\n",
       "proline                         0\n",
       "target                          0\n",
       "dtype: int64"
      ]
     },
     "execution_count": 5,
     "metadata": {},
     "output_type": "execute_result"
    }
   ],
   "source": [
    "df_wine.isnull().sum()"
   ]
  },
  {
   "cell_type": "markdown",
   "metadata": {
    "deletable": false,
    "editable": false,
    "nbgrader": {
     "cell_type": "markdown",
     "checksum": "7114378e13123432f027b535215f47c2",
     "grade": false,
     "grade_id": "cell-83b4aa2fa73a841a",
     "locked": true,
     "schema_version": 3,
     "solution": false
    }
   },
   "source": [
    "There are a total of 178 samples and no features have missing values.\n",
    "\n",
    "Let's check the distribution of data by classes."
   ]
  },
  {
   "cell_type": "code",
   "execution_count": 6,
   "metadata": {
    "deletable": false,
    "editable": false,
    "nbgrader": {
     "cell_type": "code",
     "checksum": "ac14f26ea572f1384994d90f88745645",
     "grade": false,
     "grade_id": "cell-e5c582ae19ac6316",
     "locked": true,
     "schema_version": 3,
     "solution": false,
     "task": false
    }
   },
   "outputs": [
    {
     "data": {
      "text/plain": [
       "1    71\n",
       "0    59\n",
       "2    48\n",
       "Name: target, dtype: int64"
      ]
     },
     "execution_count": 6,
     "metadata": {},
     "output_type": "execute_result"
    }
   ],
   "source": [
    "df_wine['target'].value_counts()"
   ]
  },
  {
   "cell_type": "markdown",
   "metadata": {
    "deletable": false,
    "editable": false,
    "nbgrader": {
     "cell_type": "markdown",
     "checksum": "72fa28edc022ae781b89f9e5df79008d",
     "grade": false,
     "grade_id": "cell-091b26be8dddecb6",
     "locked": true,
     "schema_version": 3,
     "solution": false,
     "task": false
    }
   },
   "source": [
    "You can see that the distribution of data by classes is quite balanced. Now we can start the modelling."
   ]
  },
  {
   "cell_type": "markdown",
   "metadata": {
    "deletable": false,
    "editable": false,
    "nbgrader": {
     "cell_type": "markdown",
     "checksum": "1f06e77dc28aa4107420830bdad8d58c",
     "grade": false,
     "grade_id": "cell-d8b69329c55d4e6c",
     "locked": true,
     "schema_version": 3,
     "solution": false
    }
   },
   "source": [
    "## Machine learning algorithms\n",
    "\n",
    "Let's try out different algorithms for classification and compare their performances. \n",
    "Before implementing any models let's split the data to train and test sets. "
   ]
  },
  {
   "cell_type": "code",
   "execution_count": 7,
   "metadata": {},
   "outputs": [],
   "source": [
    "from sklearn.model_selection import train_test_split\n",
    "\n",
    "X = df_wine.iloc[:,:-1]\n",
    "y = df_wine['target']\n",
    "\n",
    "X_train, X_test, y_train, y_test = train_test_split(X,y,test_size=0.3,random_state=1235)"
   ]
  },
  {
   "cell_type": "markdown",
   "metadata": {
    "deletable": false,
    "editable": false,
    "nbgrader": {
     "cell_type": "markdown",
     "checksum": "9188b74176fe4346b7fb03a4c03156ea",
     "grade": false,
     "grade_id": "cell-71523a7f5d5c9c6a",
     "locked": true,
     "schema_version": 3,
     "solution": false
    }
   },
   "source": [
    "### Decision Trees"
   ]
  },
  {
   "cell_type": "markdown",
   "metadata": {
    "deletable": false,
    "editable": false,
    "nbgrader": {
     "cell_type": "markdown",
     "checksum": "9e76fad98a87c061eb4a5165fe2bb7a1",
     "grade": false,
     "grade_id": "cell-4ff58b35e28ef05f",
     "locked": true,
     "schema_version": 3,
     "solution": false
    }
   },
   "source": [
    "Recall that for classification with multiple classes one can use desicion trees. In the reading material you have learnt how a decision tree algorithm works both for classification and regression problems. \n",
    "\n",
    "Now let's go deeper in understanding the decision tree classifiers.\n",
    "\n",
    "### Q1:\n",
    "\n",
    "For a decision tree classifier, what are common measures for creating the splits? \n",
    "1. Jimmy Index.\n",
    "2. Cross-Entropy. \n",
    "3. Mean Absolute Error.\n",
    "4. Gini Impurity.\n",
    "5. Mean Absolute Misclassification. "
   ]
  },
  {
   "cell_type": "code",
   "execution_count": 14,
   "metadata": {
    "deletable": false,
    "nbgrader": {
     "cell_type": "code",
     "checksum": "3491048b4b431ff6d00a55ce3291a6c4",
     "grade": false,
     "grade_id": "ch5_q1",
     "locked": false,
     "schema_version": 3,
     "solution": true
    }
   },
   "outputs": [],
   "source": [
    "# Fill in your answer in the form of a list of a number or numbers: example Q1_answer = [6,7,8]\n",
    "\n",
    "### START ANSWER HERE ###\n",
    "Q1_answer = [2, 4]\n",
    "### END ANSWER HERE ###"
   ]
  },
  {
   "cell_type": "code",
   "execution_count": 15,
   "metadata": {
    "deletable": false,
    "editable": false,
    "hideCode": true,
    "nbgrader": {
     "cell_type": "code",
     "checksum": "c9b0fcc129107895041b52b1c701476a",
     "grade": false,
     "grade_id": "cell-0c3ffa8f9e73d01f",
     "locked": true,
     "schema_version": 3,
     "solution": false,
     "task": false
    },
    "selfTest": true
   },
   "outputs": [
    {
     "name": "stdout",
     "output_type": "stream",
     "text": [
      "Correct!\n"
     ]
    }
   ],
   "source": [
    "import hashlib\n",
    "_myhash = lambda x: hashlib.md5(str(x).encode()).hexdigest()\n",
    "if _myhash(set(Q1_answer)) == '9ddb7ad6e43bc6325ac123bfa58c342f':\n",
    "    print('Correct!')\n",
    "else:\n",
    "    print('Not correct! Please try again!')"
   ]
  },
  {
   "cell_type": "code",
   "execution_count": null,
   "metadata": {
    "deletable": false,
    "editable": false,
    "hideCode": true,
    "nbgrader": {
     "cell_type": "code",
     "checksum": "9f897def39051bd907464ee3fdbaed69",
     "grade": true,
     "grade_id": "ch5_q1_test",
     "locked": true,
     "points": 2,
     "schema_version": 3,
     "solution": false
    }
   },
   "outputs": [],
   "source": [
    "# nbgrader cell\n"
   ]
  },
  {
   "cell_type": "markdown",
   "metadata": {
    "deletable": false,
    "editable": false,
    "nbgrader": {
     "cell_type": "markdown",
     "checksum": "deceb372da255bd7b40ef18b763e1eef",
     "grade": false,
     "grade_id": "cell-88171924fb7be1b7",
     "locked": true,
     "schema_version": 3,
     "solution": false
    }
   },
   "source": [
    "### Q2:\n",
    "\n",
    "Now create a decision tree model and fit it to the training data. \n",
    "\n",
    "**Hint:**\n",
    "* import a necessary package from scikit-learn\n",
    "* create an instance of a desicion tree classifier using `random_state=100`. Use `decision_tree_clf = DecisionTreeClassifier()` with correct input.\n",
    "* fit it to the training data"
   ]
  },
  {
   "cell_type": "code",
   "execution_count": 17,
   "metadata": {
    "deletable": false,
    "nbgrader": {
     "cell_type": "code",
     "checksum": "34a8c46312e287f0eed728fafa5b4ebe",
     "grade": false,
     "grade_id": "ch5_q2",
     "locked": false,
     "schema_version": 3,
     "solution": true
    }
   },
   "outputs": [
    {
     "data": {
      "text/plain": [
       "DecisionTreeClassifier(class_weight=None, criterion='gini', max_depth=None,\n",
       "                       max_features=None, max_leaf_nodes=None,\n",
       "                       min_impurity_decrease=0.0, min_impurity_split=None,\n",
       "                       min_samples_leaf=1, min_samples_split=2,\n",
       "                       min_weight_fraction_leaf=0.0, presort=False,\n",
       "                       random_state=100, splitter='best')"
      ]
     },
     "execution_count": 17,
     "metadata": {},
     "output_type": "execute_result"
    }
   ],
   "source": [
    "# (approx. 3 lines of code)\n",
    "### START ANSWER HERE ###\n",
    "from sklearn.tree import DecisionTreeClassifier\n",
    "decision_tree_clf = DecisionTreeClassifier(random_state=100)\n",
    "decision_tree_clf.fit(X_train, y_train)\n",
    "### END ANSWER HERE ###"
   ]
  },
  {
   "cell_type": "code",
   "execution_count": 18,
   "metadata": {},
   "outputs": [
    {
     "name": "stdout",
     "output_type": "stream",
     "text": [
      "number of classes:  3\n",
      "number of features:  13\n"
     ]
    }
   ],
   "source": [
    "print('number of classes: ', decision_tree_clf.n_classes_)\n",
    "print('number of features: ', decision_tree_clf.n_features_) "
   ]
  },
  {
   "cell_type": "markdown",
   "metadata": {
    "deletable": false,
    "editable": false,
    "nbgrader": {
     "cell_type": "markdown",
     "checksum": "890d3ff3ea10cb71df9a3f89cc84fa25",
     "grade": false,
     "grade_id": "cell-acaf0f37e128ec0d",
     "locked": true,
     "schema_version": 3,
     "solution": false
    }
   },
   "source": [
    "**Expected Output**: \n",
    "<table style = \"width:40%\">\n",
    "    <tr>\n",
    "    <td>number of classes</td> \n",
    "        <td>3</td> \n",
    "    </tr>\n",
    "    <tr>\n",
    "    <td>number of features</td> \n",
    "        <td>13</td> \n",
    "    </tr>\n",
    "</table>"
   ]
  },
  {
   "cell_type": "code",
   "execution_count": null,
   "metadata": {
    "deletable": false,
    "editable": false,
    "hideCode": true,
    "nbgrader": {
     "cell_type": "code",
     "checksum": "fe086abc8dfee0be0cc03b995b66ec0b",
     "grade": true,
     "grade_id": "ch5_q2_test",
     "locked": true,
     "points": 2,
     "schema_version": 3,
     "solution": false
    }
   },
   "outputs": [],
   "source": [
    "# nbgrader\n"
   ]
  },
  {
   "cell_type": "markdown",
   "metadata": {
    "deletable": false,
    "editable": false,
    "nbgrader": {
     "cell_type": "markdown",
     "checksum": "cdfb666153b099cb6d957b458c76c51e",
     "grade": false,
     "grade_id": "cell-205e8d69b73a7782",
     "locked": true,
     "schema_version": 3,
     "solution": false
    }
   },
   "source": [
    "Let's take a look at classification report of the model on the test set. "
   ]
  },
  {
   "cell_type": "code",
   "execution_count": null,
   "metadata": {
    "deletable": false,
    "editable": false,
    "nbgrader": {
     "cell_type": "code",
     "checksum": "69035fd5b5ecf5b78453aa22620ff470",
     "grade": false,
     "grade_id": "cell-e344d86acdd7de2c",
     "locked": true,
     "schema_version": 3,
     "solution": false
    }
   },
   "outputs": [],
   "source": [
    "from sklearn.metrics import classification_report\n",
    "print(classification_report(y_test,decision_tree_clf.predict(X_test)))"
   ]
  },
  {
   "cell_type": "markdown",
   "metadata": {
    "deletable": false,
    "editable": false,
    "nbgrader": {
     "cell_type": "markdown",
     "checksum": "865a6ddc96deab792cfbd86867dd957d",
     "grade": false,
     "grade_id": "cell-1cf3860b6fed2ff2",
     "locked": true,
     "schema_version": 3,
     "solution": false,
     "task": false
    }
   },
   "source": [
    "You see above that some classes got a higher precision than the other but in general the result seems to be good. One can check the mean accuracy both on train and test sets using the built in method of the decision tree classifier. Indeed, this method provides very high score for both train and test sets. "
   ]
  },
  {
   "cell_type": "code",
   "execution_count": null,
   "metadata": {
    "deletable": false,
    "editable": false,
    "nbgrader": {
     "cell_type": "code",
     "checksum": "e361383c482a04431fa9dedc8a25b1bd",
     "grade": false,
     "grade_id": "cell-ff0a94da7de02913",
     "locked": true,
     "schema_version": 3,
     "solution": false
    }
   },
   "outputs": [],
   "source": [
    "train_score = decision_tree_clf.score(X_train,y_train)\n",
    "test_score = decision_tree_clf.score(X_test,y_test)\n",
    "print(\"Accuracy train/test: %.2f/%.2f\" % (train_score, test_score))"
   ]
  },
  {
   "cell_type": "markdown",
   "metadata": {
    "deletable": false,
    "editable": false,
    "nbgrader": {
     "cell_type": "markdown",
     "checksum": "1d32d81a52190a7920925d144f489a83",
     "grade": false,
     "grade_id": "cell-dbcfb79408bc6e7d",
     "locked": true,
     "schema_version": 3,
     "solution": false
    }
   },
   "source": [
    "### Q3 (multiple choice):\n",
    "\n",
    "Which of the following statements are true?\n",
    "1. A fully grown tree tend to fit the training data perfectly, while performing less good on the test data. \n",
    "2. A fully grown tree has large variance and low bias. \n",
    "3. A fully grown tree has large bias and low variance. \n",
    "4. None of the above claims are true. "
   ]
  },
  {
   "cell_type": "code",
   "execution_count": 19,
   "metadata": {
    "deletable": false,
    "nbgrader": {
     "cell_type": "code",
     "checksum": "6f6ff9526babb07e19fa7c621bcdb3ca",
     "grade": false,
     "grade_id": "ch5_q3",
     "locked": false,
     "schema_version": 3,
     "solution": true
    }
   },
   "outputs": [],
   "source": [
    "# Fill in your answer in the form of a list of a number or numbers: example Q3_answer = [5,6,8]\n",
    "\n",
    "### START ANSWER HERE ###\n",
    "Q3_answer = [1, 2]\n",
    "### END ANSWER HERE ###"
   ]
  },
  {
   "cell_type": "code",
   "execution_count": 20,
   "metadata": {
    "deletable": false,
    "editable": false,
    "hideCode": true,
    "nbgrader": {
     "cell_type": "code",
     "checksum": "02b17ff49159e90b1c0c5706021ae4b5",
     "grade": false,
     "grade_id": "cell-82fc068446ce3d65",
     "locked": true,
     "schema_version": 3,
     "solution": false,
     "task": false
    },
    "selfTest": true
   },
   "outputs": [
    {
     "name": "stdout",
     "output_type": "stream",
     "text": [
      "Correct!\n"
     ]
    }
   ],
   "source": [
    "import hashlib\n",
    "_myhash = lambda x: hashlib.md5(str(x).encode()).hexdigest()\n",
    "if _myhash(set(Q3_answer))=='190cda75e2bd9dc669b09abe9f1131c5':\n",
    "    print('Correct!')\n",
    "else:\n",
    "    print('Not correct! Please try again!')"
   ]
  },
  {
   "cell_type": "code",
   "execution_count": null,
   "metadata": {
    "deletable": false,
    "editable": false,
    "hideCode": true,
    "nbgrader": {
     "cell_type": "code",
     "checksum": "9529dab4886dc81011ba64f1bf969c09",
     "grade": true,
     "grade_id": "ch5_q3_test",
     "locked": true,
     "points": 2,
     "schema_version": 3,
     "solution": false
    }
   },
   "outputs": [],
   "source": [
    "# nbgrader cell\n"
   ]
  },
  {
   "cell_type": "markdown",
   "metadata": {
    "deletable": false,
    "editable": false,
    "nbgrader": {
     "cell_type": "markdown",
     "checksum": "e1c9dc54beba200bd78d5224a0e3da73",
     "grade": false,
     "grade_id": "cell-c2f57a206edf9106",
     "locked": true,
     "schema_version": 3,
     "solution": false
    }
   },
   "source": [
    "Another information that can be useful to get from the desicion tree model is what features contributed to the result of the classification the most. Check the cell below. "
   ]
  },
  {
   "cell_type": "code",
   "execution_count": 21,
   "metadata": {
    "deletable": false,
    "editable": false,
    "nbgrader": {
     "cell_type": "code",
     "checksum": "24eb3c07408e0c468de0ba540316a4da",
     "grade": false,
     "grade_id": "cell-2a62015f131708d6",
     "locked": true,
     "schema_version": 3,
     "solution": false
    }
   },
   "outputs": [
    {
     "data": {
      "image/png": "[encoded data removed]",
      "text/plain": [
       "<Figure size 432x288 with 1 Axes>"
      ]
     },
     "metadata": {
      "needs_background": "light"
     },
     "output_type": "display_data"
    }
   ],
   "source": [
    "import matplotlib.pyplot as plt\n",
    "plt.style.use('ggplot')\n",
    "%matplotlib inline\n",
    "\n",
    "features_importances = pd.Series(decision_tree_clf.feature_importances_, index=df_wine.columns[:-1])\n",
    "features_importances.nlargest(8).plot(kind='barh')\n",
    "plt.show()"
   ]
  },
  {
   "cell_type": "markdown",
   "metadata": {
    "deletable": false,
    "editable": false,
    "nbgrader": {
     "cell_type": "markdown",
     "checksum": "ba88c6098ea19ea3d09ec91cc5805c90",
     "grade": false,
     "grade_id": "cell-7f0120e5d4da22bd",
     "locked": true,
     "schema_version": 3,
     "solution": false
    }
   },
   "source": [
    "We can see from the plot above that the biggest feature importance coming from the features 'proline', 'od280/od315_of_diluted_wines' and 'flavanoids'. \n",
    "\n",
    "Let's explore this further. In the cell below we plot distribusions of data stored in the 5 most important features by three classes of wine."
   ]
  },
  {
   "cell_type": "code",
   "execution_count": 22,
   "metadata": {
    "deletable": false,
    "editable": false,
    "nbgrader": {
     "cell_type": "code",
     "checksum": "826c1e6c6022b15240b1a025ba475fca",
     "grade": false,
     "grade_id": "cell-e8a61f62873cf29d",
     "locked": true,
     "schema_version": 3,
     "solution": false
    }
   },
   "outputs": [
    {
     "name": "stdout",
     "output_type": "stream",
     "text": [
      "proline\n"
     ]
    },
    {
     "data": {
      "image/png": "[encoded data removed]",
      "text/plain": [
       "<Figure size 720x432 with 2 Axes>"
      ]
     },
     "metadata": {
      "needs_background": "light"
     },
     "output_type": "display_data"
    },
    {
     "name": "stdout",
     "output_type": "stream",
     "text": [
      "od280/od315_of_diluted_wines\n"
     ]
    },
    {
     "data": {
      "image/png": "[encoded data removed]",
      "text/plain": [
       "<Figure size 720x432 with 2 Axes>"
      ]
     },
     "metadata": {
      "needs_background": "light"
     },
     "output_type": "display_data"
    },
    {
     "name": "stdout",
     "output_type": "stream",
     "text": [
      "flavanoids\n"
     ]
    },
    {
     "data": {
      "image/png": "[encoded data removed]",
      "text/plain": [
       "<Figure size 720x432 with 2 Axes>"
      ]
     },
     "metadata": {
      "needs_background": "light"
     },
     "output_type": "display_data"
    },
    {
     "name": "stdout",
     "output_type": "stream",
     "text": [
      "alcalinity_of_ash\n"
     ]
    },
    {
     "data": {
      "image/png": "[encoded data removed]",
      "text/plain": [
       "<Figure size 720x432 with 2 Axes>"
      ]
     },
     "metadata": {
      "needs_background": "light"
     },
     "output_type": "display_data"
    },
    {
     "name": "stdout",
     "output_type": "stream",
     "text": [
      "color_intensity\n"
     ]
    },
    {
     "data": {
      "image/png": "[encoded data removed]",
      "text/plain": [
       "<Figure size 720x432 with 2 Axes>"
      ]
     },
     "metadata": {
      "needs_background": "light"
     },
     "output_type": "display_data"
    }
   ],
   "source": [
    "import seaborn as sns\n",
    "import matplotlib.gridspec as gridspec\n",
    "\n",
    "for feature in features_importances.nlargest(5).index:\n",
    "    print(feature)\n",
    "    fig = plt.figure(figsize=(10,6))\n",
    "    gs1 = gridspec.GridSpec(3,1)\n",
    "    ax1 = plt.subplot(gs1[:-1])\n",
    "    ax2 = plt.subplot(gs1[-1])\n",
    "    gs1.update(right=0.60)\n",
    "    sns.boxplot(x='target',y=feature,data=df_wine,ax=ax2)\n",
    "    sns.kdeplot(df_wine[df_wine.target==0][feature],ax=ax1,label='0')\n",
    "    sns.kdeplot(df_wine[feature][df_wine.target==1],ax=ax1,label='1')\n",
    "    sns.kdeplot(df_wine[feature][df_wine.target==2],ax=ax1,label='2')\n",
    "    ax2.yaxis.label.set_visible(False)\n",
    "    ax1.xaxis.set_visible(False)\n",
    "    plt.show()"
   ]
  },
  {
   "cell_type": "markdown",
   "metadata": {
    "deletable": false,
    "editable": false,
    "nbgrader": {
     "cell_type": "markdown",
     "checksum": "e822a936bc930215431dd7c31d7adc75",
     "grade": false,
     "grade_id": "cell-b1a66a3c5e438d29",
     "locked": true,
     "schema_version": 3,
     "solution": false
    }
   },
   "source": [
    "Observe from the above figures that the feature 'proline' is a great feature to separate class 0 from 1 and 2, while the feature 'od280/od315_of_diluted_wines' does a good job for the separation of class 1 and 2. Thus we understand that it is a good strategy to first use 'proline' to separate 0 from 1 and 2, and then separate 1 and 2 using 'od280/od315_of_diluted_wines'. \n",
    "\n",
    "This little exercise illustrates how such visual investigations can help us to understand the decision tree choices a little bit better and make us trust the model more.  "
   ]
  },
  {
   "cell_type": "markdown",
   "metadata": {
    "deletable": false,
    "editable": false,
    "nbgrader": {
     "cell_type": "markdown",
     "checksum": "404eae748e655322c5a671b3884c8413",
     "grade": false,
     "grade_id": "cell-a4b814d8ebfce291",
     "locked": true,
     "schema_version": 3,
     "solution": false
    }
   },
   "source": [
    "There are a lot of advantages and disadvantages in using decision trees. For example, we can name the following: \n",
    "\n",
    "**Advantages**\n",
    "1. Easy to interpret and make for straightforward visualizations.\n",
    "2. The internal workings are capable of being observed and thus make it possible to reproduce work.\n",
    "3. Can handle both numerical and categorical data.\n",
    "4. Perform well on large datasets.\n",
    "5. Are extremely fast.\n",
    "\n",
    "**Disadvantages**\n",
    "1. Decision trees are prone to over-fitting, especially when a tree is particularly deep. \n",
    "2. Trees can be unstable because small variations in data might result in a completely different tree being generated.\n",
    "3. Can have poor prediction accuracy for responses with low sample sizes.\n",
    "\n",
    "Ideally, we would like to minimize both error due to bias and error due to variance. This is where random forests comes in. Random forests mitigate this problem well. A random forest is simply a collection of decision trees whose results are aggregated into one final result. Their ability to limit over-fitting without substantially increasing the error due to bias is why they are such powerful models."
   ]
  },
  {
   "cell_type": "markdown",
   "metadata": {
    "deletable": false,
    "editable": false,
    "nbgrader": {
     "cell_type": "markdown",
     "checksum": "95c1447324bf947968fefc9f8b3f34bc",
     "grade": false,
     "grade_id": "cell-95331c4cee24cd83",
     "locked": true,
     "schema_version": 3,
     "solution": false
    }
   },
   "source": [
    "### Random Forest"
   ]
  },
  {
   "cell_type": "markdown",
   "metadata": {
    "deletable": false,
    "editable": false,
    "nbgrader": {
     "cell_type": "markdown",
     "checksum": "fb4849743956a1f7e1390a6199fba7ef",
     "grade": false,
     "grade_id": "cell-75e42042370f40b7",
     "locked": true,
     "schema_version": 3,
     "solution": false
    }
   },
   "source": [
    "### Q4 (multiple choice):\n",
    "\n",
    "Which of the following statements are true?\n",
    "1. Each decision tree in a random forest is built using on average only 67% unique amount of the data. \n",
    "2. The different trees in a random forest use the same 67% of data. \n",
    "3. Random forest is built from a methodology referred to as bootstrap aggregation. \n",
    "4. Random forest uses average voting system for classification while majority for regression. \n",
    "5. To make the trees uncorrelated, the trees are splitted using only a subset of the full feature space. "
   ]
  },
  {
   "cell_type": "code",
   "execution_count": 23,
   "metadata": {
    "deletable": false,
    "nbgrader": {
     "cell_type": "code",
     "checksum": "70db1d4a6e455212586c09a59760f3b7",
     "grade": false,
     "grade_id": "ch5_q4",
     "locked": false,
     "schema_version": 3,
     "solution": true
    }
   },
   "outputs": [],
   "source": [
    "# Fill in your answer in the form of a list of a number or numbers: example Q4_answer = [5,6,8]\n",
    "### START ANSWER HERE ###\n",
    "Q4_answer = [1,3,5]\n",
    "### END ANSWER HERE ###"
   ]
  },
  {
   "cell_type": "code",
   "execution_count": 24,
   "metadata": {
    "deletable": false,
    "editable": false,
    "hideCode": true,
    "nbgrader": {
     "cell_type": "code",
     "checksum": "a52ba6cb2ab3eed3dbe6f0bcc956b606",
     "grade": false,
     "grade_id": "cell-af4d30862a36f791",
     "locked": true,
     "schema_version": 3,
     "solution": false,
     "task": false
    },
    "selfTest": true
   },
   "outputs": [
    {
     "name": "stdout",
     "output_type": "stream",
     "text": [
      "Correct!\n"
     ]
    }
   ],
   "source": [
    "import hashlib\n",
    "_myhash = lambda x: hashlib.md5(str(x).encode()).hexdigest()\n",
    "if _myhash(set(Q4_answer))=='e77261952e47cec62134d2d763c64232':\n",
    "    print('Correct!')\n",
    "else:\n",
    "    print('Not correct! Please try again!')"
   ]
  },
  {
   "cell_type": "code",
   "execution_count": null,
   "metadata": {
    "deletable": false,
    "editable": false,
    "hideCode": true,
    "nbgrader": {
     "cell_type": "code",
     "checksum": "e4b1beb0bcc99afbce89b791cc8f034a",
     "grade": true,
     "grade_id": "ch5_q4_test",
     "locked": true,
     "points": 2,
     "schema_version": 3,
     "solution": false
    }
   },
   "outputs": [],
   "source": [
    "# nbgrader cell\n"
   ]
  },
  {
   "cell_type": "markdown",
   "metadata": {
    "deletable": false,
    "editable": false,
    "nbgrader": {
     "cell_type": "markdown",
     "checksum": "c0af02d403fe04626ed8f8f63e0dd6fa",
     "grade": false,
     "grade_id": "cell-993117ca26f67479",
     "locked": true,
     "schema_version": 3,
     "solution": false
    }
   },
   "source": [
    "### Q5: \n",
    "\n",
    "Train a random forest model.\n",
    "\n",
    "**Hints:**\n",
    "* import the necessary package from scikit-learn\n",
    "* use `random_forest_clf = RandomForestClassifier()` with correct input.\n",
    "* train a random forest with `n_estimators=100, random_state=1` using train data. "
   ]
  },
  {
   "cell_type": "code",
   "execution_count": 26,
   "metadata": {
    "deletable": false,
    "nbgrader": {
     "cell_type": "code",
     "checksum": "3abe0a9c0f387909ca35d18fea3b2045",
     "grade": false,
     "grade_id": "ch5_q5",
     "locked": false,
     "schema_version": 3,
     "solution": true
    }
   },
   "outputs": [
    {
     "data": {
      "text/plain": [
       "RandomForestClassifier(bootstrap=True, class_weight=None, criterion='gini',\n",
       "                       max_depth=None, max_features='auto', max_leaf_nodes=None,\n",
       "                       min_impurity_decrease=0.0, min_impurity_split=None,\n",
       "                       min_samples_leaf=1, min_samples_split=2,\n",
       "                       min_weight_fraction_leaf=0.0, n_estimators=100,\n",
       "                       n_jobs=None, oob_score=False, random_state=1, verbose=0,\n",
       "                       warm_start=False)"
      ]
     },
     "execution_count": 26,
     "metadata": {},
     "output_type": "execute_result"
    }
   ],
   "source": [
    "# (approx. 3 lines of the code)\n",
    "\n",
    "### START ANSWER HERE ###\n",
    "from sklearn.ensemble import RandomForestClassifier\n",
    "random_forest_clf = RandomForestClassifier(n_estimators=100, random_state=1)\n",
    "random_forest_clf.fit(X_train, y_train)\n",
    "### END ANSWER HERE ###"
   ]
  },
  {
   "cell_type": "code",
   "execution_count": 27,
   "metadata": {
    "deletable": false,
    "editable": false,
    "nbgrader": {
     "cell_type": "code",
     "checksum": "a5f2e1627b47e39b055c69dafbbde30d",
     "grade": false,
     "grade_id": "cell-3478e43e6b5270cb",
     "locked": true,
     "schema_version": 3,
     "solution": false,
     "task": false
    }
   },
   "outputs": [
    {
     "name": "stdout",
     "output_type": "stream",
     "text": [
      "number of classes:  3\n",
      "number of features:  13\n"
     ]
    }
   ],
   "source": [
    "print('number of classes: ', random_forest_clf.n_classes_)\n",
    "print('number of features: ', random_forest_clf.n_features_) "
   ]
  },
  {
   "cell_type": "markdown",
   "metadata": {
    "deletable": false,
    "editable": false,
    "nbgrader": {
     "cell_type": "markdown",
     "checksum": "9d67cad67ce7db93b54c860fba2c8563",
     "grade": false,
     "grade_id": "cell-7c1b8026d53da4d6",
     "locked": true,
     "schema_version": 3,
     "solution": false
    }
   },
   "source": [
    "**Expected Output**: \n",
    "<table style = \"width:40%\">\n",
    "    <tr>\n",
    "    <td>number of classes</td> \n",
    "        <td>3</td> \n",
    "    </tr>\n",
    "    <tr>\n",
    "    <td>number of features</td> \n",
    "        <td>13</td> \n",
    "    </tr>\n",
    "</table>"
   ]
  },
  {
   "cell_type": "code",
   "execution_count": null,
   "metadata": {
    "deletable": false,
    "editable": false,
    "hideCode": true,
    "nbgrader": {
     "cell_type": "code",
     "checksum": "bff92003f08450f153e032a462ee0501",
     "grade": true,
     "grade_id": "ch5_q5_test",
     "locked": true,
     "points": 2,
     "schema_version": 3,
     "solution": false
    }
   },
   "outputs": [],
   "source": [
    "# nbgrader cell\n"
   ]
  },
  {
   "cell_type": "markdown",
   "metadata": {
    "deletable": false,
    "editable": false,
    "nbgrader": {
     "cell_type": "markdown",
     "checksum": "d99a326a77d765e59640901f5363541a",
     "grade": false,
     "grade_id": "cell-5ff16eb0b0701059",
     "locked": true,
     "schema_version": 3,
     "solution": false
    }
   },
   "source": [
    "Now let's compare the preformance of the decision tree and the random forest model. Export classification reports on the test set."
   ]
  },
  {
   "cell_type": "code",
   "execution_count": 28,
   "metadata": {
    "deletable": false,
    "editable": false,
    "nbgrader": {
     "cell_type": "code",
     "checksum": "fe50b982d4bebce17bfbb90d911efa91",
     "grade": false,
     "grade_id": "cell-d671b97094a503a1",
     "locked": true,
     "schema_version": 3,
     "solution": false
    }
   },
   "outputs": [
    {
     "name": "stdout",
     "output_type": "stream",
     "text": [
      "------------------- Decision trees -------------------\n"
     ]
    },
    {
     "ename": "NameError",
     "evalue": "name 'classification_report' is not defined",
     "output_type": "error",
     "traceback": [
      "\u001b[0;31m---------------------------------------------------------------------------\u001b[0m",
      "\u001b[0;31mNameError\u001b[0m                                 Traceback (most recent call last)",
      "\u001b[0;32m<ipython-input-28-e7c32e56c416>\u001b[0m in \u001b[0;36m<module>\u001b[0;34m\u001b[0m\n\u001b[1;32m      1\u001b[0m \u001b[0mprint\u001b[0m\u001b[0;34m(\u001b[0m\u001b[0;34m\"\"\"------------------- Decision trees -------------------\"\"\"\u001b[0m\u001b[0;34m)\u001b[0m\u001b[0;34m\u001b[0m\u001b[0;34m\u001b[0m\u001b[0m\n\u001b[0;32m----> 2\u001b[0;31m \u001b[0mprint\u001b[0m\u001b[0;34m(\u001b[0m\u001b[0mclassification_report\u001b[0m\u001b[0;34m(\u001b[0m\u001b[0my_test\u001b[0m\u001b[0;34m,\u001b[0m\u001b[0mdecision_tree_clf\u001b[0m\u001b[0;34m.\u001b[0m\u001b[0mpredict\u001b[0m\u001b[0;34m(\u001b[0m\u001b[0mX_test\u001b[0m\u001b[0;34m)\u001b[0m\u001b[0;34m)\u001b[0m\u001b[0;34m)\u001b[0m\u001b[0;34m\u001b[0m\u001b[0;34m\u001b[0m\u001b[0m\n\u001b[0m\u001b[1;32m      3\u001b[0m \u001b[0;34m\u001b[0m\u001b[0m\n\u001b[1;32m      4\u001b[0m \u001b[0mprint\u001b[0m\u001b[0;34m(\u001b[0m\u001b[0;34m'\\n'\u001b[0m\u001b[0;34m)\u001b[0m\u001b[0;34m\u001b[0m\u001b[0;34m\u001b[0m\u001b[0m\n\u001b[1;32m      5\u001b[0m \u001b[0;34m\u001b[0m\u001b[0m\n",
      "\u001b[0;31mNameError\u001b[0m: name 'classification_report' is not defined"
     ]
    }
   ],
   "source": [
    "print(\"\"\"------------------- Decision trees -------------------\"\"\")\n",
    "print(classification_report(y_test,decision_tree_clf.predict(X_test)))\n",
    "\n",
    "print('\\n')\n",
    "\n",
    "print(\"\"\"------------------- Random forest -------------------\"\"\")\n",
    "print(classification_report(y_test,random_forest_clf.predict(X_test)))"
   ]
  },
  {
   "cell_type": "markdown",
   "metadata": {
    "deletable": false,
    "editable": false,
    "nbgrader": {
     "cell_type": "markdown",
     "checksum": "20af53e657b3d57abc5dd5b6991dae51",
     "grade": false,
     "grade_id": "cell-8a20d6016d937866",
     "locked": true,
     "schema_version": 3,
     "solution": false,
     "task": false
    }
   },
   "source": [
    "Let's also check the mean accuracy score for the random forest."
   ]
  },
  {
   "cell_type": "code",
   "execution_count": 29,
   "metadata": {
    "deletable": false,
    "editable": false,
    "nbgrader": {
     "cell_type": "code",
     "checksum": "16cbfdf0226d830e3effac4e6ff274e3",
     "grade": false,
     "grade_id": "cell-cbe4041a02bc0139",
     "locked": true,
     "schema_version": 3,
     "solution": false,
     "task": false
    }
   },
   "outputs": [
    {
     "name": "stdout",
     "output_type": "stream",
     "text": [
      "Accuracy train/test: 1.00/0.98\n"
     ]
    }
   ],
   "source": [
    "train_score = random_forest_clf.score(X_train,y_train)\n",
    "test_score = random_forest_clf.score(X_test,y_test)\n",
    "print(\"Accuracy train/test: %.2f/%.2f\" % (train_score, test_score))"
   ]
  },
  {
   "cell_type": "markdown",
   "metadata": {
    "deletable": false,
    "editable": false,
    "nbgrader": {
     "cell_type": "markdown",
     "checksum": "6d8d857b0654add91ad5f3ff468cd060",
     "grade": false,
     "grade_id": "cell-2a17cf6366fc3376",
     "locked": true,
     "schema_version": 3,
     "solution": false
    }
   },
   "source": [
    "Although it is very hard to see, as we train perfectly both using decision trees and random forest, we do generalize a little bit better with random forest and perform better on the test set with random forest. \n",
    "\n",
    "Now let's try some other methods as well."
   ]
  },
  {
   "cell_type": "markdown",
   "metadata": {
    "deletable": false,
    "editable": false,
    "nbgrader": {
     "cell_type": "markdown",
     "checksum": "e1fc243ea85489f70e9a63be450e2cab",
     "grade": false,
     "grade_id": "cell-6295b77cb1dd1c0d",
     "locked": true,
     "schema_version": 3,
     "solution": false
    }
   },
   "source": [
    "### K-Nearest Neighbors Algorithm\n",
    "\n",
    "In the reading material we discussed the $k$-nearest neighbor algorithm for classification and regression. Now let's try to implement it for our problem."
   ]
  },
  {
   "cell_type": "markdown",
   "metadata": {
    "deletable": false,
    "editable": false,
    "nbgrader": {
     "cell_type": "markdown",
     "checksum": "50a171378bf9a2ee5dc0f11ea9ce1bc5",
     "grade": false,
     "grade_id": "cell-82122f98cc249928",
     "locked": true,
     "schema_version": 3,
     "solution": false
    }
   },
   "source": [
    "### Q6 (multiple choice):\n",
    "\n",
    "Which of the following statements are true?\n",
    "\n",
    "1. $k$-nearest neighbor does not need to be trained. \n",
    "2. $k$-nearest neighbor can perform badly when the features have different scales since it uses a distance metric. \n",
    "2. $k$-nearest neighbor takes a long time to make a prediction when there are many features. "
   ]
  },
  {
   "cell_type": "code",
   "execution_count": 32,
   "metadata": {
    "deletable": false,
    "nbgrader": {
     "cell_type": "code",
     "checksum": "987015c2dbda5ec1921746d447eb7dab",
     "grade": false,
     "grade_id": "ch5_q6",
     "locked": false,
     "schema_version": 3,
     "solution": true
    }
   },
   "outputs": [],
   "source": [
    "# Fill in your answer in the form of a list of a number or numbers: example Q6_answer = [5,6,8]\n",
    "\n",
    "### START ANSWER HERE ###\n",
    "Q6_answer = [1,2,3]\n",
    "### END ANSWER HERE ###"
   ]
  },
  {
   "cell_type": "code",
   "execution_count": 33,
   "metadata": {
    "deletable": false,
    "editable": false,
    "hideCode": true,
    "nbgrader": {
     "cell_type": "code",
     "checksum": "5d299fde11f7e987d12adb8f00561241",
     "grade": false,
     "grade_id": "cell-617025df7161a6d0",
     "locked": true,
     "schema_version": 3,
     "solution": false,
     "task": false
    },
    "selfTest": true
   },
   "outputs": [
    {
     "name": "stdout",
     "output_type": "stream",
     "text": [
      "Correct!\n"
     ]
    }
   ],
   "source": [
    "import hashlib\n",
    "_myhash = lambda x: hashlib.md5(str(x).encode()).hexdigest()\n",
    "if _myhash(set(Q6_answer))=='89f36ca994427830ee4d7f42bc8d88db':\n",
    "    print('Correct!')\n",
    "else:\n",
    "    print('Not correct! Please try again!')"
   ]
  },
  {
   "cell_type": "code",
   "execution_count": null,
   "metadata": {
    "deletable": false,
    "editable": false,
    "hideCode": true,
    "nbgrader": {
     "cell_type": "code",
     "checksum": "3d2299cfc0c07fe32ee9441ed71305ff",
     "grade": true,
     "grade_id": "ch5_q6_test",
     "locked": true,
     "points": 2,
     "schema_version": 3,
     "solution": false
    }
   },
   "outputs": [],
   "source": [
    "# nbgrader cell\n"
   ]
  },
  {
   "cell_type": "markdown",
   "metadata": {
    "deletable": false,
    "editable": false,
    "nbgrader": {
     "cell_type": "markdown",
     "checksum": "08105ba69876a0cf0478a4eb408bf0e2",
     "grade": false,
     "grade_id": "cell-272ea6f2dc85a208",
     "locked": true,
     "schema_version": 3,
     "solution": false
    }
   },
   "source": [
    "### Q7:\n",
    "\n",
    "Implement K-Nearest Neighbors classifier (without scaling!).\n",
    "\n",
    "**Hints:**\n",
    "* import the necessary packages\n",
    "* create the model with `n_neighbors=50`. Use `kneighbors_clf = KNeighborsClassifier()` with correct input."
   ]
  },
  {
   "cell_type": "code",
   "execution_count": 36,
   "metadata": {
    "deletable": false,
    "hideCode": false,
    "nbgrader": {
     "cell_type": "code",
     "checksum": "fbe5d71da6997d82dd198646d8be9e4f",
     "grade": false,
     "grade_id": "ch5_q7",
     "locked": false,
     "schema_version": 3,
     "solution": true
    }
   },
   "outputs": [
    {
     "data": {
      "text/plain": [
       "KNeighborsClassifier(algorithm='auto', leaf_size=30, metric='minkowski',\n",
       "                     metric_params=None, n_jobs=None, n_neighbors=50, p=2,\n",
       "                     weights='uniform')"
      ]
     },
     "execution_count": 36,
     "metadata": {},
     "output_type": "execute_result"
    }
   ],
   "source": [
    "# (approx. 3 lines of code)\n",
    "\n",
    "### START ANSWER HERE ###\n",
    "from sklearn.neighbors import KNeighborsClassifier\n",
    "kneighbors_clf = KNeighborsClassifier(n_neighbors=50)\n",
    "kneighbors_clf.fit(X_train, y_train)\n",
    "### END ANSWER HERE ###"
   ]
  },
  {
   "cell_type": "code",
   "execution_count": 37,
   "metadata": {
    "deletable": false,
    "editable": false,
    "hideCode": true,
    "nbgrader": {
     "cell_type": "code",
     "checksum": "6a4b38498819d5dd10187f00711a79b0",
     "grade": false,
     "grade_id": "cell-6043c42157890d93",
     "locked": true,
     "schema_version": 3,
     "solution": false,
     "task": false
    },
    "selfTest": true
   },
   "outputs": [
    {
     "name": "stdout",
     "output_type": "stream",
     "text": [
      "Correct!\n"
     ]
    }
   ],
   "source": [
    "if isinstance(kneighbors_clf, KNeighborsClassifier):\n",
    "    print('Correct!')\n",
    "else:\n",
    "    print('Not correct! Please try again!')"
   ]
  },
  {
   "cell_type": "markdown",
   "metadata": {
    "deletable": false,
    "editable": false,
    "nbgrader": {
     "cell_type": "markdown",
     "checksum": "4130889434f126001136748a47bfc58d",
     "grade": false,
     "grade_id": "cell-560c829c29333fed",
     "locked": true,
     "schema_version": 3,
     "solution": false
    }
   },
   "source": [
    "**Sidenote for the interested reader** \n",
    "\n",
    "**Why do you need to fit the `kneighbors_clf` when we have just learned that there is no training phase?**\n",
    "\n",
    "Evaluating a k-nearest neighbor classifier on a new data point requires searching for its nearest neighbors in the training set, which can be an expensive operation when the training set is large. There are various tricks to speed up this search, which typically work by creating various data structures based on the training set. The general idea is that some of the computational work needed to classify new points is actually common across points. So, this work can be done ahead of time and then re-used, rather than repeated for each new instance. A k-nearest neighbor classifier implementation using these tricks would do this work during the training phase. For example, scikit-learn can construct kd-trees or ball trees during the call to the `.fit()` function."
   ]
  },
  {
   "cell_type": "code",
   "execution_count": null,
   "metadata": {
    "deletable": false,
    "editable": false,
    "hideCode": true,
    "nbgrader": {
     "cell_type": "code",
     "checksum": "3445f88ef578e849de6a3934d3410bdd",
     "grade": true,
     "grade_id": "ch5_q7_test",
     "locked": true,
     "points": 2,
     "schema_version": 3,
     "solution": false
    }
   },
   "outputs": [],
   "source": [
    "# nbgrader\n"
   ]
  },
  {
   "cell_type": "markdown",
   "metadata": {
    "deletable": false,
    "editable": false,
    "nbgrader": {
     "cell_type": "markdown",
     "checksum": "3642abc919dc887f76204eb77186a20e",
     "grade": false,
     "grade_id": "cell-7ece830e4df2ccd9",
     "locked": true,
     "schema_version": 3,
     "solution": false
    }
   },
   "source": [
    "Let's see how the model performs."
   ]
  },
  {
   "cell_type": "code",
   "execution_count": 39,
   "metadata": {
    "deletable": false,
    "editable": false,
    "nbgrader": {
     "cell_type": "code",
     "checksum": "0c7c72e4db87295adf283eb260fde1ad",
     "grade": false,
     "grade_id": "cell-4571bf5df57479df",
     "locked": true,
     "schema_version": 3,
     "solution": false
    }
   },
   "outputs": [
    {
     "ename": "NameError",
     "evalue": "name 'classification_report' is not defined",
     "output_type": "error",
     "traceback": [
      "\u001b[0;31m---------------------------------------------------------------------------\u001b[0m",
      "\u001b[0;31mNameError\u001b[0m                                 Traceback (most recent call last)",
      "\u001b[0;32m<ipython-input-39-911e7cf704a2>\u001b[0m in \u001b[0;36m<module>\u001b[0;34m\u001b[0m\n\u001b[0;32m----> 1\u001b[0;31m \u001b[0mprint\u001b[0m\u001b[0;34m(\u001b[0m\u001b[0mclassification_report\u001b[0m\u001b[0;34m(\u001b[0m\u001b[0my_test\u001b[0m\u001b[0;34m,\u001b[0m\u001b[0mkneighbors_clf\u001b[0m\u001b[0;34m.\u001b[0m\u001b[0mpredict\u001b[0m\u001b[0;34m(\u001b[0m\u001b[0mX_test\u001b[0m\u001b[0;34m)\u001b[0m\u001b[0;34m)\u001b[0m\u001b[0;34m)\u001b[0m\u001b[0;34m\u001b[0m\u001b[0;34m\u001b[0m\u001b[0m\n\u001b[0m",
      "\u001b[0;31mNameError\u001b[0m: name 'classification_report' is not defined"
     ]
    }
   ],
   "source": [
    "print(classification_report(y_test,kneighbors_clf.predict(X_test)))"
   ]
  },
  {
   "cell_type": "markdown",
   "metadata": {
    "deletable": false,
    "editable": false,
    "nbgrader": {
     "cell_type": "markdown",
     "checksum": "656f83a48d96dd67e78757a3604646ae",
     "grade": false,
     "grade_id": "cell-dba5ebf568c4301d",
     "locked": true,
     "schema_version": 3,
     "solution": false
    }
   },
   "source": [
    "K-nearest neighbor classifier model seems to be doing much worse than both decision trees and random forest. However, remember that we still haven't scaled our data. Since $k$-nearest neighbor uses a distance metric, such as for example standard Euclidean distance, to find the neighbors, if the features are not scaled, features with bigger variance will have more importance in the distance calculation. This might be why $k$-nearest neighbor performs badly. \n",
    "\n",
    "Now let't try scaling and see how it will affect the performance of the model."
   ]
  },
  {
   "cell_type": "code",
   "execution_count": 40,
   "metadata": {
    "deletable": false,
    "editable": false,
    "nbgrader": {
     "cell_type": "code",
     "checksum": "3b82032ae707637192e5c7d939119d2a",
     "grade": false,
     "grade_id": "cell-73c31d73b922f058",
     "locked": true,
     "schema_version": 3,
     "solution": false
    }
   },
   "outputs": [
    {
     "data": {
      "text/plain": [
       "KNeighborsClassifier(algorithm='auto', leaf_size=30, metric='minkowski',\n",
       "                     metric_params=None, n_jobs=None, n_neighbors=50, p=2,\n",
       "                     weights='uniform')"
      ]
     },
     "execution_count": 40,
     "metadata": {},
     "output_type": "execute_result"
    }
   ],
   "source": [
    "from sklearn.preprocessing import StandardScaler\n",
    "sc = StandardScaler()\n",
    "sc.fit(X_train)\n",
    "X_train_scaled = sc.transform(X_train)\n",
    "X_test_scaled = sc.transform(X_test)\n",
    "\n",
    "kneighbors_clf_sc = KNeighborsClassifier(n_neighbors=50)\n",
    "kneighbors_clf_sc.fit(X_train_scaled,y_train)"
   ]
  },
  {
   "cell_type": "code",
   "execution_count": 41,
   "metadata": {
    "deletable": false,
    "editable": false,
    "nbgrader": {
     "cell_type": "code",
     "checksum": "2aa4371a07110836fae09545deff0c84",
     "grade": false,
     "grade_id": "cell-9badb8a9a7a4790f",
     "locked": true,
     "schema_version": 3,
     "solution": false
    }
   },
   "outputs": [
    {
     "ename": "NameError",
     "evalue": "name 'classification_report' is not defined",
     "output_type": "error",
     "traceback": [
      "\u001b[0;31m---------------------------------------------------------------------------\u001b[0m",
      "\u001b[0;31mNameError\u001b[0m                                 Traceback (most recent call last)",
      "\u001b[0;32m<ipython-input-41-32949d7618b9>\u001b[0m in \u001b[0;36m<module>\u001b[0;34m\u001b[0m\n\u001b[0;32m----> 1\u001b[0;31m \u001b[0mprint\u001b[0m\u001b[0;34m(\u001b[0m\u001b[0mclassification_report\u001b[0m\u001b[0;34m(\u001b[0m\u001b[0my_test\u001b[0m\u001b[0;34m,\u001b[0m\u001b[0mkneighbors_clf_sc\u001b[0m\u001b[0;34m.\u001b[0m\u001b[0mpredict\u001b[0m\u001b[0;34m(\u001b[0m\u001b[0mX_test_scaled\u001b[0m\u001b[0;34m)\u001b[0m\u001b[0;34m)\u001b[0m\u001b[0;34m)\u001b[0m\u001b[0;34m\u001b[0m\u001b[0;34m\u001b[0m\u001b[0m\n\u001b[0m",
      "\u001b[0;31mNameError\u001b[0m: name 'classification_report' is not defined"
     ]
    }
   ],
   "source": [
    "print(classification_report(y_test,kneighbors_clf_sc.predict(X_test_scaled)))"
   ]
  },
  {
   "cell_type": "markdown",
   "metadata": {
    "deletable": false,
    "editable": false,
    "nbgrader": {
     "cell_type": "markdown",
     "checksum": "8e09efaba47cb61ef309cda6a0601f01",
     "grade": false,
     "grade_id": "cell-0ac03c3320f72ace",
     "locked": true,
     "schema_version": 3,
     "solution": false
    }
   },
   "source": [
    "Now the $k$-nearest neighbor performs much better!"
   ]
  },
  {
   "cell_type": "markdown",
   "metadata": {
    "deletable": false,
    "editable": false,
    "nbgrader": {
     "cell_type": "markdown",
     "checksum": "31218cf8e8cb1efdddabf354aa36998f",
     "grade": false,
     "grade_id": "cell-a74263f0f0a0f808",
     "locked": true,
     "schema_version": 3,
     "solution": false
    }
   },
   "source": [
    "Some of the advantages and disadvantages using $k$-nearest neighbor algorithm are: \n",
    "\n",
    "**Advantages**\n",
    "\n",
    "1. Simple to understand and easy to implement. \n",
    "2. $k$-nearest neighbor works easily with multiclass datasets.\n",
    "\n",
    "**Disadvantages**\n",
    "\n",
    "1. $k$-nearest neighbor algorithm can be computationally expensive during testing phase if there is a lot of data.\n",
    "2. Distance metrics have less sense when the feature space is large, thus $k$-nearest neighbor can perform badly. \n",
    "3. $k$-nearest neighbor can suffer from skewed class distributions. For example, if a certain class is very frequent in the training set, it will tend to dominate the majority voting of the new example (large number = more common). "
   ]
  },
  {
   "cell_type": "markdown",
   "metadata": {
    "deletable": false,
    "editable": false,
    "nbgrader": {
     "cell_type": "markdown",
     "checksum": "8733f22137c21e1cfd799090d885131e",
     "grade": false,
     "grade_id": "cell-c3b08edf1f59633f",
     "locked": true,
     "schema_version": 3,
     "solution": false
    }
   },
   "source": [
    "### Neural Networks\n",
    "\n",
    "The last models we are discussing in this assignment are neural networks (NNs). In the reading material you have seen some examples of the use of NNs, now let's build one for our classification problem."
   ]
  },
  {
   "cell_type": "markdown",
   "metadata": {
    "deletable": false,
    "editable": false,
    "nbgrader": {
     "cell_type": "markdown",
     "checksum": "23d447b9de9fbd51226475a967cbef24",
     "grade": false,
     "grade_id": "cell-fefe5157a6147e01",
     "locked": true,
     "schema_version": 3,
     "solution": false
    }
   },
   "source": [
    "### Q8:\n",
    "\n",
    "Assume that we have a neural network with the following structure:\n",
    "- The input layer: four dimensional input, $x_1,x_2,x_3,x_4$. \n",
    "- The hidden layer: one hidden layer consisting of 10 hidden units. \n",
    "- The output layer: three dimensional output, $y_1,y_2,y_3$. \n",
    "\n",
    "What are the dimensions of the matrices $W^{[1]}$, $B^{[1]}$, $W^{[2]}$, $B^{[2]}$ in the neural network?"
   ]
  },
  {
   "cell_type": "code",
   "execution_count": 42,
   "metadata": {
    "deletable": false,
    "nbgrader": {
     "cell_type": "code",
     "checksum": "a51bdfbc6b421f07df5e623fa23c8f9a",
     "grade": false,
     "grade_id": "ch5_q8",
     "locked": false,
     "schema_version": 3,
     "solution": true
    }
   },
   "outputs": [],
   "source": [
    "# Fill in the correct dimensions in the tuple below of the form W_1 = (0,0); B_1 = (0,0); W_2 = (0,0); B_2 = (0,0)\n",
    "\n",
    "### START ANSWER HERE ###\n",
    "W_1 = (10,4)\n",
    "W_2 = (3,10)\n",
    "\n",
    "B_1 = (10,1)\n",
    "B_2 = (3,1)\n",
    "### END ANSWER HERE ###"
   ]
  },
  {
   "cell_type": "code",
   "execution_count": 43,
   "metadata": {
    "deletable": false,
    "editable": false,
    "hideCode": true,
    "nbgrader": {
     "cell_type": "code",
     "checksum": "78aefc5e5deeb0693ac2605512a32d20",
     "grade": false,
     "grade_id": "cell-904731eb7af798cd",
     "locked": true,
     "schema_version": 3,
     "solution": false,
     "task": false
    },
    "selfTest": true
   },
   "outputs": [
    {
     "name": "stdout",
     "output_type": "stream",
     "text": [
      "Correct!\n"
     ]
    }
   ],
   "source": [
    "import hashlib\n",
    "_myhash = lambda x: hashlib.md5(str(x).encode()).hexdigest()\n",
    "if _myhash(set(W_1)) != '6949d3a0aa8787cd83210f3bc8b9c571':\n",
    "    print('Not correct W_1! Please try again!')\n",
    "elif _myhash(set(W_2)) != 'b1d6e900cf92083002159f289de44088':\n",
    "    print('Not correct W_2! Please try again!')\n",
    "elif _myhash(set(B_1)) != '54ccf183909f4744fad78e5b2fb3bb9e':\n",
    "    print('Not correct B_1! Please try again!')\n",
    "elif _myhash(set(B_2)) != 'b793dd27381f7b63cada88b749c0e023':\n",
    "    print('Not correct B_2! Please try again!')\n",
    "else:\n",
    "    print('Correct!')"
   ]
  },
  {
   "cell_type": "code",
   "execution_count": null,
   "metadata": {
    "deletable": false,
    "editable": false,
    "hideCode": true,
    "nbgrader": {
     "cell_type": "code",
     "checksum": "c44e467acc353c8e9bc11adce73a6c40",
     "grade": true,
     "grade_id": "ch5_q8_test",
     "locked": true,
     "points": 3,
     "schema_version": 3,
     "solution": false
    }
   },
   "outputs": [],
   "source": [
    "# nbgrader\n"
   ]
  },
  {
   "cell_type": "markdown",
   "metadata": {
    "deletable": false,
    "editable": false,
    "nbgrader": {
     "cell_type": "markdown",
     "checksum": "6b16b3ba254bcd3356a02e067fe57b68",
     "grade": false,
     "grade_id": "cell-080efbb1f04fa80d",
     "locked": true,
     "schema_version": 3,
     "solution": false
    }
   },
   "source": [
    "### Q9:\n",
    "\n",
    "What is the total amount of trainable model parameters represented by the neural network above? "
   ]
  },
  {
   "cell_type": "code",
   "execution_count": 44,
   "metadata": {
    "deletable": false,
    "nbgrader": {
     "cell_type": "code",
     "checksum": "e430b5353a037548b1fefced441b9f2f",
     "grade": false,
     "grade_id": "ch5_q9",
     "locked": false,
     "schema_version": 3,
     "solution": true
    }
   },
   "outputs": [
    {
     "name": "stdout",
     "output_type": "stream",
     "text": [
      "73\n"
     ]
    }
   ],
   "source": [
    "# Fill the answer in the form Q9_answer = your answer. For example Q9_answer = 100\n",
    "\n",
    "### START ANSWER HERE ###\n",
    "Q9_answer = 10*4 + 3*10 + 3*1\n",
    "print(Q9_answer)\n",
    "### END ANSWER HERE ###"
   ]
  },
  {
   "cell_type": "code",
   "execution_count": 45,
   "metadata": {
    "deletable": false,
    "editable": false,
    "hideCode": true,
    "nbgrader": {
     "cell_type": "code",
     "checksum": "5d1ee6a30397cfa261f1410d5cff8b31",
     "grade": false,
     "grade_id": "cell-86182433ba1c0c28",
     "locked": true,
     "schema_version": 3,
     "solution": false,
     "task": false
    },
    "selfTest": true
   },
   "outputs": [
    {
     "name": "stdout",
     "output_type": "stream",
     "text": [
      "Not correct! Please, try again!\n"
     ]
    }
   ],
   "source": [
    "import hashlib\n",
    "_myhash = lambda x: hashlib.md5(str(x).encode()).hexdigest()\n",
    "if _myhash(Q9_answer) == 'fe9fc289c3ff0af142b6d3bead98a923':\n",
    "    print('Correct!')\n",
    "else:\n",
    "    print('Not correct! Please, try again!')"
   ]
  },
  {
   "cell_type": "code",
   "execution_count": null,
   "metadata": {
    "deletable": false,
    "editable": false,
    "hideCode": true,
    "nbgrader": {
     "cell_type": "code",
     "checksum": "cc5ca0168c43a211dd2d825a65d5d827",
     "grade": true,
     "grade_id": "ch5_q9_test",
     "locked": true,
     "points": 2,
     "schema_version": 3,
     "solution": false
    }
   },
   "outputs": [],
   "source": [
    "# nbgrader\n"
   ]
  },
  {
   "cell_type": "markdown",
   "metadata": {
    "deletable": false,
    "editable": false,
    "nbgrader": {
     "cell_type": "markdown",
     "checksum": "2e67c1e1be29e2c83b63d40eda2f691d",
     "grade": false,
     "grade_id": "cell-334c7c578b2a8809",
     "locked": true,
     "schema_version": 3,
     "solution": false
    }
   },
   "source": [
    "Remember, that even a small network has many trainable parameters!"
   ]
  },
  {
   "cell_type": "markdown",
   "metadata": {
    "deletable": false,
    "editable": false,
    "nbgrader": {
     "cell_type": "markdown",
     "checksum": "91fcce7917e06343b5af30f517fb6dac",
     "grade": false,
     "grade_id": "cell-e1398d0d6c990a18",
     "locked": true,
     "schema_version": 3,
     "solution": false
    }
   },
   "source": [
    "Now let's train a neural network for our classification problem. First we import a multi-layer perceptron classifier module."
   ]
  },
  {
   "cell_type": "code",
   "execution_count": 47,
   "metadata": {
    "deletable": false,
    "editable": false,
    "nbgrader": {
     "cell_type": "code",
     "checksum": "0460d361e79882ec9b66fec2da9ab94a",
     "grade": false,
     "grade_id": "cell-4e08ee44dfbb65ef",
     "locked": true,
     "schema_version": 3,
     "solution": false
    }
   },
   "outputs": [],
   "source": [
    "from sklearn.neural_network import MLPClassifier\n",
    "mlp_clf = MLPClassifier(hidden_layer_sizes=(10,),max_iter=1000,verbose=0,solver='lbfgs')"
   ]
  },
  {
   "cell_type": "markdown",
   "metadata": {
    "deletable": false,
    "editable": false,
    "nbgrader": {
     "cell_type": "markdown",
     "checksum": "5306047bd7c17b36f85ded006aff40bf",
     "grade": false,
     "grade_id": "cell-ab948420f01d0d1c",
     "locked": true,
     "schema_version": 3,
     "solution": false
    }
   },
   "source": [
    "### Q10:\n",
    "\n",
    "Using the above instance, `mlp_clf`, train a network using the scaled data: `X_train_scaled`. "
   ]
  },
  {
   "cell_type": "code",
   "execution_count": 48,
   "metadata": {
    "deletable": false,
    "nbgrader": {
     "cell_type": "code",
     "checksum": "a0115311c94338c29284c2173bcb1110",
     "grade": false,
     "grade_id": "ch5_q10",
     "locked": false,
     "schema_version": 3,
     "solution": true
    }
   },
   "outputs": [
    {
     "data": {
      "text/plain": [
       "MLPClassifier(activation='relu', alpha=0.0001, batch_size='auto', beta_1=0.9,\n",
       "              beta_2=0.999, early_stopping=False, epsilon=1e-08,\n",
       "              hidden_layer_sizes=(10,), learning_rate='constant',\n",
       "              learning_rate_init=0.001, max_iter=1000, momentum=0.9,\n",
       "              n_iter_no_change=10, nesterovs_momentum=True, power_t=0.5,\n",
       "              random_state=None, shuffle=True, solver='lbfgs', tol=0.0001,\n",
       "              validation_fraction=0.1, verbose=0, warm_start=False)"
      ]
     },
     "execution_count": 48,
     "metadata": {},
     "output_type": "execute_result"
    }
   ],
   "source": [
    "# (approx. 1 line of code)\n",
    "\n",
    "### START ANSWER HERE ###\n",
    "mlp_clf.fit(X_train_scaled, y_train)\n",
    "### END ANSWER HERE ###"
   ]
  },
  {
   "cell_type": "markdown",
   "metadata": {
    "deletable": false,
    "editable": false,
    "nbgrader": {
     "cell_type": "markdown",
     "checksum": "1c48b0457fb4cd528ca983cba844bc25",
     "grade": false,
     "grade_id": "cell-6b2f60a8d46d7af6",
     "locked": true,
     "schema_version": 3,
     "solution": false
    }
   },
   "source": [
    "**Expected Output**: \n",
    "<table style = \"width:40%\">\n",
    "    <tr>\n",
    "    <td>MLPClassifier(activation='relu', alpha=0.0001, batch_size='auto', beta_1=0.9,\n",
    "              beta_2=0.999, early_stopping=False, epsilon=1e-08,\n",
    "              hidden_layer_sizes=(10,), learning_rate='constant',\n",
    "              learning_rate_init=0.001, max_iter=1000, momentum=0.9,\n",
    "              n_iter_no_change=10, nesterovs_momentum=True, power_t=0.5,\n",
    "              random_state=None, shuffle=True,\n",
    "              solver='lbfgs', tol=0.0001,\n",
    "              validation_fraction=0.1, verbose=0, warm_start=False)\n",
    "    </td>  \n",
    "</table>"
   ]
  },
  {
   "cell_type": "code",
   "execution_count": null,
   "metadata": {
    "deletable": false,
    "editable": false,
    "hideCode": true,
    "nbgrader": {
     "cell_type": "code",
     "checksum": "a248074a5836aad51632ecb1c7a371a3",
     "grade": true,
     "grade_id": "ch5_q10_test",
     "locked": true,
     "points": 1,
     "schema_version": 3,
     "solution": false
    }
   },
   "outputs": [],
   "source": [
    "# nbgrader\n"
   ]
  },
  {
   "cell_type": "markdown",
   "metadata": {
    "deletable": false,
    "editable": false,
    "nbgrader": {
     "cell_type": "markdown",
     "checksum": "d68d4bdcccec3554ab5e77a2943d4f16",
     "grade": false,
     "grade_id": "cell-f204ed58c6e73934",
     "locked": true,
     "schema_version": 3,
     "solution": false
    }
   },
   "source": [
    "Import classification report of NN model."
   ]
  },
  {
   "cell_type": "code",
   "execution_count": 49,
   "metadata": {
    "deletable": false,
    "editable": false,
    "nbgrader": {
     "cell_type": "code",
     "checksum": "e84530f6a63023d6d035625db2c9ea64",
     "grade": false,
     "grade_id": "cell-3d848b361f2463a2",
     "locked": true,
     "schema_version": 3,
     "solution": false
    }
   },
   "outputs": [
    {
     "ename": "NameError",
     "evalue": "name 'classification_report' is not defined",
     "output_type": "error",
     "traceback": [
      "\u001b[0;31m---------------------------------------------------------------------------\u001b[0m",
      "\u001b[0;31mNameError\u001b[0m                                 Traceback (most recent call last)",
      "\u001b[0;32m<ipython-input-49-9bda630c38d6>\u001b[0m in \u001b[0;36m<module>\u001b[0;34m\u001b[0m\n\u001b[0;32m----> 1\u001b[0;31m \u001b[0mprint\u001b[0m\u001b[0;34m(\u001b[0m\u001b[0mclassification_report\u001b[0m\u001b[0;34m(\u001b[0m\u001b[0my_test\u001b[0m\u001b[0;34m,\u001b[0m\u001b[0mmlp_clf\u001b[0m\u001b[0;34m.\u001b[0m\u001b[0mpredict\u001b[0m\u001b[0;34m(\u001b[0m\u001b[0mX_test_scaled\u001b[0m\u001b[0;34m)\u001b[0m\u001b[0;34m)\u001b[0m\u001b[0;34m)\u001b[0m\u001b[0;34m\u001b[0m\u001b[0;34m\u001b[0m\u001b[0m\n\u001b[0m",
      "\u001b[0;31mNameError\u001b[0m: name 'classification_report' is not defined"
     ]
    }
   ],
   "source": [
    "print(classification_report(y_test,mlp_clf.predict(X_test_scaled)))"
   ]
  },
  {
   "cell_type": "markdown",
   "metadata": {
    "deletable": false,
    "editable": false,
    "nbgrader": {
     "cell_type": "markdown",
     "checksum": "754cc91e9caa4ef453a992b27080d136",
     "grade": false,
     "grade_id": "cell-54c29d5bec46c855",
     "locked": true,
     "schema_version": 3,
     "solution": false
    }
   },
   "source": [
    "Our neural network did great on this dataset. But don't get fooled, this is not always the case. "
   ]
  },
  {
   "cell_type": "markdown",
   "metadata": {
    "deletable": false,
    "editable": false,
    "nbgrader": {
     "cell_type": "markdown",
     "checksum": "acd9254df2a673a7b65ce535bed21cfd",
     "grade": false,
     "grade_id": "cell-c0a3074de01c4a5f",
     "locked": true,
     "schema_version": 3,
     "solution": false
    }
   },
   "source": [
    "**Sidenote**: If the input variables are combined linearly, as in an MLP, then it is rarely strictly necessary to standardize the inputs, at least in theory. The reason is that any rescaling of an input vector can be effectively undone by changing the corresponding weights and biases, leaving you with the exact same outputs as you had before. However, there are a variety of practical reasons why standardizing the inputs can make training faster and reduce the chances of getting stuck in local optima. Also, weight decay and Bayesian estimation can be done more conveniently with standardized inputs.\n",
    "\n",
    "**However**: As you will probably notice in your data science journey, there is not really a linear path to good results. Here tests and scores will help you decide what is the best practice for your specific dataset."
   ]
  },
  {
   "cell_type": "markdown",
   "metadata": {
    "deletable": false,
    "editable": false,
    "nbgrader": {
     "cell_type": "markdown",
     "checksum": "48008f6d4176fe12bf057e740db80f59",
     "grade": false,
     "grade_id": "cell-f8e1e9dee9e34f87",
     "locked": true,
     "schema_version": 3,
     "solution": false
    }
   },
   "source": [
    "Let's see what happens if we use unscaled features."
   ]
  },
  {
   "cell_type": "code",
   "execution_count": 50,
   "metadata": {
    "deletable": false,
    "editable": false,
    "nbgrader": {
     "cell_type": "code",
     "checksum": "dc3e2fdecebcbaff7bf5b2bd5130e7e1",
     "grade": false,
     "grade_id": "cell-2502d88f24c64c2d",
     "locked": true,
     "schema_version": 3,
     "solution": false
    }
   },
   "outputs": [
    {
     "data": {
      "text/plain": [
       "MLPClassifier(activation='relu', alpha=0.0001, batch_size='auto', beta_1=0.9,\n",
       "              beta_2=0.999, early_stopping=False, epsilon=1e-08,\n",
       "              hidden_layer_sizes=(10,), learning_rate='constant',\n",
       "              learning_rate_init=0.001, max_iter=1000, momentum=0.9,\n",
       "              n_iter_no_change=10, nesterovs_momentum=True, power_t=0.5,\n",
       "              random_state=None, shuffle=True, solver='lbfgs', tol=0.0001,\n",
       "              validation_fraction=0.1, verbose=0, warm_start=False)"
      ]
     },
     "execution_count": 50,
     "metadata": {},
     "output_type": "execute_result"
    }
   ],
   "source": [
    "mlp_clf_non_sc = MLPClassifier(hidden_layer_sizes=(10,),max_iter=1000,verbose=0,solver='lbfgs')\n",
    "\n",
    "mlp_clf_non_sc.fit(X_train,y_train)"
   ]
  },
  {
   "cell_type": "code",
   "execution_count": 51,
   "metadata": {
    "deletable": false,
    "editable": false,
    "nbgrader": {
     "cell_type": "code",
     "checksum": "042f796ea9eb0a34246b698818eb3c6b",
     "grade": false,
     "grade_id": "cell-3dcce6b8a569dd22",
     "locked": true,
     "schema_version": 3,
     "solution": false
    }
   },
   "outputs": [
    {
     "ename": "NameError",
     "evalue": "name 'classification_report' is not defined",
     "output_type": "error",
     "traceback": [
      "\u001b[0;31m---------------------------------------------------------------------------\u001b[0m",
      "\u001b[0;31mNameError\u001b[0m                                 Traceback (most recent call last)",
      "\u001b[0;32m<ipython-input-51-14dad66ea96f>\u001b[0m in \u001b[0;36m<module>\u001b[0;34m\u001b[0m\n\u001b[0;32m----> 1\u001b[0;31m \u001b[0mprint\u001b[0m\u001b[0;34m(\u001b[0m\u001b[0mclassification_report\u001b[0m\u001b[0;34m(\u001b[0m\u001b[0my_test\u001b[0m\u001b[0;34m,\u001b[0m\u001b[0mmlp_clf_non_sc\u001b[0m\u001b[0;34m.\u001b[0m\u001b[0mpredict\u001b[0m\u001b[0;34m(\u001b[0m\u001b[0mX_test\u001b[0m\u001b[0;34m)\u001b[0m\u001b[0;34m)\u001b[0m\u001b[0;34m)\u001b[0m\u001b[0;34m\u001b[0m\u001b[0;34m\u001b[0m\u001b[0m\n\u001b[0m",
      "\u001b[0;31mNameError\u001b[0m: name 'classification_report' is not defined"
     ]
    }
   ],
   "source": [
    "print(classification_report(y_test,mlp_clf_non_sc.predict(X_test)))"
   ]
  },
  {
   "cell_type": "markdown",
   "metadata": {
    "deletable": false,
    "editable": false,
    "nbgrader": {
     "cell_type": "markdown",
     "checksum": "13762634b74860d2355274da54618068",
     "grade": false,
     "grade_id": "cell-34c782df6183e3ad",
     "locked": true,
     "schema_version": 3,
     "solution": false
    }
   },
   "source": [
    "Not the greatest result... So glad we tried scaling. "
   ]
  },
  {
   "cell_type": "markdown",
   "metadata": {
    "deletable": false,
    "editable": false,
    "nbgrader": {
     "cell_type": "markdown",
     "checksum": "14b9eed2423d6a38f66f2ef8ce658f45",
     "grade": false,
     "grade_id": "cell-7429b1780d93676b",
     "locked": true,
     "schema_version": 3,
     "solution": false
    }
   },
   "source": [
    "Some of the advantages and disadvantages using neural networks are:\n",
    "\n",
    "**Advantages**\n",
    "\n",
    "- If the function you are trying to learn is extremely complex and you have big amount of data, then neural networks tend to outperform more traditional ML-algorithms. \n",
    "- Much work has been done on creating various neural networks, such as convolutional neural network (good for imagery) and recurrent neural network (good for data with temporal behaviour). \n",
    "- Many open source frameworks exist to develop your neural networks. \n",
    "\n",
    "**Disadvantages**\n",
    "\n",
    "- Neural networks tend to have a “black box” nature, meaning that you don’t know how and why your neural network came up with a certain output. \n",
    "- There are many adjustable parameters and structures to be decided on, such as size and shape of the network, which optimization algorithm to use, etc. This can make it time consuming to find the \"best\" neural network for your task. \n",
    "- Neural networks tend to be more computationally expensive than traditional algorithms."
   ]
  },
  {
   "cell_type": "markdown",
   "metadata": {
    "deletable": false,
    "editable": false,
    "nbgrader": {
     "cell_type": "markdown",
     "checksum": "c05ee65570a14a6ee931155dac4c25cd",
     "grade": false,
     "grade_id": "cell-647ce6949f9c6f36",
     "locked": true,
     "schema_version": 3,
     "solution": false
    }
   },
   "source": [
    "### Concluding thoughts"
   ]
  },
  {
   "cell_type": "markdown",
   "metadata": {
    "deletable": false,
    "editable": false,
    "nbgrader": {
     "cell_type": "markdown",
     "checksum": "9f7784c434b0a4aad5a496fd4b254e48",
     "grade": false,
     "grade_id": "cell-5d85ab7ec432757f",
     "locked": true,
     "schema_version": 3,
     "solution": false
    }
   },
   "source": [
    "In this assignment you have learned and worked with a few ML-algorithms. There are many DS-problems to work on, which is why having a large toolbox of algorithms is very useful. Certain methods tend to outperform others in specific data domains, may it be performance based such as precision, recall or business oriented (e.g. the interpretability of the model). This is different for various problems, which is why it is very useful to set up your metric \"what represents a good model\" for your specific interest. "
   ]
  },
  {
   "cell_type": "markdown",
   "metadata": {
    "deletable": false,
    "editable": false,
    "nbgrader": {
     "cell_type": "markdown",
     "checksum": "e74e742c99aaee6d208e05ea55ee7d9e",
     "grade": false,
     "grade_id": "cell-8d5e9eb26c3f8716",
     "locked": true,
     "schema_version": 3,
     "solution": false
    }
   },
   "source": [
    "# Good job!"
   ]
  }
 ],
 "metadata": {
  "kernelspec": {
   "display_name": "Python 3",
   "language": "python",
   "name": "python3"
  },
  "language_info": {
   "codemirror_mode": {
    "name": "ipython",
    "version": 3
   },
   "file_extension": ".py",
   "mimetype": "text/x-python",
   "name": "python",
   "nbconvert_exporter": "python",
   "pygments_lexer": "ipython3",
   "version": "3.7.3"
  }
 },
 "nbformat": 4,
 "nbformat_minor": 1
}
