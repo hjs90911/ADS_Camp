{
 "cells": [
  {
   "cell_type": "markdown",
   "metadata": {},
   "source": [
    "# Multi Output Regression"
   ]
  },
  {
   "cell_type": "markdown",
   "metadata": {},
   "source": [
    "## WiFi data processing"
   ]
  },
  {
   "cell_type": "code",
   "execution_count": 1,
   "metadata": {},
   "outputs": [],
   "source": [
    "import pandas as pd"
   ]
  },
  {
   "cell_type": "code",
   "execution_count": 2,
   "metadata": {},
   "outputs": [],
   "source": [
    "wifi_data = pd.read_csv(\"wifi_data.csv\")\n",
    "# Remove rows if x or y is null\n",
    "wifi_data = wifi_data[wifi_data['x'].notna()]\n",
    "wifi_data = wifi_data[wifi_data['y'].notna()]\n",
    "\n",
    "# Remove rows if location_coded is location_unknown\n",
    "wifi_data = wifi_data[wifi_data['location_coded'] != 'location_unknown']\n",
    "\n",
    "# Fill all NaN with -174\n",
    "wifi_data = wifi_data.fillna(-174)"
   ]
  },
  {
   "cell_type": "code",
   "execution_count": null,
   "metadata": {},
   "outputs": [],
   "source": [
    "wifi_data.tail(5)"
   ]
  },
  {
   "cell_type": "code",
   "execution_count": 41,
   "metadata": {},
   "outputs": [
    {
     "data": {
      "text/html": [
       "<div>\n",
       "<style scoped>\n",
       "    .dataframe tbody tr th:only-of-type {\n",
       "        vertical-align: middle;\n",
       "    }\n",
       "\n",
       "    .dataframe tbody tr th {\n",
       "        vertical-align: top;\n",
       "    }\n",
       "\n",
       "    .dataframe thead th {\n",
       "        text-align: right;\n",
       "    }\n",
       "</style>\n",
       "<table border=\"1\" class=\"dataframe\">\n",
       "  <thead>\n",
       "    <tr style=\"text-align: right;\">\n",
       "      <th></th>\n",
       "      <th>WifiAccessPoint_0</th>\n",
       "      <th>WifiAccessPoint_1</th>\n",
       "      <th>WifiAccessPoint_2</th>\n",
       "      <th>...</th>\n",
       "      <th>WifiAccessPoint_88</th>\n",
       "      <th>WifiAccessPoint_89</th>\n",
       "      <th>WifiAccessPoint_90</th>\n",
       "      <th>x</th>\n",
       "      <th>y</th>\n",
       "      <th>location_coded</th>\n",
       "    </tr>\n",
       "  </thead>\n",
       "  <tbody>\n",
       "    <tr>\n",
       "      <td>0</td>\n",
       "      <td>-125</td>\n",
       "      <td>-65.0</td>\n",
       "      <td>-67.0</td>\n",
       "      <td>...</td>\n",
       "      <td>NaN</td>\n",
       "      <td>NaN</td>\n",
       "      <td>NaN</td>\n",
       "      <td>0.220686</td>\n",
       "      <td>0.692311</td>\n",
       "      <td>location_3626775</td>\n",
       "    </tr>\n",
       "    <tr>\n",
       "      <td>1</td>\n",
       "      <td>-121</td>\n",
       "      <td>NaN</td>\n",
       "      <td>-76.0</td>\n",
       "      <td>...</td>\n",
       "      <td>NaN</td>\n",
       "      <td>NaN</td>\n",
       "      <td>NaN</td>\n",
       "      <td>0.356841</td>\n",
       "      <td>0.707761</td>\n",
       "      <td>location_3627737</td>\n",
       "    </tr>\n",
       "    <tr>\n",
       "      <td>2</td>\n",
       "      <td>-130</td>\n",
       "      <td>NaN</td>\n",
       "      <td>-98.0</td>\n",
       "      <td>...</td>\n",
       "      <td>NaN</td>\n",
       "      <td>NaN</td>\n",
       "      <td>NaN</td>\n",
       "      <td>0.271492</td>\n",
       "      <td>0.395226</td>\n",
       "      <td>location_3626772</td>\n",
       "    </tr>\n",
       "    <tr>\n",
       "      <td>3</td>\n",
       "      <td>-125</td>\n",
       "      <td>-49.0</td>\n",
       "      <td>-56.0</td>\n",
       "      <td>...</td>\n",
       "      <td>NaN</td>\n",
       "      <td>NaN</td>\n",
       "      <td>NaN</td>\n",
       "      <td>0.413128</td>\n",
       "      <td>0.860029</td>\n",
       "      <td>location_3628699</td>\n",
       "    </tr>\n",
       "    <tr>\n",
       "      <td>4</td>\n",
       "      <td>-117</td>\n",
       "      <td>NaN</td>\n",
       "      <td>-75.0</td>\n",
       "      <td>...</td>\n",
       "      <td>NaN</td>\n",
       "      <td>NaN</td>\n",
       "      <td>NaN</td>\n",
       "      <td>0.324798</td>\n",
       "      <td>0.107172</td>\n",
       "      <td>location_3627731</td>\n",
       "    </tr>\n",
       "    <tr>\n",
       "      <td>...</td>\n",
       "      <td>...</td>\n",
       "      <td>...</td>\n",
       "      <td>...</td>\n",
       "      <td>...</td>\n",
       "      <td>...</td>\n",
       "      <td>...</td>\n",
       "      <td>...</td>\n",
       "      <td>...</td>\n",
       "      <td>...</td>\n",
       "      <td>...</td>\n",
       "    </tr>\n",
       "    <tr>\n",
       "      <td>3848</td>\n",
       "      <td>-133</td>\n",
       "      <td>-69.0</td>\n",
       "      <td>-64.0</td>\n",
       "      <td>...</td>\n",
       "      <td>NaN</td>\n",
       "      <td>NaN</td>\n",
       "      <td>NaN</td>\n",
       "      <td>0.840588</td>\n",
       "      <td>0.407135</td>\n",
       "      <td>location_3632539</td>\n",
       "    </tr>\n",
       "    <tr>\n",
       "      <td>3849</td>\n",
       "      <td>-119</td>\n",
       "      <td>-67.0</td>\n",
       "      <td>-67.0</td>\n",
       "      <td>...</td>\n",
       "      <td>NaN</td>\n",
       "      <td>NaN</td>\n",
       "      <td>NaN</td>\n",
       "      <td>0.686431</td>\n",
       "      <td>0.958298</td>\n",
       "      <td>location_3630622</td>\n",
       "    </tr>\n",
       "    <tr>\n",
       "      <td>3850</td>\n",
       "      <td>-129</td>\n",
       "      <td>-79.0</td>\n",
       "      <td>-71.0</td>\n",
       "      <td>...</td>\n",
       "      <td>NaN</td>\n",
       "      <td>NaN</td>\n",
       "      <td>NaN</td>\n",
       "      <td>0.582750</td>\n",
       "      <td>0.291617</td>\n",
       "      <td>location_3629654</td>\n",
       "    </tr>\n",
       "    <tr>\n",
       "      <td>3851</td>\n",
       "      <td>-123</td>\n",
       "      <td>-81.0</td>\n",
       "      <td>-92.0</td>\n",
       "      <td>...</td>\n",
       "      <td>NaN</td>\n",
       "      <td>NaN</td>\n",
       "      <td>NaN</td>\n",
       "      <td>0.117533</td>\n",
       "      <td>0.804791</td>\n",
       "      <td>location_3625816</td>\n",
       "    </tr>\n",
       "    <tr>\n",
       "      <td>3852</td>\n",
       "      <td>-122</td>\n",
       "      <td>-72.0</td>\n",
       "      <td>-58.0</td>\n",
       "      <td>...</td>\n",
       "      <td>NaN</td>\n",
       "      <td>NaN</td>\n",
       "      <td>NaN</td>\n",
       "      <td>0.228535</td>\n",
       "      <td>0.580334</td>\n",
       "      <td>location_3626774</td>\n",
       "    </tr>\n",
       "  </tbody>\n",
       "</table>\n",
       "<p>3853 rows × 10 columns</p>\n",
       "</div>"
      ],
      "text/plain": [
       "      WifiAccessPoint_0  WifiAccessPoint_1  WifiAccessPoint_2  ...  \\\n",
       "0                  -125              -65.0              -67.0  ...   \n",
       "1                  -121                NaN              -76.0  ...   \n",
       "2                  -130                NaN              -98.0  ...   \n",
       "3                  -125              -49.0              -56.0  ...   \n",
       "4                  -117                NaN              -75.0  ...   \n",
       "...                 ...                ...                ...  ...   \n",
       "3848               -133              -69.0              -64.0  ...   \n",
       "3849               -119              -67.0              -67.0  ...   \n",
       "3850               -129              -79.0              -71.0  ...   \n",
       "3851               -123              -81.0              -92.0  ...   \n",
       "3852               -122              -72.0              -58.0  ...   \n",
       "\n",
       "      WifiAccessPoint_88  WifiAccessPoint_89  WifiAccessPoint_90         x  \\\n",
       "0                    NaN                 NaN                 NaN  0.220686   \n",
       "1                    NaN                 NaN                 NaN  0.356841   \n",
       "2                    NaN                 NaN                 NaN  0.271492   \n",
       "3                    NaN                 NaN                 NaN  0.413128   \n",
       "4                    NaN                 NaN                 NaN  0.324798   \n",
       "...                  ...                 ...                 ...       ...   \n",
       "3848                 NaN                 NaN                 NaN  0.840588   \n",
       "3849                 NaN                 NaN                 NaN  0.686431   \n",
       "3850                 NaN                 NaN                 NaN  0.582750   \n",
       "3851                 NaN                 NaN                 NaN  0.117533   \n",
       "3852                 NaN                 NaN                 NaN  0.228535   \n",
       "\n",
       "             y    location_coded  \n",
       "0     0.692311  location_3626775  \n",
       "1     0.707761  location_3627737  \n",
       "2     0.395226  location_3626772  \n",
       "3     0.860029  location_3628699  \n",
       "4     0.107172  location_3627731  \n",
       "...        ...               ...  \n",
       "3848  0.407135  location_3632539  \n",
       "3849  0.958298  location_3630622  \n",
       "3850  0.291617  location_3629654  \n",
       "3851  0.804791  location_3625816  \n",
       "3852  0.580334  location_3626774  \n",
       "\n",
       "[3853 rows x 10 columns]"
      ]
     },
     "execution_count": 41,
     "metadata": {},
     "output_type": "execute_result"
    }
   ],
   "source": [
    "wifi_data_display = pd.read_csv(\"wifi_data.csv\")\n",
    "\n",
    "first_col = wifi_data_display.iloc[:, 0:3]\n",
    "last_col = wifi_data_display.iloc[:, -6:]\n",
    "\n",
    "df = pd.DataFrame({'...':['...']})\n",
    "for i in range(len(wifi_data_display)):\n",
    "    df.loc[i] = ['...']\n",
    "\n",
    "wifi_data_display = first_col.join(df, how = 'right')\n",
    "wifi_data_display = wifi_data_display.join(last_col, how = 'right')\n",
    "wifi_data_display"
   ]
  },
  {
   "cell_type": "code",
   "execution_count": 3,
   "metadata": {},
   "outputs": [],
   "source": [
    "from sklearn.model_selection import train_test_split\n",
    "from sklearn.metrics import mean_absolute_error, mean_squared_error\n",
    "\n",
    "X = wifi_data.iloc[:, 0:91]\n",
    "y = wifi_data.loc[:, ['x', 'y']]\n",
    "\n",
    "X_train, X_test, y_train, y_test = train_test_split(X, y, test_size=0.3, random_state=1235)"
   ]
  },
  {
   "cell_type": "markdown",
   "metadata": {},
   "source": [
    "## GradientBoostingRegressor"
   ]
  },
  {
   "cell_type": "code",
   "execution_count": null,
   "metadata": {},
   "outputs": [],
   "source": [
    "from sklearn.multioutput import MultiOutputRegressor\n",
    "from sklearn.ensemble import GradientBoostingRegressor\n",
    "\n",
    "gradientBoostingRegressor = GradientBoostingRegressor(random_state=50)\n",
    "gbr = MultiOutputRegressor(gradientBoostingRegressor)\n",
    "gbr.fit(X_train, y_train)"
   ]
  },
  {
   "cell_type": "code",
   "execution_count": 12,
   "metadata": {},
   "outputs": [
    {
     "name": "stdout",
     "output_type": "stream",
     "text": [
      "[[0.67852218 0.50140919]\n",
      " [0.7616588  0.825278  ]\n",
      " [0.70907422 0.95893329]\n",
      " ...\n",
      " [0.67034469 0.36474274]\n",
      " [0.70214999 0.60111012]\n",
      " [0.47269741 0.32637598]]\n"
     ]
    }
   ],
   "source": [
    "y_predict = gbr.predict(X_test)\n",
    "print(y_predict)"
   ]
  },
  {
   "cell_type": "code",
   "execution_count": 29,
   "metadata": {},
   "outputs": [
    {
     "data": {
      "text/plain": [
       "0.8572551623132392"
      ]
     },
     "execution_count": 29,
     "metadata": {},
     "output_type": "execute_result"
    }
   ],
   "source": [
    "gbr.score(X_test, y_test)"
   ]
  },
  {
   "cell_type": "code",
   "execution_count": 30,
   "metadata": {},
   "outputs": [
    {
     "data": {
      "text/plain": [
       "0.05904935882976213"
      ]
     },
     "execution_count": 30,
     "metadata": {},
     "output_type": "execute_result"
    }
   ],
   "source": [
    "mean_absolute_error(gbr.predict(X), y)"
   ]
  },
  {
   "cell_type": "code",
   "execution_count": 31,
   "metadata": {},
   "outputs": [
    {
     "data": {
      "text/plain": [
       "0.007172460051297361"
      ]
     },
     "execution_count": 31,
     "metadata": {},
     "output_type": "execute_result"
    }
   ],
   "source": [
    "mean_squared_error(gbr.predict(X), y)"
   ]
  },
  {
   "cell_type": "markdown",
   "metadata": {},
   "source": [
    "## Multi Output Regression with XGBoost Regressor"
   ]
  },
  {
   "cell_type": "code",
   "execution_count": 23,
   "metadata": {},
   "outputs": [
    {
     "data": {
      "text/plain": [
       "MultiOutputRegressor(estimator=XGBRegressor(base_score=None, booster='gbtree',\n",
       "                                            colsample_bylevel=None,\n",
       "                                            colsample_bynode=None,\n",
       "                                            colsample_bytree=None, gamma=None,\n",
       "                                            gpu_id=None, importance_type='gain',\n",
       "                                            interaction_constraints=None,\n",
       "                                            learning_rate=None,\n",
       "                                            max_delta_step=None, max_depth=6,\n",
       "                                            min_child_weight=None, missing=nan,\n",
       "                                            monotone_constraints=None,\n",
       "                                            n_estimators=500, n_jobs=None,\n",
       "                                            num_parallel_tree=None,\n",
       "                                            objective='reg:squarederror',\n",
       "                                            random_state=None, reg_alpha=None,\n",
       "                                            reg_lambda=None,\n",
       "                                            scale_pos_weight=None,\n",
       "                                            subsample=None, tree_method=None,\n",
       "                                            validate_parameters=None,\n",
       "                                            verbosity=None),\n",
       "                     n_jobs=None)"
      ]
     },
     "execution_count": 23,
     "metadata": {},
     "output_type": "execute_result"
    }
   ],
   "source": [
    "from sklearn.model_selection import train_test_split\n",
    "from sklearn.multioutput import MultiOutputRegressor\n",
    "import xgboost\n",
    "\n",
    "X = wifi_data.iloc[:, 0:91]\n",
    "y = wifi_data.loc[:, ['x', 'y']]\n",
    "\n",
    "X_train, X_test, y_train, y_test = train_test_split(X, y, test_size=0.3, random_state=1235)\n",
    "\n",
    "xgbr = MultiOutputRegressor(estimator = xgboost.XGBRegressor(booster = 'gbtree',\n",
    "                                                             n_estimators = 500,\n",
    "                                                             max_depth = 6))\n",
    "xgbr.fit(X_train, y_train)"
   ]
  },
  {
   "cell_type": "code",
   "execution_count": 24,
   "metadata": {},
   "outputs": [
    {
     "name": "stdout",
     "output_type": "stream",
     "text": [
      "[[0.651644   0.48153365]\n",
      " [0.726624   0.84948814]\n",
      " [0.6912579  0.96184486]\n",
      " ...\n",
      " [0.54953504 0.37590063]\n",
      " [0.6711887  0.60032433]\n",
      " [0.45060143 0.24692367]]\n"
     ]
    }
   ],
   "source": [
    "y_predict = xgbr.predict(X_test)\n",
    "print(y_predict)"
   ]
  },
  {
   "cell_type": "code",
   "execution_count": 28,
   "metadata": {},
   "outputs": [
    {
     "data": {
      "image/png": "[encoded data removed]",
      "text/plain": [
       "<Figure size 432x288 with 1 Axes>"
      ]
     },
     "metadata": {
      "needs_background": "light"
     },
     "output_type": "display_data"
    }
   ],
   "source": [
    "import matplotlib.pylab as plt\n",
    "import seaborn as sns\n",
    "%matplotlib inline\n",
    "\n",
    "test_x, test_y = [], []\n",
    "pred_x, pred_y = [], []\n",
    "\n",
    "idx = 0\n",
    "for coord in y_test.iterrows():\n",
    "    if idx < 50:\n",
    "        idx += 1\n",
    "        continue\n",
    "    if idx == 70:break\n",
    "    test_x.append(coord[1][0])\n",
    "    test_y.append(coord[1][1])\n",
    "    plt.annotate(idx, (coord[1][0], coord[1][1]))\n",
    "    idx += 1\n",
    "\n",
    "idx = 0\n",
    "for coord in y_predict:\n",
    "    if idx < 50:\n",
    "        idx += 1\n",
    "        continue\n",
    "    if idx == 70:break\n",
    "    pred_x.append(coord[0])\n",
    "    pred_y.append(coord[1])\n",
    "    plt.annotate(idx, (coord[0], coord[1]))\n",
    "    idx += 1\n",
    "\n",
    "plt.title(\"X-Y position predicted by WiFi Signal\")\n",
    "plt.scatter(pred_x, pred_y, c = 'blue', label = 'Predict')\n",
    "plt.scatter(test_x, test_y, c = 'red', label = 'Actual')\n",
    "plt.xlabel('x')\n",
    "plt.ylabel('y')\n",
    "plt.legend()\n",
    "plt.show()"
   ]
  },
  {
   "cell_type": "markdown",
   "metadata": {},
   "source": [
    "### Coefficient of determination $R^2$"
   ]
  },
  {
   "cell_type": "code",
   "execution_count": 25,
   "metadata": {},
   "outputs": [
    {
     "data": {
      "text/plain": [
       "0.8987771694821642"
      ]
     },
     "execution_count": 25,
     "metadata": {},
     "output_type": "execute_result"
    }
   ],
   "source": [
    "xgbr.score(X_test, y_test)"
   ]
  },
  {
   "cell_type": "markdown",
   "metadata": {},
   "source": [
    "### MAE (Mean Absolute Error)"
   ]
  },
  {
   "cell_type": "code",
   "execution_count": 30,
   "metadata": {},
   "outputs": [
    {
     "data": {
      "text/plain": [
       "0.016304499781738167"
      ]
     },
     "execution_count": 30,
     "metadata": {},
     "output_type": "execute_result"
    }
   ],
   "source": [
    "mean_absolute_error(xgbr.predict(X), y)"
   ]
  },
  {
   "cell_type": "markdown",
   "metadata": {},
   "source": [
    "### MSE (Mean Squared Error)"
   ]
  },
  {
   "cell_type": "code",
   "execution_count": 31,
   "metadata": {},
   "outputs": [
    {
     "data": {
      "text/plain": [
       "0.001770186326860313"
      ]
     },
     "execution_count": 31,
     "metadata": {},
     "output_type": "execute_result"
    }
   ],
   "source": [
    "mean_squared_error(xgbr.predict(X), y)"
   ]
  },
  {
   "cell_type": "markdown",
   "metadata": {},
   "source": [
    "## MLP Regression"
   ]
  },
  {
   "cell_type": "code",
   "execution_count": 33,
   "metadata": {},
   "outputs": [
    {
     "data": {
      "text/plain": [
       "MLPRegressor(activation='relu', alpha=0.005, batch_size='auto', beta_1=0.9,\n",
       "             beta_2=0.999, early_stopping=False, epsilon=1e-08,\n",
       "             hidden_layer_sizes=[1024, 512, 4], learning_rate='constant',\n",
       "             learning_rate_init=0.001, max_iter=1000, momentum=0.9,\n",
       "             n_iter_no_change=10, nesterovs_momentum=True, power_t=0.5,\n",
       "             random_state=42, shuffle=True, solver='adam', tol=0.0001,\n",
       "             validation_fraction=0.1, verbose=False, warm_start=False)"
      ]
     },
     "execution_count": 33,
     "metadata": {},
     "output_type": "execute_result"
    }
   ],
   "source": [
    "from sklearn.neural_network import MLPRegressor\n",
    "\n",
    "mlpr = MLPRegressor(hidden_layer_sizes=[1024, 512, 4], max_iter=1000, alpha=0.005, random_state=42)\n",
    "\n",
    "mlpr.fit(X_train, y_train)"
   ]
  },
  {
   "cell_type": "code",
   "execution_count": 34,
   "metadata": {},
   "outputs": [
    {
     "name": "stdout",
     "output_type": "stream",
     "text": [
      "[[0.45477488 0.50386431]\n",
      " [0.45477488 0.50386431]\n",
      " [0.45477488 0.50386431]\n",
      " ...\n",
      " [0.45477488 0.50386431]\n",
      " [0.45477488 0.50386431]\n",
      " [0.45477488 0.50386431]]\n"
     ]
    }
   ],
   "source": [
    "y_predict = mlpr.predict(X_test)\n",
    "print(y_predict)"
   ]
  },
  {
   "cell_type": "code",
   "execution_count": 36,
   "metadata": {},
   "outputs": [
    {
     "name": "stdout",
     "output_type": "stream",
     "text": [
      "-0.05939010450469451\n",
      "-0.04323252298799074\n"
     ]
    }
   ],
   "source": [
    "from sklearn.metrics import r2_score\n",
    "print(r2_score(y_train, mlpr.predict(X_train)))\n",
    "print(r2_score(y_test, mlpr.predict(X_test)))"
   ]
  },
  {
   "cell_type": "code",
   "execution_count": 37,
   "metadata": {},
   "outputs": [
    {
     "data": {
      "text/plain": [
       "0.2273530233429245"
      ]
     },
     "execution_count": 37,
     "metadata": {},
     "output_type": "execute_result"
    }
   ],
   "source": [
    "mean_absolute_error(mlpr.predict(X), y)"
   ]
  },
  {
   "cell_type": "code",
   "execution_count": 38,
   "metadata": {},
   "outputs": [
    {
     "data": {
      "text/plain": [
       "0.07005821930268036"
      ]
     },
     "execution_count": 38,
     "metadata": {},
     "output_type": "execute_result"
    }
   ],
   "source": [
    "mean_squared_error(mlpr.predict(X), y)"
   ]
  },
  {
   "cell_type": "markdown",
   "metadata": {},
   "source": [
    "# XGBoost Classification"
   ]
  },
  {
   "cell_type": "code",
   "execution_count": 28,
   "metadata": {},
   "outputs": [
    {
     "data": {
      "text/plain": [
       "XGBClassifier(base_score=0.5, booster='gbtree', colsample_bylevel=1,\n",
       "              colsample_bynode=1, colsample_bytree=1, eval_metric='mlogloss',\n",
       "              gamma=0, gpu_id=-1, importance_type='gain',\n",
       "              interaction_constraints='', learning_rate=0.300000012,\n",
       "              max_delta_step=0, max_depth=6, min_child_weight=1, missing=nan,\n",
       "              monotone_constraints='()', n_estimators=1000, n_jobs=16,\n",
       "              num_class=92, num_parallel_tree=1, objective='multi:softprob',\n",
       "              random_state=0, reg_alpha=0, reg_lambda=1, scale_pos_weight=None,\n",
       "              subsample=1, tree_method='exact', use_label_encoder=True,\n",
       "              validate_parameters=1, verbosity=None)"
      ]
     },
     "execution_count": 28,
     "metadata": {},
     "output_type": "execute_result"
    }
   ],
   "source": [
    "import xgboost as xgb\n",
    "X = wifi_data.iloc[:, 0:91]\n",
    "y = wifi_data['location_coded']\n",
    "\n",
    "X_train, X_test, y_train, y_test = train_test_split(X, y, test_size=0.3, random_state=1235)\n",
    "\n",
    "xgbc = xgb.XGBClassifier(n_estimators=1000, objective='multi:softmax', num_class=92, eval_metric='mlogloss')\n",
    "xgbc.fit(X_train, y_train)"
   ]
  },
  {
   "cell_type": "code",
   "execution_count": 30,
   "metadata": {},
   "outputs": [
    {
     "data": {
      "text/plain": [
       "array(['location_3631578', 'location_3632543', 'location_3630622', ...,\n",
       "       'location_3630616', 'location_3631579', 'location_3629654'],\n",
       "      dtype=object)"
      ]
     },
     "execution_count": 30,
     "metadata": {},
     "output_type": "execute_result"
    }
   ],
   "source": [
    "y_predict = xgbc.predict(X_test)\n",
    "y_predict"
   ]
  },
  {
   "cell_type": "code",
   "execution_count": 29,
   "metadata": {},
   "outputs": [
    {
     "data": {
      "text/plain": [
       "0.5839860748476936"
      ]
     },
     "execution_count": 29,
     "metadata": {},
     "output_type": "execute_result"
    }
   ],
   "source": [
    "xgbc.score(X_test, y_test)"
   ]
  },
  {
   "cell_type": "code",
   "execution_count": 34,
   "metadata": {},
   "outputs": [
    {
     "name": "stdout",
     "output_type": "stream",
     "text": [
      "                  precision    recall  f1-score   support\n",
      "\n",
      "location_3624847       0.00      0.00      0.00         4\n",
      "location_3624848       0.64      0.78      0.70         9\n",
      "location_3624849       0.57      0.79      0.67        34\n",
      "location_3624851       0.86      0.75      0.80         8\n",
      "location_3624852       0.81      0.76      0.79        17\n",
      "location_3624853       0.50      0.25      0.33         4\n",
      "location_3624854       0.62      0.89      0.73         9\n",
      "location_3624855       0.00      0.00      0.00         5\n",
      "location_3625808       0.33      1.00      0.50         1\n",
      "location_3625810       0.00      0.00      0.00         6\n",
      "location_3625811       0.47      0.62      0.53        13\n",
      "location_3625812       0.00      0.00      0.00         1\n",
      "location_3625813       0.62      0.62      0.62         8\n",
      "location_3625814       0.20      0.25      0.22         4\n",
      "location_3625815       0.00      0.00      0.00         1\n",
      "location_3625816       0.00      0.00      0.00         2\n",
      "location_3626769       0.00      0.00      0.00         4\n",
      "location_3626771       0.30      0.23      0.26        13\n",
      "location_3626772       0.23      0.38      0.29         8\n",
      "location_3626773       0.55      0.43      0.48        14\n",
      "location_3626774       0.80      0.33      0.47        12\n",
      "location_3626775       0.55      0.46      0.50        13\n",
      "location_3626776       0.62      0.62      0.62         8\n",
      "location_3626777       0.00      0.00      0.00         2\n",
      "location_3627730       0.22      0.25      0.24         8\n",
      "location_3627731       0.45      0.64      0.53        14\n",
      "location_3627732       0.40      0.20      0.27        10\n",
      "location_3627733       0.52      0.67      0.58        21\n",
      "location_3627734       0.75      0.56      0.64        27\n",
      "location_3627735       0.37      0.67      0.48        15\n",
      "location_3627736       0.44      0.58      0.50        12\n",
      "location_3627737       0.54      0.78      0.64        37\n",
      "location_3627738       0.71      0.50      0.59        20\n",
      "location_3627739       0.60      0.38      0.46         8\n",
      "location_3628691       0.67      0.53      0.59        15\n",
      "location_3628692       0.57      0.67      0.62        30\n",
      "location_3628693       0.31      0.20      0.24        20\n",
      "location_3628694       0.60      0.40      0.48        15\n",
      "location_3628695       0.00      0.00      0.00         2\n",
      "location_3628697       0.80      0.47      0.59        17\n",
      "location_3628698       0.50      0.23      0.32        13\n",
      "location_3628699       0.14      0.50      0.22         2\n",
      "location_3628700       0.50      0.33      0.40         3\n",
      "location_3629652       0.33      0.40      0.36        10\n",
      "location_3629653       0.50      0.56      0.53        18\n",
      "location_3629654       0.59      0.68      0.63        28\n",
      "location_3629655       0.80      0.70      0.75        47\n",
      "location_3629656       0.57      0.57      0.57         7\n",
      "location_3629657       0.95      0.91      0.93        23\n",
      "location_3629658       0.54      0.70      0.61        10\n",
      "location_3629659       0.80      0.40      0.53        10\n",
      "location_3629660       0.56      0.62      0.59         8\n",
      "location_3629661       0.88      0.78      0.82         9\n",
      "location_3630613       0.50      0.40      0.44         5\n",
      "location_3630614       0.00      0.00      0.00         2\n",
      "location_3630615       0.50      0.50      0.50         6\n",
      "location_3630616       0.61      0.77      0.68        26\n",
      "location_3630617       0.68      0.68      0.68        37\n",
      "location_3630618       0.65      0.56      0.60        27\n",
      "location_3630619       0.58      0.64      0.61        22\n",
      "location_3630620       0.74      0.79      0.76        33\n",
      "location_3630621       0.67      0.54      0.60        26\n",
      "location_3630622       0.92      0.99      0.95        85\n",
      "location_3631574       0.00      0.00      0.00         9\n",
      "location_3631575       0.00      0.00      0.00         4\n",
      "location_3631576       0.20      0.33      0.25         3\n",
      "location_3631577       1.00      0.50      0.67         2\n",
      "location_3631578       0.38      0.38      0.38         8\n",
      "location_3631579       0.00      0.00      0.00         2\n",
      "location_3631580       0.68      0.68      0.68        19\n",
      "location_3631581       0.58      0.65      0.61        23\n",
      "location_3631582       0.08      0.10      0.09        10\n",
      "location_3631583       0.33      1.00      0.50         2\n",
      "location_3632535       0.29      0.42      0.34        12\n",
      "location_3632536       0.00      0.00      0.00         3\n",
      "location_3632537       0.00      0.00      0.00         4\n",
      "location_3632538       1.00      0.33      0.50         3\n",
      "location_3632539       0.29      0.17      0.21        12\n",
      "location_3632540       0.28      0.50      0.36        10\n",
      "location_3632541       0.30      0.50      0.37         6\n",
      "location_3632542       0.50      0.50      0.50        14\n",
      "location_3632543       0.50      0.29      0.36         7\n",
      "location_3633496       0.38      0.60      0.46         5\n",
      "location_3633497       0.77      0.74      0.76        23\n",
      "location_3633498       0.69      0.79      0.73        14\n",
      "location_3633499       1.00      0.40      0.57         5\n",
      "location_3633500       0.50      0.17      0.25         6\n",
      "location_3633501       0.33      0.20      0.25         5\n",
      "location_3633502       1.00      0.67      0.80         3\n",
      "location_3633503       0.00      0.00      0.00         2\n",
      "location_3633504       0.00      0.00      0.00         5\n",
      "\n",
      "        accuracy                           0.58      1149\n",
      "       macro avg       0.45      0.44      0.43      1149\n",
      "    weighted avg       0.59      0.58      0.57      1149\n",
      "\n"
     ]
    },
    {
     "name": "stderr",
     "output_type": "stream",
     "text": [
      "/opt/conda/lib/python3.7/site-packages/sklearn/metrics/classification.py:1437: UndefinedMetricWarning: Precision and F-score are ill-defined and being set to 0.0 in labels with no predicted samples.\n",
      "  'precision', 'predicted', average, warn_for)\n"
     ]
    }
   ],
   "source": [
    "from sklearn.metrics import classification_report, accuracy_score, confusion_matrix\n",
    "\n",
    "print(classification_report(y_test, y_predict))"
   ]
  },
  {
   "cell_type": "code",
   "execution_count": 40,
   "metadata": {},
   "outputs": [
    {
     "name": "stdout",
     "output_type": "stream",
     "text": [
      "[[ 0  2  0 ...  0  0  0]\n",
      " [ 0  7  2 ...  0  0  0]\n",
      " [ 0  2 27 ...  0  0  0]\n",
      " ...\n",
      " [ 0  0  0 ...  2  0  0]\n",
      " [ 0  0  0 ...  0  0  0]\n",
      " [ 0  0  0 ...  0  0  0]]\n"
     ]
    }
   ],
   "source": [
    "cm = confusion_matrix(y_test, y_predict)\n",
    "print(cm)"
   ]
  },
  {
   "cell_type": "code",
   "execution_count": 41,
   "metadata": {},
   "outputs": [
    {
     "data": {
      "image/png": "[encoded data removed]",
      "text/plain": [
       "<Figure size 432x288 with 2 Axes>"
      ]
     },
     "metadata": {
      "needs_background": "light"
     },
     "output_type": "display_data"
    }
   ],
   "source": [
    "import matplotlib.pyplot as plt\n",
    "import seaborn as sn\n",
    "\n",
    "sn.heatmap(cm, annot=True)\n",
    "plt.show()"
   ]
  },
  {
   "cell_type": "code",
   "execution_count": 56,
   "metadata": {},
   "outputs": [
    {
     "data": {
      "text/plain": [
       "3825    location_3632539\n",
       "3774    location_3632543\n",
       "2302    location_3630622\n",
       "1107    location_3632542\n",
       "2576    location_3631580\n",
       "              ...       \n",
       "1947    location_3629653\n",
       "3283    location_3624852\n",
       "1823    location_3628694\n",
       "2332    location_3630618\n",
       "2464    location_3629654\n",
       "Name: location_coded, Length: 1149, dtype: object"
      ]
     },
     "execution_count": 56,
     "metadata": {},
     "output_type": "execute_result"
    }
   ],
   "source": []
  },
  {
   "cell_type": "code",
   "execution_count": null,
   "metadata": {},
   "outputs": [],
   "source": []
  }
 ],
 "metadata": {
  "kernelspec": {
   "display_name": "Python 3",
   "language": "python",
   "name": "python3"
  },
  "language_info": {
   "codemirror_mode": {
    "name": "ipython",
    "version": 3
   },
   "file_extension": ".py",
   "mimetype": "text/x-python",
   "name": "python",
   "nbconvert_exporter": "python",
   "pygments_lexer": "ipython3",
   "version": "3.7.3"
  }
 },
 "nbformat": 4,
 "nbformat_minor": 2
}
