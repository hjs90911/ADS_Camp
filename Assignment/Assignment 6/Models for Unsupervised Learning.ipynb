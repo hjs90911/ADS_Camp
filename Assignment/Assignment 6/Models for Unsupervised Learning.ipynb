{
 "cells": [
  {
   "cell_type": "markdown",
   "metadata": {
    "deletable": false,
    "editable": false,
    "nbgrader": {
     "cell_type": "markdown",
     "checksum": "895f2fbc0f17b35a7dab4d26949d9d9f",
     "grade": false,
     "grade_id": "cell-0e07db7a183a6149",
     "locked": true,
     "schema_version": 3,
     "solution": false
    }
   },
   "source": [
    "<center>\n",
    "    <img style=\"float: left;\" src=\"Mix_colour.png\" width=\"200\"></img>\n",
    "</center>\n",
    "\n",
    "<br/><br/>\n",
    "<br/><br/>\n",
    "\n",
    "# Models for Unsupervised Learning\n",
    "\n",
    "In this notebook we come back to unsupervised learning, and we will consider different methods for clustering.\n",
    "\n",
    "## Data\n",
    "\n",
    "We will use a real world dataset: the \"[glass identification dataset](https://archive.ics.uci.edu/ml/datasets/glass+identification)\".  Originally created by the USA forensic science service, it includes 6 types of glass defined in terms of 8 features including their oxide content (i.e. Na, Fe, K, etc) and their refractive index.\n",
    "\n",
    "To recap the methods and show them in a simpler setting, first we will only consider a subset containing just two classes of glass and two oxides. Then we will consider the full problem of 9-dimensional classification with 6 classes. In the beginning, we will do most of the analysis for you. Look at our code as a guide to what you will have to do!"
   ]
  },
  {
   "cell_type": "markdown",
   "metadata": {
    "deletable": false,
    "editable": false,
    "nbgrader": {
     "cell_type": "markdown",
     "checksum": "addaffd2e632213988dad92b94a25c65",
     "grade": false,
     "grade_id": "cell-f3b8599b03ef6158",
     "locked": true,
     "schema_version": 3,
     "solution": false
    }
   },
   "source": [
    "Let's load the data. For your convenience, we are providing it in CSV form so we just need to load it.\n",
    "\n",
    "The columns are the following: `Type` is the glass type; `Ri` is the refractive index; all others are oxide content."
   ]
  },
  {
   "cell_type": "code",
   "execution_count": 1,
   "metadata": {
    "deletable": false,
    "editable": false,
    "nbgrader": {
     "cell_type": "code",
     "checksum": "e840ca5d65435064e00d643a41042015",
     "grade": false,
     "grade_id": "cell-353619d107a70269",
     "locked": true,
     "schema_version": 3,
     "solution": false
    }
   },
   "outputs": [
    {
     "data": {
      "text/html": [
       "<div>\n",
       "<style scoped>\n",
       "    .dataframe tbody tr th:only-of-type {\n",
       "        vertical-align: middle;\n",
       "    }\n",
       "\n",
       "    .dataframe tbody tr th {\n",
       "        vertical-align: top;\n",
       "    }\n",
       "\n",
       "    .dataframe thead th {\n",
       "        text-align: right;\n",
       "    }\n",
       "</style>\n",
       "<table border=\"1\" class=\"dataframe\">\n",
       "  <thead>\n",
       "    <tr style=\"text-align: right;\">\n",
       "      <th></th>\n",
       "      <th>RI</th>\n",
       "      <th>Na</th>\n",
       "      <th>Mg</th>\n",
       "      <th>Al</th>\n",
       "      <th>Si</th>\n",
       "      <th>K</th>\n",
       "      <th>Ca</th>\n",
       "      <th>Ba</th>\n",
       "      <th>Fe</th>\n",
       "      <th>Type</th>\n",
       "    </tr>\n",
       "  </thead>\n",
       "  <tbody>\n",
       "    <tr>\n",
       "      <td>0</td>\n",
       "      <td>1.52101</td>\n",
       "      <td>13.64</td>\n",
       "      <td>4.49</td>\n",
       "      <td>1.10</td>\n",
       "      <td>71.78</td>\n",
       "      <td>0.06</td>\n",
       "      <td>8.75</td>\n",
       "      <td>0.0</td>\n",
       "      <td>0.0</td>\n",
       "      <td>1</td>\n",
       "    </tr>\n",
       "    <tr>\n",
       "      <td>1</td>\n",
       "      <td>1.51761</td>\n",
       "      <td>13.89</td>\n",
       "      <td>3.60</td>\n",
       "      <td>1.36</td>\n",
       "      <td>72.73</td>\n",
       "      <td>0.48</td>\n",
       "      <td>7.83</td>\n",
       "      <td>0.0</td>\n",
       "      <td>0.0</td>\n",
       "      <td>1</td>\n",
       "    </tr>\n",
       "    <tr>\n",
       "      <td>2</td>\n",
       "      <td>1.51618</td>\n",
       "      <td>13.53</td>\n",
       "      <td>3.55</td>\n",
       "      <td>1.54</td>\n",
       "      <td>72.99</td>\n",
       "      <td>0.39</td>\n",
       "      <td>7.78</td>\n",
       "      <td>0.0</td>\n",
       "      <td>0.0</td>\n",
       "      <td>1</td>\n",
       "    </tr>\n",
       "    <tr>\n",
       "      <td>3</td>\n",
       "      <td>1.51766</td>\n",
       "      <td>13.21</td>\n",
       "      <td>3.69</td>\n",
       "      <td>1.29</td>\n",
       "      <td>72.61</td>\n",
       "      <td>0.57</td>\n",
       "      <td>8.22</td>\n",
       "      <td>0.0</td>\n",
       "      <td>0.0</td>\n",
       "      <td>1</td>\n",
       "    </tr>\n",
       "    <tr>\n",
       "      <td>4</td>\n",
       "      <td>1.51742</td>\n",
       "      <td>13.27</td>\n",
       "      <td>3.62</td>\n",
       "      <td>1.24</td>\n",
       "      <td>73.08</td>\n",
       "      <td>0.55</td>\n",
       "      <td>8.07</td>\n",
       "      <td>0.0</td>\n",
       "      <td>0.0</td>\n",
       "      <td>1</td>\n",
       "    </tr>\n",
       "  </tbody>\n",
       "</table>\n",
       "</div>"
      ],
      "text/plain": [
       "        RI     Na    Mg    Al     Si     K    Ca   Ba   Fe  Type\n",
       "0  1.52101  13.64  4.49  1.10  71.78  0.06  8.75  0.0  0.0     1\n",
       "1  1.51761  13.89  3.60  1.36  72.73  0.48  7.83  0.0  0.0     1\n",
       "2  1.51618  13.53  3.55  1.54  72.99  0.39  7.78  0.0  0.0     1\n",
       "3  1.51766  13.21  3.69  1.29  72.61  0.57  8.22  0.0  0.0     1\n",
       "4  1.51742  13.27  3.62  1.24  73.08  0.55  8.07  0.0  0.0     1"
      ]
     },
     "execution_count": 1,
     "metadata": {},
     "output_type": "execute_result"
    }
   ],
   "source": [
    "%matplotlib inline\n",
    "import numpy as np\n",
    "import matplotlib.pyplot as plt\n",
    "import pandas as pd\n",
    "\n",
    "df_glass = pd.read_csv('/home/jovyan/Data/glass.csv')\n",
    "\n",
    "df_glass.head()"
   ]
  },
  {
   "cell_type": "markdown",
   "metadata": {
    "deletable": false,
    "editable": false,
    "nbgrader": {
     "cell_type": "markdown",
     "checksum": "6d237675114597d0841658a0d8b749d4",
     "grade": false,
     "grade_id": "cell-8f9173b363be8ac0",
     "locked": true,
     "schema_version": 3,
     "solution": false
    }
   },
   "source": [
    "Let's make a bar plot of the types. As you see below, it shows that type number 4 is missing from the data."
   ]
  },
  {
   "cell_type": "code",
   "execution_count": 2,
   "metadata": {
    "deletable": false,
    "editable": false,
    "nbgrader": {
     "cell_type": "code",
     "checksum": "5694dfdf2854828b1fc009cd59ef018a",
     "grade": false,
     "grade_id": "cell-e3c6d6714080a3a0",
     "locked": true,
     "schema_version": 3,
     "solution": false
    }
   },
   "outputs": [
    {
     "data": {
      "text/plain": [
       "<matplotlib.axes._subplots.AxesSubplot at 0x7f348e097588>"
      ]
     },
     "execution_count": 2,
     "metadata": {},
     "output_type": "execute_result"
    },
    {
     "data": {
      "image/png": "[encoded data removed]",
      "text/plain": [
       "<Figure size 432x288 with 1 Axes>"
      ]
     },
     "metadata": {
      "needs_background": "light"
     },
     "output_type": "display_data"
    }
   ],
   "source": [
    "df_glass['Type'].value_counts(sort=False).plot(kind='bar')"
   ]
  },
  {
   "cell_type": "markdown",
   "metadata": {
    "deletable": false,
    "editable": false,
    "nbgrader": {
     "cell_type": "markdown",
     "checksum": "744962f70277368abb948b4f55156350",
     "grade": false,
     "grade_id": "cell-1d4672e9458086f4",
     "locked": true,
     "schema_version": 3,
     "solution": false
    }
   },
   "source": [
    "In the beginning we will only consider types 1 and 7, and only columns 'Si' and 'Na'.\n",
    "\n",
    "Let's define two variables: 'glass17' containing all columns for types 1 and 7, to be used to check our classification, and `glass_redux` that only contains columns 'Si' and 'Na' for types 1 and 7."
   ]
  },
  {
   "cell_type": "code",
   "execution_count": 3,
   "metadata": {
    "deletable": false,
    "editable": false,
    "nbgrader": {
     "cell_type": "code",
     "checksum": "528003fdf949370c0271c075264d7224",
     "grade": false,
     "grade_id": "cell-719addf7b6321abb",
     "locked": true,
     "schema_version": 3,
     "solution": false
    }
   },
   "outputs": [],
   "source": [
    "glass17=df_glass.loc[df_glass['Type'].isin([1,7]) ]\n",
    "glass_redux = glass17.loc[:, ['Si','Na']]"
   ]
  },
  {
   "cell_type": "markdown",
   "metadata": {
    "deletable": false,
    "editable": false,
    "nbgrader": {
     "cell_type": "markdown",
     "checksum": "dcf9001ce59b627fac32541143bcae49",
     "grade": false,
     "grade_id": "cell-b5de8a6567f0689c",
     "locked": true,
     "schema_version": 3,
     "solution": false
    }
   },
   "source": [
    "Let's start by applying a KMeans classifier to the redux dataset. While in real life we wouldn't know how many clusters we need, this is a simplified example so let's go straight to using 2 clusters.\n",
    "\n",
    "So, we start by importing the Kmeans classifier. We apply it to the `glass_redux` data, and store its predictions into variable `glass_redux_kmpred`.  We then do the same for Gaussian mixture, using appropriate variable names."
   ]
  },
  {
   "cell_type": "code",
   "execution_count": 4,
   "metadata": {
    "deletable": false,
    "editable": false,
    "nbgrader": {
     "cell_type": "code",
     "checksum": "e73ca931f4c8c5398911e9c16de50457",
     "grade": false,
     "grade_id": "cell-26d29ad7b10fecd0",
     "locked": true,
     "schema_version": 3,
     "solution": false
    }
   },
   "outputs": [],
   "source": [
    "np.random.seed(42)  # setting the random seed makes the example reproducible\n",
    "from sklearn.cluster import KMeans\n",
    "km = KMeans(n_clusters=2)\n",
    "km.fit(glass_redux)\n",
    "glass_redux_kmpred = km.predict(glass_redux)\n",
    "\n",
    "\n",
    "np.random.seed(43)  # setting the random seed makes the example reproducible\n",
    "from sklearn.mixture import GaussianMixture\n",
    "gm = GaussianMixture(n_components=2, n_init=10)\n",
    "gm.fit(glass_redux)\n",
    "glass_redux_gmpred = gm.predict(glass_redux)"
   ]
  },
  {
   "cell_type": "markdown",
   "metadata": {
    "deletable": false,
    "editable": false,
    "nbgrader": {
     "cell_type": "markdown",
     "checksum": "c23c5d5a4bf7d0e071902682e8571802",
     "grade": false,
     "grade_id": "cell-5c6ff8a4418b818d",
     "locked": true,
     "schema_version": 3,
     "solution": false
    }
   },
   "source": [
    "We will now plot the data, on the left using the true classes, in the centre using the KMeans classification, and on the right using the Gaussian mixture classification."
   ]
  },
  {
   "cell_type": "code",
   "execution_count": 5,
   "metadata": {
    "deletable": false,
    "editable": false,
    "nbgrader": {
     "cell_type": "code",
     "checksum": "a5417264b34bd6655ac93c2d0f5c7962",
     "grade": false,
     "grade_id": "cell-05514f1c48843c27",
     "locked": true,
     "schema_version": 3,
     "solution": false
    }
   },
   "outputs": [
    {
     "data": {
      "text/plain": [
       "<matplotlib.axes._subplots.AxesSubplot at 0x7f347cbb2080>"
      ]
     },
     "execution_count": 5,
     "metadata": {},
     "output_type": "execute_result"
    },
    {
     "data": {
      "image/png": "[encoded data removed]",
      "text/plain": [
       "<Figure size 1152x288 with 6 Axes>"
      ]
     },
     "metadata": {
      "needs_background": "light"
     },
     "output_type": "display_data"
    }
   ],
   "source": [
    "import matplotlib.pyplot as plt\n",
    "\n",
    "fig,ax = plt.subplots(1,3, figsize=(16,4))\n",
    "glass17.plot('Si','Na',ax=ax[0],kind='scatter',c='Type',colormap='Set1')\n",
    "glass17.plot('Si','Na',ax=ax[1],kind='scatter',c=glass_redux_kmpred,colormap='Set1')\n",
    "glass17.plot('Si','Na',ax=ax[2],kind='scatter',c=glass_redux_gmpred,colormap='Set1')"
   ]
  },
  {
   "cell_type": "markdown",
   "metadata": {
    "deletable": false,
    "editable": false,
    "nbgrader": {
     "cell_type": "markdown",
     "checksum": "70fc0374fd52955aea31bfd94404a1f7",
     "grade": false,
     "grade_id": "cell-6a33152151ec1e35",
     "locked": true,
     "schema_version": 3,
     "solution": false
    }
   },
   "source": [
    "Do you think that we got an acceptable result?  Approximately 3/4 of the points were correctly classified by KMeans. Whether this is acceptable or not, depends on the investigator's judgment and on any external constraints we might have (e.g., requirements from the client).\n",
    "\n",
    "Gaussian mixtures did much better job, correctly classifying about 90% of the points."
   ]
  },
  {
   "cell_type": "markdown",
   "metadata": {
    "deletable": false,
    "editable": false,
    "nbgrader": {
     "cell_type": "markdown",
     "checksum": "c130b37b9fc5d8f3c8af24a7a7ad6598",
     "grade": false,
     "grade_id": "cell-c9a0f64c2410a40a",
     "locked": true,
     "schema_version": 3,
     "solution": false
    }
   },
   "source": [
    "Both KMeans and Gaussian mixtures are quite intuitive classifier. KMeans looks for compact clumps of points, the Gaussian mixtures - for gaussian-distributed clumps. Sometimes, however, our data does not clump so nicely, and may display more complex structures. Let's therefore try something slightly more complex: hierarchical clustering.\n",
    "\n",
    "Recall at the course material we showed how to draw a dendrogram. Let's draw one for our problem. Run the cell below."
   ]
  },
  {
   "cell_type": "code",
   "execution_count": 6,
   "metadata": {
    "deletable": false,
    "editable": false,
    "nbgrader": {
     "cell_type": "code",
     "checksum": "6aae8b411a6312cf8322a9067979aeec",
     "grade": false,
     "grade_id": "cell-9011a77db7ddc4e5",
     "locked": true,
     "schema_version": 3,
     "solution": false,
     "task": false
    }
   },
   "outputs": [
    {
     "data": {
      "image/png": "[encoded data removed]",
      "text/plain": [
       "<Figure size 432x288 with 1 Axes>"
      ]
     },
     "metadata": {
      "needs_background": "light"
     },
     "output_type": "display_data"
    }
   ],
   "source": [
    "np.random.seed(44)  # setting the random seed makes the example reproducible\n",
    "\n",
    "from scipy.cluster import hierarchy\n",
    "\n",
    "hl = hierarchy.linkage(glass_redux,'single')\n",
    "hierarchy.dendrogram(hl)\n",
    "plt.show()"
   ]
  },
  {
   "cell_type": "markdown",
   "metadata": {
    "deletable": false,
    "editable": false,
    "nbgrader": {
     "cell_type": "markdown",
     "checksum": "1849c7fbec801677f10604d922e80930",
     "grade": false,
     "grade_id": "cell-569cfe897941c086",
     "locked": true,
     "schema_version": 3,
     "solution": false
    }
   },
   "source": [
    "Let's now have a look at the above plot. The default colours highlight the top 3 clusters, but the idea in hierarchical clustering is that we can cut the tree at any height and obtain as many clusters as we want. We might at first think of using just 2 clusters as we did for KMeans and Gaussian mixtures. Would it work?\n",
    "\n",
    "### Q1:\n",
    "\n",
    "Which of the following statements is true (only one of them is true)?\n",
    "\n",
    " 1. We can cut the tree at the height of about 1.4, and obtain 2 clusters. Each cluster will contain approximately half of the points.\n",
    " 2. We can cut the tree at any height between 0.65 and 1.0, and obtain 2 clusters (marked by the blue and red colours in the plot). Each cluster will contain approximately half of the points.\n",
    " 3. There is no height at which we can cut the tree in order to obtain 2 clusters, so that each is containing approximately half of the points."
   ]
  },
  {
   "cell_type": "code",
   "execution_count": 7,
   "metadata": {
    "deletable": false,
    "nbgrader": {
     "cell_type": "code",
     "checksum": "4e20322bd339e6c66952f38ae795ed6f",
     "grade": false,
     "grade_id": "cell-ea0442175d4a3809",
     "locked": false,
     "schema_version": 3,
     "solution": true
    }
   },
   "outputs": [],
   "source": [
    "# Fill in all the numbers corresponding to your answer inside the brackets: Q1_answer = [6]\n",
    "\n",
    "### START ANSWER HERE ###\n",
    "Q1_answer = [3]\n",
    "### END ANSWER HERE ###"
   ]
  },
  {
   "cell_type": "code",
   "execution_count": 8,
   "metadata": {
    "deletable": false,
    "editable": false,
    "hideCode": true,
    "nbgrader": {
     "cell_type": "code",
     "checksum": "3a0c92e25e0b0d146ceae55209cd403f",
     "grade": false,
     "grade_id": "cell-20e968fc5b7d3d7f",
     "locked": true,
     "schema_version": 3,
     "solution": false,
     "task": false
    },
    "selfTest": true
   },
   "outputs": [
    {
     "name": "stdout",
     "output_type": "stream",
     "text": [
      "Correct!\n"
     ]
    }
   ],
   "source": [
    "import hashlib\n",
    "_myhash = lambda x: hashlib.md5(str(x).encode()).hexdigest()\n",
    "if _myhash(set(Q1_answer)) == 'd02d4fea1e1905d8aba4b6bd53bfd42c':\n",
    "    print('Correct!')\n",
    "else:\n",
    "    print('Not correct! Please try again!')"
   ]
  },
  {
   "cell_type": "code",
   "execution_count": null,
   "metadata": {
    "deletable": false,
    "editable": false,
    "hideCode": true,
    "nbgrader": {
     "cell_type": "code",
     "checksum": "5f27856253e425fbb26545f173452e8b",
     "grade": true,
     "grade_id": "cell-f4c330089086b861",
     "locked": true,
     "points": 1,
     "schema_version": 3,
     "solution": false
    }
   },
   "outputs": [],
   "source": [
    "# nbgrader\n"
   ]
  },
  {
   "cell_type": "markdown",
   "metadata": {
    "deletable": false,
    "editable": false,
    "nbgrader": {
     "cell_type": "markdown",
     "checksum": "f14a4b0046e614b4e444aa0eba6508c6",
     "grade": false,
     "grade_id": "cell-8c254b69357e540d",
     "locked": true,
     "schema_version": 3,
     "solution": false
    }
   },
   "source": [
    "Let's look at what happens in three cases above. We'll plot the data and colour the points according to the clusterings that we obtain by cutting at three different heights.\n",
    "\n",
    "We will colour the points with the following scheme:\n",
    " 1. the left panel shows the classification as resulting when the tree is cut at 1.4.\n",
    " 2. for the centre panel, we cut the tree at 0.8;\n",
    " 3. the right panel shows the colours resulting from when the tree is cut at 0.33."
   ]
  },
  {
   "cell_type": "code",
   "execution_count": 9,
   "metadata": {
    "deletable": false,
    "editable": false,
    "nbgrader": {
     "cell_type": "code",
     "checksum": "18dbd8abfccd72de5128450084b856f2",
     "grade": false,
     "grade_id": "cell-5dd284b3905dd589",
     "locked": true,
     "schema_version": 3,
     "solution": false,
     "task": false
    }
   },
   "outputs": [
    {
     "data": {
      "text/plain": [
       "<matplotlib.axes._subplots.AxesSubplot at 0x7f347c185ba8>"
      ]
     },
     "execution_count": 9,
     "metadata": {},
     "output_type": "execute_result"
    },
    {
     "data": {
      "image/png": "[encoded data removed]",
      "text/plain": [
       "<Figure size 1152x288 with 6 Axes>"
      ]
     },
     "metadata": {
      "needs_background": "light"
     },
     "output_type": "display_data"
    }
   ],
   "source": [
    "fig,ax = plt.subplots(1,3, figsize=(16,4))\n",
    "glass17.plot('Si','Na',ax=ax[0],kind='scatter',c=hierarchy.cut_tree(hl,height=1.4).squeeze(),colormap='Set1')\n",
    "glass17.plot('Si','Na',ax=ax[1],kind='scatter',c=hierarchy.cut_tree(hl,height=0.8).squeeze(),colormap='Set1')\n",
    "glass17.plot('Si','Na',ax=ax[2],kind='scatter',c=hierarchy.cut_tree(hl,height=0.33).squeeze(),colormap='Set1')"
   ]
  },
  {
   "cell_type": "markdown",
   "metadata": {
    "deletable": false,
    "editable": false,
    "nbgrader": {
     "cell_type": "markdown",
     "checksum": "e1f9b53b3d5ddbdd3a802f839e70b471",
     "grade": false,
     "grade_id": "cell-5c9873825d37f32c",
     "locked": true,
     "schema_version": 3,
     "solution": false
    }
   },
   "source": [
    "Look at plots and think again about the three choices in Q1. The behaviour that we see is due to how hierarchical clustering works: a single point that is widely separated from every other point make a cluster consisting only of that single point. So, hierachical clustering does not necessarily do better than simpler methods such as KMeans or Gaussian mixtures. The best method to apply to a problem depends both on the problem itself, and on what we want to learn. (For example: if we wanted to discard outliers, hierarchical clustering would have done a great job!)\n",
    "\n",
    "Moreover, we have considered a simple two-dimensional setting, but many problems involve more than two features. Issues of data sparseness in a $n$-dimensional space become important, and therefore all methods may fare better or worse depending on the situation. In the second part of this notebook we will consider the glass dataset with all its features."
   ]
  },
  {
   "cell_type": "markdown",
   "metadata": {
    "deletable": false,
    "editable": false,
    "nbgrader": {
     "cell_type": "markdown",
     "checksum": "00816dfd15b91c2196bc62378ffe4c97",
     "grade": false,
     "grade_id": "cell-7a548148a4835ed8",
     "locked": true,
     "schema_version": 3,
     "solution": false
    }
   },
   "source": [
    "## The full problem\n",
    "\n",
    "We will now consider the full 9-dimensional problem. We already loaded the data at the beginning of the notebook and we already have a `df_glass` variable that is a pandas dataframe containing all columns, including the type. We will use it mostly for plotting.\n",
    "\n",
    "We will then define another dataframe, `glass_notype`, containing all columns, except the type. We will use it mostly for classification: we are doing unsupervised learning, so we must pretend that we don't know labels of the glass type!"
   ]
  },
  {
   "cell_type": "code",
   "execution_count": 10,
   "metadata": {
    "deletable": false,
    "editable": false,
    "nbgrader": {
     "cell_type": "code",
     "checksum": "63d92351b1cdf8167f34919a542288c2",
     "grade": false,
     "grade_id": "cell-0db300062754d3db",
     "locked": true,
     "schema_version": 3,
     "solution": false
    }
   },
   "outputs": [],
   "source": [
    "glass_notype = df_glass.drop(columns='Type')"
   ]
  },
  {
   "cell_type": "markdown",
   "metadata": {
    "deletable": false,
    "editable": false,
    "nbgrader": {
     "cell_type": "markdown",
     "checksum": "e72080458999d6f01ea7d429afeb401e",
     "grade": false,
     "grade_id": "cell-d82900536f50e31f",
     "locked": true,
     "schema_version": 3,
     "solution": false
    }
   },
   "source": [
    "## KMeans clustering\n",
    "\n",
    "Let's start with something easy, but what will show us some of the difficulties of working with data with more than two dimensions.\n",
    "\n",
    "### Q2:\n",
    "\n",
    "Apply KMeans clustering to the `glass_notype` data, and store the predicted classification into the `glass_kmpred` variable. \n",
    "\n",
    "Also, use `n_clusters=6` because we know there are six classes in total. \n",
    "\n",
    "(If you think that this is cheating, you're right: in unsupervised clustering we have little prior knowledge of how many classes there are. In theory we should try different numbers of clusters, and find a suitable metric to decide how many are enough for us. But the purpose of this assignment is to look at how different clustering methods work when applied to the same data, so let's assume that we already tried different numbers of clusters, or that we got this information from some external source.)"
   ]
  },
  {
   "cell_type": "code",
   "execution_count": 13,
   "metadata": {
    "deletable": false,
    "nbgrader": {
     "cell_type": "code",
     "checksum": "901ce5187d91ec140ba230655049e89d",
     "grade": false,
     "grade_id": "cell-feaf80c992d071cc",
     "locked": false,
     "schema_version": 3,
     "solution": true
    }
   },
   "outputs": [],
   "source": [
    "np.random.seed(42)  # setting the random seed makes the example reproducible\n",
    "\n",
    "# (approx.4 lines of code)\n",
    "### START ANSWER HERE ###\n",
    "km = KMeans(n_clusters=6)\n",
    "km.fit(glass_notype)\n",
    "glass_kmpred = km.predict(glass_notype)\n",
    "### END ANSWER HERE ###"
   ]
  },
  {
   "cell_type": "code",
   "execution_count": 14,
   "metadata": {
    "deletable": false,
    "editable": false,
    "nbgrader": {
     "cell_type": "code",
     "checksum": "b119ea584b25bfcaf56985899111c76a",
     "grade": false,
     "grade_id": "cell-110f3c9c66ea300c",
     "locked": true,
     "schema_version": 3,
     "solution": false,
     "task": false
    }
   },
   "outputs": [
    {
     "name": "stdout",
     "output_type": "stream",
     "text": [
      "glass_kmpred[:5]:  [0 2 2 2 2]\n",
      "glass_kmpred[-5:]:  [5 5 5 5 5]\n"
     ]
    }
   ],
   "source": [
    "print('glass_kmpred[:5]: ', glass_kmpred[:5])\n",
    "print('glass_kmpred[-5:]: ', glass_kmpred[-5:])"
   ]
  },
  {
   "cell_type": "markdown",
   "metadata": {
    "deletable": false,
    "editable": false,
    "nbgrader": {
     "cell_type": "markdown",
     "checksum": "db25a48f595a2c2c862b50537577d63d",
     "grade": false,
     "grade_id": "cell-9b1e28f1fe748686",
     "locked": true,
     "schema_version": 3,
     "solution": false
    }
   },
   "source": [
    "**Expected Output**: \n",
    "<table style=\"width:100%\">\n",
    "    <tr> \n",
    "        <td> glass_kmpred[:5]</td> \n",
    "        <td> [0 2 2 2 2]\n",
    "        </td> \n",
    "    </tr>\n",
    "    <tr> \n",
    "        <td> glass_kmpred[-5:]</td> \n",
    "        <td> [5, 5, 5, 5, 5]\n",
    "        </td> \n",
    "    </tr>\n",
    "</table> "
   ]
  },
  {
   "cell_type": "code",
   "execution_count": null,
   "metadata": {
    "deletable": false,
    "editable": false,
    "hideCode": true,
    "nbgrader": {
     "cell_type": "code",
     "checksum": "cc860c843cdfbc5467b2ee13e23936c0",
     "grade": true,
     "grade_id": "cell-ffff37e7f043485a",
     "locked": true,
     "points": 1,
     "schema_version": 3,
     "solution": false
    }
   },
   "outputs": [],
   "source": [
    "# nbgrader\n"
   ]
  },
  {
   "cell_type": "markdown",
   "metadata": {
    "deletable": false,
    "editable": false,
    "nbgrader": {
     "cell_type": "markdown",
     "checksum": "2435c31d2e4d2a1f657685c5a1732e03",
     "grade": false,
     "grade_id": "cell-d01af2b1cd830142",
     "locked": true,
     "schema_version": 3,
     "solution": false
    }
   },
   "source": [
    "Let's now plot the result of our classification, side to side with the true classes. We choose to display the `Si` and `Na` columns."
   ]
  },
  {
   "cell_type": "code",
   "execution_count": 15,
   "metadata": {
    "deletable": false,
    "editable": false,
    "nbgrader": {
     "cell_type": "code",
     "checksum": "95be39cbde2b7df7b9b534b19bec5d85",
     "grade": false,
     "grade_id": "cell-f1f331985a708eee",
     "locked": true,
     "schema_version": 3,
     "solution": false
    }
   },
   "outputs": [
    {
     "data": {
      "text/plain": [
       "<matplotlib.axes._subplots.AxesSubplot at 0x7f347b28a588>"
      ]
     },
     "execution_count": 15,
     "metadata": {},
     "output_type": "execute_result"
    },
    {
     "data": {
      "image/png": "[encoded data removed]",
      "text/plain": [
       "<Figure size 720x288 with 4 Axes>"
      ]
     },
     "metadata": {
      "needs_background": "light"
     },
     "output_type": "display_data"
    }
   ],
   "source": [
    "fig,ax = plt.subplots(1,2, figsize=(10,4))\n",
    "df_glass.plot('Si','Na',ax=ax[0],kind='scatter',c='Type',colormap='Set1')\n",
    "df_glass.plot('Si','Na',ax=ax[1],kind='scatter',c=glass_kmpred,colormap='Set1')"
   ]
  },
  {
   "cell_type": "markdown",
   "metadata": {
    "deletable": false,
    "editable": false,
    "nbgrader": {
     "cell_type": "markdown",
     "checksum": "da9c842eee015ce8862531e53be7a361",
     "grade": false,
     "grade_id": "cell-64a68c1a5ee5dc46",
     "locked": true,
     "schema_version": 3,
     "solution": false
    }
   },
   "source": [
    "Let's look at the plots. It is quite difficult to compare them, because the KMeans class numbers don't match the true glass types. This is quite obvious, since KMeans cannot look at the 'type' column. However, with a bit of effort, we can see that type=7 broadly corresponds to class=5 (luckily, both are plotted in grey), but anything else is quite ambiguous.\n",
    "\n",
    "We could develop some strategy to match `Type` and KMeans classes, but perhaps it is just better and easier to use the [adjusted rand score](https://scikit-learn.org/stable/modules/generated/sklearn.metrics.adjusted_rand_score.html#sklearn-metrics-adjusted-rand-score) that we already encountered in previous assignments.\n",
    "\n",
    "In the next cell we calculate the adjusted rand score between the `df_glass['Type']` and the `glass_kmpred` classes."
   ]
  },
  {
   "cell_type": "code",
   "execution_count": 16,
   "metadata": {
    "deletable": false,
    "editable": false,
    "nbgrader": {
     "cell_type": "code",
     "checksum": "4abd39b0de0246f300d46e00b5470337",
     "grade": false,
     "grade_id": "cell-d2085b0ce90efcea",
     "locked": true,
     "schema_version": 3,
     "solution": false
    }
   },
   "outputs": [
    {
     "name": "stdout",
     "output_type": "stream",
     "text": [
      "Adjusted rand score for KMeans:  0.262527884421083\n"
     ]
    }
   ],
   "source": [
    "from sklearn import metrics\n",
    "ars_km = metrics.adjusted_rand_score(df_glass['Type'], glass_kmpred)\n",
    "\n",
    "print('Adjusted rand score for KMeans: ', ars_km)"
   ]
  },
  {
   "cell_type": "markdown",
   "metadata": {
    "deletable": false,
    "editable": false,
    "nbgrader": {
     "cell_type": "markdown",
     "checksum": "a1c7a84c142a4b867b02525de05d5ea0",
     "grade": false,
     "grade_id": "cell-2c6cb031b5c76be2",
     "locked": true,
     "schema_version": 3,
     "solution": false
    }
   },
   "source": [
    "## Gaussian mixtures\n",
    "\n",
    "Gaussian mixtures offered an improvement over KMeans in the two-dimensional problem. Will they do so also in 9-dimensional case?\n",
    "\n",
    "### Q3:\n",
    "\n",
    "Apply Gaussian mixture clustering to the `glass_notype` data, and store the predicted classification into the `glass_gmpred` variable. Use 6 Gaussian components. Also, use `n_init=10` when instantiating the GaussianMixture class.\n",
    "\n",
    "Then, calculate the adjusted rand score and store it in the `ars_gm` variable."
   ]
  },
  {
   "cell_type": "code",
   "execution_count": 21,
   "metadata": {
    "deletable": false,
    "nbgrader": {
     "cell_type": "code",
     "checksum": "ef612ca9e99734c79fd8c4929bf29b16",
     "grade": false,
     "grade_id": "cell-4671e7f7335c186b",
     "locked": false,
     "schema_version": 3,
     "solution": true
    }
   },
   "outputs": [
    {
     "name": "stdout",
     "output_type": "stream",
     "text": [
      "Adjusted rand score Gaussian Mixture:  0.28092610350377933\n"
     ]
    }
   ],
   "source": [
    "np.random.seed(42)  # setting the random seed makes the example reproducible\n",
    "\n",
    "# (approx. 5 lines of code)\n",
    "\n",
    "### START ANSWER HERE ###\n",
    "gm = GaussianMixture(n_components=6, n_init=10)\n",
    "gm.fit(glass_notype)\n",
    "glass_gmpred = gm.predict(glass_notype)\n",
    "ars_gm = metrics.adjusted_rand_score(df_glass['Type'], glass_gmpred)\n",
    "### END ANSWER HERE ###\n",
    "\n",
    "print('Adjusted rand score Gaussian Mixture: ', ars_gm)"
   ]
  },
  {
   "cell_type": "markdown",
   "metadata": {
    "deletable": false,
    "editable": false,
    "nbgrader": {
     "cell_type": "markdown",
     "checksum": "2d4db74d56d3552abc6b8632290c657b",
     "grade": false,
     "grade_id": "cell-32b7b59207dc6e4e",
     "locked": true,
     "schema_version": 3,
     "solution": false
    }
   },
   "source": [
    "**Expected Output**: \n",
    "<table style=\"width:100%\">\n",
    "    <tr> \n",
    "        <td> Adjusted rand score Gaussian Mixture</td> \n",
    "        <td> 0.28092610350377933\n",
    "        </td> \n",
    "    </tr>\n",
    "</table> "
   ]
  },
  {
   "cell_type": "code",
   "execution_count": 22,
   "metadata": {
    "deletable": false,
    "editable": false,
    "hideCode": true,
    "nbgrader": {
     "cell_type": "code",
     "checksum": "9f4312827d5c8af86635bad32eafb77e",
     "grade": true,
     "grade_id": "cell-8af130a90b9497df",
     "locked": true,
     "points": 1,
     "schema_version": 3,
     "solution": false
    }
   },
   "outputs": [],
   "source": [
    "# nbgrader\n"
   ]
  },
  {
   "cell_type": "markdown",
   "metadata": {
    "deletable": false,
    "editable": false,
    "nbgrader": {
     "cell_type": "markdown",
     "checksum": "c0974dc0b501d3067079771cf6212529",
     "grade": false,
     "grade_id": "cell-536532b8bf789327",
     "locked": true,
     "schema_version": 3,
     "solution": false
    }
   },
   "source": [
    "So the adjusted rand score is slightly better for Gaussian mixtures than it is for KMeans. However, is it good enough? It's now time to try hierarchical clustering!\n",
    "\n",
    "## Hierarchical clustering\n",
    "\n",
    "### Q4:\n",
    "\n",
    "Apply hierarchical clustering to the `glass_notype` data, and store the predicted classification into the `glass_hcpred` variable. As above, use 6 clusters.\n",
    "\n",
    "Instead of using `scipy.cluster.hierarcy.linkage` as in the two-dimensional problem, use [`sklearn.cluster.AgglomerativeClustering`](https://scikit-learn.org/stable/modules/generated/sklearn.cluster.AgglomerativeClustering.html): it is used just like the KMeans and Gaussian mixture packages, and we have also already seen it in the course notebook. The only difference is that instead of having two different `.fit()` and `.predict()` methods, we only have one that does both: `.fit_predict()` (see the [documentation](https://scikit-learn.org/stable/modules/generated/sklearn.cluster.AgglomerativeClustering.html#sklearn.cluster.AgglomerativeClustering.fit_predict)).\n",
    "\n",
    "Finally, calculate the adjusted rand score and store it in the `ars_hc` variable."
   ]
  },
  {
   "cell_type": "code",
   "execution_count": 23,
   "metadata": {
    "deletable": false,
    "nbgrader": {
     "cell_type": "code",
     "checksum": "982c19c73eedb18fda1c73e1152275bf",
     "grade": false,
     "grade_id": "cell-e6724bb48d31511d",
     "locked": false,
     "schema_version": 3,
     "solution": true
    }
   },
   "outputs": [
    {
     "name": "stdout",
     "output_type": "stream",
     "text": [
      "Adjusted rand score Hierarchical Clustering:  0.2620306253377113\n"
     ]
    }
   ],
   "source": [
    "np.random.seed(42)  # setting the random seed makes the example reproducible\n",
    "\n",
    "# (approx. 4 lines of code)\n",
    "### START ANSWER HERE ###\n",
    "from sklearn.cluster import AgglomerativeClustering\n",
    "\n",
    "hc = AgglomerativeClustering(n_clusters=6)\n",
    "glass_hcpred = hc.fit_predict(glass_notype)\n",
    "\n",
    "ars_hc = metrics.adjusted_rand_score(df_glass['Type'], glass_hcpred)\n",
    "### END ANSWER HERE ###\n",
    "\n",
    "print('Adjusted rand score Hierarchical Clustering: ', ars_hc)"
   ]
  },
  {
   "cell_type": "markdown",
   "metadata": {
    "deletable": false,
    "editable": false,
    "nbgrader": {
     "cell_type": "markdown",
     "checksum": "a0e9eb7eee78185f0c02cebba3954603",
     "grade": false,
     "grade_id": "cell-96976f365fc17437",
     "locked": true,
     "schema_version": 3,
     "solution": false
    }
   },
   "source": [
    "**Expected Output**: \n",
    "<table style=\"width:100%\">\n",
    "    <tr> \n",
    "        <td> Adjusted rand score Hierarchical Clustering</td> \n",
    "        <td> 0.2620306253377113\n",
    "        </td> \n",
    "    </tr>\n",
    "</table> "
   ]
  },
  {
   "cell_type": "code",
   "execution_count": null,
   "metadata": {
    "deletable": false,
    "editable": false,
    "hideCode": true,
    "nbgrader": {
     "cell_type": "code",
     "checksum": "d1b74fd200a8aea922882c7770b0fdad",
     "grade": true,
     "grade_id": "cell-c8e4df32e2c12420",
     "locked": true,
     "points": 1,
     "schema_version": 3,
     "solution": false
    }
   },
   "outputs": [],
   "source": [
    "# nbgrader cell\n"
   ]
  },
  {
   "cell_type": "markdown",
   "metadata": {
    "deletable": false,
    "editable": false,
    "nbgrader": {
     "cell_type": "markdown",
     "checksum": "2ef545339a64ea522f941b162a564151",
     "grade": false,
     "grade_id": "cell-c7965431627d843d",
     "locked": true,
     "schema_version": 3,
     "solution": false
    }
   },
   "source": [
    "That's interesting! The hierarchical clustering score is lower than the Gaussian mixture one, and on par with KMeans. Why is this?\n",
    "\n",
    "### Q5:\n",
    "\n",
    "Which of the statements is true?\n",
    "  1. Hierarchical clustering is just not as powerful as Gaussian mixtures\n",
    "  2. All three techniques are sensitive to outliers, and hierarchical clustering especially so\n",
    "  3. Hierarchical clustering is the only one (out of the three techniques that we explored) that is sensitive to outliers"
   ]
  },
  {
   "cell_type": "code",
   "execution_count": 24,
   "metadata": {
    "deletable": false,
    "nbgrader": {
     "cell_type": "code",
     "checksum": "6ede4a47371ea81b971cb7014c87f950",
     "grade": false,
     "grade_id": "cell-480a013c5b396ac7",
     "locked": false,
     "schema_version": 3,
     "solution": true
    }
   },
   "outputs": [],
   "source": [
    "# Fill in all the numbers corresponding to your answer inside the brackets: Q5_answer = [6]\n",
    "\n",
    "### START ANSWER HERE ###\n",
    "Q5_answer = [2]\n",
    "### END ANSWER HERE ###"
   ]
  },
  {
   "cell_type": "code",
   "execution_count": 25,
   "metadata": {
    "deletable": false,
    "editable": false,
    "hideCode": true,
    "nbgrader": {
     "cell_type": "code",
     "checksum": "d398d90a397e7b32d3298bf573617d98",
     "grade": false,
     "grade_id": "cell-4324493026eb283d",
     "locked": true,
     "schema_version": 3,
     "solution": false,
     "task": false
    },
    "selfTest": true
   },
   "outputs": [
    {
     "name": "stdout",
     "output_type": "stream",
     "text": [
      "Correct!\n"
     ]
    }
   ],
   "source": [
    "import hashlib\n",
    "_myhash = lambda x: hashlib.md5(str(x).encode()).hexdigest()\n",
    "if _myhash(set(Q5_answer)) == '9dfcb71dad3ced71f805b7bb4cd9dfc0':\n",
    "    print('Correct!')\n",
    "else:\n",
    "    print('Not correct! Please try again!')"
   ]
  },
  {
   "cell_type": "code",
   "execution_count": null,
   "metadata": {
    "deletable": false,
    "editable": false,
    "hideCode": true,
    "nbgrader": {
     "cell_type": "code",
     "checksum": "c216638bb89f02f632e9b78de72ac614",
     "grade": true,
     "grade_id": "cell-9148a9428467b785",
     "locked": true,
     "points": 1,
     "schema_version": 3,
     "solution": false
    }
   },
   "outputs": [],
   "source": [
    "# nbgrader\n"
   ]
  },
  {
   "cell_type": "markdown",
   "metadata": {
    "deletable": false,
    "editable": false,
    "nbgrader": {
     "cell_type": "markdown",
     "checksum": "a8d8adb5a8c5ea49a2d5fd7b6d654da5",
     "grade": false,
     "grade_id": "cell-55bc0cc1e7dee916",
     "locked": true,
     "schema_version": 3,
     "solution": false
    }
   },
   "source": [
    "As we remarked above, we have been somewhat cheating so far by assuming that the number of clusters is 6. In a real world problem, the number of clusters would likely be unknown. Moreover, if we have a few outliers, then one could think of using more clusters than the number of true classes. The idea is that the outliers would get their own cluster, and do not interfere with the clustering of the bulk of data. Let's see if that is true. (Anyway, a better idea would be to clean the data and remove the outliers).\n",
    "\n",
    "We will plot now the adjusted rand score for all three techniques, as a function of the number of clusters. To speed things up, we have already prepared the code for you."
   ]
  },
  {
   "cell_type": "code",
   "execution_count": 26,
   "metadata": {
    "deletable": false,
    "editable": false,
    "nbgrader": {
     "cell_type": "code",
     "checksum": "1275a8f20d9b1a14cd97e1c06ede27df",
     "grade": false,
     "grade_id": "cell-dbfec582ec8c3e76",
     "locked": true,
     "schema_version": 3,
     "solution": false
    }
   },
   "outputs": [
    {
     "data": {
      "image/png": "[encoded data removed]",
      "text/plain": [
       "<Figure size 432x288 with 1 Axes>"
      ]
     },
     "metadata": {
      "needs_background": "light"
     },
     "output_type": "display_data"
    }
   ],
   "source": [
    "ars_km = []\n",
    "ars_gm = []\n",
    "ars_hc = []\n",
    "\n",
    "np.random.seed(42)  # setting the random seed makes the example reproducible\n",
    "for n in range(1,13):\n",
    "    km = KMeans(n_clusters=n)\n",
    "    km.fit(glass_notype)\n",
    "    glass_kmpred = km.predict(glass_notype)\n",
    "    ars_km.append( metrics.adjusted_rand_score(df_glass['Type'], glass_kmpred) )\n",
    "   \n",
    "    gm = GaussianMixture(n_components=n, n_init=10)\n",
    "    gm.fit(glass_notype)\n",
    "    glass_gmpred = gm.predict(glass_notype)\n",
    "    ars_gm.append( metrics.adjusted_rand_score(df_glass['Type'], glass_gmpred) )\n",
    "\n",
    "    hc = AgglomerativeClustering(n_clusters=n)\n",
    "    glass_hcpred = hc.fit_predict(glass_notype)\n",
    "    ars_hc.append( metrics.adjusted_rand_score(df_glass['Type'], glass_hcpred) )\n",
    "\n",
    "x = np.linspace(1,12,12)\n",
    "plt.plot(x,ars_km, color='blue',  label='KMeans')\n",
    "plt.plot(x,ars_gm, color='red',   label='Gaussian mixtures')\n",
    "plt.plot(x,ars_hc, color='green', label='Hierarchical clustering')\n",
    "plt.xlabel('n_clusters')\n",
    "plt.ylabel('Adjusted rand score')\n",
    "plt.legend()\n",
    "plt.show()"
   ]
  },
  {
   "cell_type": "markdown",
   "metadata": {
    "deletable": false,
    "editable": false,
    "nbgrader": {
     "cell_type": "markdown",
     "checksum": "59282f94e51daaeade59c7966f7af5ca",
     "grade": false,
     "grade_id": "cell-d7f9379fe2acdab0",
     "locked": true,
     "schema_version": 3,
     "solution": false
    }
   },
   "source": [
    "### Q6:\n",
    "\n",
    "Look at the plot above, and then choose which of the statements below is true. (Only one of them is true).\n",
    "\n",
    " 1. Gaussian mixtures method gets the maximum score with less clusters, so, for a principle of economy, it should be preferred.\n",
    " 2. KMeans should be preferred: its score is approximately as good as that of hierarchical clustering when n_clusters<=8, and it is better when we ask for more clusters.\n",
    " 3. Hierarchical clustering should be preferred: it has the highest score when n_clusters=6\n",
    " 4. There is no clear winner. The three techniques have their strengths and pitfalls, and moreover, if we generated the same figure again with a different random number seed, we would get slightly different results. The adjusted rand score cannot be the only factor in making the decision which technique to use for the analysis, and we should also strive to understand the data: how compact are the clusters, how important are outliers, etc."
   ]
  },
  {
   "cell_type": "code",
   "execution_count": 27,
   "metadata": {
    "deletable": false,
    "nbgrader": {
     "cell_type": "code",
     "checksum": "d316e7f8c594f7ff3e0cef8e9c89d660",
     "grade": false,
     "grade_id": "cell-c5ad5f35eb757756",
     "locked": false,
     "schema_version": 3,
     "solution": true
    }
   },
   "outputs": [],
   "source": [
    "# Fill in all the numbers corresponding to your answer inside the brackets: Q6_answer = [6]\n",
    "\n",
    "### START ANSWER HERE ###\n",
    "Q6_answer = [4]\n",
    "### END ANSWER HERE ###"
   ]
  },
  {
   "cell_type": "code",
   "execution_count": 28,
   "metadata": {
    "deletable": false,
    "editable": false,
    "hideCode": true,
    "nbgrader": {
     "cell_type": "code",
     "checksum": "a1a57dc0db56405a7b8a8dada2d246bc",
     "grade": false,
     "grade_id": "cell-efc1d65639aeff20",
     "locked": true,
     "schema_version": 3,
     "solution": false,
     "task": false
    },
    "selfTest": true
   },
   "outputs": [
    {
     "name": "stdout",
     "output_type": "stream",
     "text": [
      "Correct!\n"
     ]
    }
   ],
   "source": [
    "import hashlib\n",
    "_myhash = lambda x: hashlib.md5(str(x).encode()).hexdigest()\n",
    "if _myhash(set(Q6_answer)) == '1bc8352531edbc3580fdd3e1bfe94353':\n",
    "    print('Correct!')\n",
    "else:\n",
    "    print('Not correct! Please try again!')"
   ]
  },
  {
   "cell_type": "code",
   "execution_count": null,
   "metadata": {
    "deletable": false,
    "editable": false,
    "hideCode": true,
    "nbgrader": {
     "cell_type": "code",
     "checksum": "161dabdb19d54ef053ad15ef21489ac4",
     "grade": true,
     "grade_id": "cell-1bf6c6c75103abb4",
     "locked": true,
     "points": 1,
     "schema_version": 3,
     "solution": false
    }
   },
   "outputs": [],
   "source": [
    "# nbgrader\n"
   ]
  },
  {
   "cell_type": "markdown",
   "metadata": {
    "deletable": false,
    "editable": false,
    "nbgrader": {
     "cell_type": "markdown",
     "checksum": "2338c048ae73a4a0c026f4cdd204d66e",
     "grade": false,
     "grade_id": "cell-87f9fa6e50d02fc0",
     "locked": true,
     "schema_version": 3,
     "solution": false
    }
   },
   "source": [
    "### The elbow method\n",
    "\n",
    "When doing unsupervised clustering in the real world, we don't have labels so we cannot apply adjusted rand score to check how we are doing. We must rely on some other measure. One possibility is to check how much variance we are catching with our classification as a function of the number of clusters. The more clusters we have, the more variance we can explain, but there is a point where the reward from adding more clusters starts to decrease.\n",
    "\n",
    "In the next cell, we will plot the KMeans score that, in sklearn's implementation, is the opposite of the total variance. So, a higher score means that we have smaller clusters. You can appreciate that the score rises sharply when going from one to a few clusters, but then the improvement becomes milder. The \"elbow\" in the plot could probably be set somewhere between 3 and 6 clusters. It is the investigator's responsibility to make a choice, that should also be supported by some other information like, for example, the plots we have already made.\n",
    "\n",
    "With the appropriate scores, similar plots can also be made for other methods than KMeans."
   ]
  },
  {
   "cell_type": "code",
   "execution_count": 29,
   "metadata": {
    "deletable": false,
    "editable": false,
    "nbgrader": {
     "cell_type": "code",
     "checksum": "7fc431d927c067bb3288dc13a7fdd0d4",
     "grade": false,
     "grade_id": "cell-5d3e2725c24a8ec3",
     "locked": true,
     "schema_version": 3,
     "solution": false
    }
   },
   "outputs": [
    {
     "data": {
      "image/png": "[encoded data removed]",
      "text/plain": [
       "<Figure size 432x288 with 1 Axes>"
      ]
     },
     "metadata": {
      "needs_background": "light"
     },
     "output_type": "display_data"
    }
   ],
   "source": [
    "score_km = []\n",
    "\n",
    "np.random.seed(42)  # setting the random seed makes the example reproducible\n",
    "for n in range(1,13):\n",
    "    km = KMeans(n_clusters=n)\n",
    "    km.fit(glass_notype)\n",
    "    glass_kmpred = km.predict(glass_notype)\n",
    "    score_km.append( km.score(glass_notype))\n",
    "   \n",
    "x = np.linspace(1,12,12)\n",
    "plt.plot(x,score_km, color='blue',  label='KMeans')\n",
    "plt.xlabel('n_clusters')\n",
    "plt.ylabel('Score')\n",
    "plt.legend()\n",
    "plt.show()"
   ]
  },
  {
   "cell_type": "markdown",
   "metadata": {
    "deletable": false,
    "editable": false,
    "nbgrader": {
     "cell_type": "markdown",
     "checksum": "2eb588a48b55d18c87ee0532a3b20eca",
     "grade": false,
     "grade_id": "cell-65907676c3bc09be",
     "locked": true,
     "schema_version": 3,
     "solution": false
    }
   },
   "source": [
    "## Dimensionality reduction\n",
    "\n",
    "In the last part of this notebook, we will take a look at dimensionality reduction using principal component analysis (PCA). We ask ourselves, can we improve our classification by using PCA to focus on the most informative components, and getting rid of the noise? Let's try.\n",
    "\n",
    "### Q7:\n",
    "\n",
    "Apply PCA for `glass_notype` data.\n",
    "\n",
    "**Hints**:\n",
    "* import `PCA` from `sklearn.decomposition`. \n",
    "* define an instance of the [PCA class](https://scikit-learn.org/stable/modules/generated/sklearn.decomposition.PCA.html) and use only 3 components (`n_components=3`). \n",
    "* apply the `.fit()` method to your data (`glass_notype`)\n",
    "* apply the `.transform()` method to the same data, and store the result in a variable called `glass_pca`."
   ]
  },
  {
   "cell_type": "code",
   "execution_count": 30,
   "metadata": {
    "deletable": false,
    "nbgrader": {
     "cell_type": "code",
     "checksum": "5c81da558f8eced15d6a5b6da264c2f7",
     "grade": false,
     "grade_id": "cell-b16f031e9d7da62b",
     "locked": false,
     "schema_version": 3,
     "solution": true
    }
   },
   "outputs": [],
   "source": [
    "# (approx. 4 lines of code)\n",
    "\n",
    "### START ANSWER HERE ###\n",
    "from sklearn.decomposition import PCA\n",
    "pca = PCA(n_components=3)\n",
    "pca.fit(glass_notype)\n",
    "glass_pca = pca.transform(glass_notype)\n",
    "### END ANSWER HERE ###"
   ]
  },
  {
   "cell_type": "code",
   "execution_count": 31,
   "metadata": {},
   "outputs": [
    {
     "data": {
      "text/plain": [
       "array([-1.43142469, -1.10211499, -1.0669584 ])"
      ]
     },
     "execution_count": 31,
     "metadata": {},
     "output_type": "execute_result"
    }
   ],
   "source": [
    "glass_pca[0]"
   ]
  },
  {
   "cell_type": "markdown",
   "metadata": {
    "deletable": false,
    "editable": false,
    "nbgrader": {
     "cell_type": "markdown",
     "checksum": "c37934b8158a84a1e85f238746e56cc8",
     "grade": false,
     "grade_id": "cell-3b84f6303aa859c7",
     "locked": true,
     "schema_version": 3,
     "solution": false
    }
   },
   "source": [
    "**Expected Output**: \n",
    "<table style=\"width:100%\">\n",
    "    <tr> \n",
    "        <td> glass_pca[0]</td> \n",
    "        <td> array([-1.43142469, -1.10211499, -1.0669584 ])\n",
    "        </td> \n",
    "    </tr>\n",
    "</table> "
   ]
  },
  {
   "cell_type": "code",
   "execution_count": 32,
   "metadata": {
    "deletable": false,
    "editable": false,
    "hideCode": true,
    "nbgrader": {
     "cell_type": "code",
     "checksum": "ab8e8827ff0c7a1e45f6cf636e056d97",
     "grade": true,
     "grade_id": "cell-ae2017a1331e9171",
     "locked": true,
     "points": 1,
     "schema_version": 3,
     "solution": false
    }
   },
   "outputs": [],
   "source": [
    "# nbgrader\n"
   ]
  },
  {
   "cell_type": "markdown",
   "metadata": {
    "deletable": false,
    "editable": false,
    "nbgrader": {
     "cell_type": "markdown",
     "checksum": "4e03a77101c6047ef3debcf65fe933dd",
     "grade": false,
     "grade_id": "cell-e22e07536b8f6622",
     "locked": true,
     "schema_version": 3,
     "solution": false
    }
   },
   "source": [
    "### Q8:\n",
    "\n",
    "Now let's apply again KMeans to the PCA transformed variables that you stored in `glass_pca`. Look at how you did KMeans classification before, and do the same here. Use `n_clusters=6`.\n",
    "\n",
    "Put your predicted classification in a variable called `glass_pcakmpred`, and the adjusted rand score in a variable called `ars_pcakm`.\n",
    "\n"
   ]
  },
  {
   "cell_type": "code",
   "execution_count": 33,
   "metadata": {
    "deletable": false,
    "nbgrader": {
     "cell_type": "code",
     "checksum": "ee109be176f5da08a96d414a5e49ab1b",
     "grade": false,
     "grade_id": "cell-f1421866b97a9218",
     "locked": false,
     "schema_version": 3,
     "solution": true
    }
   },
   "outputs": [
    {
     "name": "stdout",
     "output_type": "stream",
     "text": [
      "Adjusted rand score PCA KMeans:  0.27253425743774695\n"
     ]
    }
   ],
   "source": [
    "np.random.seed(42)  # setting the random seed makes the example reproducible\n",
    "\n",
    "# (approx. 4 lines of code)\n",
    "\n",
    "### START ANSWER HERE ###\n",
    "km2 = KMeans(n_clusters=6)\n",
    "km2.fit(glass_pca)\n",
    "\n",
    "glass_pcakmpred = km2.predict(glass_pca)\n",
    "ars_pcakm = metrics.adjusted_rand_score(df_glass['Type'], glass_pcakmpred)\n",
    "### END ANSWER HERE ###\n",
    "\n",
    "print('Adjusted rand score PCA KMeans: ', ars_pcakm)"
   ]
  },
  {
   "cell_type": "markdown",
   "metadata": {
    "deletable": false,
    "editable": false,
    "nbgrader": {
     "cell_type": "markdown",
     "checksum": "4cda7f21a8614b9a0aeba99b6e1dd1a6",
     "grade": false,
     "grade_id": "cell-730f2ec35f66",
     "locked": true,
     "schema_version": 3,
     "solution": false
    }
   },
   "source": [
    "**Expected Output**: \n",
    "<table style=\"width:100%\">\n",
    "    <tr> \n",
    "        <td> Adjusted rand score PCA KMeans</td> \n",
    "        <td> 0.27253425743774695\n",
    "        </td> \n",
    "    </tr>\n",
    "</table> "
   ]
  },
  {
   "cell_type": "code",
   "execution_count": 34,
   "metadata": {
    "deletable": false,
    "editable": false,
    "hideCode": true,
    "nbgrader": {
     "cell_type": "code",
     "checksum": "3a61b3b83bed72b85d361778902e5ad0",
     "grade": true,
     "grade_id": "cell-a6d87b9c221b149b",
     "locked": true,
     "points": 1,
     "schema_version": 3,
     "solution": false
    }
   },
   "outputs": [],
   "source": [
    "# nbgrader cell\n"
   ]
  },
  {
   "cell_type": "markdown",
   "metadata": {
    "deletable": false,
    "editable": false,
    "nbgrader": {
     "cell_type": "markdown",
     "checksum": "758954ecc3eff0e4648928518d1955e3",
     "grade": false,
     "grade_id": "cell-2503a2a5ed15b7e7",
     "locked": true,
     "schema_version": 3,
     "solution": false
    }
   },
   "source": [
    "Nice! With just three principal components we obtained a higher adjusted rand score than when we were using the full 9-dimensional, raw data. Could we get a higher score by using less, or more principal components? Feel free to experiment if you wish!\n",
    "\n",
    "Let's now plot the classification. Since this notebook is already quite long, we will do it for you. On the left panel we will put the true glass types, as a function of Si and Na content.\n",
    "In the middle panel we will put KMeans classes as a function of the first two PCA classes.\n",
    "In the right panel we will put again KMeans classes, but displayed as a function of the first and the third PCA classes. \n",
    "\n",
    "Look at the structures that appear in the PCA plots: the PCA method is revealing some information that would otherwise be very difficult to visualize, because it is hidden in a high-dimensional space."
   ]
  },
  {
   "cell_type": "code",
   "execution_count": 35,
   "metadata": {
    "deletable": false,
    "editable": false,
    "nbgrader": {
     "cell_type": "code",
     "checksum": "99f496da2613b764932d298ca3de97f2",
     "grade": false,
     "grade_id": "cell-04355853b61a25da",
     "locked": true,
     "schema_version": 3,
     "solution": false
    }
   },
   "outputs": [
    {
     "data": {
      "text/plain": [
       "<matplotlib.axes._subplots.AxesSubplot at 0x7f3479e34860>"
      ]
     },
     "execution_count": 35,
     "metadata": {},
     "output_type": "execute_result"
    },
    {
     "data": {
      "image/png": "[encoded data removed]",
      "text/plain": [
       "<Figure size 1008x288 with 6 Axes>"
      ]
     },
     "metadata": {
      "needs_background": "light"
     },
     "output_type": "display_data"
    }
   ],
   "source": [
    "pca_df = pd.DataFrame({'pca1':glass_pca[:,0],'pca2':glass_pca[:,1],'pca3':glass_pca[:,2]})\n",
    "fig,ax = plt.subplots(1,3, figsize=(14,4))\n",
    "df_glass.plot('Si','Na',ax=ax[0],kind='scatter',c='Type',colormap='Set1')\n",
    "pca_df.plot('pca1','pca2',ax=ax[1],kind='scatter',c=glass_pcakmpred,colormap='Set1')\n",
    "pca_df.plot('pca1','pca3',ax=ax[2],kind='scatter',c=glass_pcakmpred,colormap='Set1')"
   ]
  },
  {
   "cell_type": "markdown",
   "metadata": {
    "deletable": false,
    "editable": false,
    "nbgrader": {
     "cell_type": "markdown",
     "checksum": "44481482ea2a4330b03b7c7e12967db3",
     "grade": false,
     "grade_id": "cell-eb4523c231408fe7",
     "locked": true,
     "schema_version": 3,
     "solution": false
    }
   },
   "source": [
    "# Good job!"
   ]
  }
 ],
 "metadata": {
  "kernelspec": {
   "display_name": "Python 3",
   "language": "python",
   "name": "python3"
  },
  "language_info": {
   "codemirror_mode": {
    "name": "ipython",
    "version": 3
   },
   "file_extension": ".py",
   "mimetype": "text/x-python",
   "name": "python",
   "nbconvert_exporter": "python",
   "pygments_lexer": "ipython3",
   "version": "3.7.3"
  }
 },
 "nbformat": 4,
 "nbformat_minor": 1
}
