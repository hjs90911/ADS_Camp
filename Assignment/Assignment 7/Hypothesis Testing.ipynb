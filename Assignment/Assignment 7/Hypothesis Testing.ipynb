{
 "cells": [
  {
   "cell_type": "markdown",
   "metadata": {
    "deletable": false,
    "editable": false,
    "nbgrader": {
     "cell_type": "markdown",
     "checksum": "1645aef17673501f64beb05d1090034a",
     "grade": false,
     "grade_id": "cell-a050abbef18105b0",
     "locked": true,
     "schema_version": 3,
     "solution": false
    }
   },
   "source": [
    "<center>\n",
    "    <img style=\"float: left;\" src=\"Mix_colour.png\" width=\"200\"></img>\n",
    "</center>\n",
    "\n",
    "<br/><br/>\n",
    "<br/><br/>\n",
    "\n",
    "# Hypothesis Testing: A/B Testing"
   ]
  },
  {
   "cell_type": "markdown",
   "metadata": {
    "deletable": false,
    "editable": false,
    "nbgrader": {
     "cell_type": "markdown",
     "checksum": "c7e2432e90d4817af2cf46eac1cc7a04",
     "grade": false,
     "grade_id": "cell-ffbc4e0ecf5c2489",
     "locked": true,
     "schema_version": 3,
     "solution": false
    }
   },
   "source": [
    "In this notebook you will work on understanding how A/B tests, an important application of Hypothesis Testing, are performed. In the reading material we discussed how to estimate the effect of the different treatments applied to different groups in an experiment (e.g. a medical trial, but not necessarily so). This assignment will step you through how to perform those estimates."
   ]
  },
  {
   "cell_type": "markdown",
   "metadata": {
    "deletable": false,
    "editable": false,
    "nbgrader": {
     "cell_type": "markdown",
     "checksum": "920a9914271c9008a152866137ef2ae1",
     "grade": false,
     "grade_id": "cell-fd41daeceb000a8a",
     "locked": true,
     "schema_version": 3,
     "solution": false
    }
   },
   "source": [
    "## Data \n",
    "\n",
    "Let's assume we have a total of 800 combustion engines. We divide them into two equally large groups, group A and B. Group A constitutes of the engines we want to make a new test on, and group B is the control group (C). We did the test and collected the results. Both groups A and B are assumed to have a test result which is normally distributed with equal variance. \n",
    "\n",
    "Let's get started from importing some useful packages and loading the dataset `AB_test_data_assign2.csv`."
   ]
  },
  {
   "cell_type": "code",
   "execution_count": 19,
   "metadata": {
    "deletable": false,
    "editable": false,
    "nbgrader": {
     "cell_type": "code",
     "checksum": "24f52bd22f9a5cc3d6c208b7c3433c70",
     "grade": false,
     "grade_id": "cell-8be1765c3ee654b4",
     "locked": true,
     "schema_version": 3,
     "solution": false,
     "task": false
    }
   },
   "outputs": [],
   "source": [
    "import numpy as np\n",
    "import pandas as pd\n",
    "\n",
    "dfAB = pd.read_csv('/home/jovyan/Data/AB_test_data_assign2.csv')"
   ]
  },
  {
   "cell_type": "markdown",
   "metadata": {
    "deletable": false,
    "editable": false,
    "nbgrader": {
     "cell_type": "markdown",
     "checksum": "2d1ee8d933a714f6fd443140ea4d624c",
     "grade": false,
     "grade_id": "cell-1ff6a688e8088d57",
     "locked": true,
     "schema_version": 3,
     "solution": false,
     "task": false
    }
   },
   "source": [
    "Let's get more familiar with the dataset. \n",
    "\n",
    "Note that it consists of collected values and corresponding group."
   ]
  },
  {
   "cell_type": "code",
   "execution_count": 20,
   "metadata": {
    "deletable": false,
    "editable": false,
    "nbgrader": {
     "cell_type": "code",
     "checksum": "4b133ae92627340b4f9c576a6085823b",
     "grade": false,
     "grade_id": "cell-669d2aa626e547a0",
     "locked": true,
     "schema_version": 3,
     "solution": false
    }
   },
   "outputs": [
    {
     "data": {
      "text/html": [
       "<div>\n",
       "<style scoped>\n",
       "    .dataframe tbody tr th:only-of-type {\n",
       "        vertical-align: middle;\n",
       "    }\n",
       "\n",
       "    .dataframe tbody tr th {\n",
       "        vertical-align: top;\n",
       "    }\n",
       "\n",
       "    .dataframe thead th {\n",
       "        text-align: right;\n",
       "    }\n",
       "</style>\n",
       "<table border=\"1\" class=\"dataframe\">\n",
       "  <thead>\n",
       "    <tr style=\"text-align: right;\">\n",
       "      <th></th>\n",
       "      <th>test_value</th>\n",
       "      <th>group</th>\n",
       "    </tr>\n",
       "  </thead>\n",
       "  <tbody>\n",
       "    <tr>\n",
       "      <td>0</td>\n",
       "      <td>3.231587</td>\n",
       "      <td>A</td>\n",
       "    </tr>\n",
       "    <tr>\n",
       "      <td>1</td>\n",
       "      <td>2.615279</td>\n",
       "      <td>A</td>\n",
       "    </tr>\n",
       "    <tr>\n",
       "      <td>2</td>\n",
       "      <td>0.354600</td>\n",
       "      <td>A</td>\n",
       "    </tr>\n",
       "    <tr>\n",
       "      <td>3</td>\n",
       "      <td>1.891616</td>\n",
       "      <td>A</td>\n",
       "    </tr>\n",
       "    <tr>\n",
       "      <td>4</td>\n",
       "      <td>2.521336</td>\n",
       "      <td>A</td>\n",
       "    </tr>\n",
       "  </tbody>\n",
       "</table>\n",
       "</div>"
      ],
      "text/plain": [
       "   test_value group\n",
       "0    3.231587     A\n",
       "1    2.615279     A\n",
       "2    0.354600     A\n",
       "3    1.891616     A\n",
       "4    2.521336     A"
      ]
     },
     "execution_count": 20,
     "metadata": {},
     "output_type": "execute_result"
    }
   ],
   "source": [
    "dfAB.head()"
   ]
  },
  {
   "cell_type": "code",
   "execution_count": 21,
   "metadata": {
    "deletable": false,
    "editable": false,
    "nbgrader": {
     "cell_type": "code",
     "checksum": "30c25199e6c4767b3e38db6bdd2184f5",
     "grade": false,
     "grade_id": "cell-3f948211a13b6c5f",
     "locked": true,
     "schema_version": 3,
     "solution": false,
     "task": false
    }
   },
   "outputs": [
    {
     "data": {
      "text/plain": [
       "array(['A', 'B'], dtype=object)"
      ]
     },
     "execution_count": 21,
     "metadata": {},
     "output_type": "execute_result"
    }
   ],
   "source": [
    "dfAB['group'].unique()"
   ]
  },
  {
   "cell_type": "markdown",
   "metadata": {
    "deletable": false,
    "editable": false,
    "nbgrader": {
     "cell_type": "markdown",
     "checksum": "1830b6c0b993254eb774dc7b91bcc62e",
     "grade": false,
     "grade_id": "cell-3ac692a9f9c32cd9",
     "locked": true,
     "schema_version": 3,
     "solution": false,
     "task": false
    }
   },
   "source": [
    "We can visualize an example by running the following code."
   ]
  },
  {
   "cell_type": "code",
   "execution_count": 22,
   "metadata": {
    "deletable": false,
    "editable": false,
    "nbgrader": {
     "cell_type": "code",
     "checksum": "fd22eaea9a97dd182c0c18dec1d1bbc4",
     "grade": false,
     "grade_id": "cell-a7fa2f69ac9426a9",
     "locked": true,
     "schema_version": 3,
     "solution": false
    }
   },
   "outputs": [
    {
     "data": {
      "image/png": "[encoded data removed]",
      "text/plain": [
       "<Figure size 432x288 with 1 Axes>"
      ]
     },
     "metadata": {
      "needs_background": "light"
     },
     "output_type": "display_data"
    }
   ],
   "source": [
    "import matplotlib.pylab as plt\n",
    "import seaborn as sns\n",
    "%matplotlib inline\n",
    "\n",
    "plt.figure()\n",
    "sns.distplot(dfAB[dfAB['group']=='B']['test_value'], hist=False, label='control')\n",
    "sns.distplot(dfAB[dfAB['group']=='A']['test_value'], hist=False, label='test group')\n",
    "plt.legend()\n",
    "plt.show()"
   ]
  },
  {
   "cell_type": "markdown",
   "metadata": {
    "deletable": false,
    "editable": false,
    "nbgrader": {
     "cell_type": "markdown",
     "checksum": "75630cdd7218e2ea51dd709cb916b8cd",
     "grade": false,
     "grade_id": "cell-968fe0e077a085fe",
     "locked": true,
     "schema_version": 3,
     "solution": false
    }
   },
   "source": [
    "As explained before, we believe that a valid hypothesis is group 'A' which has been subjected to a different treatment, is different from group 'B' the control. As you can see from the plot above, it does look like there is some effect. However, since the differences can stem from random effects, it is hard to trust our judgement that there is some effect. Rather, to test that this is a valid hypothesis, we should perform some test. \n",
    "\n",
    "### Q1:\n",
    "To start with the test, which of the following should be the null hypothesis? \n",
    "\n",
    "1. The two groups does not come from the same normal distribution.\n",
    "2. The two groups come from the same normal distribution."
   ]
  },
  {
   "cell_type": "code",
   "execution_count": 23,
   "metadata": {
    "deletable": false,
    "nbgrader": {
     "cell_type": "code",
     "checksum": "52fa9263f2538cb86e03950b6993b2eb",
     "grade": false,
     "grade_id": "ch2_q1",
     "locked": false,
     "schema_version": 3,
     "solution": true
    }
   },
   "outputs": [],
   "source": [
    "# Fill in the number corresponding to your answer inside the brackets: Q1_answer = [Your answer]\n",
    "\n",
    "### START ANSWER HERE ###\n",
    "Q1_answer = [2]\n",
    "### END ANSWER HERE ###"
   ]
  },
  {
   "cell_type": "code",
   "execution_count": 24,
   "metadata": {
    "deletable": false,
    "editable": false,
    "hideCode": true,
    "nbgrader": {
     "cell_type": "code",
     "checksum": "6e028ff34a37b91d6a293fc573c5aa25",
     "grade": false,
     "grade_id": "cell-833a82dcc9492c7b",
     "locked": true,
     "schema_version": 3,
     "solution": false,
     "task": false
    },
    "selfTest": true
   },
   "outputs": [
    {
     "name": "stdout",
     "output_type": "stream",
     "text": [
      "Correct!\n"
     ]
    }
   ],
   "source": [
    "import hashlib\n",
    "_myhash = lambda x: hashlib.md5(str(x).encode()).hexdigest()\n",
    "if _myhash(Q1_answer)=='beb4dbf9af069aa2df7b147229965085':\n",
    "    print('Correct!')\n",
    "else:\n",
    "    print('Not correct! Please try again!')"
   ]
  },
  {
   "cell_type": "code",
   "execution_count": 25,
   "metadata": {
    "deletable": false,
    "editable": false,
    "hideCode": true,
    "nbgrader": {
     "cell_type": "code",
     "checksum": "ce0d644b50b97003e818a6ad37d21d26",
     "grade": true,
     "grade_id": "ch2_q1_test",
     "locked": true,
     "points": 1,
     "schema_version": 3,
     "solution": false
    }
   },
   "outputs": [],
   "source": [
    "# nbgrader cell\n"
   ]
  },
  {
   "cell_type": "markdown",
   "metadata": {
    "deletable": false,
    "editable": false,
    "nbgrader": {
     "cell_type": "markdown",
     "checksum": "78aec04b18fbd6891e4238046dfa08ed",
     "grade": false,
     "grade_id": "cell-1eee93cd3153ba96",
     "locked": true,
     "schema_version": 3,
     "solution": false
    }
   },
   "source": [
    "### Q2:\n",
    "\n",
    "In the corresponding chapter we talked about possible t-tests one can use to check if the null hypothesis holds or not with some certainty. Now let's perform an actual check of the difference between the groups. Implement the t-test below. \n",
    "\n",
    "**Hint:** \n",
    "* import the necessary package\n",
    "* implement t-test as `appropriate_test = ttest_ind()` with correct input"
   ]
  },
  {
   "cell_type": "code",
   "execution_count": 26,
   "metadata": {
    "deletable": false,
    "hideCode": false,
    "nbgrader": {
     "cell_type": "code",
     "checksum": "11e10523fa3161f9d84a03a5ff2ff7a8",
     "grade": false,
     "grade_id": "ch2_q2",
     "locked": false,
     "schema_version": 3,
     "solution": true
    }
   },
   "outputs": [],
   "source": [
    "# (approx. 2 lines of code)\n",
    "### START ANSWER HERE ###\n",
    "from scipy.stats import ttest_ind\n",
    "approprite_test = ttest_ind(\n",
    "    a=dfAB[dfAB['group']!='control']['test_value'],\n",
    "    b=dfAB[dfAB['group']=='control']['test_value'])\n",
    "### END ANSWER HERE ###"
   ]
  },
  {
   "cell_type": "code",
   "execution_count": 27,
   "metadata": {
    "deletable": false,
    "editable": false,
    "nbgrader": {
     "cell_type": "code",
     "checksum": "a2dbfaefae112336ce469d827ba5dcfb",
     "grade": false,
     "grade_id": "cell-84210105308953d9",
     "locked": true,
     "schema_version": 3,
     "solution": false,
     "task": false
    }
   },
   "outputs": [
    {
     "data": {
      "text/plain": [
       "nan"
      ]
     },
     "execution_count": 27,
     "metadata": {},
     "output_type": "execute_result"
    }
   ],
   "source": [
    "appropriate_test[0]"
   ]
  },
  {
   "cell_type": "markdown",
   "metadata": {
    "deletable": false,
    "editable": false,
    "hideCode": false,
    "nbgrader": {
     "cell_type": "markdown",
     "checksum": "cc26b6f8f9bb7feec7ba60fe8a80cb6c",
     "grade": false,
     "grade_id": "cell-73e750ca5592d7fe",
     "locked": true,
     "schema_version": 3,
     "solution": false,
     "task": false
    }
   },
   "source": [
    "**Expected Output**: \n",
    "<table style = \"width:40%\">\n",
    "    <tr>\n",
    "    <td>appropriate_test[0]</td> \n",
    "        <td>7.857989786199241 </td> \n",
    "    </tr>\n",
    "\n",
    "</table>"
   ]
  },
  {
   "cell_type": "code",
   "execution_count": null,
   "metadata": {
    "deletable": false,
    "editable": false,
    "hideCode": true,
    "nbgrader": {
     "cell_type": "code",
     "checksum": "f8794522f7d7dc16a160b94aad952e43",
     "grade": true,
     "grade_id": "ch2_q2_test",
     "locked": true,
     "points": 2,
     "schema_version": 3,
     "solution": false
    }
   },
   "outputs": [],
   "source": [
    "# nbgrader cell\n"
   ]
  },
  {
   "cell_type": "markdown",
   "metadata": {
    "deletable": false,
    "editable": false,
    "nbgrader": {
     "cell_type": "markdown",
     "checksum": "ff04be127f8074c39924a57ccc61f4aa",
     "grade": false,
     "grade_id": "cell-a0e01d9acb3382c3",
     "locked": true,
     "schema_version": 3,
     "solution": false
    }
   },
   "source": [
    "### Q3:\n",
    "\n",
    "Recall from Chapter 7, that one can use the results of t-test to weigh the strength of the evidence that you should reject the null hypothesis. Based on the above results, what is the statistical significance of the null hypothesis in our case?\n",
    "\n",
    "Use `your_answer = `."
   ]
  },
  {
   "cell_type": "code",
   "execution_count": 18,
   "metadata": {
    "deletable": false,
    "nbgrader": {
     "cell_type": "code",
     "checksum": "c986c756d0f502fc3a2edb94f1157b94",
     "grade": false,
     "grade_id": "ch2_q3",
     "locked": false,
     "schema_version": 3,
     "solution": true
    }
   },
   "outputs": [
    {
     "name": "stdout",
     "output_type": "stream",
     "text": [
      "The statistical significance of the null hypothesis is  nan\n"
     ]
    }
   ],
   "source": [
    "#(approx. 1 line of code)\n",
    "### START ANSWER HERE ###\n",
    "your_answer = appropriate_test[1]\n",
    "### END ANSWER HERE ###\n",
    "print('The statistical significance of the null hypothesis is ', your_answer)"
   ]
  },
  {
   "cell_type": "markdown",
   "metadata": {
    "deletable": false,
    "editable": false,
    "nbgrader": {
     "cell_type": "markdown",
     "checksum": "ffcbaeeac9eac02cbacd6e4d7ef6cb5b",
     "grade": false,
     "grade_id": "cell-cb1b248654cc9876",
     "locked": true,
     "schema_version": 3,
     "solution": false,
     "task": false
    }
   },
   "source": [
    "**Expected Output**: \n",
    "<table style = \"width:40%\">\n",
    "    <tr>\n",
    "    <td>The statistical significance of the null hypothesis is</td> \n",
    "        <td>1.2617627892854591e-14 </td> \n",
    "    </tr>\n",
    "\n",
    "</table>"
   ]
  },
  {
   "cell_type": "code",
   "execution_count": null,
   "metadata": {
    "deletable": false,
    "editable": false,
    "hideCode": true,
    "nbgrader": {
     "cell_type": "code",
     "checksum": "6776dfd29be9be38cbf1a5ce6f3523a9",
     "grade": true,
     "grade_id": "ch2_q3_test",
     "locked": true,
     "points": 1,
     "schema_version": 3,
     "solution": false
    }
   },
   "outputs": [],
   "source": [
    "# nbgrader cell\n"
   ]
  },
  {
   "cell_type": "markdown",
   "metadata": {
    "deletable": false,
    "editable": false,
    "nbgrader": {
     "cell_type": "markdown",
     "checksum": "b4c0cd7deb413fc6c59381e6d539775a",
     "grade": false,
     "grade_id": "cell-d97f849e0e914dd3",
     "locked": true,
     "schema_version": 3,
     "solution": false
    }
   },
   "source": [
    "# Good job! "
   ]
  }
 ],
 "metadata": {
  "kernelspec": {
   "display_name": "Python 3",
   "language": "python",
   "name": "python3"
  },
  "language_info": {
   "codemirror_mode": {
    "name": "ipython",
    "version": 3
   },
   "file_extension": ".py",
   "mimetype": "text/x-python",
   "name": "python",
   "nbconvert_exporter": "python",
   "pygments_lexer": "ipython3",
   "version": "3.7.3"
  }
 },
 "nbformat": 4,
 "nbformat_minor": 2
}
