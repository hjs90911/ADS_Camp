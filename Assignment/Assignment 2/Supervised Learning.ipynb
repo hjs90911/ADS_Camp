{
 "cells": [
  {
   "cell_type": "markdown",
   "metadata": {
    "deletable": false,
    "editable": false,
    "nbgrader": {
     "cell_type": "markdown",
     "checksum": "d5c8e9beb84077abeefe928997f9b84d",
     "grade": false,
     "grade_id": "cell-a34cd94d1a17857e",
     "locked": true,
     "schema_version": 3,
     "solution": false
    }
   },
   "source": [
    "<center>\n",
    "    <img style=\"float: left;\" src=\"Mix_colour.png\" width=\"200\"></img>\n",
    "</center>\n",
    "\n",
    "<br/><br/>\n",
    "<br/><br/>\n",
    "\n",
    "# Supervised Learning"
   ]
  },
  {
   "cell_type": "markdown",
   "metadata": {
    "deletable": false,
    "editable": false,
    "nbgrader": {
     "cell_type": "markdown",
     "checksum": "843339cd3487ddfb74fe11a00ab04e93",
     "grade": false,
     "grade_id": "cell-5f9ff99b36f6bd91",
     "locked": true,
     "schema_version": 3,
     "solution": false
    }
   },
   "source": [
    "In this notebook you will learn a bit more about supervised learning. "
   ]
  },
  {
   "cell_type": "markdown",
   "metadata": {
    "deletable": false,
    "editable": false,
    "nbgrader": {
     "cell_type": "markdown",
     "checksum": "b7390b3d5f8cdfd00e47b0ec32a3b0aa",
     "grade": false,
     "grade_id": "cell-3185ae0eec5defbd",
     "locked": true,
     "schema_version": 3,
     "solution": false
    }
   },
   "source": [
    "## Data\n",
    "\n",
    "For the following assignment we will use the housing dataset which contains information about different houses in Boston. This data was originally a part of UCI Machine Learning Repository. There are 506 samples and 12 feature variables in this dataset. The objective of the assignment is to predict the value of prices of the houses using the given features.\n",
    "\n",
    "Let's get started from importing some useful packages and loading the dataset `boston.csv`."
   ]
  },
  {
   "cell_type": "code",
   "execution_count": 1,
   "metadata": {
    "deletable": false,
    "editable": false,
    "nbgrader": {
     "cell_type": "code",
     "checksum": "690dd972d461811db386767e68eb286f",
     "grade": false,
     "grade_id": "cell-078bc294d20f426c",
     "locked": true,
     "schema_version": 3,
     "solution": false
    }
   },
   "outputs": [],
   "source": [
    "import numpy as np\n",
    "import pandas as pd\n",
    "\n",
    "df_boston = pd.read_csv('/home/jovyan/Data/boston.csv')"
   ]
  },
  {
   "cell_type": "markdown",
   "metadata": {
    "deletable": false,
    "editable": false,
    "nbgrader": {
     "cell_type": "markdown",
     "checksum": "cd6867546c68fa0899b2ce06923998d9",
     "grade": false,
     "grade_id": "cell-133fa0db67f6ede5",
     "locked": true,
     "schema_version": 3,
     "solution": false,
     "task": false
    }
   },
   "source": [
    "Let's get more familiar with the dataset."
   ]
  },
  {
   "cell_type": "code",
   "execution_count": 2,
   "metadata": {
    "deletable": false,
    "editable": false,
    "nbgrader": {
     "cell_type": "code",
     "checksum": "a1a197557ab0ab9caff81333f34734dc",
     "grade": false,
     "grade_id": "cell-646df348885d935f",
     "locked": true,
     "schema_version": 3,
     "solution": false
    }
   },
   "outputs": [
    {
     "data": {
      "text/html": [
       "<div>\n",
       "<style scoped>\n",
       "    .dataframe tbody tr th:only-of-type {\n",
       "        vertical-align: middle;\n",
       "    }\n",
       "\n",
       "    .dataframe tbody tr th {\n",
       "        vertical-align: top;\n",
       "    }\n",
       "\n",
       "    .dataframe thead th {\n",
       "        text-align: right;\n",
       "    }\n",
       "</style>\n",
       "<table border=\"1\" class=\"dataframe\">\n",
       "  <thead>\n",
       "    <tr style=\"text-align: right;\">\n",
       "      <th></th>\n",
       "      <th>CRIM</th>\n",
       "      <th>ZN</th>\n",
       "      <th>INDUS</th>\n",
       "      <th>CHAS</th>\n",
       "      <th>NOX</th>\n",
       "      <th>RM</th>\n",
       "      <th>AGE</th>\n",
       "      <th>DIS</th>\n",
       "      <th>RAD</th>\n",
       "      <th>TAX</th>\n",
       "      <th>PTRATIO</th>\n",
       "      <th>LSTAT</th>\n",
       "      <th>PRICE</th>\n",
       "    </tr>\n",
       "  </thead>\n",
       "  <tbody>\n",
       "    <tr>\n",
       "      <td>0</td>\n",
       "      <td>0.00632</td>\n",
       "      <td>18.0</td>\n",
       "      <td>2.31</td>\n",
       "      <td>0.0</td>\n",
       "      <td>0.538</td>\n",
       "      <td>6.575</td>\n",
       "      <td>65.2</td>\n",
       "      <td>4.0900</td>\n",
       "      <td>1.0</td>\n",
       "      <td>296.0</td>\n",
       "      <td>15.3</td>\n",
       "      <td>4.98</td>\n",
       "      <td>24.0</td>\n",
       "    </tr>\n",
       "    <tr>\n",
       "      <td>1</td>\n",
       "      <td>0.02731</td>\n",
       "      <td>0.0</td>\n",
       "      <td>7.07</td>\n",
       "      <td>0.0</td>\n",
       "      <td>0.469</td>\n",
       "      <td>6.421</td>\n",
       "      <td>78.9</td>\n",
       "      <td>4.9671</td>\n",
       "      <td>2.0</td>\n",
       "      <td>242.0</td>\n",
       "      <td>17.8</td>\n",
       "      <td>9.14</td>\n",
       "      <td>21.6</td>\n",
       "    </tr>\n",
       "    <tr>\n",
       "      <td>2</td>\n",
       "      <td>0.02729</td>\n",
       "      <td>0.0</td>\n",
       "      <td>7.07</td>\n",
       "      <td>0.0</td>\n",
       "      <td>0.469</td>\n",
       "      <td>7.185</td>\n",
       "      <td>61.1</td>\n",
       "      <td>4.9671</td>\n",
       "      <td>2.0</td>\n",
       "      <td>242.0</td>\n",
       "      <td>17.8</td>\n",
       "      <td>4.03</td>\n",
       "      <td>34.7</td>\n",
       "    </tr>\n",
       "    <tr>\n",
       "      <td>3</td>\n",
       "      <td>0.03237</td>\n",
       "      <td>0.0</td>\n",
       "      <td>2.18</td>\n",
       "      <td>0.0</td>\n",
       "      <td>0.458</td>\n",
       "      <td>6.998</td>\n",
       "      <td>45.8</td>\n",
       "      <td>6.0622</td>\n",
       "      <td>3.0</td>\n",
       "      <td>222.0</td>\n",
       "      <td>18.7</td>\n",
       "      <td>2.94</td>\n",
       "      <td>33.4</td>\n",
       "    </tr>\n",
       "    <tr>\n",
       "      <td>4</td>\n",
       "      <td>0.06905</td>\n",
       "      <td>0.0</td>\n",
       "      <td>2.18</td>\n",
       "      <td>0.0</td>\n",
       "      <td>0.458</td>\n",
       "      <td>7.147</td>\n",
       "      <td>54.2</td>\n",
       "      <td>6.0622</td>\n",
       "      <td>3.0</td>\n",
       "      <td>222.0</td>\n",
       "      <td>18.7</td>\n",
       "      <td>5.33</td>\n",
       "      <td>36.2</td>\n",
       "    </tr>\n",
       "  </tbody>\n",
       "</table>\n",
       "</div>"
      ],
      "text/plain": [
       "      CRIM    ZN  INDUS  CHAS    NOX     RM   AGE     DIS  RAD    TAX  \\\n",
       "0  0.00632  18.0   2.31   0.0  0.538  6.575  65.2  4.0900  1.0  296.0   \n",
       "1  0.02731   0.0   7.07   0.0  0.469  6.421  78.9  4.9671  2.0  242.0   \n",
       "2  0.02729   0.0   7.07   0.0  0.469  7.185  61.1  4.9671  2.0  242.0   \n",
       "3  0.03237   0.0   2.18   0.0  0.458  6.998  45.8  6.0622  3.0  222.0   \n",
       "4  0.06905   0.0   2.18   0.0  0.458  7.147  54.2  6.0622  3.0  222.0   \n",
       "\n",
       "   PTRATIO  LSTAT  PRICE  \n",
       "0     15.3   4.98   24.0  \n",
       "1     17.8   9.14   21.6  \n",
       "2     17.8   4.03   34.7  \n",
       "3     18.7   2.94   33.4  \n",
       "4     18.7   5.33   36.2  "
      ]
     },
     "execution_count": 2,
     "metadata": {},
     "output_type": "execute_result"
    }
   ],
   "source": [
    "df_boston.head(5)"
   ]
  },
  {
   "cell_type": "markdown",
   "metadata": {
    "deletable": false,
    "editable": false,
    "nbgrader": {
     "cell_type": "markdown",
     "checksum": "a207fe1e80929b17febd4331c69c3fb6",
     "grade": false,
     "grade_id": "cell-a40ce804daab6d72",
     "locked": true,
     "schema_version": 3,
     "solution": false
    }
   },
   "source": [
    "Now let's understand better the meaning of the variables. Boston dataset contains the following information (in order):\n",
    "* `CRIM` - per capita crime rate by town\n",
    "* `ZN` - proportion of residential land zoned for lots over 25,000 sq.ft.\n",
    "* `INDUS` - proportion of non-retail business acres per town\n",
    "* `CHAS` - Charles River dummy variable (= 1 if tract bounds river; 0 otherwise)\n",
    "* `NOX` - nitric oxides concentration (parts per 10 million)\n",
    "* `RM` - average number of rooms per dwelling\n",
    "* `AGE` - proportion of owner-occupied units built prior to 1940\n",
    "* `DIS` - weighted distances to five Boston employment centres\n",
    "* `RAD` - index of accessibility to radial highways\n",
    "* `TAX` - full-value property-tax rate per 10,000 dollars\n",
    "* `PTRATIO` - pupil-teacher ratio by town\n",
    "* `LSTAT` - % lower status of the population\n",
    "* `MEDV` - Median value of owner-occupied homes in $1000's\n",
    "\n",
    "**Note** The price of the houses is the target, i.e. what we want to predict. "
   ]
  },
  {
   "cell_type": "markdown",
   "metadata": {
    "deletable": false,
    "editable": false,
    "nbgrader": {
     "cell_type": "markdown",
     "checksum": "5b2c9200fd97e98f05c53dded531d6c6",
     "grade": false,
     "grade_id": "cell-7e462a76ac9a0a70",
     "locked": true,
     "schema_version": 3,
     "solution": false,
     "task": false
    }
   },
   "source": [
    "## Data exploration"
   ]
  },
  {
   "cell_type": "markdown",
   "metadata": {
    "deletable": false,
    "editable": false,
    "nbgrader": {
     "cell_type": "markdown",
     "checksum": "5a4d7821ff84dd143e0bf6d53b5475cc",
     "grade": false,
     "grade_id": "cell-84c2a7f06194226f",
     "locked": true,
     "schema_version": 3,
     "solution": false,
     "task": false
    }
   },
   "source": [
    "Let's check if there are any missing values in the dataframe."
   ]
  },
  {
   "cell_type": "code",
   "execution_count": 3,
   "metadata": {
    "deletable": false,
    "editable": false,
    "nbgrader": {
     "cell_type": "code",
     "checksum": "c33a340844ee3552f6de713932b6add1",
     "grade": false,
     "grade_id": "cell-16e263b801591c5d",
     "locked": true,
     "schema_version": 3,
     "solution": false
    }
   },
   "outputs": [
    {
     "data": {
      "text/plain": [
       "CRIM       0\n",
       "ZN         0\n",
       "INDUS      0\n",
       "CHAS       0\n",
       "NOX        0\n",
       "RM         0\n",
       "AGE        0\n",
       "DIS        0\n",
       "RAD        0\n",
       "TAX        0\n",
       "PTRATIO    0\n",
       "LSTAT      0\n",
       "PRICE      0\n",
       "dtype: int64"
      ]
     },
     "execution_count": 3,
     "metadata": {},
     "output_type": "execute_result"
    }
   ],
   "source": [
    "df_boston.isnull().sum()"
   ]
  },
  {
   "cell_type": "markdown",
   "metadata": {
    "deletable": false,
    "editable": false,
    "nbgrader": {
     "cell_type": "markdown",
     "checksum": "c76c992c9441d4108ddbf4f6131ebe48",
     "grade": false,
     "grade_id": "cell-b9de0d1297a72667",
     "locked": true,
     "schema_version": 3,
     "solution": false
    }
   },
   "source": [
    "As you see above there are no missing values, thus we can proceed with taking a more close look to the data. \n",
    "\n",
    "Let's start from visualizing the price, which is our target variable."
   ]
  },
  {
   "cell_type": "markdown",
   "metadata": {
    "deletable": false,
    "editable": false,
    "nbgrader": {
     "cell_type": "markdown",
     "checksum": "dd62f5da5980f0fd04c32f0e3fef5878",
     "grade": false,
     "grade_id": "cell-6af782699dd771e2",
     "locked": true,
     "schema_version": 3,
     "solution": false
    }
   },
   "source": [
    "(Optionally) If you are interested in how nice visualization can be done using `seaborn` library, we encourage you to explore `help(sns.distplot)` in a cell or check the documentation [here](https://seaborn.pydata.org/generated/seaborn.distplot.html). "
   ]
  },
  {
   "cell_type": "code",
   "execution_count": 4,
   "metadata": {
    "deletable": false,
    "editable": false,
    "nbgrader": {
     "cell_type": "code",
     "checksum": "bc3081a71c61f42fcd4a345794f00c16",
     "grade": false,
     "grade_id": "cell-1fa2a11dd5a385ed",
     "locked": true,
     "schema_version": 3,
     "solution": false
    }
   },
   "outputs": [
    {
     "data": {
      "image/png": "[encoded data removed]",
      "text/plain": [
       "<Figure size 432x288 with 1 Axes>"
      ]
     },
     "metadata": {
      "needs_background": "light"
     },
     "output_type": "display_data"
    }
   ],
   "source": [
    "import matplotlib.pylab as plt\n",
    "import seaborn as sns\n",
    "%matplotlib inline\n",
    "\n",
    "sns.distplot(df_boston['PRICE'], bins=30)\n",
    "plt.show()"
   ]
  },
  {
   "cell_type": "markdown",
   "metadata": {
    "deletable": false,
    "editable": false,
    "nbgrader": {
     "cell_type": "markdown",
     "checksum": "10337ef7348eeb071dc4464854b00312",
     "grade": false,
     "grade_id": "cell-cd3e4585f296af25",
     "locked": true,
     "schema_version": 3,
     "solution": false
    }
   },
   "source": [
    "On the plot we can see that the values of the price resembles a normal distributed with a few outliers."
   ]
  },
  {
   "cell_type": "markdown",
   "metadata": {
    "deletable": false,
    "editable": false,
    "nbgrader": {
     "cell_type": "markdown",
     "checksum": "b8ab9707ca95a15ed9596d7cf4e6a3e4",
     "grade": false,
     "grade_id": "cell-63ce6c040e631830",
     "locked": true,
     "schema_version": 3,
     "solution": false
    }
   },
   "source": [
    "Now let's explore the features and their relation with the price. Running the following cell you can get a summary of descriptive statistic for the dataset."
   ]
  },
  {
   "cell_type": "code",
   "execution_count": 5,
   "metadata": {
    "deletable": false,
    "editable": false,
    "nbgrader": {
     "cell_type": "code",
     "checksum": "7cb7fa70344123b8c2c99cfae54bfaea",
     "grade": false,
     "grade_id": "cell-1df278ba03e39c7d",
     "locked": true,
     "schema_version": 3,
     "solution": false
    }
   },
   "outputs": [
    {
     "data": {
      "text/html": [
       "<div>\n",
       "<style scoped>\n",
       "    .dataframe tbody tr th:only-of-type {\n",
       "        vertical-align: middle;\n",
       "    }\n",
       "\n",
       "    .dataframe tbody tr th {\n",
       "        vertical-align: top;\n",
       "    }\n",
       "\n",
       "    .dataframe thead th {\n",
       "        text-align: right;\n",
       "    }\n",
       "</style>\n",
       "<table border=\"1\" class=\"dataframe\">\n",
       "  <thead>\n",
       "    <tr style=\"text-align: right;\">\n",
       "      <th></th>\n",
       "      <th>CRIM</th>\n",
       "      <th>ZN</th>\n",
       "      <th>INDUS</th>\n",
       "      <th>CHAS</th>\n",
       "      <th>NOX</th>\n",
       "      <th>RM</th>\n",
       "      <th>AGE</th>\n",
       "      <th>DIS</th>\n",
       "      <th>RAD</th>\n",
       "      <th>TAX</th>\n",
       "      <th>PTRATIO</th>\n",
       "      <th>LSTAT</th>\n",
       "      <th>PRICE</th>\n",
       "    </tr>\n",
       "  </thead>\n",
       "  <tbody>\n",
       "    <tr>\n",
       "      <td>count</td>\n",
       "      <td>506.000000</td>\n",
       "      <td>506.000000</td>\n",
       "      <td>506.000000</td>\n",
       "      <td>506.000000</td>\n",
       "      <td>506.000000</td>\n",
       "      <td>506.000000</td>\n",
       "      <td>506.000000</td>\n",
       "      <td>506.000000</td>\n",
       "      <td>506.000000</td>\n",
       "      <td>506.000000</td>\n",
       "      <td>506.000000</td>\n",
       "      <td>506.000000</td>\n",
       "      <td>506.000000</td>\n",
       "    </tr>\n",
       "    <tr>\n",
       "      <td>mean</td>\n",
       "      <td>3.613524</td>\n",
       "      <td>11.363636</td>\n",
       "      <td>11.136779</td>\n",
       "      <td>0.069170</td>\n",
       "      <td>0.554695</td>\n",
       "      <td>6.284634</td>\n",
       "      <td>68.574901</td>\n",
       "      <td>3.795043</td>\n",
       "      <td>9.549407</td>\n",
       "      <td>408.237154</td>\n",
       "      <td>18.455534</td>\n",
       "      <td>12.653063</td>\n",
       "      <td>22.532806</td>\n",
       "    </tr>\n",
       "    <tr>\n",
       "      <td>std</td>\n",
       "      <td>8.601545</td>\n",
       "      <td>23.322453</td>\n",
       "      <td>6.860353</td>\n",
       "      <td>0.253994</td>\n",
       "      <td>0.115878</td>\n",
       "      <td>0.702617</td>\n",
       "      <td>28.148861</td>\n",
       "      <td>2.105710</td>\n",
       "      <td>8.707259</td>\n",
       "      <td>168.537116</td>\n",
       "      <td>2.164946</td>\n",
       "      <td>7.141062</td>\n",
       "      <td>9.197104</td>\n",
       "    </tr>\n",
       "    <tr>\n",
       "      <td>min</td>\n",
       "      <td>0.006320</td>\n",
       "      <td>0.000000</td>\n",
       "      <td>0.460000</td>\n",
       "      <td>0.000000</td>\n",
       "      <td>0.385000</td>\n",
       "      <td>3.561000</td>\n",
       "      <td>2.900000</td>\n",
       "      <td>1.129600</td>\n",
       "      <td>1.000000</td>\n",
       "      <td>187.000000</td>\n",
       "      <td>12.600000</td>\n",
       "      <td>1.730000</td>\n",
       "      <td>5.000000</td>\n",
       "    </tr>\n",
       "    <tr>\n",
       "      <td>25%</td>\n",
       "      <td>0.082045</td>\n",
       "      <td>0.000000</td>\n",
       "      <td>5.190000</td>\n",
       "      <td>0.000000</td>\n",
       "      <td>0.449000</td>\n",
       "      <td>5.885500</td>\n",
       "      <td>45.025000</td>\n",
       "      <td>2.100175</td>\n",
       "      <td>4.000000</td>\n",
       "      <td>279.000000</td>\n",
       "      <td>17.400000</td>\n",
       "      <td>6.950000</td>\n",
       "      <td>17.025000</td>\n",
       "    </tr>\n",
       "    <tr>\n",
       "      <td>50%</td>\n",
       "      <td>0.256510</td>\n",
       "      <td>0.000000</td>\n",
       "      <td>9.690000</td>\n",
       "      <td>0.000000</td>\n",
       "      <td>0.538000</td>\n",
       "      <td>6.208500</td>\n",
       "      <td>77.500000</td>\n",
       "      <td>3.207450</td>\n",
       "      <td>5.000000</td>\n",
       "      <td>330.000000</td>\n",
       "      <td>19.050000</td>\n",
       "      <td>11.360000</td>\n",
       "      <td>21.200000</td>\n",
       "    </tr>\n",
       "    <tr>\n",
       "      <td>75%</td>\n",
       "      <td>3.677083</td>\n",
       "      <td>12.500000</td>\n",
       "      <td>18.100000</td>\n",
       "      <td>0.000000</td>\n",
       "      <td>0.624000</td>\n",
       "      <td>6.623500</td>\n",
       "      <td>94.075000</td>\n",
       "      <td>5.188425</td>\n",
       "      <td>24.000000</td>\n",
       "      <td>666.000000</td>\n",
       "      <td>20.200000</td>\n",
       "      <td>16.955000</td>\n",
       "      <td>25.000000</td>\n",
       "    </tr>\n",
       "    <tr>\n",
       "      <td>max</td>\n",
       "      <td>88.976200</td>\n",
       "      <td>100.000000</td>\n",
       "      <td>27.740000</td>\n",
       "      <td>1.000000</td>\n",
       "      <td>0.871000</td>\n",
       "      <td>8.780000</td>\n",
       "      <td>100.000000</td>\n",
       "      <td>12.126500</td>\n",
       "      <td>24.000000</td>\n",
       "      <td>711.000000</td>\n",
       "      <td>22.000000</td>\n",
       "      <td>37.970000</td>\n",
       "      <td>50.000000</td>\n",
       "    </tr>\n",
       "  </tbody>\n",
       "</table>\n",
       "</div>"
      ],
      "text/plain": [
       "             CRIM          ZN       INDUS        CHAS         NOX          RM  \\\n",
       "count  506.000000  506.000000  506.000000  506.000000  506.000000  506.000000   \n",
       "mean     3.613524   11.363636   11.136779    0.069170    0.554695    6.284634   \n",
       "std      8.601545   23.322453    6.860353    0.253994    0.115878    0.702617   \n",
       "min      0.006320    0.000000    0.460000    0.000000    0.385000    3.561000   \n",
       "25%      0.082045    0.000000    5.190000    0.000000    0.449000    5.885500   \n",
       "50%      0.256510    0.000000    9.690000    0.000000    0.538000    6.208500   \n",
       "75%      3.677083   12.500000   18.100000    0.000000    0.624000    6.623500   \n",
       "max     88.976200  100.000000   27.740000    1.000000    0.871000    8.780000   \n",
       "\n",
       "              AGE         DIS         RAD         TAX     PTRATIO       LSTAT  \\\n",
       "count  506.000000  506.000000  506.000000  506.000000  506.000000  506.000000   \n",
       "mean    68.574901    3.795043    9.549407  408.237154   18.455534   12.653063   \n",
       "std     28.148861    2.105710    8.707259  168.537116    2.164946    7.141062   \n",
       "min      2.900000    1.129600    1.000000  187.000000   12.600000    1.730000   \n",
       "25%     45.025000    2.100175    4.000000  279.000000   17.400000    6.950000   \n",
       "50%     77.500000    3.207450    5.000000  330.000000   19.050000   11.360000   \n",
       "75%     94.075000    5.188425   24.000000  666.000000   20.200000   16.955000   \n",
       "max    100.000000   12.126500   24.000000  711.000000   22.000000   37.970000   \n",
       "\n",
       "            PRICE  \n",
       "count  506.000000  \n",
       "mean    22.532806  \n",
       "std      9.197104  \n",
       "min      5.000000  \n",
       "25%     17.025000  \n",
       "50%     21.200000  \n",
       "75%     25.000000  \n",
       "max     50.000000  "
      ]
     },
     "execution_count": 5,
     "metadata": {},
     "output_type": "execute_result"
    }
   ],
   "source": [
    "df_boston.describe()"
   ]
  },
  {
   "cell_type": "markdown",
   "metadata": {
    "deletable": false,
    "editable": false,
    "nbgrader": {
     "cell_type": "markdown",
     "checksum": "5785e3fc06153bd054a6af37d6b63dca",
     "grade": false,
     "grade_id": "cell-5255308d2ba36097",
     "locked": true,
     "schema_version": 3,
     "solution": false
    }
   },
   "source": [
    "Let's also take a look at the correlation between features and the price.\n",
    "\n",
    "A common way to explore your dataset is to look at a correlation matrix of the features. The correlation matrix shows the correlations between the features on the x-axis with the features on the y-axis. \n",
    "It is convenient to use graphical representation of the correlation matrix using the correlation matrix heatmap. \n",
    "\n",
    "The `heatmap` plots the correlation matrix in a colour-encoded form, so we first need to compute correlations using `corr()` method included in Pandas. Then the resulting matrix is used as an input to seaborn's function `heatmap()`. \n",
    "\n",
    "Remember, that it makes sense to consider the correlations between numerical features."
   ]
  },
  {
   "cell_type": "code",
   "execution_count": 6,
   "metadata": {
    "deletable": false,
    "editable": false,
    "nbgrader": {
     "cell_type": "code",
     "checksum": "f9bcf16fdca660da1e841346606e8b0e",
     "grade": false,
     "grade_id": "cell-f27e617d259d1261",
     "locked": true,
     "schema_version": 3,
     "solution": false
    }
   },
   "outputs": [
    {
     "data": {
      "text/plain": [
       "<matplotlib.axes._subplots.AxesSubplot at 0x7f54f538a2e8>"
      ]
     },
     "execution_count": 6,
     "metadata": {},
     "output_type": "execute_result"
    },
    {
     "data": {
      "image/png": "[encoded data removed]",
      "text/plain": [
       "<Figure size 432x432 with 2 Axes>"
      ]
     },
     "metadata": {
      "needs_background": "light"
     },
     "output_type": "display_data"
    }
   ],
   "source": [
    "fig, ax = plt.subplots(figsize=(6,6)) \n",
    "sns.heatmap(abs(df_boston.corr()),ax=ax)"
   ]
  },
  {
   "cell_type": "markdown",
   "metadata": {
    "deletable": false,
    "editable": false,
    "nbgrader": {
     "cell_type": "markdown",
     "checksum": "b6872ba37cd5201d3f155668d124bea9",
     "grade": false,
     "grade_id": "cell-31963c47401cfd03",
     "locked": true,
     "schema_version": 3,
     "solution": false
    }
   },
   "source": [
    "From the above correlation matrix heatmap we see that all the features, including the price, correlates perfectly with itself (as it should be, see the diagonal). Moreover, the price is highly correlated with features RM (average number of rooms per dwelling) and LSTAT (% lower status of the population). \n",
    "\n",
    "Let's investigate those correlations in more detail. To see relationships between two variables we will use `lmplot()`. For more details on `sns.lmplot` do not hesitate to check seaborn's [documentation](https://seaborn.pydata.org/generated/seaborn.lmplot.html). "
   ]
  },
  {
   "cell_type": "code",
   "execution_count": 7,
   "metadata": {
    "deletable": false,
    "editable": false,
    "nbgrader": {
     "cell_type": "code",
     "checksum": "ae9515a15b578cdafa279fcb0dc7b0a0",
     "grade": false,
     "grade_id": "cell-6d9d32a7bd0dca26",
     "locked": true,
     "schema_version": 3,
     "solution": false
    }
   },
   "outputs": [
    {
     "data": {
      "text/plain": [
       "<seaborn.axisgrid.FacetGrid at 0x7f54f4c10550>"
      ]
     },
     "execution_count": 7,
     "metadata": {},
     "output_type": "execute_result"
    },
    {
     "data": {
      "image/png": "[encoded data removed]",
      "text/plain": [
       "<Figure size 360x360 with 1 Axes>"
      ]
     },
     "metadata": {
      "needs_background": "light"
     },
     "output_type": "display_data"
    }
   ],
   "source": [
    "sns.lmplot(x='RM',y='PRICE',data=df_boston)"
   ]
  },
  {
   "cell_type": "code",
   "execution_count": 8,
   "metadata": {
    "deletable": false,
    "editable": false,
    "nbgrader": {
     "cell_type": "code",
     "checksum": "5bda9f1d8ff7202940c727c76b10b0ce",
     "grade": false,
     "grade_id": "cell-d216b5c8ef4e8e50",
     "locked": true,
     "schema_version": 3,
     "solution": false
    }
   },
   "outputs": [
    {
     "data": {
      "text/plain": [
       "<seaborn.axisgrid.FacetGrid at 0x7f54f4b3d080>"
      ]
     },
     "execution_count": 8,
     "metadata": {},
     "output_type": "execute_result"
    },
    {
     "data": {
      "image/png": "[encoded data removed]",
      "text/plain": [
       "<Figure size 360x360 with 1 Axes>"
      ]
     },
     "metadata": {
      "needs_background": "light"
     },
     "output_type": "display_data"
    }
   ],
   "source": [
    "sns.lmplot(x='LSTAT',y='PRICE',data=df_boston)"
   ]
  },
  {
   "cell_type": "markdown",
   "metadata": {
    "deletable": false,
    "editable": false,
    "nbgrader": {
     "cell_type": "markdown",
     "checksum": "27e9b48ce6f4e32912e182d37ab0576c",
     "grade": false,
     "grade_id": "cell-c97e9f6c3284b509",
     "locked": true,
     "schema_version": 3,
     "solution": false
    }
   },
   "source": [
    "Indeed, on the above plots you can see, that these two features RM and LSTAT might be good for the starting model for price prediction."
   ]
  },
  {
   "cell_type": "markdown",
   "metadata": {
    "deletable": false,
    "editable": false,
    "nbgrader": {
     "cell_type": "markdown",
     "checksum": "4c2d109c18e2080442e400c2c80e471d",
     "grade": false,
     "grade_id": "cell-3968a13090c25fa9",
     "locked": true,
     "schema_version": 3,
     "solution": false,
     "task": false
    }
   },
   "source": [
    "## Linear regression"
   ]
  },
  {
   "cell_type": "markdown",
   "metadata": {
    "deletable": false,
    "editable": false,
    "nbgrader": {
     "cell_type": "markdown",
     "checksum": "40f085f8739192a2c85bff5342fadd2b",
     "grade": false,
     "grade_id": "cell-76f6bf5719874663",
     "locked": true,
     "schema_version": 3,
     "solution": false,
     "task": false
    }
   },
   "source": [
    "Recall from the reading material that for supervised learning it is important to select two parts of the data for training and test purposes. In the upcoming tasks you will be asked to select train and test sets and implement a linear regression model. \n",
    "\n",
    "### Q1: \n",
    "\n",
    "Using the two features above, LSTAT and RM, select the training and test sets from `df_boston`. Use `test_size`=0.3 and `random_state`=1235.\n",
    "\n",
    "**Hint:** \n",
    "\n",
    "* import the necessary module from scikit-learn\n",
    "* select features\n",
    "* create the variables `X_train`, `y_train`, `X_test` and `y_test` for the training and testing the future model"
   ]
  },
  {
   "cell_type": "code",
   "execution_count": 10,
   "metadata": {
    "deletable": false,
    "nbgrader": {
     "cell_type": "code",
     "checksum": "7df093b2481873e98eee14719df34b03",
     "grade": false,
     "grade_id": "ch2_q1",
     "locked": false,
     "schema_version": 3,
     "solution": true,
     "task": false
    }
   },
   "outputs": [],
   "source": [
    "# (approx. 4 lines of code)\n",
    "### START ANSWER HERE ###\n",
    "from sklearn.model_selection import train_test_split\n",
    "X = df_boston[['LSTAT', 'RM']]\n",
    "y = df_boston['PRICE']\n",
    "X_train, X_test, y_train, y_test = train_test_split(X,y,test_size=0.3,random_state=1235)\n",
    "### END ANSWER HERE ###"
   ]
  },
  {
   "cell_type": "code",
   "execution_count": 11,
   "metadata": {
    "deletable": false,
    "editable": false,
    "nbgrader": {
     "cell_type": "code",
     "checksum": "72d11cdf0be3f4dd58ef18183656f980",
     "grade": false,
     "grade_id": "cell-795ee4d88d88ef18",
     "locked": true,
     "schema_version": 3,
     "solution": false,
     "task": false
    }
   },
   "outputs": [
    {
     "name": "stdout",
     "output_type": "stream",
     "text": [
      "X_train first 5 values  [[ 5.19   6.393]\n",
      " [ 6.65   6.625]\n",
      " [14.81   5.986]\n",
      " [ 5.03   6.8  ]\n",
      " [24.16   6.174]]\n",
      "X_train.shape =  (354, 2) \t y_train.shape =  (354,)\n",
      "X_test.shape =  (152, 2) \t y_test.shape =  (152,)\n"
     ]
    }
   ],
   "source": [
    "print('X_train first 5 values ', X_train.iloc[:5, :].values)\n",
    "print('X_train.shape = ', X_train.shape, '\\t y_train.shape = ', y_train.shape)\n",
    "print('X_test.shape = ', X_test.shape, '\\t y_test.shape = ', y_test.shape)"
   ]
  },
  {
   "cell_type": "markdown",
   "metadata": {
    "deletable": false,
    "editable": false,
    "nbgrader": {
     "cell_type": "markdown",
     "checksum": "a7dde47f8994aafa9db3a7932bcd49ea",
     "grade": false,
     "grade_id": "cell-6abb9ba1a8fd49ab",
     "locked": true,
     "schema_version": 3,
     "solution": false,
     "task": false
    }
   },
   "source": [
    "**Expected Output**: \n",
    "<table style=\"width:100%\">\n",
    "    <tr> \n",
    "        <td> X_train.iloc[:5, :].values</td> \n",
    "        <td> [[ 5.19   6.393]\n",
    "             [ 6.65   6.625]\n",
    "             [14.81   5.986]\n",
    "             [ 5.03   6.8  ]\n",
    "             [24.16   6.174]] \n",
    "        </td> \n",
    "    </tr>\n",
    "    <tr> \n",
    "        <td> X_train.shape</td> \n",
    "        <td> (354, 2) </td>\n",
    "    </tr>\n",
    "    <tr> \n",
    "        <td> y_train.shape</td> \n",
    "        <td> (354, ) </td> \n",
    "    </tr>\n",
    "    <tr> \n",
    "        <td> X_test.shape</td> \n",
    "        <td> (152, 2) </td> \n",
    "    </tr>\n",
    "    <tr> \n",
    "        <td> y_test.shape</td> \n",
    "        <td> (152, ) </td> \n",
    "    </tr>\n",
    "</table> "
   ]
  },
  {
   "cell_type": "code",
   "execution_count": null,
   "metadata": {
    "deletable": false,
    "editable": false,
    "hideCode": true,
    "nbgrader": {
     "cell_type": "code",
     "checksum": "a015d3500a0edb7bc590c5c0c1201a95",
     "grade": true,
     "grade_id": "ch2_q1_test",
     "locked": true,
     "points": 1,
     "schema_version": 3,
     "solution": false,
     "task": false
    }
   },
   "outputs": [],
   "source": [
    "# nbgrader cell"
   ]
  },
  {
   "cell_type": "markdown",
   "metadata": {
    "deletable": false,
    "editable": false,
    "nbgrader": {
     "cell_type": "markdown",
     "checksum": "46b208806417ae234a726fae6fc37a82",
     "grade": false,
     "grade_id": "cell-1168d91db5dc61bd",
     "locked": true,
     "schema_version": 3,
     "solution": false
    }
   },
   "source": [
    "### Q2: \n",
    "Using the two features above, LSTAT and RM, implement in the cell below a linear regression for the target variable PRICE. \n",
    "\n",
    "**Hint:** \n",
    "\n",
    "* import the necessary module from scikit-learn\n",
    "* create a linear regression model. Use `linear_regression = `.\n",
    "* fit the model using training data from previous exercise"
   ]
  },
  {
   "cell_type": "code",
   "execution_count": 13,
   "metadata": {
    "deletable": false,
    "nbgrader": {
     "cell_type": "code",
     "checksum": "47ff991d492e871dfd012496d7f6aa8b",
     "grade": false,
     "grade_id": "ch2_q2",
     "locked": false,
     "schema_version": 3,
     "solution": true
    }
   },
   "outputs": [
    {
     "data": {
      "text/plain": [
       "LinearRegression(copy_X=True, fit_intercept=True, n_jobs=None, normalize=False)"
      ]
     },
     "execution_count": 13,
     "metadata": {},
     "output_type": "execute_result"
    }
   ],
   "source": [
    "import numpy as np\n",
    "np.random.seed(42)  # setting the random seed makes the example reproducible\n",
    "# (approx. 3 lines of code)\n",
    "### START ANSWER HERE ###\n",
    "from sklearn.linear_model import LinearRegression\n",
    "\n",
    "linear_regression = LinearRegression()\n",
    "linear_regression.fit(X_train, y_train)\n",
    "### END ANSWER HERE ###"
   ]
  },
  {
   "cell_type": "code",
   "execution_count": 14,
   "metadata": {
    "deletable": false,
    "editable": false,
    "nbgrader": {
     "cell_type": "code",
     "checksum": "2cad12e916cefec146948854d6b5aba7",
     "grade": false,
     "grade_id": "cell-584c0b36c8f633f9",
     "locked": true,
     "schema_version": 3,
     "solution": false,
     "task": false
    }
   },
   "outputs": [
    {
     "name": "stdout",
     "output_type": "stream",
     "text": [
      "Linear regression coefficients  [-0.58080885  5.69323403]\n",
      "Linear regression intercept  -5.848568373762454\n"
     ]
    }
   ],
   "source": [
    "print('Linear regression coefficients ', linear_regression.coef_)\n",
    "print('Linear regression intercept ', linear_regression.intercept_)"
   ]
  },
  {
   "cell_type": "markdown",
   "metadata": {
    "deletable": false,
    "editable": false,
    "hideCode": false,
    "nbgrader": {
     "cell_type": "markdown",
     "checksum": "5f38b6db3b3171c7e0e472c31c7ba4d5",
     "grade": false,
     "grade_id": "cell-8431c55398fd7605",
     "locked": true,
     "schema_version": 3,
     "solution": false,
     "task": false
    }
   },
   "source": [
    "**Expected Output**: \n",
    "<table style=\"width:100%\">\n",
    "    <tr> \n",
    "        <td> linear_regression.coef_</td> \n",
    "        <td> [-0.58080885,  5.69323403]\n",
    "        </td> \n",
    "    </tr>\n",
    "    <tr> \n",
    "        <td> linear_regression.intercept_</td> \n",
    "        <td> -5.848568373762454\n",
    "        </td> \n",
    "    </tr>\n",
    "</table> "
   ]
  },
  {
   "cell_type": "code",
   "execution_count": 15,
   "metadata": {
    "deletable": false,
    "editable": false,
    "hideCode": true,
    "nbgrader": {
     "cell_type": "code",
     "checksum": "f8794522f7d7dc16a160b94aad952e43",
     "grade": true,
     "grade_id": "ch2_q2_test",
     "locked": true,
     "points": 2,
     "schema_version": 3,
     "solution": false
    }
   },
   "outputs": [],
   "source": [
    "# nbgrader cell\n"
   ]
  },
  {
   "cell_type": "markdown",
   "metadata": {
    "deletable": false,
    "editable": false,
    "nbgrader": {
     "cell_type": "markdown",
     "checksum": "f6da1e9c27da0daeb82f44509841eb77",
     "grade": false,
     "grade_id": "cell-79d2bda07a526e4c",
     "locked": true,
     "schema_version": 3,
     "solution": false,
     "task": false
    }
   },
   "source": [
    "Now let's look at the residuals: the difference between the observed value of the dependent variable and the predicted value. Recall from the reading material that one expects them to be (roughly) normal and (approximately) independently distributed with a mean of 0 and some constant variance. So looking at the residual plot can give a better understanding if residuals are distrubuted normal, and if not - it is often an indication that you can do better model by for example including more features and/or try a more complex model."
   ]
  },
  {
   "cell_type": "code",
   "execution_count": 16,
   "metadata": {
    "deletable": false,
    "editable": false,
    "nbgrader": {
     "cell_type": "code",
     "checksum": "8eb54b0cb97d34527300c0bfe67d3b07",
     "grade": false,
     "grade_id": "cell-a89e34b6f2ecd487",
     "locked": true,
     "schema_version": 3,
     "solution": false
    }
   },
   "outputs": [
    {
     "data": {
      "image/png": "[encoded data removed]",
      "text/plain": [
       "<Figure size 432x288 with 1 Axes>"
      ]
     },
     "metadata": {
      "needs_background": "light"
     },
     "output_type": "display_data"
    }
   ],
   "source": [
    "plt.hist(linear_regression.predict(X)-y, bins=10)\n",
    "plt.show()"
   ]
  },
  {
   "cell_type": "markdown",
   "metadata": {
    "deletable": false,
    "editable": false,
    "nbgrader": {
     "cell_type": "markdown",
     "checksum": "3ebe57b29e551173768a950b3d9548ab",
     "grade": false,
     "grade_id": "cell-fcfcf14f15a34ec0",
     "locked": true,
     "schema_version": 3,
     "solution": false,
     "task": false
    }
   },
   "source": [
    "## Loss function and gradient decent"
   ]
  },
  {
   "cell_type": "markdown",
   "metadata": {
    "deletable": false,
    "editable": false,
    "nbgrader": {
     "cell_type": "markdown",
     "checksum": "e47cd9b048f2dec3f1a549a84fbbaa25",
     "grade": false,
     "grade_id": "cell-c9c92e4a388449e0",
     "locked": true,
     "schema_version": 3,
     "solution": false
    }
   },
   "source": [
    "Recall that our objective solving a regression problem is to minimize a loss function, that has the following form:\n",
    "\n",
    "$$ L(a,b) = \\sum_{i=1}^N (y_i - f_{a,b}(x_i))^2$$\n",
    "\n",
    "In the reading material we discussed a method for solving such optimisation problem called gradient descent. "
   ]
  },
  {
   "cell_type": "markdown",
   "metadata": {
    "deletable": false,
    "editable": false,
    "nbgrader": {
     "cell_type": "markdown",
     "checksum": "6d46d39ae2f49d11fc3ee18ce7c91502",
     "grade": false,
     "grade_id": "cell-302a87aee2d63651",
     "locked": true,
     "schema_version": 3,
     "solution": false
    }
   },
   "source": [
    "Gradient descent is a generic optimization algorithm used in many machine learning algorithms. It iteratively tweaks the parameters of the model in order to minimize the cost function. Let's briefly outline the steps of this algorithm, for more details don't doubt to check the corresponding section."
   ]
  },
  {
   "cell_type": "markdown",
   "metadata": {
    "deletable": false,
    "editable": false,
    "nbgrader": {
     "cell_type": "markdown",
     "checksum": "a31dd7455845cf168f629962b94a0810",
     "grade": false,
     "grade_id": "cell-20308087239eee66",
     "locked": true,
     "schema_version": 3,
     "solution": false
    }
   },
   "source": [
    "1. Pick a learning rate $l_r$\n",
    "2. Pick a starting point $(a,b)$\n",
    "3. Compute the gradient of $L$ at $(a,b)$\n",
    "4. Update the new point $(a,b)$ according to the gradient descent update rule with the learning rate $l_r$.\n",
    "5. Go to 3 if the stopping rule is not satisfied.\n",
    "\n",
    "We usually set some criteria for when to stop this algorithm (stopping rule), usually it is a criterion for how much we are moving (below some threshold $\\tau$) or it is a set number of iterations."
   ]
  },
  {
   "cell_type": "markdown",
   "metadata": {
    "deletable": false,
    "editable": false,
    "nbgrader": {
     "cell_type": "markdown",
     "checksum": "7b110f3328f00758e3a5188f1c5a9df7",
     "grade": false,
     "grade_id": "cell-07566ec9bee2e625",
     "locked": true,
     "schema_version": 3,
     "solution": false
    }
   },
   "source": [
    "### Linear regression implementation from scratch\n",
    "\n",
    "You have probably noticed how simple a linear regression model can be implemented using scikit-learn. \n",
    "\n",
    "Now let's take a look to an implementation of a linear regression from scratch to understand better the optimization that is going on. Take a moment to go through the function below. "
   ]
  },
  {
   "cell_type": "code",
   "execution_count": 17,
   "metadata": {
    "deletable": false,
    "editable": false,
    "nbgrader": {
     "cell_type": "code",
     "checksum": "6cde5365f9148bfcf91ae93a6efca5ff",
     "grade": false,
     "grade_id": "cell-83c9fcc67fae2540",
     "locked": true,
     "schema_version": 3,
     "solution": false
    }
   },
   "outputs": [],
   "source": [
    "class LinearRegressionUsingGD:\n",
    "    \"\"\"\n",
    "    Linear regression using gradient descent.\n",
    "    \n",
    "    Parameters\n",
    "    ----------\n",
    "    learning_rate : float\n",
    "        Learning rate\n",
    "    num_iterations : int\n",
    "        Number of passes over the training set\n",
    "        \n",
    "    Attributes\n",
    "    ----------\n",
    "    weights_ : weights after fitting the model\n",
    "    cost_ : total error of the model after each iteration\n",
    "    \n",
    "    \"\"\"\n",
    "\n",
    "    def __init__(self, learning_rate = 0.005, num_iterations = 1000):\n",
    "        self.learning_rate = learning_rate\n",
    "        self.num_iterations = num_iterations\n",
    "\n",
    "    def fit(self, X, y):\n",
    "        \"\"\"\n",
    "        Fit the model\n",
    "        \n",
    "        Parameters\n",
    "        ----------\n",
    "        X : array-like, shape = [n_samples, n_features]\n",
    "            Training data\n",
    "        y : array-like, shape = [n_samples, n_targets]\n",
    "            Target values\n",
    "            \n",
    "        Returns\n",
    "        -------\n",
    "        self : returns an instance of self\n",
    "        \n",
    "        \"\"\"\n",
    "\n",
    "        self.cost_ = []\n",
    "        \n",
    "        X_nparray = X.values\n",
    "        X_nparray = np.c_[np.ones(X_nparray.shape[0]), X_nparray]\n",
    "        y_nparray = y.values\n",
    "        y_nparray = np.expand_dims(y_nparray, axis=1)\n",
    "        \n",
    "        self.weights_ = np.zeros((X_nparray.shape[1], 1))\n",
    "        n_samples = X_nparray.shape[0]\n",
    "\n",
    "        for _ in range(self.num_iterations):\n",
    "            y_prediction = np.dot(X_nparray, self.weights_)\n",
    "            residuals = y_prediction - y_nparray\n",
    "            gradient_vector = np.dot(X_nparray.T, residuals)\n",
    "            self.weights_ -= (self.learning_rate/n_samples)*gradient_vector\n",
    "            cost = np.sum(residuals**2)/(2*n_samples)\n",
    "            self.cost_.append(cost)\n",
    "        return self\n",
    "\n",
    "    def predict(self, X):\n",
    "        \"\"\" \n",
    "        Predict the value after the model has been trained.\n",
    "        \n",
    "        Parameters\n",
    "        ----------\n",
    "        X : array-like, shape = [n_samples, n_features]\n",
    "            Test data\n",
    "            \n",
    "        Returns\n",
    "        -------\n",
    "        Predicted value\n",
    "        \n",
    "        \"\"\"\n",
    "        \n",
    "        X_nparray = X.values\n",
    "        X_nparray = np.c_[np.ones(X_nparray.shape[0]), X_nparray]\n",
    "        \n",
    "        prediction_ = np.dot(X_nparray, self.weights_)\n",
    "        prediction = []\n",
    "        for i in range(prediction_.shape[0]):\n",
    "            prediction.append(prediction_[i][0])\n",
    "            \n",
    "        return prediction"
   ]
  },
  {
   "cell_type": "markdown",
   "metadata": {
    "deletable": false,
    "editable": false,
    "nbgrader": {
     "cell_type": "markdown",
     "checksum": "4d9af99a67c3245dfb7f290678ac7988",
     "grade": false,
     "grade_id": "cell-afd257f61fcc896f",
     "locked": true,
     "schema_version": 3,
     "solution": false
    }
   },
   "source": [
    "### Q3 (multiple choice):\n",
    "\n",
    "Based on the above implementation, select the correct statements about `learning_rate` and `num_iteration`:\n",
    "1. Larger `learning_rate` avoids overfitting of the function. While `num_iteration` is used to bias the model. \n",
    "2. Larger `learning_rate` can have the effect of oscillating around the minimum if unlucky. \n",
    "3. If one has a smaller `learning_rate` one usually has to let `num_iteration` be bigger. \n",
    "4. `num_iteration` is the stopping criteria in the above implementation. \n",
    "5. Smaller `num_iteration` should also mean smaller `learning_rate`. "
   ]
  },
  {
   "cell_type": "code",
   "execution_count": 18,
   "metadata": {
    "deletable": false,
    "nbgrader": {
     "cell_type": "code",
     "checksum": "cda8fab27c4310200f794bb9d27c8cee",
     "grade": false,
     "grade_id": "ch2_q3",
     "locked": false,
     "schema_version": 3,
     "solution": true
    }
   },
   "outputs": [],
   "source": [
    "# Fill in all the numbers corresponding to your answer inside the brackets: Q3_answer = [6,7]\n",
    "### START ANSWER HERE ###\n",
    "Q3_answer = [2,3,4]\n",
    "### END ANSWER HERE ###"
   ]
  },
  {
   "cell_type": "code",
   "execution_count": 19,
   "metadata": {
    "deletable": false,
    "editable": false,
    "hideCode": true,
    "nbgrader": {
     "cell_type": "code",
     "checksum": "9a9db955e15c8674baf7aae8d70f427d",
     "grade": false,
     "grade_id": "cell-b1fc0a17fa550733",
     "locked": true,
     "schema_version": 3,
     "solution": false,
     "task": false
    },
    "selfTest": true
   },
   "outputs": [
    {
     "name": "stdout",
     "output_type": "stream",
     "text": [
      "Correct!\n"
     ]
    }
   ],
   "source": [
    "import hashlib\n",
    "_myhash = lambda x: hashlib.md5(str(x).encode()).hexdigest()\n",
    "if _myhash(set(Q3_answer))=='8dd6d5594e1f0c323aff853c6de15c73':\n",
    "    print('Correct!')\n",
    "else:\n",
    "    print('Not correct! Please try again!')"
   ]
  },
  {
   "cell_type": "code",
   "execution_count": 20,
   "metadata": {
    "deletable": false,
    "editable": false,
    "hideCode": true,
    "nbgrader": {
     "cell_type": "code",
     "checksum": "565620309e7695ca6bfaed26def87273",
     "grade": true,
     "grade_id": "ch2_q3_test",
     "locked": true,
     "points": 2,
     "schema_version": 3,
     "solution": false
    }
   },
   "outputs": [],
   "source": [
    "# nbgrader cell\n"
   ]
  },
  {
   "cell_type": "markdown",
   "metadata": {
    "deletable": false,
    "editable": false,
    "nbgrader": {
     "cell_type": "markdown",
     "checksum": "3aaf8f623713dec5cd997db33a589a92",
     "grade": false,
     "grade_id": "cell-0ea9206fa883068c",
     "locked": true,
     "schema_version": 3,
     "solution": false
    }
   },
   "source": [
    "Now let us try the above linear regression model. First we create a model and then fit it to the training data. "
   ]
  },
  {
   "cell_type": "code",
   "execution_count": 21,
   "metadata": {
    "deletable": false,
    "editable": false,
    "nbgrader": {
     "cell_type": "code",
     "checksum": "81130aabab17e1c65cc239034f1d6d28",
     "grade": false,
     "grade_id": "cell-f73c63de7051a794",
     "locked": true,
     "schema_version": 3,
     "solution": false
    }
   },
   "outputs": [
    {
     "data": {
      "text/plain": [
       "<__main__.LinearRegressionUsingGD at 0x7f54f1af7748>"
      ]
     },
     "execution_count": 21,
     "metadata": {},
     "output_type": "execute_result"
    }
   ],
   "source": [
    "linear_regression_from_scratch = LinearRegressionUsingGD()\n",
    "linear_regression_from_scratch.fit(X_train, y_train)"
   ]
  },
  {
   "cell_type": "markdown",
   "metadata": {
    "deletable": false,
    "editable": false,
    "nbgrader": {
     "cell_type": "markdown",
     "checksum": "ce5fc1608652a3745e3baebf9e8f81f5",
     "grade": false,
     "grade_id": "cell-bb4c6abd526c32df",
     "locked": true,
     "schema_version": 3,
     "solution": false
    }
   },
   "source": [
    "Let's look at the resulting coefficients and intersepts of both models and compare them."
   ]
  },
  {
   "cell_type": "code",
   "execution_count": 22,
   "metadata": {
    "deletable": false,
    "editable": false,
    "nbgrader": {
     "cell_type": "code",
     "checksum": "49901fa063ff514bb8a08b4118e9aaa9",
     "grade": false,
     "grade_id": "cell-e0b524eaf0cc8a38",
     "locked": true,
     "schema_version": 3,
     "solution": false
    }
   },
   "outputs": [
    {
     "name": "stdout",
     "output_type": "stream",
     "text": [
      "Linear regression model from scratch intercept term: 0.47917481668065676\n",
      "sklearns linear regression model intercept: -5.848568373762454\n",
      "Linear regression model from scratch coefficients: [-0.64181111  4.81577726]\n",
      "sklearns coefficients: [-0.58080885  5.69323403]\n"
     ]
    }
   ],
   "source": [
    "print('Linear regression model from scratch intercept term: {}'.format(linear_regression_from_scratch.weights_[0][0])) \n",
    "print('sklearns linear regression model intercept: {}'.format(linear_regression.intercept_))\n",
    "print('Linear regression model from scratch coefficients: {}'.format(linear_regression_from_scratch.weights_[1:].ravel()))\n",
    "print('sklearns coefficients: {}'.format(linear_regression.coef_))"
   ]
  },
  {
   "cell_type": "markdown",
   "metadata": {
    "deletable": false,
    "editable": false,
    "nbgrader": {
     "cell_type": "markdown",
     "checksum": "c5064de124ec18b988a2d11d4218b04c",
     "grade": false,
     "grade_id": "cell-69a96afb78a6125b",
     "locked": true,
     "schema_version": 3,
     "solution": false
    }
   },
   "source": [
    "We see that the coefficients seem to be around the same order, while the intercept terms are not. "
   ]
  },
  {
   "cell_type": "markdown",
   "metadata": {
    "deletable": false,
    "editable": false,
    "nbgrader": {
     "cell_type": "markdown",
     "checksum": "2af7d47c1865cc0bcf019db7eb98a04b",
     "grade": false,
     "grade_id": "cell-1c53ebef99e7bb58",
     "locked": true,
     "schema_version": 3,
     "solution": false
    }
   },
   "source": [
    "Now let's take a look to the loss function of the second model. "
   ]
  },
  {
   "cell_type": "code",
   "execution_count": 23,
   "metadata": {
    "deletable": false,
    "editable": false,
    "nbgrader": {
     "cell_type": "code",
     "checksum": "4e377acfb0fadc7e8e9e912979c56957",
     "grade": false,
     "grade_id": "cell-bbc18088c0602e60",
     "locked": true,
     "schema_version": 3,
     "solution": false
    }
   },
   "outputs": [
    {
     "data": {
      "image/png": "[encoded data removed]",
      "text/plain": [
       "<Figure size 432x288 with 1 Axes>"
      ]
     },
     "metadata": {
      "needs_background": "light"
     },
     "output_type": "display_data"
    }
   ],
   "source": [
    "num_iterations = linear_regression_from_scratch.num_iterations + 1\n",
    "\n",
    "fig, axes = plt.subplots()\n",
    "axes.plot(np.log(linear_regression_from_scratch.cost_))\n",
    "axes.set_xlabel('Number of iterations')\n",
    "axes.set_ylabel('log(Loss function)');"
   ]
  },
  {
   "cell_type": "markdown",
   "metadata": {
    "deletable": false,
    "editable": false,
    "nbgrader": {
     "cell_type": "markdown",
     "checksum": "75aa184d80d8e16abd49a7d74a737723",
     "grade": false,
     "grade_id": "cell-2748243429035d4f",
     "locked": true,
     "schema_version": 3,
     "solution": false
    }
   },
   "source": [
    "We see that the value of the loss function goes down with more iterations."
   ]
  },
  {
   "cell_type": "markdown",
   "metadata": {
    "deletable": false,
    "editable": false,
    "nbgrader": {
     "cell_type": "markdown",
     "checksum": "74e63b215c19a3f9f1dedd162e465ec8",
     "grade": false,
     "grade_id": "cell-3fe33bf0b339a034",
     "locked": true,
     "schema_version": 3,
     "solution": false
    }
   },
   "source": [
    "Let's try to set the number of iterations in a new `LinearRegressionUsingGD` instance to receive the same (close) coefficients and intercept as sklearn's model. Feel free to play with `num_iterations`! \n",
    "\n",
    "**Important note!**\n",
    "\n",
    "In the cells below you will see ### START CODE HERE ### and ### END CODE HERE ### flags. These are dummies that are made in order to allow you to make changes in these cells. Don't worry about these flags."
   ]
  },
  {
   "cell_type": "code",
   "execution_count": 24,
   "metadata": {
    "deletable": false,
    "nbgrader": {
     "cell_type": "code",
     "checksum": "cdfcdb7ca7cc26a0aeef3cc1b105054a",
     "grade": false,
     "grade_id": "cell-635cc9100a2b4b1c",
     "locked": false,
     "schema_version": 3,
     "solution": true,
     "task": false
    }
   },
   "outputs": [
    {
     "name": "stdout",
     "output_type": "stream",
     "text": [
      "Intercept: 0.47917481668065676\n",
      "Coefficients: -0.641811 4.815777 \n",
      "(sklearn model intercept and coefficients: -5.848568 -0.580809 5.693234 )\n"
     ]
    }
   ],
   "source": [
    "### START ANSWER HERE ###\n",
    "### END ANSWER HERE ###\n",
    "\n",
    "linear_regression_from_scratch_2 = LinearRegressionUsingGD(learning_rate=0.005, num_iterations=1000) \n",
    "linear_regression_from_scratch_2.fit(X_train, y_train)\n",
    "print('Intercept:', linear_regression_from_scratch_2.weights_[0][0])\n",
    "print('Coefficients: %f %f ' %(linear_regression_from_scratch_2.weights_[1:].ravel()[0], linear_regression_from_scratch_2.weights_[1:].ravel()[1]))\n",
    "print('(sklearn model intercept and coefficients: %f %f %f )' %(linear_regression.intercept_, linear_regression.coef_[0], linear_regression.coef_[1]))"
   ]
  },
  {
   "cell_type": "markdown",
   "metadata": {
    "deletable": false,
    "editable": false,
    "nbgrader": {
     "cell_type": "markdown",
     "checksum": "2618ce504bce1569d425888317e0cffc",
     "grade": false,
     "grade_id": "cell-13b69f09704049b3",
     "locked": true,
     "schema_version": 3,
     "solution": false
    }
   },
   "source": [
    "The take away in the above exercise is that it can be very difficult to implement an efficient optimization algorithm, plus don't just trust the default settings. Taking the right step size, having enough iterations etc, is itself a large part in building a good model and should not be overlooked."
   ]
  },
  {
   "cell_type": "markdown",
   "metadata": {
    "deletable": false,
    "editable": false,
    "nbgrader": {
     "cell_type": "markdown",
     "checksum": "691da3a4d8cc6a7670c4d5bb333785d9",
     "grade": false,
     "grade_id": "cell-b5cdfbf06eba1b9a",
     "locked": true,
     "schema_version": 3,
     "solution": false,
     "task": false
    }
   },
   "source": [
    "## Mean Absolute Error"
   ]
  },
  {
   "cell_type": "markdown",
   "metadata": {
    "deletable": false,
    "editable": false,
    "nbgrader": {
     "cell_type": "markdown",
     "checksum": "c0953c8108b142734cdc3f73731b2ac7",
     "grade": false,
     "grade_id": "cell-5d34c85c94401186",
     "locked": true,
     "schema_version": 3,
     "solution": false,
     "task": false
    }
   },
   "source": [
    "In the reading material we introduced several measurements for regression models' performance. \n",
    "Let's measure the performance of our models to predict the price on the test set. First we will use Mean Absolute Error (MAE).\n",
    "\n",
    "### Q4:\n",
    "\n",
    "Using scikit-learn compute the mean absolute errors of the linear regression models, implemented above.\n",
    "\n",
    "**Hint:**\n",
    "* import the necessary module\n",
    "* compute MAE for `linear_regression` model for test set `X_test` (use `mae_linear_regression = `)\n",
    "* compute MAE for `linear_regression_from_scratch` model for test set `X_test` using prediction method `linear_regression_from_scratch.predict(X_test)`  (use `mae_linear_regression_from_scratch = `)"
   ]
  },
  {
   "cell_type": "code",
   "execution_count": 25,
   "metadata": {
    "deletable": false,
    "nbgrader": {
     "cell_type": "code",
     "checksum": "1c9b19ee766c8135c728e95268b7c4d5",
     "grade": false,
     "grade_id": "ch2_q4",
     "locked": false,
     "schema_version": 3,
     "solution": true,
     "task": false
    }
   },
   "outputs": [],
   "source": [
    "# (approx. 3 lines of code)\n",
    "### START ANSWER HERE ###\n",
    "from sklearn.metrics import mean_absolute_error\n",
    "mae_linear_regression = mean_absolute_error(y_test, linear_regression.predict(X_test))\n",
    "mae_linear_regression_from_scratch = mean_absolute_error(y_test, linear_regression_from_scratch.predict(X_test))\n",
    "### END ANSWER HERE ###"
   ]
  },
  {
   "cell_type": "code",
   "execution_count": 26,
   "metadata": {
    "deletable": false,
    "editable": false,
    "nbgrader": {
     "cell_type": "code",
     "checksum": "052b4acc26623a219415b2c0cad392a4",
     "grade": false,
     "grade_id": "cell-ac77dc218de1a8c6",
     "locked": true,
     "schema_version": 3,
     "solution": false,
     "task": false
    }
   },
   "outputs": [
    {
     "name": "stdout",
     "output_type": "stream",
     "text": [
      "MAE sklearn linear regression:  4.236753293527478\n",
      "MAE linear regression from scratch:  4.269459847470465\n"
     ]
    }
   ],
   "source": [
    "print('MAE sklearn linear regression: ', mae_linear_regression)    \n",
    "print('MAE linear regression from scratch: ', mae_linear_regression_from_scratch)"
   ]
  },
  {
   "cell_type": "markdown",
   "metadata": {
    "deletable": false,
    "editable": false,
    "nbgrader": {
     "cell_type": "markdown",
     "checksum": "492137e9493e1d8dbaf36fd2f278408e",
     "grade": false,
     "grade_id": "cell-3e75bf362fa63dd3",
     "locked": true,
     "schema_version": 3,
     "solution": false,
     "task": false
    }
   },
   "source": [
    "**Expected Output**: \n",
    "<table style=\"width:100%\">\n",
    "    <tr> \n",
    "        <td> mae_linear_regression</td> \n",
    "        <td> 4.236753293527478\n",
    "        </td> \n",
    "    </tr>\n",
    "    <tr> \n",
    "        <td> mae_linear_regression_from_scratch</td> \n",
    "        <td> 4.269459847470465\n",
    "        </td> \n",
    "    </tr>\n",
    "</table> "
   ]
  },
  {
   "cell_type": "markdown",
   "metadata": {
    "deletable": false,
    "editable": false,
    "nbgrader": {
     "cell_type": "markdown",
     "checksum": "61da374ff87d4f0b664cf857b97de51f",
     "grade": false,
     "grade_id": "cell-29c2dd340a1754b3",
     "locked": true,
     "schema_version": 3,
     "solution": false,
     "task": false
    }
   },
   "source": [
    "You can see from MAE that the predictions from both models are very close to each other."
   ]
  },
  {
   "cell_type": "code",
   "execution_count": null,
   "metadata": {
    "deletable": false,
    "editable": false,
    "hideCode": true,
    "nbgrader": {
     "cell_type": "code",
     "checksum": "49bafe0850ff9ce92f07d702ada662bf",
     "grade": true,
     "grade_id": "ch2_q4_test",
     "locked": true,
     "points": 2,
     "schema_version": 3,
     "solution": false,
     "task": false
    }
   },
   "outputs": [],
   "source": [
    "# nbgrader cell\n"
   ]
  },
  {
   "cell_type": "markdown",
   "metadata": {
    "deletable": false,
    "editable": false,
    "nbgrader": {
     "cell_type": "markdown",
     "checksum": "ca7384e6271d1cdf7173fe6537356d25",
     "grade": false,
     "grade_id": "cell-8a6df0656cfbfe52",
     "locked": true,
     "schema_version": 3,
     "solution": false
    }
   },
   "source": [
    "# Good job!"
   ]
  }
 ],
 "metadata": {
  "kernelspec": {
   "display_name": "Python 3",
   "language": "python",
   "name": "python3"
  },
  "language_info": {
   "codemirror_mode": {
    "name": "ipython",
    "version": 3
   },
   "file_extension": ".py",
   "mimetype": "text/x-python",
   "name": "python",
   "nbconvert_exporter": "python",
   "pygments_lexer": "ipython3",
   "version": "3.7.3"
  }
 },
 "nbformat": 4,
 "nbformat_minor": 2
}
