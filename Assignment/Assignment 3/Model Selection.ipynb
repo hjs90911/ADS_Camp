{
 "cells": [
  {
   "cell_type": "markdown",
   "metadata": {
    "deletable": false,
    "editable": false,
    "nbgrader": {
     "cell_type": "markdown",
     "checksum": "884d09e29aa9197f93b946385b1642e2",
     "grade": false,
     "grade_id": "cell-1dcd563fa72ba6f1",
     "locked": true,
     "schema_version": 3,
     "solution": false
    }
   },
   "source": [
    "<center>\n",
    "    <img style=\"float: left;\" src=\"Mix_colour.png\" width=\"200\"></img>\n",
    "</center>\n",
    "\n",
    "<br/><br/>\n",
    "<br/><br/>\n",
    "\n",
    "# Model Selection\n",
    "\n",
    "In this notebook we will start by generating some noisy data, and fitting it with different models. Your assignment is to write some Python code to choose which model fits the data best. \n",
    "\n",
    "The generated data is designed so that it is not obvious what model will fit best. This often happens in real-world problems. In this notebook, we have the chance of finding out the _best fitting_ model while already knowing what model generated the data. So, one of the learning objectives should be to recognise the ambiguity that affects model selection when the data is noisy.\n",
    "\n",
    "## Data\n",
    "\n",
    "We define two variables, `x` and `y`, that follow a parabolic relationship with some noise.\n"
   ]
  },
  {
   "cell_type": "code",
   "execution_count": 1,
   "metadata": {
    "deletable": false,
    "editable": false,
    "nbgrader": {
     "cell_type": "code",
     "checksum": "cc771f2f33efbd5dd78d5d92a93de73f",
     "grade": false,
     "grade_id": "cell-130042e098558fe9",
     "locked": true,
     "schema_version": 3,
     "solution": false
    }
   },
   "outputs": [
    {
     "data": {
      "image/png": "[encoded data removed]",
      "text/plain": [
       "<Figure size 432x288 with 1 Axes>"
      ]
     },
     "metadata": {
      "needs_background": "light"
     },
     "output_type": "display_data"
    }
   ],
   "source": [
    "%matplotlib inline\n",
    "import numpy as np\n",
    "import matplotlib.pyplot as plt\n",
    "\n",
    "np.random.seed(42)  # setting the random seed makes the example reproducible\n",
    "\n",
    "x = np.random.uniform(0,2,size=50)\n",
    "y = x + x**2 + np.random.normal(0,0.75,size=50)\n",
    "\n",
    "plt.scatter(x,y)\n",
    "plt.xlabel('x')\n",
    "plt.ylabel('y')\n",
    "plt.show()"
   ]
  },
  {
   "cell_type": "markdown",
   "metadata": {
    "deletable": false,
    "editable": false,
    "nbgrader": {
     "cell_type": "markdown",
     "checksum": "e9a41da9683c510ee2803684ebb58053",
     "grade": false,
     "grade_id": "cell-019903893776c474",
     "locked": true,
     "schema_version": 3,
     "solution": false
    }
   },
   "source": [
    "## Cross validation\n",
    "\n",
    "We will fit a number of models to our data, starting with a linear model (i.e. a straight line) and a quadratic model (i.e. a parabola) and then trying something more complicated. To be able to use the `LinearRegression` class in the Python package `sklearn` we first build a two-dimensional array `x_array` containing all data that we may eventually need."
   ]
  },
  {
   "cell_type": "code",
   "execution_count": 2,
   "metadata": {
    "deletable": false,
    "editable": false,
    "nbgrader": {
     "cell_type": "code",
     "checksum": "c64f94d221d2d8f5d433425568dbdbff",
     "grade": false,
     "grade_id": "cell-0d519fbb193a1b40",
     "locked": true,
     "schema_version": 3,
     "solution": false,
     "task": false
    }
   },
   "outputs": [],
   "source": [
    "x2 = x*x\n",
    "x3 = x**3\n",
    "\n",
    "x_array = np.array([x,x2,x3]).T"
   ]
  },
  {
   "cell_type": "markdown",
   "metadata": {
    "deletable": false,
    "editable": false,
    "nbgrader": {
     "cell_type": "markdown",
     "checksum": "52cc0e730a0ad7fd17eda7310aaee85a",
     "grade": false,
     "grade_id": "cell-35e6fc3359679bb6",
     "locked": true,
     "schema_version": 3,
     "solution": false,
     "task": false
    }
   },
   "source": [
    "### Q1:\n",
    "\n",
    "To be able to compare the model, we need a test set that is different from the train set. So here is our first question:\n",
    "   split the `x_array` and `y` data in two sets: `X_train`, `y_train` and `X_test`, `y_test`.  Put __70% of the data in the train set, and 30% in the test set__. Remember to import the necessary functions. Also, use __`random_state = 51`__ to obtain a train/test split that allows you to go through the assignment. Not making these specific choices will result in the assignment and following questions being graded as  incorrect.\n",
    "\n",
    "**Hint:** \n",
    "\n",
    "* import the necessary module\n",
    "* create the variables `X_train`, `y_train`, `X_test` and `y_test` for the training and testing the future model"
   ]
  },
  {
   "cell_type": "code",
   "execution_count": 5,
   "metadata": {
    "deletable": false,
    "nbgrader": {
     "cell_type": "code",
     "checksum": "fd5258d24c5ffade1d4d48e794cdefcc",
     "grade": false,
     "grade_id": "ch3_q1",
     "locked": false,
     "schema_version": 3,
     "solution": true
    }
   },
   "outputs": [],
   "source": [
    "# (approx. 2 lines of code)\n",
    "### START ANSWER HERE ###\n",
    "from sklearn.model_selection import train_test_split\n",
    "\n",
    "X_train, X_test, y_train, y_test = train_test_split(x_array, y, test_size=0.3, random_state=51)\n",
    "### END ANSWER HERE ###"
   ]
  },
  {
   "cell_type": "code",
   "execution_count": 6,
   "metadata": {
    "deletable": false,
    "editable": false,
    "nbgrader": {
     "cell_type": "code",
     "checksum": "f297410fac30e5a911edb45961166933",
     "grade": false,
     "grade_id": "cell-367f1b6fb6326216",
     "locked": true,
     "schema_version": 3,
     "solution": false,
     "task": false
    }
   },
   "outputs": [
    {
     "name": "stdout",
     "output_type": "stream",
     "text": [
      "X_train first 3 values  [[1.66488528 2.771843   4.61480062]\n",
      " [1.19731697 1.43356792 1.7164352 ]\n",
      " [1.9398197  3.76290049 7.29934851]]\n",
      "X_train.shape =  (35, 3) \t y_train.shape =  (35,)\n",
      "X_test.shape =  (15, 3) \t y_test.shape =  (15,)\n"
     ]
    }
   ],
   "source": [
    "print('X_train first 3 values ', X_train[:3])\n",
    "print('X_train.shape = ', X_train.shape, '\\t y_train.shape = ', y_train.shape)\n",
    "print('X_test.shape = ', X_test.shape, '\\t y_test.shape = ', y_test.shape)"
   ]
  },
  {
   "cell_type": "markdown",
   "metadata": {
    "deletable": false,
    "editable": false,
    "nbgrader": {
     "cell_type": "markdown",
     "checksum": "06dc29e2fec9b6b4cc5db90914fb873f",
     "grade": false,
     "grade_id": "cell-f1851638a842cee7",
     "locked": true,
     "schema_version": 3,
     "solution": false,
     "task": false
    }
   },
   "source": [
    "**Expected Output**: \n",
    "<table style=\"width:100%\">\n",
    "    <tr> \n",
    "        <td> X_train[:3]</td> \n",
    "        <td> [[1.66488528 2.771843   4.61480062]\n",
    " [1.19731697 1.43356792 1.7164352 ]\n",
    " [1.9398197  3.76290049 7.29934851]]\n",
    "        </td> \n",
    "    </tr>\n",
    "    <tr> \n",
    "        <td> X_train.shape</td> \n",
    "        <td> (35, 3) </td> \n",
    "    </tr>\n",
    "    <tr> \n",
    "        <td> y_train.shape</td> \n",
    "        <td> (35, ) </td> \n",
    "    </tr>\n",
    "    <tr> \n",
    "        <td> X_test.shape</td> \n",
    "        <td> (15, 3) </td> \n",
    "    </tr>\n",
    "    <tr> \n",
    "        <td> y_test.shape</td> \n",
    "        <td> (15, ) </td> \n",
    "    </tr>\n",
    "</table> "
   ]
  },
  {
   "cell_type": "code",
   "execution_count": null,
   "metadata": {
    "deletable": false,
    "editable": false,
    "hideCode": true,
    "nbgrader": {
     "cell_type": "code",
     "checksum": "48dae31b6cd39ed40d93b048a86610dd",
     "grade": true,
     "grade_id": "ch3_q1_test",
     "locked": true,
     "points": 1,
     "schema_version": 3,
     "solution": false
    }
   },
   "outputs": [],
   "source": [
    "# nbgrader cell\n"
   ]
  },
  {
   "cell_type": "markdown",
   "metadata": {
    "deletable": false,
    "editable": false,
    "nbgrader": {
     "cell_type": "markdown",
     "checksum": "ec8ec5bfd7166c6a4f7c4edad6b12d5e",
     "grade": false,
     "grade_id": "cell-f40f9aab0a0c4ffe",
     "locked": true,
     "schema_version": 3,
     "solution": false
    }
   },
   "source": [
    "Next, we are going to fit the data. Our first model is a straight line, i.e., a linear function of x. We will extract the first column from our data, containing the $x$ term. We need a `.reshape(-1,1)` call, otherwise numpy will drop the \"dummy\" dimension and convert our two-dimensional array to a one-dimensional vector.\n",
    "\n",
    "\n",
    "### Q2:\n",
    "Your task is now to fit and calculate the fit score. Look at the course material to see how to import the `LinearRegression` class from `sklearn.linear_model`, create an instance of the class, and call the `.fit()` method on the `X_train_1` and `y_train` variables. \n",
    "\n",
    "Call this `LinearRegression` instance `model_1`, because we will use it later to graph the model.\n",
    "Put the fit score in a variable called `score_1`. Use the default score function, $R^2$, so that you don't need to specify it in the `.score()` call. \n",
    "\n",
    "**Hint**: you have a train and a test set, consider when it is appropriate to use each of them."
   ]
  },
  {
   "cell_type": "code",
   "execution_count": 8,
   "metadata": {
    "deletable": false,
    "nbgrader": {
     "cell_type": "code",
     "checksum": "144d5d5e2e721b8b72b93a485b5f0b15",
     "grade": false,
     "grade_id": "ch3_q2",
     "locked": false,
     "schema_version": 3,
     "solution": true
    }
   },
   "outputs": [],
   "source": [
    "X_train_1 = X_train[:,0].reshape(-1,1)\n",
    "X_test_1  = X_test[:,0].reshape(-1,1)\n",
    "\n",
    "# (approx. 4 lines of code)\n",
    "### START ANSWER HERE ###\n",
    "from sklearn.linear_model import LinearRegression\n",
    "model_1 = LinearRegression()\n",
    "model_1.fit(X_train_1, y_train)\n",
    "score_1 = model_1.score(X_test_1, y_test)\n",
    "### END ANSWER HERE ###"
   ]
  },
  {
   "cell_type": "code",
   "execution_count": 9,
   "metadata": {
    "deletable": false,
    "editable": false,
    "nbgrader": {
     "cell_type": "code",
     "checksum": "22b363080e160ac4afe6bc7cffab680d",
     "grade": false,
     "grade_id": "cell-0cc626c0f7540144",
     "locked": true,
     "schema_version": 3,
     "solution": false,
     "task": false
    }
   },
   "outputs": [
    {
     "name": "stdout",
     "output_type": "stream",
     "text": [
      "R2 score =  0.4066655977517857\n"
     ]
    }
   ],
   "source": [
    "print('R2 score = ', score_1)"
   ]
  },
  {
   "cell_type": "markdown",
   "metadata": {
    "deletable": false,
    "editable": false,
    "nbgrader": {
     "cell_type": "markdown",
     "checksum": "d296bd30d47e89b9c1704bbeb571f155",
     "grade": false,
     "grade_id": "cell-8dcb5bec23478ebd",
     "locked": true,
     "schema_version": 3,
     "solution": false,
     "task": false
    }
   },
   "source": [
    "**Expected Output**: \n",
    "<table style=\"width:100%\">\n",
    "    <tr> \n",
    "        <td> R2</td> \n",
    "        <td> 0.4066655977517857\n",
    "        </td> \n",
    "    </tr>\n",
    "</table> "
   ]
  },
  {
   "cell_type": "code",
   "execution_count": 10,
   "metadata": {
    "deletable": false,
    "editable": false,
    "hideCode": true,
    "nbgrader": {
     "cell_type": "code",
     "checksum": "d91a06c0652910db7193f49d9dde48bc",
     "grade": true,
     "grade_id": "ch3_q2_test",
     "locked": true,
     "points": 2,
     "schema_version": 3,
     "solution": false
    }
   },
   "outputs": [],
   "source": [
    "# nbgrader cell\n"
   ]
  },
  {
   "cell_type": "markdown",
   "metadata": {
    "deletable": false,
    "editable": false,
    "nbgrader": {
     "cell_type": "markdown",
     "checksum": "3f9a1685d6757b1179c56d8800afcd0e",
     "grade": false,
     "grade_id": "cell-911a39823bd009ba",
     "locked": true,
     "schema_version": 3,
     "solution": false
    }
   },
   "source": [
    "Let's now plot the model we just fit. We will use `LinearRegression.predict` to get the predicted $y$'s for all values of `x`. As above, we have to reshape our input."
   ]
  },
  {
   "cell_type": "code",
   "execution_count": 11,
   "metadata": {
    "deletable": false,
    "editable": false,
    "nbgrader": {
     "cell_type": "code",
     "checksum": "98cdb6c2d1a853902ab801886d1bc250",
     "grade": false,
     "grade_id": "cell-037c5bb934226c2e",
     "locked": true,
     "schema_version": 3,
     "solution": false
    }
   },
   "outputs": [
    {
     "data": {
      "image/png": "[encoded data removed]",
      "text/plain": [
       "<Figure size 432x288 with 1 Axes>"
      ]
     },
     "metadata": {
      "needs_background": "light"
     },
     "output_type": "display_data"
    }
   ],
   "source": [
    "y_pred_1 = model_1.predict(x_array[:,0].reshape(-1,1))\n",
    "\n",
    "plt.scatter(x,y)\n",
    "plt.plot(x,y_pred_1,color='black')\n",
    "plt.show()"
   ]
  },
  {
   "cell_type": "markdown",
   "metadata": {
    "deletable": false,
    "editable": false,
    "nbgrader": {
     "cell_type": "markdown",
     "checksum": "264ce7dbea3045d3756fdcba4dd359e9",
     "grade": false,
     "grade_id": "cell-176cf6bff42c04f1",
     "locked": true,
     "schema_version": 3,
     "solution": false
    }
   },
   "source": [
    "By looking at the graph above, and by considering that we got an $R^2$ score larger than 0.4, our straight-line fit might already be acceptable. Let's now see if we can do better. Let's consider a parabolic model, i.e. one where the y is function of both x and $x^2$.\n",
    "\n",
    "We first extract the first two columns from `X_train` and `X_test`. We don't need anymore to call `.reshape()` because now we are extracting more than just one column.\n",
    "\n",
    "### Q3:\n",
    "Your task is to fit and calculate the score for the quadratic model `model_2`. Store the score in a variable called `score_2`. The score should be improved over that for the straight-line model."
   ]
  },
  {
   "cell_type": "code",
   "execution_count": 12,
   "metadata": {
    "deletable": false,
    "nbgrader": {
     "cell_type": "code",
     "checksum": "855f17ea0f877dcbb68b2c40fd20608c",
     "grade": false,
     "grade_id": "ch3_q3",
     "locked": false,
     "schema_version": 3,
     "solution": true
    }
   },
   "outputs": [],
   "source": [
    "X_train_2 = X_train[:,0:2]   # NB intervals in python are right-open\n",
    "X_test_2  = X_test[:,0:2]\n",
    "\n",
    "# (approx. 3 lines of code)\n",
    "### START ANSWER HERE ###\n",
    "model_2 = LinearRegression()\n",
    "model_2.fit(X_train_2,  y_train)\n",
    "score_2 = model_2.score(X_test_2, y_test)\n",
    "### END ANSWER HERE ###"
   ]
  },
  {
   "cell_type": "code",
   "execution_count": 13,
   "metadata": {
    "deletable": false,
    "editable": false,
    "nbgrader": {
     "cell_type": "code",
     "checksum": "a0e3dd3cc6356ac736a70f2291f2658b",
     "grade": false,
     "grade_id": "cell-04677d520d5cd34a",
     "locked": true,
     "schema_version": 3,
     "solution": false,
     "task": false
    }
   },
   "outputs": [
    {
     "name": "stdout",
     "output_type": "stream",
     "text": [
      "R2 score =  0.5145244243521923\n"
     ]
    }
   ],
   "source": [
    "print('R2 score = ', score_2)"
   ]
  },
  {
   "cell_type": "markdown",
   "metadata": {
    "deletable": false,
    "editable": false,
    "nbgrader": {
     "cell_type": "markdown",
     "checksum": "17018ff272f02b181ab3afd9738bdee6",
     "grade": false,
     "grade_id": "cell-a3a0554e78810676",
     "locked": true,
     "schema_version": 3,
     "solution": false
    }
   },
   "source": [
    "**Expected Output**: \n",
    "<table style=\"width:100%\">\n",
    "    <tr> \n",
    "        <td> R2</td> \n",
    "        <td> 0.5145244243521923\n",
    "        </td> \n",
    "    </tr>\n",
    "</table> "
   ]
  },
  {
   "cell_type": "code",
   "execution_count": 14,
   "metadata": {
    "deletable": false,
    "editable": false,
    "hideCode": true,
    "nbgrader": {
     "cell_type": "code",
     "checksum": "3299732046c7e4197ac68056ea4f2a4a",
     "grade": true,
     "grade_id": "ch3_q3_test",
     "locked": true,
     "points": 1,
     "schema_version": 3,
     "solution": false
    }
   },
   "outputs": [],
   "source": [
    "# nbgrader cell\n"
   ]
  },
  {
   "cell_type": "markdown",
   "metadata": {
    "deletable": false,
    "editable": false,
    "nbgrader": {
     "cell_type": "markdown",
     "checksum": "5a82b4b42f15c8db5ad0970c46e331c4",
     "grade": false,
     "grade_id": "cell-c5796db6ae352a8c",
     "locked": true,
     "schema_version": 3,
     "solution": false
    }
   },
   "source": [
    "Now, let's make a new plot where the quadratic fit is shown alongside the straight-line fit. We use the green colour to draw the `model_2` prediction.\n",
    "\n",
    "Since the $x$ are not ordered, so `plt.plot()` can produce a messy plot; we use np.sort() to sort `x` and `y_pred_2` when plotting the parabola."
   ]
  },
  {
   "cell_type": "code",
   "execution_count": 15,
   "metadata": {
    "deletable": false,
    "editable": false,
    "nbgrader": {
     "cell_type": "code",
     "checksum": "2b3ec0391d6b8213217fe7acc00bbb80",
     "grade": false,
     "grade_id": "cell-d1899635983b9d69",
     "locked": true,
     "schema_version": 3,
     "solution": false,
     "task": false
    }
   },
   "outputs": [
    {
     "data": {
      "image/png": "[encoded data removed]",
      "text/plain": [
       "<Figure size 432x288 with 1 Axes>"
      ]
     },
     "metadata": {
      "needs_background": "light"
     },
     "output_type": "display_data"
    }
   ],
   "source": [
    "y_pred_2 = model_2.predict( x_array[:,0:2] )\n",
    "\n",
    "plt.scatter(x,y)\n",
    "plt.plot(x,y_pred_1,color='black')\n",
    "plt.plot(np.sort(x),np.sort(y_pred_2),color='green')\n",
    "\n",
    "plt.show()"
   ]
  },
  {
   "cell_type": "markdown",
   "metadata": {
    "deletable": false,
    "editable": false,
    "nbgrader": {
     "cell_type": "markdown",
     "checksum": "ce2e5d5ff9cac6dab6fc886edfbaeb63",
     "grade": false,
     "grade_id": "cell-c778f470efc3f49b",
     "locked": true,
     "schema_version": 3,
     "solution": false
    }
   },
   "source": [
    "Having improved the fit by going from a first-degree polynomial (the straight line) to a second-degree polynomial (the parabola), we might think to keep going on and using a slightly more complex model: a third degree polynomial. Will it improve the fit again?\n",
    "\n",
    "### Q4:\n",
    "\n",
    "Your task is to define the variables `X_train_3` and `X_test_3`, populating them with the all three columns of `X_train` and `X_test`. Then, fit the model `model_3` and store the score in the variable `score_3`."
   ]
  },
  {
   "cell_type": "code",
   "execution_count": 16,
   "metadata": {
    "deletable": false,
    "nbgrader": {
     "cell_type": "code",
     "checksum": "11f132e1a42f254cf2c349dad31db181",
     "grade": false,
     "grade_id": "ch3_q4",
     "locked": false,
     "schema_version": 3,
     "solution": true
    }
   },
   "outputs": [],
   "source": [
    "# (approx. 5 lines of code)\n",
    "### START ANSWER HERE ###\n",
    "X_train_3 = X_train[:,0:3]\n",
    "X_test_3 = X_test[:,0:3]\n",
    "model_3 = LinearRegression()\n",
    "model_3.fit(X_train_3, y_train)\n",
    "score_3 = model_3.score(X_test_3, y_test)\n",
    "### END ANSWER HERE ###"
   ]
  },
  {
   "cell_type": "code",
   "execution_count": 17,
   "metadata": {
    "deletable": false,
    "editable": false,
    "nbgrader": {
     "cell_type": "code",
     "checksum": "7cb1f2edfa3eb47cebab5867abff8d8f",
     "grade": false,
     "grade_id": "cell-107d2b73079eeacf",
     "locked": true,
     "schema_version": 3,
     "solution": false,
     "task": false
    }
   },
   "outputs": [
    {
     "name": "stdout",
     "output_type": "stream",
     "text": [
      "R2 score =  0.5007346296870665\n"
     ]
    }
   ],
   "source": [
    "print('R2 score = ', score_3)"
   ]
  },
  {
   "cell_type": "markdown",
   "metadata": {
    "deletable": false,
    "editable": false,
    "nbgrader": {
     "cell_type": "markdown",
     "checksum": "3d7c49cd7bbe388d8c90485f903b3803",
     "grade": false,
     "grade_id": "cell-7c7e275c8f2855fc",
     "locked": true,
     "schema_version": 3,
     "solution": false
    }
   },
   "source": [
    "**Expected Output**: \n",
    "<table style=\"width:100%\">\n",
    "    <tr> \n",
    "        <td> R2</td> \n",
    "        <td> 0.5007346296870665\n",
    "        </td> \n",
    "    </tr>\n",
    "</table> "
   ]
  },
  {
   "cell_type": "code",
   "execution_count": 18,
   "metadata": {
    "deletable": false,
    "editable": false,
    "hideCode": true,
    "nbgrader": {
     "cell_type": "code",
     "checksum": "6cbd6f254c624d1300a9e5a952058b05",
     "grade": true,
     "grade_id": "ch3_q4_test",
     "locked": true,
     "points": 1,
     "schema_version": 3,
     "solution": false
    }
   },
   "outputs": [],
   "source": [
    "# nbgrader cell\n"
   ]
  },
  {
   "cell_type": "markdown",
   "metadata": {
    "deletable": false,
    "editable": false,
    "nbgrader": {
     "cell_type": "markdown",
     "checksum": "4b751fe63f61acf893169420ded9f373",
     "grade": false,
     "grade_id": "cell-f134c59465dbf330",
     "locked": true,
     "schema_version": 3,
     "solution": false
    }
   },
   "source": [
    "So, the fit score is actually worse now than it was with the parabolic model! Take a moment to think why this happened. Then, let's try and understand it by plotting the data and the model. We will make a slight change in the way we plot to make things clearer.\n",
    "\n",
    "This time we use a blue colour for the data in the train set, and a red colour for the data in the test set. Then, on top of the data, we plot the quadratic model in a green colour and the cubic model in a brown colour. \n",
    "\n",
    "Note that we need to call `plt.scatter()` twice: once for the train set (use `X_train[:,0]` to get the train set's $x$) and once for the test set. You also need to call `plt.plot()` twice, once for the parabolic and once for the cubic model."
   ]
  },
  {
   "cell_type": "code",
   "execution_count": 19,
   "metadata": {
    "deletable": false,
    "editable": false,
    "nbgrader": {
     "cell_type": "code",
     "checksum": "2edeaaefece0d7fec3eb36963b5ad822",
     "grade": false,
     "grade_id": "cell-c93ad7da98d9cfc1",
     "locked": true,
     "schema_version": 3,
     "solution": false,
     "task": false
    }
   },
   "outputs": [
    {
     "data": {
      "image/png": "[encoded data removed]",
      "text/plain": [
       "<Figure size 432x288 with 1 Axes>"
      ]
     },
     "metadata": {
      "needs_background": "light"
     },
     "output_type": "display_data"
    }
   ],
   "source": [
    "y_pred_3 = model_3.predict( x_array[:,0:3] )\n",
    "\n",
    "plt.scatter(X_train[:,0],y_train, color='blue')\n",
    "plt.scatter(X_test[:,0],y_test, color='red')\n",
    "\n",
    "plt.plot(np.sort(x),np.sort(y_pred_2),color='green')\n",
    "plt.plot(np.sort(x),np.sort(y_pred_3),color='brown')\n",
    "plt.show()"
   ]
  },
  {
   "cell_type": "markdown",
   "metadata": {
    "deletable": false,
    "editable": false,
    "nbgrader": {
     "cell_type": "markdown",
     "checksum": "985d7d3a994e2a735586c31848cb4212",
     "grade": false,
     "grade_id": "cell-54f2b092fc15494f",
     "locked": true,
     "schema_version": 3,
     "solution": false
    }
   },
   "source": [
    "The difference is subtle, but it can be appreciated by looking at the plot. Focus first on the blue points (the train set): the cubic model tries to go through the train set. The cubic model has one more degree of freedom than the parabolic model, so it can actually better follow the arrangement of the blue points; if you calculate and print the fit score for the train set, the cubic model should have the best fit score (you can do this as an exercise).\n",
    "\n",
    "However, much of the point arrangement is due to chance. Focus now on the red points: the cubic model does not really pass closer to them than the quadratic model does. This is why we split our data in train and test sets when doing cross validation: to have an independent check that our model is fitting the underlying structure of our data, instead of just following the random arrangement of points (we would call that \"overfitting\").\n",
    "\n",
    "The role of the test set is therefore just as important as that of the train set, and in no way one should think that data is \"wasted\" by retaining part of it for the test set.\n",
    "\n",
    "### Q5:\n",
    "\n",
    "The last question for this part of the assignment is the following: having fit and compared three different model using cross validation, which one would you choose for the current data, and why?\n",
    "1. I choose model 1 (straight line): the simpler, the better! Also, the plot with the straight line looks good enough for my needs.\n",
    "2. I choose model 2 (parabolic curve): it has the best fit score for the test set.\n",
    "3. I choose model 3 (cubic curve): it has the best fit score for the train set.\n",
    "4. All of them are equally good, because the data is noisy.\n",
    "5. All of them are equally bad, because no model touches all points."
   ]
  },
  {
   "cell_type": "code",
   "execution_count": 22,
   "metadata": {
    "deletable": false,
    "nbgrader": {
     "cell_type": "code",
     "checksum": "551a38bcce8f671edaaea88631226cfd",
     "grade": false,
     "grade_id": "ch3_q5",
     "locked": false,
     "schema_version": 3,
     "solution": true
    }
   },
   "outputs": [],
   "source": [
    "# Fill in all the numbers corresponding to your answer inside the brackets: Q5_answer = [Your answer]\n",
    "### START ANSWER HERE ###\n",
    "Q5_answer = [2]\n",
    "### END ANSWER HERE ###"
   ]
  },
  {
   "cell_type": "code",
   "execution_count": 23,
   "metadata": {
    "deletable": false,
    "editable": false,
    "hideCode": true,
    "nbgrader": {
     "cell_type": "code",
     "checksum": "f0f74664fd8d9bc2549e20c2bfd25879",
     "grade": false,
     "grade_id": "cell-52e408d5475d530f",
     "locked": true,
     "schema_version": 3,
     "solution": false,
     "task": false
    },
    "selfTest": true
   },
   "outputs": [
    {
     "name": "stdout",
     "output_type": "stream",
     "text": [
      "Correct!\n"
     ]
    }
   ],
   "source": [
    "import hashlib\n",
    "_myhash = lambda x: hashlib.md5(str(x).encode()).hexdigest()\n",
    "if (_myhash(Q5_answer[0])=='c81e728d9d4c2f636f067f89cc14862c')&(_myhash(len(Q5_answer))=='c4ca4238a0b923820dcc509a6f75849b'):\n",
    "    print('Correct!')\n",
    "else:\n",
    "    print('Not correct! Please try again!')"
   ]
  },
  {
   "cell_type": "code",
   "execution_count": null,
   "metadata": {
    "deletable": false,
    "editable": false,
    "hideCode": true,
    "nbgrader": {
     "cell_type": "code",
     "checksum": "fbc47a25efe06efbb1e6985544b76a50",
     "grade": true,
     "grade_id": "ch3_q5_test",
     "locked": true,
     "points": 1,
     "schema_version": 3,
     "solution": false
    }
   },
   "outputs": [],
   "source": [
    "# nbgrader cell\n"
   ]
  },
  {
   "cell_type": "markdown",
   "metadata": {
    "deletable": false,
    "editable": false,
    "nbgrader": {
     "cell_type": "markdown",
     "checksum": "c87bee9d552487eb96feb92f7b554c8f",
     "grade": false,
     "grade_id": "cell-c19a3de07f85abac",
     "locked": true,
     "schema_version": 3,
     "solution": false
    }
   },
   "source": [
    "Cross validation is a simple and powerful way to estimate how good your model is. However, there is one pitfall: the random split between train and test set can sometimes be \"unlucky\", creating ephemeral structures in the train or test set that can have a leverage on the model, but that would disappear if the split is repeated with a different random seed. If you want to see an example, re-run this notebook using `random_state=52` when you do the train/test split: you will fail some of the grading cells, but if you run it until the plot for the third model, you will see that the particular choice of the test set will give the straight-line model the best score! (When you finish experimenting, don't forget to put back `random_state=51` and run everything again from beginning).\n",
    "\n",
    "One could think of using more than one train/test couple of sets to avoid this risk. This is actually a good idea that can be further developed into $k$-fold cross validation.\n",
    "\n",
    "## $k$-fold cross validation\n",
    "\n",
    "Recall from the reading material, that one can use the `cross_val_score` function from `scikit-learn.model_selection` to split the data. It provides a simplified interface to $k$-fold cross-validation so we don't have to deal with train and test set indices ourserlves. Have a look at the [manual page](https://scikit-learn.org/stable/modules/generated/sklearn.model_selection.cross_val_score.html).\n",
    "\n",
    "### Q6:\n",
    "\n",
    "Use the `cross_val_score` with `scoring='r2'` cross-validator to fit linear, parabolic and cubic models to our data.\n",
    "\n",
    "**Hint:**\n",
    "* import necessary package\n",
    "* define a `LinearRegression` instance\n",
    "* call `cross_val_score` three times. Use `x_array[:,0].reshape(-1,1)` as $x$ for the linear model, `x_array[:,0:2]` for the parabolic model, and just `x_array` for the cubic model (compare with the code in previous questions). Set the `cv=7`, so that we will have 7 different picks for the train/test sets. \n",
    "\n",
    "Store the results from the tree `cross_val_score` calls in variables called `cv_1`, `cv_2`, `cv_3`.\n",
    "Finally, we will print the average scores in the three cases."
   ]
  },
  {
   "cell_type": "code",
   "execution_count": 24,
   "metadata": {
    "deletable": false,
    "nbgrader": {
     "cell_type": "code",
     "checksum": "de5a7cee2ac55e3edf0b804166a9780a",
     "grade": false,
     "grade_id": "ch3_q6",
     "locked": false,
     "schema_version": 3,
     "solution": true
    }
   },
   "outputs": [],
   "source": [
    "# (approx. 5 lines of code)\n",
    "### START ANSWER HERE ###\n",
    "from sklearn.model_selection import cross_val_score\n",
    "linear_regression = LinearRegression()\n",
    "cv_1 = cross_val_score(linear_regression, x_array[:,0].reshape(-1,1), y, cv=7, scoring='r2')\n",
    "cv_2 = cross_val_score(linear_regression, x_array[:,0:2], y, cv=7, scoring='r2')\n",
    "cv_3 = cross_val_score(linear_regression, x_array[:,0:3], y, cv=7, scoring='r2')\n",
    "### END ANSWER HERE ###"
   ]
  },
  {
   "cell_type": "code",
   "execution_count": 25,
   "metadata": {
    "deletable": false,
    "editable": false,
    "nbgrader": {
     "cell_type": "code",
     "checksum": "b1caccbe7173f3672a90ce25203fdf10",
     "grade": false,
     "grade_id": "cell-933dcab8d2c91438",
     "locked": true,
     "schema_version": 3,
     "solution": false,
     "task": false
    }
   },
   "outputs": [
    {
     "name": "stdout",
     "output_type": "stream",
     "text": [
      "mean R2 cv_1 = 0.706786 \t mean R2 cv_2 = 0.768979 \t mean R2 cv_3 = 0.753204\n"
     ]
    }
   ],
   "source": [
    "print('mean R2 cv_1 = %f \\t mean R2 cv_2 = %f \\t mean R2 cv_3 = %f' %(np.mean(cv_1), np.mean(cv_2), np.mean(cv_3)))"
   ]
  },
  {
   "cell_type": "markdown",
   "metadata": {
    "deletable": false,
    "editable": false,
    "nbgrader": {
     "cell_type": "markdown",
     "checksum": "314d2f7a7ca3adff3c09cd8b63732ec7",
     "grade": false,
     "grade_id": "cell-b660fdd8b3984fff",
     "locked": true,
     "schema_version": 3,
     "solution": false,
     "task": false
    }
   },
   "source": [
    "**Expected Output**: \n",
    "<table style=\"width:100%\">\n",
    "    <tr> \n",
    "        <td> mean R2 cv_1</td> \n",
    "        <td> 0.706786\n",
    "        </td> \n",
    "    </tr>\n",
    "    <tr> \n",
    "        <td> mean R2 cv_2</td> \n",
    "        <td> 0.768979\n",
    "        </td> \n",
    "    </tr>\n",
    "    <tr> \n",
    "        <td> mean R2 cv_3</td> \n",
    "        <td> 0.753204\n",
    "        </td> \n",
    "    </tr>\n",
    "</table> "
   ]
  },
  {
   "cell_type": "code",
   "execution_count": 26,
   "metadata": {
    "deletable": false,
    "editable": false,
    "hideCode": true,
    "nbgrader": {
     "cell_type": "code",
     "checksum": "c785744b04d3dfeb5f00fae53ce758e2",
     "grade": true,
     "grade_id": "ch3_q6_test",
     "locked": true,
     "points": 2,
     "schema_version": 3,
     "solution": false
    }
   },
   "outputs": [],
   "source": [
    "# nbgrader cell\n"
   ]
  },
  {
   "cell_type": "markdown",
   "metadata": {
    "deletable": false,
    "editable": false,
    "nbgrader": {
     "cell_type": "markdown",
     "checksum": "1d96fb9529f2d8418b2f097bac0b5489",
     "grade": false,
     "grade_id": "cell-b9fd2014107483ad",
     "locked": true,
     "schema_version": 3,
     "solution": false
    }
   },
   "source": [
    "As we saw in the case of simple cross validation, the parabolic model gets a better score than the linear and cubic score. However, if we look at the average scores, we see that they are higher than what we got earlier in the previous questions. Why is that? Instead of just looking at averages, let's plot all the scores that we got. We will use a [boxplot](https://en.wikipedia.org/wiki/Box_plot) to show the distribution of all scores."
   ]
  },
  {
   "cell_type": "code",
   "execution_count": 27,
   "metadata": {
    "deletable": false,
    "editable": false,
    "nbgrader": {
     "cell_type": "code",
     "checksum": "b37dd43afb192a4cda56373b9f47d8ea",
     "grade": false,
     "grade_id": "cell-7804e60b2fce89ae",
     "locked": true,
     "schema_version": 3,
     "solution": false
    }
   },
   "outputs": [
    {
     "data": {
      "image/png": "[encoded data removed]",
      "text/plain": [
       "<Figure size 720x432 with 1 Axes>"
      ]
     },
     "metadata": {},
     "output_type": "display_data"
    }
   ],
   "source": [
    "import seaborn as sns  # Seaborn is an alternative plotting package for python, see http://seaborn.pydata.org\n",
    "import pandas as pd\n",
    "\n",
    "n = cv_1.shape[0]\n",
    "cv_df = pd.DataFrame({'score':np.concatenate((cv_1,cv_2,cv_3)),'method':np.concatenate([['linear'] * n + ['quadratic'] * n + ['cubic'] * n])})\n",
    "\n",
    "sns.set(style=\"ticks\")\n",
    "f, ax = plt.subplots(figsize=(10, 6))\n",
    "\n",
    "# Plot the orbital period with horizontal boxes\n",
    "sns.boxplot(x=\"score\", y=\"method\", data=cv_df,\n",
    "            whis=\"range\", palette=\"vlag\")\n",
    "\n",
    "# Add in points to show each observation\n",
    "sns.swarmplot(x=\"score\", y=\"method\", data=cv_df,\n",
    "              size=10, color=\".3\", linewidth=0)\n",
    "\n",
    "# Tweak the visual presentation\n",
    "ax.xaxis.grid(True)\n",
    "ax.set(ylabel=\"\")\n",
    "ax.set_xlim([0.3, 1.0])\n",
    "ax.set_ylim([-1, 3])\n",
    "sns.despine(trim=True, left=True)"
   ]
  },
  {
   "cell_type": "markdown",
   "metadata": {
    "deletable": false,
    "editable": false,
    "nbgrader": {
     "cell_type": "markdown",
     "checksum": "02531311eb8c4f1a194744e9d8290f47",
     "grade": false,
     "grade_id": "cell-6296742cfbbf3214",
     "locked": true,
     "schema_version": 3,
     "solution": false
    }
   },
   "source": [
    "The vertical line inside each box is the median of the scores; the box shows the [interquartile range](https://en.wikipedia.org/wiki/Interquartile_range). Each black dot is the score for one of the random picks in our 7-fold cross validation.\n",
    "\n",
    "Think again about what model should be chosen, and also about why the scores in the previous questions were so different from the averages we got in Q6.\n",
    "\n",
    "### Q7 (multiple choice):\n",
    "\n",
    "Look at the plot above and choose which ones from the following statements are true:\n",
    " 1. The quadratic model should be preferred because the median score is larger and the variance smallest.\n",
    " 2. The cubic model should be preferred because there is one case where it performs better than any other.\n",
    " 3. The scores in the previous questions (Q1-Q5) were lower just by chance! It was due to an unlucky choice of the random number generator seed.\n",
    " 4. In the end, simple cross-validation is as effective as k-fold cross-validation.\n",
    " 5. Simple cross-validation can be sensitive to small-number effects, so k-fold cross-validation should be preferred."
   ]
  },
  {
   "cell_type": "code",
   "execution_count": 28,
   "metadata": {
    "deletable": false,
    "nbgrader": {
     "cell_type": "code",
     "checksum": "a90fbc3879b6b711b794d54120425acd",
     "grade": false,
     "grade_id": "ch3_q7",
     "locked": false,
     "schema_version": 3,
     "solution": true
    }
   },
   "outputs": [],
   "source": [
    "# Fill in all the numbers corresponding to your answer inside the brackets: Q7_answer = [7,8]\n",
    "\n",
    "### START ANSWER HERE ###\n",
    "Q7_answer = [1,3,5]\n",
    "### END ANSWER HERE ###"
   ]
  },
  {
   "cell_type": "code",
   "execution_count": 29,
   "metadata": {
    "deletable": false,
    "editable": false,
    "hideCode": true,
    "nbgrader": {
     "cell_type": "code",
     "checksum": "b09c59d72ecbc1108962ef34ca3d72c9",
     "grade": false,
     "grade_id": "cell-76cdaf1168aa2001",
     "locked": true,
     "schema_version": 3,
     "solution": false,
     "task": false
    },
    "selfTest": true
   },
   "outputs": [
    {
     "name": "stdout",
     "output_type": "stream",
     "text": [
      "Correct!\n"
     ]
    }
   ],
   "source": [
    "import hashlib\n",
    "_myhash = lambda x: hashlib.md5(str(x).encode()).hexdigest()\n",
    "if _myhash(set(Q7_answer))=='e77261952e47cec62134d2d763c64232':\n",
    "    print('Correct!')\n",
    "else:\n",
    "    print('Not correct! Please try again!')"
   ]
  },
  {
   "cell_type": "code",
   "execution_count": null,
   "metadata": {
    "deletable": false,
    "editable": false,
    "hideCode": true,
    "nbgrader": {
     "cell_type": "code",
     "checksum": "26f87ee4f5ffd1612f3e0d8333e27bb9",
     "grade": true,
     "grade_id": "ch3_q7_test",
     "locked": true,
     "points": 2,
     "schema_version": 3,
     "solution": false,
     "task": false
    }
   },
   "outputs": [],
   "source": [
    "# nbgrader cell\n"
   ]
  },
  {
   "cell_type": "markdown",
   "metadata": {
    "deletable": false,
    "editable": false,
    "nbgrader": {
     "cell_type": "markdown",
     "checksum": "5bfe4e41bd5db7278f3471e512c7dd12",
     "grade": false,
     "grade_id": "cell-b1dbd322824d1a88",
     "locked": true,
     "schema_version": 3,
     "solution": false
    }
   },
   "source": [
    "# Good job!"
   ]
  }
 ],
 "metadata": {
  "kernelspec": {
   "display_name": "Python 3",
   "language": "python",
   "name": "python3"
  },
  "language_info": {
   "codemirror_mode": {
    "name": "ipython",
    "version": 3
   },
   "file_extension": ".py",
   "mimetype": "text/x-python",
   "name": "python",
   "nbconvert_exporter": "python",
   "pygments_lexer": "ipython3",
   "version": "3.7.3"
  }
 },
 "nbformat": 4,
 "nbformat_minor": 2
}
